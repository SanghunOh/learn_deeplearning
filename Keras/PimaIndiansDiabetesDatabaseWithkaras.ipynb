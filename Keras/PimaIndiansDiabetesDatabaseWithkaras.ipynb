{
 "cells": [
  {
   "cell_type": "markdown",
   "metadata": {
    "colab_type": "text",
    "id": "vem1nE6tTyPn"
   },
   "source": [
    "#From Kaggle\n",
    "https://www.kaggle.com/dhainjeamita/learningneuralnetworkusingtensorboard"
   ]
  },
  {
   "cell_type": "code",
   "execution_count": 1,
   "metadata": {},
   "outputs": [
    {
     "name": "stdout",
     "output_type": "stream",
     "text": [
      "pima-indians-diabetes.csv\r\n"
     ]
    }
   ],
   "source": [
    "!ls ../datas/csv"
   ]
  },
  {
   "cell_type": "code",
   "execution_count": 2,
   "metadata": {
    "colab": {},
    "colab_type": "code",
    "id": "tnsmqiEKT1nV"
   },
   "outputs": [],
   "source": [
    "import pandas as pd\n",
    "dataset = pd.read_csv(\"../datas/csv/pima-indians-diabetes.csv\")\n",
    "X = dataset.iloc[:,0:8]\n",
    "y = dataset.iloc[:,8]"
   ]
  },
  {
   "cell_type": "code",
   "execution_count": 3,
   "metadata": {
    "colab": {},
    "colab_type": "code",
    "id": "s_6M7bbbSrYd"
   },
   "outputs": [],
   "source": [
    "#https://www.kaggle.com/kumargh/pimaindiansdiabetescsv\n",
    "import tensorflow as tf\n",
    "%load_ext tensorboard\n",
    "# tensorboard_callback = tf.keras.callbacks.TensorBoard(\"myLogs\")"
   ]
  },
  {
   "cell_type": "code",
   "execution_count": 4,
   "metadata": {
    "colab": {},
    "colab_type": "code",
    "id": "PxtT17LbUCbv"
   },
   "outputs": [],
   "source": [
    "# !rm -rf ./myLogs/ "
   ]
  },
  {
   "cell_type": "code",
   "execution_count": 5,
   "metadata": {
    "colab": {},
    "colab_type": "code",
    "id": "H2CGTCueUFIH"
   },
   "outputs": [
    {
     "name": "stdout",
     "output_type": "stream",
     "text": [
      "Epoch 1/10\n",
      "3/3 [==============================] - 0s 2ms/step - loss: 0.7127 - accuracy: 0.5241\n",
      "Epoch 2/10\n",
      "3/3 [==============================] - 0s 3ms/step - loss: 0.7084 - accuracy: 0.5306\n",
      "Epoch 3/10\n",
      "3/3 [==============================] - 0s 3ms/step - loss: 0.7049 - accuracy: 0.5541\n",
      "Epoch 4/10\n",
      "3/3 [==============================] - 0s 3ms/step - loss: 0.7007 - accuracy: 0.5619\n",
      "Epoch 5/10\n",
      "3/3 [==============================] - 0s 3ms/step - loss: 0.6973 - accuracy: 0.5606\n",
      "Epoch 6/10\n",
      "3/3 [==============================] - 0s 4ms/step - loss: 0.6946 - accuracy: 0.5724\n",
      "Epoch 7/10\n",
      "3/3 [==============================] - 0s 3ms/step - loss: 0.6921 - accuracy: 0.5789\n",
      "Epoch 8/10\n",
      "3/3 [==============================] - 0s 3ms/step - loss: 0.6901 - accuracy: 0.5841\n",
      "Epoch 9/10\n",
      "3/3 [==============================] - 0s 2ms/step - loss: 0.6882 - accuracy: 0.5958\n",
      "Epoch 10/10\n",
      "3/3 [==============================] - 0s 3ms/step - loss: 0.6858 - accuracy: 0.6115\n",
      "24/24 [==============================] - 0s 1ms/step - loss: 0.6842 - accuracy: 0.6219\n",
      "Accuracy: 62.19\n"
     ]
    }
   ],
   "source": [
    "from tensorflow.keras import layers\n",
    "\n",
    "# define the keras model\n",
    "model = tf.keras.Sequential()\n",
    "# model.add(Dense(12, input_dim=8, activation='relu'))\n",
    "model.add(layers.Input(shape=8))\n",
    "model.add(layers.Dense(8, activation='sigmoid'))\n",
    "model.add(layers.Dense(1, activation='sigmoid'))\n",
    "# model.add(Dense(1, activation='softmax'))\n",
    "#plot_model(model, to_file='model_plot.png', show_shapes=True, show_layer_names=True)\n",
    "# compile the keras model\n",
    "model.compile(loss='binary_crossentropy', optimizer='adam', metrics=['accuracy'])\n",
    "# fit the keras model on the dataset\n",
    "history = model.fit(X, y, epochs=10, batch_size=265)\n",
    "# model.fit(X, y, epochs=1, batch_size=1,  callbacks=[tensorboard_callback])\n",
    "# evaluate the keras model\n",
    "_, accuracy = model.evaluate(X, y)\n",
    "print('Accuracy: %.2f' % (accuracy*100))"
   ]
  },
  {
   "cell_type": "code",
   "execution_count": 6,
   "metadata": {
    "colab": {},
    "colab_type": "code",
    "id": "UQ4z9VtUUI4B"
   },
   "outputs": [
    {
     "name": "stdout",
     "output_type": "stream",
     "text": [
      "1/1 [==============================] - 0s 1ms/step\n"
     ]
    },
    {
     "data": {
      "text/plain": [
       "array([[0.39529634],\n",
       "       [0.24716595],\n",
       "       [0.3480464 ],\n",
       "       [0.32104516],\n",
       "       [0.41183215],\n",
       "       [0.34788907],\n",
       "       [0.24633116],\n",
       "       [0.15484029],\n",
       "       [0.40270954],\n",
       "       [0.49329165]], dtype=float32)"
      ]
     },
     "execution_count": 6,
     "metadata": {},
     "output_type": "execute_result"
    }
   ],
   "source": [
    "model.predict(X[:10], batch_size=256, verbose=1)"
   ]
  },
  {
   "cell_type": "code",
   "execution_count": 7,
   "metadata": {
    "colab": {},
    "colab_type": "code",
    "id": "XN63_KuYU0kS"
   },
   "outputs": [
    {
     "name": "stdout",
     "output_type": "stream",
     "text": [
      "1/1 [==============================] - 0s 2ms/step\n"
     ]
    },
    {
     "data": {
      "text/plain": [
       "array([[0.39529634],\n",
       "       [0.24716595],\n",
       "       [0.3480464 ],\n",
       "       [0.32104516],\n",
       "       [0.41183215],\n",
       "       [0.34788907],\n",
       "       [0.24633116],\n",
       "       [0.15484029],\n",
       "       [0.40270954],\n",
       "       [0.49329165]], dtype=float32)"
      ]
     },
     "execution_count": 7,
     "metadata": {},
     "output_type": "execute_result"
    }
   ],
   "source": [
    "model.predict(X[:10], batch_size=256, verbose=1)"
   ]
  },
  {
   "cell_type": "code",
   "execution_count": 8,
   "metadata": {},
   "outputs": [
    {
     "data": {
      "text/plain": [
       "{'loss': [0.7127010822296143,\n",
       "  0.7084068655967712,\n",
       "  0.7048696279525757,\n",
       "  0.7006919384002686,\n",
       "  0.6972782015800476,\n",
       "  0.6945976614952087,\n",
       "  0.6920730471611023,\n",
       "  0.6901099681854248,\n",
       "  0.6881670355796814,\n",
       "  0.6858071088790894],\n",
       " 'accuracy': [0.5241199731826782,\n",
       "  0.5306388735771179,\n",
       "  0.5541068911552429,\n",
       "  0.5619295835494995,\n",
       "  0.5606257915496826,\n",
       "  0.5723598599433899,\n",
       "  0.5788787603378296,\n",
       "  0.5840938687324524,\n",
       "  0.5958278775215149,\n",
       "  0.6114732623100281]}"
      ]
     },
     "execution_count": 8,
     "metadata": {},
     "output_type": "execute_result"
    }
   ],
   "source": [
    "history.history"
   ]
  },
  {
   "cell_type": "code",
   "execution_count": 9,
   "metadata": {
    "colab": {},
    "colab_type": "code",
    "id": "laX6GA1HVJKy"
   },
   "outputs": [
    {
     "data": {
      "text/plain": [
       "<AxesSubplot:>"
      ]
     },
     "execution_count": 9,
     "metadata": {},
     "output_type": "execute_result"
    },
    {
     "data": {
      "image/png": "[encoded data removed]",
      "text/plain": [
       "<Figure size 432x288 with 1 Axes>"
      ]
     },
     "metadata": {
      "needs_background": "light"
     },
     "output_type": "display_data"
    }
   ],
   "source": [
    "df = pd.DataFrame(history.history)\n",
    "df.plot()"
   ]
  },
  {
   "cell_type": "code",
   "execution_count": 10,
   "metadata": {},
   "outputs": [],
   "source": [
    "# !python3 -m pip install pydot graphviz"
   ]
  },
  {
   "cell_type": "code",
   "execution_count": 11,
   "metadata": {},
   "outputs": [],
   "source": [
    "from matplotlib import pyplot\n",
    "# from keras.utils.vis_utils import plot_model\n",
    "# tf.keras.utils.plot_model(model, show_shapes=True, show_layer_names=True)"
   ]
  },
  {
   "cell_type": "code",
   "execution_count": null,
   "metadata": {},
   "outputs": [],
   "source": []
  }
 ],
 "metadata": {
  "accelerator": "GPU",
  "colab": {
   "collapsed_sections": [],
   "name": "00.PimaIndiansDiabetesDatabase_ClassificationWithkaras.ipynb",
   "private_outputs": true,
   "provenance": []
  },
  "kernelspec": {
   "display_name": "Python 3",
   "language": "python",
   "name": "python3"
  },
  "language_info": {
   "codemirror_mode": {
    "name": "ipython",
    "version": 3
   },
   "file_extension": ".py",
   "mimetype": "text/x-python",
   "name": "python",
   "nbconvert_exporter": "python",
   "pygments_lexer": "ipython3",
   "version": "3.8.6"
  }
 },
 "nbformat": 4,
 "nbformat_minor": 1
}
