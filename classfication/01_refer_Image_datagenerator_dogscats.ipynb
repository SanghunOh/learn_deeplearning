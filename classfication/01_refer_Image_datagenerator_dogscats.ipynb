{
 "cells": [
  {
   "cell_type": "markdown",
   "metadata": {},
   "source": [
    "### refer : https://blog.keras.io/building-powerful-image-classification-models-using-very-little-data.html"
   ]
  },
  {
   "cell_type": "code",
   "execution_count": 1,
   "metadata": {
    "colab": {},
    "colab_type": "code",
    "executionInfo": {
     "elapsed": 3015,
     "status": "ok",
     "timestamp": 1592985402561,
     "user": {
      "displayName": "sanghun oh",
      "photoUrl": "https://lh3.googleusercontent.com/a-/AOh14Ghlx86owSfLI1ysBzewc-4sBRVA0uQ32rdNEjLr1Q=s64",
      "userId": "06412681606171338922"
     },
     "user_tz": -540
    },
    "id": "Doi4ml9QeMcg"
   },
   "outputs": [],
   "source": [
    "import tensorflow as tf\n",
    "from tensorflow.keras import layers\n",
    "from tensorflow.keras.preprocessing.image import ImageDataGenerator\n",
    "\n",
    "import os\n",
    "import numpy as np"
   ]
  },
  {
   "cell_type": "code",
   "execution_count": 2,
   "metadata": {
    "colab": {
     "base_uri": "https://localhost:8080/",
     "height": 53
    },
    "colab_type": "code",
    "executionInfo": {
     "elapsed": 4778,
     "status": "ok",
     "timestamp": 1592985404338,
     "user": {
      "displayName": "sanghun oh",
      "photoUrl": "https://lh3.googleusercontent.com/a-/AOh14Ghlx86owSfLI1ysBzewc-4sBRVA0uQ32rdNEjLr1Q=s64",
      "userId": "06412681606171338922"
     },
     "user_tz": -540
    },
    "id": "vmE0DWPNedmA",
    "outputId": "5f1b6228-8224-485e-ea41-76660f320c08"
   },
   "outputs": [
    {
     "name": "stdout",
     "output_type": "stream",
     "text": [
      "Downloading data from https://storage.googleapis.com/mledu-datasets/cats_and_dogs_filtered.zip\n",
      "68608000/68606236 [==============================] - 5s 0us/step\n",
      "68616192/68606236 [==============================] - 5s 0us/step\n"
     ]
    }
   ],
   "source": [
    "_URL = 'https://storage.googleapis.com/mledu-datasets/cats_and_dogs_filtered.zip'\n",
    "\n",
    "# path_to_zip = tf.keras.utils.get_file('cats_and_dogs.zip', origin=_URL, extract=True, )\n",
    "path_to_zip = tf.keras.utils.get_file('cats_and_dogs.zip', origin=_URL, extract=True, cache_dir='../../')"
   ]
  },
  {
   "cell_type": "code",
   "execution_count": 3,
   "metadata": {
    "colab": {
     "base_uri": "https://localhost:8080/",
     "height": 71
    },
    "colab_type": "code",
    "executionInfo": {
     "elapsed": 4771,
     "status": "ok",
     "timestamp": 1592985404339,
     "user": {
      "displayName": "sanghun oh",
      "photoUrl": "https://lh3.googleusercontent.com/a-/AOh14Ghlx86owSfLI1ysBzewc-4sBRVA0uQ32rdNEjLr1Q=s64",
      "userId": "06412681606171338922"
     },
     "user_tz": -540
    },
    "id": "sdE1GfFNey8x",
    "outputId": "cee46be6-cda0-4fc0-d1a2-af5e15b26390"
   },
   "outputs": [
    {
     "data": {
      "text/plain": [
       "('../../datasets/cats_and_dogs_filtered',\n",
       " '../../datasets/cats_and_dogs_filtered/train',\n",
       " '../../datasets/cats_and_dogs_filtered/validation')"
      ]
     },
     "execution_count": 3,
     "metadata": {},
     "output_type": "execute_result"
    }
   ],
   "source": [
    "PATH = os.path.join(os.path.dirname(path_to_zip), 'cats_and_dogs_filtered')\n",
    "train_dir = os.path.join(PATH, 'train')\n",
    "validation_dir = os.path.join(PATH, 'validation')\n",
    "PATH, train_dir, validation_dir"
   ]
  },
  {
   "cell_type": "code",
   "execution_count": 4,
   "metadata": {
    "colab": {},
    "colab_type": "code",
    "executionInfo": {
     "elapsed": 4769,
     "status": "ok",
     "timestamp": 1592985404339,
     "user": {
      "displayName": "sanghun oh",
      "photoUrl": "https://lh3.googleusercontent.com/a-/AOh14Ghlx86owSfLI1ysBzewc-4sBRVA0uQ32rdNEjLr1Q=s64",
      "userId": "06412681606171338922"
     },
     "user_tz": -540
    },
    "id": "9SpfkJ_QfR0_"
   },
   "outputs": [],
   "source": [
    "# train_cats_dir = os.path.join(train_dir, 'cats')  # directory with our training cat pictures\n",
    "# train_dogs_dir = os.path.join(train_dir, 'dogs')  # directory with our training dog pictures\n",
    "# validation_cats_dir = os.path.join(validation_dir, 'cats')  # directory with our validation cat pictures\n",
    "# validation_dogs_dir = os.path.join(validation_dir, 'dogs')\n",
    "# num_cats_tr = len(os.listdir(train_cats_dir))\n",
    "# num_dogs_tr = len(os.listdir(train_dogs_dir))\n",
    "\n",
    "# num_cats_val = len(os.listdir(validation_cats_dir))\n",
    "# num_dogs_val = len(os.listdir(validation_dogs_dir))\n",
    "\n",
    "# total_train = num_cats_tr + num_dogs_tr\n",
    "# total_val = num_cats_val + num_dogs_val\n",
    "batch_size = 128\n",
    "IMG_HEIGHT = 150\n",
    "IMG_WIDTH = 150"
   ]
  },
  {
   "cell_type": "code",
   "execution_count": 12,
   "metadata": {
    "colab": {
     "base_uri": "https://localhost:8080/",
     "height": 53
    },
    "colab_type": "code",
    "executionInfo": {
     "elapsed": 4763,
     "status": "ok",
     "timestamp": 1592985404340,
     "user": {
      "displayName": "sanghun oh",
      "photoUrl": "https://lh3.googleusercontent.com/a-/AOh14Ghlx86owSfLI1ysBzewc-4sBRVA0uQ32rdNEjLr1Q=s64",
      "userId": "06412681606171338922"
     },
     "user_tz": -540
    },
    "id": "GwRxChxXfUSn",
    "outputId": "60cf49cc-07dd-49c5-a44b-98aedfd3e572"
   },
   "outputs": [
    {
     "name": "stdout",
     "output_type": "stream",
     "text": [
      "Found 2000 images belonging to 2 classes.\n",
      "Found 1000 images belonging to 2 classes.\n"
     ]
    }
   ],
   "source": [
    "train_image_generator = ImageDataGenerator(rescale=1./255,\n",
    "                                    rotation_range=40,\n",
    "                                    width_shift_range=0.2,\n",
    "                                    height_shift_range=0.2,\n",
    "                                    shear_range=0.2,\n",
    "                                    zoom_range=0.2,\n",
    "                                    horizontal_flip=True,\n",
    "                                    fill_mode='nearest') # Generator for our training data\n",
    "validation_image_generator = ImageDataGenerator(rescale=1./255)\n",
    "train_data_gen = train_image_generator.flow_from_directory(batch_size=batch_size,\n",
    "                                                           directory=train_dir,\n",
    "                                                           shuffle=True,\n",
    "                                                           target_size=(IMG_HEIGHT, IMG_WIDTH),\n",
    "                                                           class_mode='binary')\n",
    "val_data_gen = validation_image_generator.flow_from_directory(batch_size=batch_size,\n",
    "                                                              directory=validation_dir,\n",
    "                                                              target_size=(IMG_HEIGHT, IMG_WIDTH),\n",
    "                                                              class_mode='binary')"
   ]
  },
  {
   "cell_type": "code",
   "execution_count": 14,
   "metadata": {
    "colab": {
     "base_uri": "https://localhost:8080/",
     "height": 35
    },
    "colab_type": "code",
    "executionInfo": {
     "elapsed": 5355,
     "status": "ok",
     "timestamp": 1592985404940,
     "user": {
      "displayName": "sanghun oh",
      "photoUrl": "https://lh3.googleusercontent.com/a-/AOh14Ghlx86owSfLI1ysBzewc-4sBRVA0uQ32rdNEjLr1Q=s64",
      "userId": "06412681606171338922"
     },
     "user_tz": -540
    },
    "id": "B28bQfF0f5lN",
    "outputId": "a0b96c89-cead-436b-f822-a0f4b8a8aa02"
   },
   "outputs": [
    {
     "data": {
      "text/plain": [
       "(128, 150, 150, 3)"
      ]
     },
     "execution_count": 14,
     "metadata": {},
     "output_type": "execute_result"
    }
   ],
   "source": [
    "sample_training_images, _ = next(train_data_gen)\n",
    "sample_training_images.shape"
   ]
  },
  {
   "cell_type": "code",
   "execution_count": 19,
   "metadata": {
    "colab": {},
    "colab_type": "code",
    "executionInfo": {
     "elapsed": 6595,
     "status": "ok",
     "timestamp": 1592985406183,
     "user": {
      "displayName": "sanghun oh",
      "photoUrl": "https://lh3.googleusercontent.com/a-/AOh14Ghlx86owSfLI1ysBzewc-4sBRVA0uQ32rdNEjLr1Q=s64",
      "userId": "06412681606171338922"
     },
     "user_tz": -540
    },
    "id": "mX9KeXiOgaBi"
   },
   "outputs": [],
   "source": [
    "model = tf.keras.models.Sequential([\n",
    "    layers.Input(shape=(IMG_HEIGHT, IMG_WIDTH ,3)),\n",
    "    layers.Conv2D(16, 3, padding='same', activation='relu'),\n",
    "    layers.MaxPooling2D(),\n",
    "    layers.Conv2D(32, 3, padding='same', activation='relu'),\n",
    "    layers.MaxPooling2D(),\n",
    "    layers.Conv2D(64, 3, padding='same', activation='relu'),\n",
    "    layers.MaxPooling2D(),\n",
    "    layers.Flatten(),\n",
    "    layers.Dense(512, activation='relu'),\n",
    "    layers.Dense(1),\n",
    "])"
   ]
  },
  {
   "cell_type": "code",
   "execution_count": null,
   "metadata": {},
   "outputs": [],
   "source": [
    "# model = tf.keras.models.Sequential()\n",
    "# model.add(Input(shape=(IMG_HEIGHT, IMG_WIDTH ,3)))\n",
    "# model.add(Conv2D(32, (3, 3),)\n",
    "# model.add(Activation(`relu`))\n",
    "# model.add(MaxPooling2D(pool_size=(2, 2)))\n",
    "\n",
    "# model.add(Conv2D(32, (3, 3)))\n",
    "# model.add(Activation(`relu`))\n",
    "# model.add(MaxPooling2D(pool_size=(2, 2)))\n",
    "\n",
    "# model.add(Conv2D(64, (3, 3)))\n",
    "# model.add(Activation(`relu`))\n",
    "# model.add(MaxPooling2D(pool_size=(2, 2)))\n",
    "# model.add(Flatten())  # 이전 CNN 레이어에서 나온 3차원 배열은 1차원으로 뽑아줍니다\n",
    "# model.add(Dense(64))\n",
    "# model.add(Activation(`relu`))\n",
    "# model.add(Dropout(0.5))\n",
    "# model.add(Dense(2))\n",
    "# model.add(Activation(`sigmoid`))"
   ]
  },
  {
   "cell_type": "code",
   "execution_count": 20,
   "metadata": {
    "colab": {
     "base_uri": "https://localhost:8080/",
     "height": 485
    },
    "colab_type": "code",
    "executionInfo": {
     "elapsed": 6591,
     "status": "ok",
     "timestamp": 1592985406186,
     "user": {
      "displayName": "sanghun oh",
      "photoUrl": "https://lh3.googleusercontent.com/a-/AOh14Ghlx86owSfLI1ysBzewc-4sBRVA0uQ32rdNEjLr1Q=s64",
      "userId": "06412681606171338922"
     },
     "user_tz": -540
    },
    "id": "54siUr07hoLH",
    "outputId": "d13058eb-997e-4f57-ac31-ac70ddc9b348"
   },
   "outputs": [
    {
     "name": "stdout",
     "output_type": "stream",
     "text": [
      "Model: \"sequential_2\"\n",
      "_________________________________________________________________\n",
      " Layer (type)                Output Shape              Param #   \n",
      "=================================================================\n",
      " conv2d_9 (Conv2D)           (None, 150, 150, 16)      448       \n",
      "                                                                 \n",
      " max_pooling2d_9 (MaxPooling  (None, 75, 75, 16)       0         \n",
      " 2D)                                                             \n",
      "                                                                 \n",
      " conv2d_10 (Conv2D)          (None, 75, 75, 32)        4640      \n",
      "                                                                 \n",
      " max_pooling2d_10 (MaxPoolin  (None, 37, 37, 32)       0         \n",
      " g2D)                                                            \n",
      "                                                                 \n",
      " conv2d_11 (Conv2D)          (None, 37, 37, 64)        18496     \n",
      "                                                                 \n",
      " max_pooling2d_11 (MaxPoolin  (None, 18, 18, 64)       0         \n",
      " g2D)                                                            \n",
      "                                                                 \n",
      " flatten_3 (Flatten)         (None, 20736)             0         \n",
      "                                                                 \n",
      " dense_5 (Dense)             (None, 512)               10617344  \n",
      "                                                                 \n",
      " dense_6 (Dense)             (None, 1)                 513       \n",
      "                                                                 \n",
      "=================================================================\n",
      "Total params: 10,641,441\n",
      "Trainable params: 10,641,441\n",
      "Non-trainable params: 0\n",
      "_________________________________________________________________\n"
     ]
    }
   ],
   "source": [
    "model.compile(optimizer='adam',\n",
    "              loss=tf.keras.losses.BinaryCrossentropy(from_logits=True),\n",
    "              metrics=['accuracy'])\n",
    "model.summary()"
   ]
  },
  {
   "cell_type": "code",
   "execution_count": 21,
   "metadata": {
    "colab": {
     "base_uri": "https://localhost:8080/",
     "height": 197
    },
    "colab_type": "code",
    "executionInfo": {
     "elapsed": 289503,
     "status": "ok",
     "timestamp": 1592986220484,
     "user": {
      "displayName": "sanghun oh",
      "photoUrl": "https://lh3.googleusercontent.com/a-/AOh14Ghlx86owSfLI1ysBzewc-4sBRVA0uQ32rdNEjLr1Q=s64",
      "userId": "06412681606171338922"
     },
     "user_tz": -540
    },
    "id": "AfvWcVJjiGXX",
    "outputId": "ccc2cdd6-b1d4-41bd-e26c-a4b70d63f983"
   },
   "outputs": [
    {
     "name": "stdout",
     "output_type": "stream",
     "text": [
      "Epoch 1/50\n"
     ]
    },
    {
     "name": "stderr",
     "output_type": "stream",
     "text": [
      "2022-01-05 13:31:15.595760: I tensorflow/core/grappler/optimizers/custom_graph_optimizer_registry.cc:112] Plugin optimizer for device_type GPU is enabled.\n"
     ]
    },
    {
     "name": "stdout",
     "output_type": "stream",
     "text": [
      "15/15 [==============================] - ETA: 0s - loss: 0.7921 - accuracy: 0.5069"
     ]
    },
    {
     "name": "stderr",
     "output_type": "stream",
     "text": [
      "2022-01-05 13:31:23.823474: I tensorflow/core/grappler/optimizers/custom_graph_optimizer_registry.cc:112] Plugin optimizer for device_type GPU is enabled.\n"
     ]
    },
    {
     "name": "stdout",
     "output_type": "stream",
     "text": [
      "15/15 [==============================] - 10s 511ms/step - loss: 0.7921 - accuracy: 0.5069 - val_loss: 0.6931 - val_accuracy: 0.5000\n",
      "Epoch 2/50\n",
      "15/15 [==============================] - 7s 481ms/step - loss: 0.6917 - accuracy: 0.4941 - val_loss: 0.6821 - val_accuracy: 0.5056\n",
      "Epoch 3/50\n",
      "15/15 [==============================] - 7s 475ms/step - loss: 0.6816 - accuracy: 0.5331 - val_loss: 0.6650 - val_accuracy: 0.5547\n",
      "Epoch 4/50\n",
      "15/15 [==============================] - 7s 486ms/step - loss: 0.6667 - accuracy: 0.5620 - val_loss: 0.6382 - val_accuracy: 0.5871\n",
      "Epoch 5/50\n",
      "15/15 [==============================] - 7s 476ms/step - loss: 0.6598 - accuracy: 0.5588 - val_loss: 0.6456 - val_accuracy: 0.5759\n",
      "Epoch 6/50\n",
      "15/15 [==============================] - 7s 478ms/step - loss: 0.6620 - accuracy: 0.5726 - val_loss: 0.7061 - val_accuracy: 0.6250\n",
      "Epoch 7/50\n",
      "15/15 [==============================] - 7s 479ms/step - loss: 0.6581 - accuracy: 0.5689 - val_loss: 0.6571 - val_accuracy: 0.6362\n",
      "Epoch 8/50\n",
      "15/15 [==============================] - 7s 482ms/step - loss: 0.6376 - accuracy: 0.5924 - val_loss: 0.6143 - val_accuracy: 0.6183\n",
      "Epoch 9/50\n",
      "15/15 [==============================] - 7s 499ms/step - loss: 0.6336 - accuracy: 0.5951 - val_loss: 0.6127 - val_accuracy: 0.5982\n",
      "Epoch 10/50\n",
      "15/15 [==============================] - 7s 484ms/step - loss: 0.6281 - accuracy: 0.5988 - val_loss: 0.6575 - val_accuracy: 0.6685\n",
      "Epoch 11/50\n",
      "15/15 [==============================] - 7s 486ms/step - loss: 0.6115 - accuracy: 0.6325 - val_loss: 0.6757 - val_accuracy: 0.6618\n",
      "Epoch 12/50\n",
      "15/15 [==============================] - 7s 481ms/step - loss: 0.5990 - accuracy: 0.6373 - val_loss: 0.5747 - val_accuracy: 0.6752\n",
      "Epoch 13/50\n",
      "15/15 [==============================] - 7s 479ms/step - loss: 0.5780 - accuracy: 0.6528 - val_loss: 0.5614 - val_accuracy: 0.7076\n",
      "Epoch 14/50\n",
      "15/15 [==============================] - 7s 489ms/step - loss: 0.5588 - accuracy: 0.6760 - val_loss: 0.5250 - val_accuracy: 0.7121\n",
      "Epoch 15/50\n",
      "15/15 [==============================] - 7s 481ms/step - loss: 0.5684 - accuracy: 0.6955 - val_loss: 0.5308 - val_accuracy: 0.7299\n",
      "Epoch 16/50\n",
      "15/15 [==============================] - 8s 502ms/step - loss: 0.5550 - accuracy: 0.6923 - val_loss: 0.5718 - val_accuracy: 0.7221\n",
      "Epoch 17/50\n",
      "15/15 [==============================] - 7s 492ms/step - loss: 0.5494 - accuracy: 0.6928 - val_loss: 0.5299 - val_accuracy: 0.6842\n",
      "Epoch 18/50\n",
      "15/15 [==============================] - 7s 482ms/step - loss: 0.5378 - accuracy: 0.7003 - val_loss: 0.5209 - val_accuracy: 0.7121\n",
      "Epoch 19/50\n",
      "15/15 [==============================] - 7s 482ms/step - loss: 0.5206 - accuracy: 0.7190 - val_loss: 0.5387 - val_accuracy: 0.7444\n",
      "Epoch 20/50\n",
      "15/15 [==============================] - 7s 480ms/step - loss: 0.5344 - accuracy: 0.7094 - val_loss: 0.5046 - val_accuracy: 0.7031\n",
      "Epoch 21/50\n",
      "15/15 [==============================] - 7s 484ms/step - loss: 0.5189 - accuracy: 0.7089 - val_loss: 0.5038 - val_accuracy: 0.7422\n",
      "Epoch 22/50\n",
      "15/15 [==============================] - 8s 499ms/step - loss: 0.5282 - accuracy: 0.7131 - val_loss: 0.5239 - val_accuracy: 0.7321\n",
      "Epoch 23/50\n",
      "15/15 [==============================] - 7s 484ms/step - loss: 0.5107 - accuracy: 0.7254 - val_loss: 0.4881 - val_accuracy: 0.7400\n",
      "Epoch 24/50\n",
      "15/15 [==============================] - 7s 483ms/step - loss: 0.5316 - accuracy: 0.7142 - val_loss: 0.5185 - val_accuracy: 0.7377\n",
      "Epoch 25/50\n",
      "15/15 [==============================] - 7s 479ms/step - loss: 0.5108 - accuracy: 0.7425 - val_loss: 0.5165 - val_accuracy: 0.7098\n",
      "Epoch 26/50\n",
      "15/15 [==============================] - 7s 477ms/step - loss: 0.4948 - accuracy: 0.7377 - val_loss: 0.5017 - val_accuracy: 0.7321\n",
      "Epoch 27/50\n",
      "15/15 [==============================] - 7s 478ms/step - loss: 0.5135 - accuracy: 0.7190 - val_loss: 0.5042 - val_accuracy: 0.7377\n",
      "Epoch 28/50\n",
      "15/15 [==============================] - 7s 476ms/step - loss: 0.5046 - accuracy: 0.7356 - val_loss: 0.5524 - val_accuracy: 0.7500\n",
      "Epoch 29/50\n",
      "15/15 [==============================] - 7s 479ms/step - loss: 0.5021 - accuracy: 0.7404 - val_loss: 0.4890 - val_accuracy: 0.7321\n",
      "Epoch 30/50\n",
      "15/15 [==============================] - 7s 478ms/step - loss: 0.5015 - accuracy: 0.7431 - val_loss: 0.5233 - val_accuracy: 0.7433\n",
      "Epoch 31/50\n",
      "15/15 [==============================] - 7s 480ms/step - loss: 0.5019 - accuracy: 0.7399 - val_loss: 0.5166 - val_accuracy: 0.7087\n",
      "Epoch 32/50\n",
      "15/15 [==============================] - 7s 482ms/step - loss: 0.4810 - accuracy: 0.7511 - val_loss: 0.4936 - val_accuracy: 0.7567\n",
      "Epoch 33/50\n",
      "15/15 [==============================] - 7s 478ms/step - loss: 0.4900 - accuracy: 0.7361 - val_loss: 0.5072 - val_accuracy: 0.7545\n",
      "Epoch 34/50\n",
      "15/15 [==============================] - 7s 478ms/step - loss: 0.4713 - accuracy: 0.7596 - val_loss: 0.4941 - val_accuracy: 0.7478\n",
      "Epoch 35/50\n",
      "15/15 [==============================] - 7s 484ms/step - loss: 0.4765 - accuracy: 0.7500 - val_loss: 0.4918 - val_accuracy: 0.7266\n",
      "Epoch 36/50\n",
      "15/15 [==============================] - 7s 478ms/step - loss: 0.4783 - accuracy: 0.7521 - val_loss: 0.4974 - val_accuracy: 0.7723\n",
      "Epoch 37/50\n",
      "15/15 [==============================] - 7s 478ms/step - loss: 0.4678 - accuracy: 0.7516 - val_loss: 0.4933 - val_accuracy: 0.7578\n",
      "Epoch 38/50\n",
      "15/15 [==============================] - 7s 477ms/step - loss: 0.4808 - accuracy: 0.7564 - val_loss: 0.4859 - val_accuracy: 0.7522\n",
      "Epoch 39/50\n",
      "15/15 [==============================] - 7s 476ms/step - loss: 0.4882 - accuracy: 0.7543 - val_loss: 0.5033 - val_accuracy: 0.7132\n",
      "Epoch 40/50\n",
      "15/15 [==============================] - 7s 475ms/step - loss: 0.4701 - accuracy: 0.7618 - val_loss: 0.4854 - val_accuracy: 0.7478\n",
      "Epoch 41/50\n",
      "15/15 [==============================] - 7s 477ms/step - loss: 0.4522 - accuracy: 0.7714 - val_loss: 0.4839 - val_accuracy: 0.7656\n",
      "Epoch 42/50\n",
      "15/15 [==============================] - 7s 484ms/step - loss: 0.4499 - accuracy: 0.7746 - val_loss: 0.4794 - val_accuracy: 0.7723\n",
      "Epoch 43/50\n",
      "15/15 [==============================] - 7s 479ms/step - loss: 0.4733 - accuracy: 0.7634 - val_loss: 0.5210 - val_accuracy: 0.7656\n",
      "Epoch 44/50\n",
      "15/15 [==============================] - 7s 490ms/step - loss: 0.4472 - accuracy: 0.7666 - val_loss: 0.4969 - val_accuracy: 0.7489\n",
      "Epoch 45/50\n",
      "15/15 [==============================] - 7s 479ms/step - loss: 0.4368 - accuracy: 0.7778 - val_loss: 0.5014 - val_accuracy: 0.7634\n",
      "Epoch 46/50\n",
      "15/15 [==============================] - 7s 477ms/step - loss: 0.4351 - accuracy: 0.7831 - val_loss: 0.4899 - val_accuracy: 0.7366\n",
      "Epoch 47/50\n",
      "15/15 [==============================] - 7s 476ms/step - loss: 0.4440 - accuracy: 0.7740 - val_loss: 0.5084 - val_accuracy: 0.7377\n",
      "Epoch 48/50\n",
      "15/15 [==============================] - 7s 477ms/step - loss: 0.4382 - accuracy: 0.7821 - val_loss: 0.4883 - val_accuracy: 0.7612\n",
      "Epoch 49/50\n",
      "15/15 [==============================] - 7s 484ms/step - loss: 0.4278 - accuracy: 0.7837 - val_loss: 0.4785 - val_accuracy: 0.7612\n",
      "Epoch 50/50\n",
      "15/15 [==============================] - 7s 478ms/step - loss: 0.4406 - accuracy: 0.7847 - val_loss: 0.4817 - val_accuracy: 0.7254\n"
     ]
    }
   ],
   "source": [
    "epochs_size = 50\n",
    "\n",
    "hist = model.fit(\n",
    "    train_data_gen,\n",
    "    batch_size=batch_size,\n",
    "    steps_per_epoch= train_data_gen.samples // batch_size,\n",
    "    epochs= epochs_size,\n",
    "    validation_data=val_data_gen,\n",
    "    validation_steps= val_data_gen.samples // batch_size\n",
    ")"
   ]
  },
  {
   "cell_type": "code",
   "execution_count": 22,
   "metadata": {
    "colab": {
     "base_uri": "https://localhost:8080/",
     "height": 265
    },
    "colab_type": "code",
    "executionInfo": {
     "elapsed": 300345,
     "status": "ok",
     "timestamp": 1592985699954,
     "user": {
      "displayName": "sanghun oh",
      "photoUrl": "https://lh3.googleusercontent.com/a-/AOh14Ghlx86owSfLI1ysBzewc-4sBRVA0uQ32rdNEjLr1Q=s64",
      "userId": "06412681606171338922"
     },
     "user_tz": -540
    },
    "id": "3oYYD4nklS1N",
    "outputId": "03c7dfb7-f0eb-4120-ebde-62ecca086007"
   },
   "outputs": [
    {
     "data": {
      "image/png": "[encoded data removed]",
      "text/plain": [
       "<Figure size 432x288 with 1 Axes>"
      ]
     },
     "metadata": {
      "needs_background": "light"
     },
     "output_type": "display_data"
    }
   ],
   "source": [
    "import matplotlib.pyplot as plt\n",
    "plt.plot(hist.epoch, hist.history['loss'], label='Training loss')\n",
    "plt.plot(hist.epoch, hist.history['val_loss'], label='Validation loss')\n",
    "plt.legend()\n",
    "plt.show()"
   ]
  },
  {
   "cell_type": "code",
   "execution_count": 23,
   "metadata": {
    "colab": {
     "base_uri": "https://localhost:8080/",
     "height": 265
    },
    "colab_type": "code",
    "executionInfo": {
     "elapsed": 300924,
     "status": "ok",
     "timestamp": 1592985700540,
     "user": {
      "displayName": "sanghun oh",
      "photoUrl": "https://lh3.googleusercontent.com/a-/AOh14Ghlx86owSfLI1ysBzewc-4sBRVA0uQ32rdNEjLr1Q=s64",
      "userId": "06412681606171338922"
     },
     "user_tz": -540
    },
    "id": "jjAqv6jWl5QG",
    "outputId": "6819da38-11d1-4471-dd6e-9ef4b5241c54"
   },
   "outputs": [
    {
     "data": {
      "image/png": "[encoded data removed]",
      "text/plain": [
       "<Figure size 432x288 with 1 Axes>"
      ]
     },
     "metadata": {
      "needs_background": "light"
     },
     "output_type": "display_data"
    }
   ],
   "source": [
    "plt.plot(hist.epoch, hist.history['accuracy'], label='Training accuracy')\n",
    "plt.plot(hist.epoch, hist.history['val_accuracy'], label='Validation accuracy')\n",
    "plt.legend()\n",
    "plt.show()"
   ]
  },
  {
   "cell_type": "markdown",
   "metadata": {
    "colab_type": "text",
    "id": "3t3R8ZU_TOXl"
   },
   "source": [
    "##Dropout"
   ]
  },
  {
   "cell_type": "code",
   "execution_count": 26,
   "metadata": {
    "colab": {
     "base_uri": "https://localhost:8080/",
     "height": 244
    },
    "colab_type": "code",
    "executionInfo": {
     "elapsed": 301589,
     "status": "error",
     "timestamp": 1592985701250,
     "user": {
      "displayName": "sanghun oh",
      "photoUrl": "https://lh3.googleusercontent.com/a-/AOh14Ghlx86owSfLI1ysBzewc-4sBRVA0uQ32rdNEjLr1Q=s64",
      "userId": "06412681606171338922"
     },
     "user_tz": -540
    },
    "id": "1kfEpk8wTLi2",
    "outputId": "bf883e16-14a4-400c-fec8-b6b6848be870"
   },
   "outputs": [
    {
     "name": "stdout",
     "output_type": "stream",
     "text": [
      "Model: \"sequential_3\"\n",
      "_________________________________________________________________\n",
      " Layer (type)                Output Shape              Param #   \n",
      "=================================================================\n",
      " conv2d_12 (Conv2D)          (None, 150, 150, 16)      448       \n",
      "                                                                 \n",
      " max_pooling2d_12 (MaxPoolin  (None, 75, 75, 16)       0         \n",
      " g2D)                                                            \n",
      "                                                                 \n",
      " dropout (Dropout)           (None, 75, 75, 16)        0         \n",
      "                                                                 \n",
      " conv2d_13 (Conv2D)          (None, 75, 75, 32)        4640      \n",
      "                                                                 \n",
      " max_pooling2d_13 (MaxPoolin  (None, 37, 37, 32)       0         \n",
      " g2D)                                                            \n",
      "                                                                 \n",
      " conv2d_14 (Conv2D)          (None, 37, 37, 64)        18496     \n",
      "                                                                 \n",
      " max_pooling2d_14 (MaxPoolin  (None, 18, 18, 64)       0         \n",
      " g2D)                                                            \n",
      "                                                                 \n",
      " dropout_1 (Dropout)         (None, 18, 18, 64)        0         \n",
      "                                                                 \n",
      " flatten_4 (Flatten)         (None, 20736)             0         \n",
      "                                                                 \n",
      " dense_7 (Dense)             (None, 512)               10617344  \n",
      "                                                                 \n",
      " dense_8 (Dense)             (None, 1)                 513       \n",
      "                                                                 \n",
      "=================================================================\n",
      "Total params: 10,641,441\n",
      "Trainable params: 10,641,441\n",
      "Non-trainable params: 0\n",
      "_________________________________________________________________\n"
     ]
    }
   ],
   "source": [
    "model_new = tf.keras.models.Sequential([\n",
    "    layers.Conv2D(16, 3, padding='same', activation='relu', \n",
    "           input_shape=(IMG_HEIGHT, IMG_WIDTH ,3)),\n",
    "    layers.MaxPooling2D(),\n",
    "    layers.Dropout(0.2),\n",
    "    layers.Conv2D(32, 3, padding='same', activation='relu'),\n",
    "    layers.MaxPooling2D(),\n",
    "    layers.Conv2D(64, 3, padding='same', activation='relu'),\n",
    "    layers.MaxPooling2D(),\n",
    "    layers.Dropout(0.2),\n",
    "    layers.Flatten(),\n",
    "    layers.Dense(512, activation='relu'),\n",
    "    layers.Dense(1)\n",
    "])\n",
    "model_new.compile(optimizer='adam',\n",
    "                  loss=tf.keras.losses.BinaryCrossentropy(from_logits=True),\n",
    "                  metrics=['accuracy'])\n",
    "\n",
    "model_new.summary()"
   ]
  },
  {
   "cell_type": "code",
   "execution_count": 37,
   "metadata": {
    "colab": {},
    "colab_type": "code",
    "executionInfo": {
     "elapsed": 301578,
     "status": "aborted",
     "timestamp": 1592985701245,
     "user": {
      "displayName": "sanghun oh",
      "photoUrl": "https://lh3.googleusercontent.com/a-/AOh14Ghlx86owSfLI1ysBzewc-4sBRVA0uQ32rdNEjLr1Q=s64",
      "userId": "06412681606171338922"
     },
     "user_tz": -540
    },
    "id": "XHCS224gTVAT"
   },
   "outputs": [
    {
     "name": "stdout",
     "output_type": "stream",
     "text": [
      "Epoch 1/50\n",
      "15/15 [==============================] - 8s 508ms/step - loss: 0.3217 - accuracy: 0.8494 - val_loss: 0.5479 - val_accuracy: 0.7690\n",
      "Epoch 2/50\n",
      "15/15 [==============================] - 7s 487ms/step - loss: 0.3441 - accuracy: 0.8435 - val_loss: 0.5631 - val_accuracy: 0.7667\n",
      "Epoch 3/50\n",
      "15/15 [==============================] - 7s 480ms/step - loss: 0.3402 - accuracy: 0.8312 - val_loss: 0.5155 - val_accuracy: 0.7835\n",
      "Epoch 4/50\n",
      "15/15 [==============================] - 7s 485ms/step - loss: 0.3170 - accuracy: 0.8568 - val_loss: 0.5122 - val_accuracy: 0.7813\n",
      "Epoch 5/50\n",
      "15/15 [==============================] - 7s 484ms/step - loss: 0.3173 - accuracy: 0.8526 - val_loss: 0.5673 - val_accuracy: 0.7746\n",
      "Epoch 6/50\n",
      "15/15 [==============================] - 7s 479ms/step - loss: 0.2984 - accuracy: 0.8643 - val_loss: 0.5200 - val_accuracy: 0.7891\n",
      "Epoch 7/50\n",
      "15/15 [==============================] - 7s 483ms/step - loss: 0.3281 - accuracy: 0.8542 - val_loss: 0.5028 - val_accuracy: 0.7723\n",
      "Epoch 8/50\n",
      "15/15 [==============================] - 7s 480ms/step - loss: 0.3112 - accuracy: 0.8494 - val_loss: 0.5029 - val_accuracy: 0.7757\n",
      "Epoch 9/50\n",
      "15/15 [==============================] - 7s 477ms/step - loss: 0.3211 - accuracy: 0.8424 - val_loss: 0.5812 - val_accuracy: 0.7701\n",
      "Epoch 10/50\n",
      "15/15 [==============================] - 7s 478ms/step - loss: 0.3057 - accuracy: 0.8600 - val_loss: 0.4969 - val_accuracy: 0.7891\n",
      "Epoch 11/50\n",
      "15/15 [==============================] - 7s 481ms/step - loss: 0.3108 - accuracy: 0.8579 - val_loss: 0.4759 - val_accuracy: 0.7824\n",
      "Epoch 12/50\n",
      "15/15 [==============================] - 7s 477ms/step - loss: 0.3139 - accuracy: 0.8552 - val_loss: 0.5551 - val_accuracy: 0.7690\n",
      "Epoch 13/50\n",
      "15/15 [==============================] - 7s 476ms/step - loss: 0.3180 - accuracy: 0.8579 - val_loss: 0.5488 - val_accuracy: 0.7444\n",
      "Epoch 14/50\n",
      "15/15 [==============================] - 7s 493ms/step - loss: 0.3166 - accuracy: 0.8488 - val_loss: 0.4895 - val_accuracy: 0.8080\n",
      "Epoch 15/50\n",
      "15/15 [==============================] - 7s 478ms/step - loss: 0.2906 - accuracy: 0.8649 - val_loss: 0.5772 - val_accuracy: 0.7723\n",
      "Epoch 16/50\n",
      "15/15 [==============================] - 7s 477ms/step - loss: 0.2953 - accuracy: 0.8590 - val_loss: 0.5698 - val_accuracy: 0.7690\n",
      "Epoch 17/50\n",
      "15/15 [==============================] - 7s 477ms/step - loss: 0.3167 - accuracy: 0.8590 - val_loss: 0.4845 - val_accuracy: 0.7902\n",
      "Epoch 18/50\n",
      "15/15 [==============================] - 7s 478ms/step - loss: 0.2972 - accuracy: 0.8526 - val_loss: 0.4804 - val_accuracy: 0.7924\n",
      "Epoch 19/50\n",
      "15/15 [==============================] - 7s 480ms/step - loss: 0.3115 - accuracy: 0.8606 - val_loss: 0.5027 - val_accuracy: 0.7768\n",
      "Epoch 20/50\n",
      "15/15 [==============================] - 7s 487ms/step - loss: 0.3093 - accuracy: 0.8584 - val_loss: 0.5638 - val_accuracy: 0.7667\n",
      "Epoch 21/50\n",
      "15/15 [==============================] - 7s 475ms/step - loss: 0.3110 - accuracy: 0.8584 - val_loss: 0.5193 - val_accuracy: 0.7857\n",
      "Epoch 22/50\n",
      "15/15 [==============================] - 7s 478ms/step - loss: 0.2997 - accuracy: 0.8590 - val_loss: 0.5922 - val_accuracy: 0.7467\n",
      "Epoch 23/50\n",
      "15/15 [==============================] - 7s 479ms/step - loss: 0.3009 - accuracy: 0.8632 - val_loss: 0.4990 - val_accuracy: 0.8036\n",
      "Epoch 24/50\n",
      "15/15 [==============================] - 7s 477ms/step - loss: 0.3064 - accuracy: 0.8590 - val_loss: 0.4764 - val_accuracy: 0.7902\n",
      "Epoch 25/50\n",
      "15/15 [==============================] - 7s 478ms/step - loss: 0.3070 - accuracy: 0.8632 - val_loss: 0.5401 - val_accuracy: 0.7768\n",
      "Epoch 26/50\n",
      "15/15 [==============================] - 7s 478ms/step - loss: 0.3055 - accuracy: 0.8526 - val_loss: 0.5587 - val_accuracy: 0.7757\n",
      "Epoch 27/50\n",
      "15/15 [==============================] - 7s 478ms/step - loss: 0.2988 - accuracy: 0.8590 - val_loss: 0.6610 - val_accuracy: 0.7266\n",
      "Epoch 28/50\n",
      "15/15 [==============================] - 7s 479ms/step - loss: 0.3088 - accuracy: 0.8643 - val_loss: 0.5235 - val_accuracy: 0.7969\n",
      "Epoch 29/50\n",
      "15/15 [==============================] - 7s 478ms/step - loss: 0.3052 - accuracy: 0.8606 - val_loss: 0.4693 - val_accuracy: 0.7991\n",
      "Epoch 30/50\n",
      "15/15 [==============================] - 7s 478ms/step - loss: 0.3018 - accuracy: 0.8643 - val_loss: 0.4805 - val_accuracy: 0.7902\n",
      "Epoch 31/50\n",
      "15/15 [==============================] - 7s 478ms/step - loss: 0.2977 - accuracy: 0.8568 - val_loss: 0.5452 - val_accuracy: 0.7656\n",
      "Epoch 32/50\n",
      "15/15 [==============================] - 7s 475ms/step - loss: 0.2977 - accuracy: 0.8579 - val_loss: 0.5714 - val_accuracy: 0.7813\n",
      "Epoch 33/50\n",
      "15/15 [==============================] - 7s 478ms/step - loss: 0.3165 - accuracy: 0.8526 - val_loss: 0.5247 - val_accuracy: 0.7734\n",
      "Epoch 34/50\n",
      "15/15 [==============================] - 7s 494ms/step - loss: 0.2942 - accuracy: 0.8707 - val_loss: 0.5435 - val_accuracy: 0.7813\n",
      "Epoch 35/50\n",
      "15/15 [==============================] - 7s 480ms/step - loss: 0.2943 - accuracy: 0.8697 - val_loss: 0.5120 - val_accuracy: 0.7958\n",
      "Epoch 36/50\n",
      "15/15 [==============================] - 8s 494ms/step - loss: 0.2892 - accuracy: 0.8622 - val_loss: 0.4845 - val_accuracy: 0.8136\n",
      "Epoch 37/50\n",
      "15/15 [==============================] - 7s 481ms/step - loss: 0.2889 - accuracy: 0.8777 - val_loss: 0.5193 - val_accuracy: 0.7846\n",
      "Epoch 38/50\n",
      "15/15 [==============================] - 7s 484ms/step - loss: 0.2606 - accuracy: 0.8793 - val_loss: 0.5229 - val_accuracy: 0.8047\n",
      "Epoch 39/50\n",
      "15/15 [==============================] - 7s 481ms/step - loss: 0.2665 - accuracy: 0.8905 - val_loss: 0.5025 - val_accuracy: 0.7969\n",
      "Epoch 40/50\n",
      "15/15 [==============================] - 7s 480ms/step - loss: 0.2909 - accuracy: 0.8659 - val_loss: 0.5315 - val_accuracy: 0.7857\n",
      "Epoch 41/50\n",
      "15/15 [==============================] - 7s 479ms/step - loss: 0.2838 - accuracy: 0.8659 - val_loss: 0.5093 - val_accuracy: 0.8025\n",
      "Epoch 42/50\n",
      "15/15 [==============================] - 7s 481ms/step - loss: 0.3011 - accuracy: 0.8606 - val_loss: 0.5094 - val_accuracy: 0.7991\n",
      "Epoch 43/50\n",
      "15/15 [==============================] - 7s 480ms/step - loss: 0.2935 - accuracy: 0.8616 - val_loss: 0.5107 - val_accuracy: 0.7969\n",
      "Epoch 44/50\n",
      "15/15 [==============================] - 7s 480ms/step - loss: 0.2757 - accuracy: 0.8665 - val_loss: 0.5168 - val_accuracy: 0.8114\n",
      "Epoch 45/50\n",
      "15/15 [==============================] - 7s 480ms/step - loss: 0.2968 - accuracy: 0.8665 - val_loss: 0.5248 - val_accuracy: 0.7813\n",
      "Epoch 46/50\n",
      "15/15 [==============================] - 7s 479ms/step - loss: 0.2809 - accuracy: 0.8777 - val_loss: 0.4964 - val_accuracy: 0.8002\n",
      "Epoch 47/50\n",
      "15/15 [==============================] - 7s 481ms/step - loss: 0.2797 - accuracy: 0.8632 - val_loss: 0.5299 - val_accuracy: 0.8036\n",
      "Epoch 48/50\n",
      "15/15 [==============================] - 7s 480ms/step - loss: 0.2882 - accuracy: 0.8702 - val_loss: 0.5077 - val_accuracy: 0.8013\n",
      "Epoch 49/50\n",
      "15/15 [==============================] - 7s 479ms/step - loss: 0.2813 - accuracy: 0.8729 - val_loss: 0.5705 - val_accuracy: 0.7667\n",
      "Epoch 50/50\n",
      "15/15 [==============================] - 7s 496ms/step - loss: 0.2832 - accuracy: 0.8702 - val_loss: 0.4906 - val_accuracy: 0.7868\n"
     ]
    }
   ],
   "source": [
    "hist_new = model_new.fit(\n",
    "    train_data_gen,\n",
    "    batch_size=128,\n",
    "    steps_per_epoch= train_data_gen.samples // batch_size,\n",
    "    epochs= epochs_size,\n",
    "    validation_data=val_data_gen,\n",
    "    validation_steps= val_data_gen.samples // batch_size\n",
    ")\n",
    "\n",
    "# batch_size=64 --> loss: 0.3850 - accuracy: 0.8152 - val_loss: 0.4772 - val_accuracy: 0.7723\n",
    "# batch_size=128 --> loss: 0.2832 - accuracy: 0.8702 - val_loss: 0.4906 - val_accuracy: 0.7868\n",
    "# batch_size=256 --> loss: 0.3134 - accuracy: 0.8557 - val_loss: 0.5407 - val_accuracy: 0.7623"
   ]
  },
  {
   "cell_type": "code",
   "execution_count": 38,
   "metadata": {
    "colab": {},
    "colab_type": "code",
    "executionInfo": {
     "elapsed": 301573,
     "status": "aborted",
     "timestamp": 1592985701246,
     "user": {
      "displayName": "sanghun oh",
      "photoUrl": "https://lh3.googleusercontent.com/a-/AOh14Ghlx86owSfLI1ysBzewc-4sBRVA0uQ32rdNEjLr1Q=s64",
      "userId": "06412681606171338922"
     },
     "user_tz": -540
    },
    "id": "NPDQuOSwTjvu"
   },
   "outputs": [
    {
     "data": {
      "image/png": "[encoded data removed]",
      "text/plain": [
       "<Figure size 432x288 with 1 Axes>"
      ]
     },
     "metadata": {
      "needs_background": "light"
     },
     "output_type": "display_data"
    }
   ],
   "source": [
    "import matplotlib.pyplot as plt\n",
    "plt.plot(hist_new.epoch, hist_new.history['loss'], label='Training loss')\n",
    "plt.plot(hist_new.epoch, hist_new.history['val_loss'], label='Validation loss')\n",
    "plt.legend()\n",
    "plt.show()"
   ]
  },
  {
   "cell_type": "code",
   "execution_count": 39,
   "metadata": {
    "colab": {},
    "colab_type": "code",
    "executionInfo": {
     "elapsed": 301568,
     "status": "aborted",
     "timestamp": 1592985701248,
     "user": {
      "displayName": "sanghun oh",
      "photoUrl": "https://lh3.googleusercontent.com/a-/AOh14Ghlx86owSfLI1ysBzewc-4sBRVA0uQ32rdNEjLr1Q=s64",
      "userId": "06412681606171338922"
     },
     "user_tz": -540
    },
    "id": "8IG8h-lZTt8l"
   },
   "outputs": [
    {
     "data": {
      "image/png": "[encoded data removed]",
      "text/plain": [
       "<Figure size 432x288 with 1 Axes>"
      ]
     },
     "metadata": {
      "needs_background": "light"
     },
     "output_type": "display_data"
    }
   ],
   "source": [
    "plt.plot(hist_new.epoch, hist_new.history['accuracy'], label='Training accuracy')\n",
    "plt.plot(hist_new.epoch, hist_new.history['val_accuracy'], label='Validation accuracy')\n",
    "plt.legend()\n",
    "plt.show()"
   ]
  },
  {
   "cell_type": "code",
   "execution_count": null,
   "metadata": {
    "colab": {},
    "colab_type": "code",
    "executionInfo": {
     "elapsed": 301565,
     "status": "aborted",
     "timestamp": 1592985701249,
     "user": {
      "displayName": "sanghun oh",
      "photoUrl": "https://lh3.googleusercontent.com/a-/AOh14Ghlx86owSfLI1ysBzewc-4sBRVA0uQ32rdNEjLr1Q=s64",
      "userId": "06412681606171338922"
     },
     "user_tz": -540
    },
    "id": "Auct7iE4T6Hw"
   },
   "outputs": [],
   "source": []
  }
 ],
 "metadata": {
  "colab": {
   "authorship_tag": "ABX9TyOdiJVnbxo1sfIlT7rA63GC",
   "collapsed_sections": [],
   "name": "00.Dog&CatImageWithKeras.ipynb",
   "provenance": []
  },
  "kernelspec": {
   "display_name": "Python 3 (ipykernel)",
   "language": "python",
   "name": "python3"
  },
  "language_info": {
   "codemirror_mode": {
    "name": "ipython",
    "version": 3
   },
   "file_extension": ".py",
   "mimetype": "text/x-python",
   "name": "python",
   "nbconvert_exporter": "python",
   "pygments_lexer": "ipython3",
   "version": "3.9.9"
  }
 },
 "nbformat": 4,
 "nbformat_minor": 4
}
