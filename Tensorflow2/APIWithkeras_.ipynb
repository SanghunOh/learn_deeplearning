{
 "cells": [
  {
   "cell_type": "code",
   "execution_count": 1,
   "metadata": {
    "colab": {},
    "colab_type": "code",
    "executionInfo": {
     "elapsed": 2411,
     "status": "ok",
     "timestamp": 1594712644911,
     "user": {
      "displayName": "sanghun oh",
      "photoUrl": "https://lh3.googleusercontent.com/a-/AOh14Ghlx86owSfLI1ysBzewc-4sBRVA0uQ32rdNEjLr1Q=s64",
      "userId": "06412681606171338922"
     },
     "user_tz": -540
    },
    "id": "htZ6fGNNwOjT"
   },
   "outputs": [],
   "source": [
    "import tensorflow as tf\n",
    "from tensorflow.keras import layers\n",
    "import numpy as np"
   ]
  },
  {
   "cell_type": "markdown",
   "metadata": {
    "colab_type": "text",
    "id": "aes_OI5JDDrW"
   },
   "source": [
    "##https://www.tensorflow.org/datasets/splits"
   ]
  },
  {
   "cell_type": "code",
   "execution_count": 10,
   "metadata": {
    "colab": {},
    "colab_type": "code",
    "id": "O1N5oNm9Ctyw"
   },
   "outputs": [],
   "source": [
    "from tensorflow import keras\n",
    "from tensorflow.keras import layers\n",
    "\n",
    "inputs = keras.Input(shape=(784,), name='digits')\n",
    "x = layers.Dense(64, activation='relu', name='dense_1')(inputs)\n",
    "x = layers.Dense(64, activation='relu', name='dense_2')(x)\n",
    "outputs = layers.Dense(10, name='predictions')(x)\n",
    "\n",
    "model = keras.Model(inputs=inputs, outputs=outputs)"
   ]
  },
  {
   "cell_type": "code",
   "execution_count": 11,
   "metadata": {
    "colab": {
     "base_uri": "https://localhost:8080/",
     "height": 53
    },
    "colab_type": "code",
    "executionInfo": {
     "elapsed": 1651,
     "status": "ok",
     "timestamp": 1591767340013,
     "user": {
      "displayName": "sanghun oh",
      "photoUrl": "https://lh3.googleusercontent.com/a-/AOh14Ghlx86owSfLI1ysBzewc-4sBRVA0uQ32rdNEjLr1Q=s64",
      "userId": "06412681606171338922"
     },
     "user_tz": -540
    },
    "id": "jL2sZwCwDEj2",
    "outputId": "7e5665ad-2fd4-4259-b21d-afc5d143026f"
   },
   "outputs": [],
   "source": [
    "from tensorflow import keras\n",
    "(X, y), (x_test, y_test) = keras.datasets.mnist.load_data()\n",
    "\n",
    "# Preprocess the data (these are Numpy arrays)\n",
    "X = X.reshape(60000, 784)\n",
    "x_test = x_test.reshape(10000, 784)\n",
    "from sklearn.model_selection import train_test_split\n",
    "x_train, x_val, y_train, y_val = train_test_split(X, y, test_size=0.2)\n",
    "# y_train = y_train.astype('float32')\n",
    "# y_test = y_test.astype('float32')\n",
    "\n",
    "# Reserve 10,000 samples for validation\n",
    "# x_val = x_train[-10000:]\n",
    "# y_val = y_train[-10000:]\n",
    "# x_train = x_train[:-10000]\n",
    "# y_train = y_train[:-10000]"
   ]
  },
  {
   "cell_type": "code",
   "execution_count": 12,
   "metadata": {
    "colab": {},
    "colab_type": "code",
    "id": "wSochtfg9bAA"
   },
   "outputs": [],
   "source": [
    "# (x_train, y_train), (x_test, y_test) = keras.datasets.mnist.load_data()\n",
    "# x_train.shape, x_val.shape"
   ]
  },
  {
   "cell_type": "code",
   "execution_count": 13,
   "metadata": {
    "colab": {},
    "colab_type": "code",
    "id": "9-vEIOuS5bM6"
   },
   "outputs": [],
   "source": [
    "model.compile(optimizer=keras.optimizers.RMSprop(),  # Optimizer\n",
    "              # Loss function to minimize\n",
    "              loss='sparse_categorical_crossentropy',\n",
    "              # List of metrics to monitor\n",
    "              metrics=['sparse_categorical_accuracy'],\n",
    "              run_eagerly=True\n",
    "              )"
   ]
  },
  {
   "cell_type": "code",
   "execution_count": 14,
   "metadata": {
    "colab": {},
    "colab_type": "code",
    "id": "oa4169wE5jcQ"
   },
   "outputs": [],
   "source": [
    "hist = model.fit(x_train, y_train,\n",
    "                    batch_size=64,\n",
    "                    epochs=3,\n",
    "                    # We pass some validation for\n",
    "                    # monitoring validation loss and metrics\n",
    "                    # at the end of each epoch\n",
    "                    verbose=0,\n",
    "                    validation_data=(x_val, y_val)\n",
    "                    )\n",
    "\n",
    "# print('\\nhistory dict:', hist.history)"
   ]
  },
  {
   "cell_type": "code",
   "execution_count": 15,
   "metadata": {
    "colab": {},
    "colab_type": "code",
    "id": "al1M1SDKIu68"
   },
   "outputs": [],
   "source": [
    "# model.loss"
   ]
  },
  {
   "cell_type": "code",
   "execution_count": 16,
   "metadata": {
    "colab": {
     "base_uri": "https://localhost:8080/"
    },
    "colab_type": "code",
    "executionInfo": {
     "elapsed": 43645,
     "status": "ok",
     "timestamp": 1591674509372,
     "user": {
      "displayName": "sanghun oh",
      "photoUrl": "https://lh3.googleusercontent.com/a-/AOh14Ghlx86owSfLI1ysBzewc-4sBRVA0uQ32rdNEjLr1Q=s64",
      "userId": "06412681606171338922"
     },
     "user_tz": -540
    },
    "id": "JXODRfAk5nOR",
    "outputId": "fc18582f-7342-439c-ed03-bd67cf87e29d"
   },
   "outputs": [
    {
     "name": "stdout",
     "output_type": "stream",
     "text": [
      "79/79 [==============================] - 1s 17ms/step - loss: 2.2482 - sparse_categorical_accuracy: 0.3041\n",
      "test loss, test acc: [2.2481930255889893, 0.30410000681877136]\n"
     ]
    }
   ],
   "source": [
    "results = model.evaluate(x_test, y_test, batch_size=128)\n",
    "print('test loss, test acc:', results)\n",
    "\n",
    "# Generate predictions (probabilities -- the output of the last layer)\n",
    "# on new data using `predict`\n",
    "predictions = model.predict(x_test[2:3])\n",
    "# predictions"
   ]
  },
  {
   "cell_type": "markdown",
   "metadata": {
    "colab_type": "text",
    "id": "ojFyESN_vy9m"
   },
   "source": [
    "#Boston Housing Price dataset with Keras"
   ]
  },
  {
   "cell_type": "markdown",
   "metadata": {
    "colab_type": "text",
    "id": "h6mEOTlzNEBW"
   },
   "source": [
    "##normalizing features"
   ]
  },
  {
   "cell_type": "code",
   "execution_count": 17,
   "metadata": {
    "colab": {},
    "colab_type": "code",
    "id": "kSkjUOKYNKeT"
   },
   "outputs": [],
   "source": [
    "from tensorflow.keras.layers.experimental.preprocessing import Normalization\n",
    "\n",
    "# Example image data, with values in the [0, 255] range\n",
    "training_data = np.random.randint(0, 256, size=(64, 200, 200, 3)).astype(\"float32\")\n",
    "\n",
    "normalizer = Normalization(axis=-1)\n",
    "normalizer.adapt(training_data)\n",
    "\n",
    "normalized_data = normalizer(training_data)\n",
    "# print(\"training_data : \", training_data)\n",
    "# print(\"var: %.4f\" % np.var(normalized_data))\n",
    "# print(\"mean: %.4f\" % np.mean(normalized_data))"
   ]
  },
  {
   "cell_type": "code",
   "execution_count": 18,
   "metadata": {
    "colab": {
     "base_uri": "https://localhost:8080/",
     "height": 53
    },
    "colab_type": "code",
    "executionInfo": {
     "elapsed": 1073,
     "status": "ok",
     "timestamp": 1591769720487,
     "user": {
      "displayName": "sanghun oh",
      "photoUrl": "https://lh3.googleusercontent.com/a-/AOh14Ghlx86owSfLI1ysBzewc-4sBRVA0uQ32rdNEjLr1Q=s64",
      "userId": "06412681606171338922"
     },
     "user_tz": -540
    },
    "id": "Y_mILLDF58nm",
    "outputId": "1f0c25db-ad8e-470a-94a7-4cb7d66fa74e"
   },
   "outputs": [],
   "source": [
    "from tensorflow.keras.datasets import boston_housing\n",
    "\n",
    "(X, y), (x_test, y_test) = boston_housing.load_data()\n",
    "# print(X.shape, type(X))\n",
    "\n",
    "# from sklearn.preprocessing import StandardScaler\n",
    "# scaler = StandardScaler()\n",
    "# X = scaler.fit_transform(X)\n",
    "# x_test = scaler.transform(x_test)\n",
    "\n",
    "# from tensorflow.keras.layers.experimental.preprocessing import Normalization\n",
    "# normalizer = Normalization(axis=-1)\n",
    "# normalizer.adapt(X)\n",
    "# X = normalizer(X).numpy()\n",
    "# x_test = normalizer(x_test).numpy()\n",
    "\n",
    "# X.shape, y.shape, x_test.shape, y_test.shape, type(X), type(y), type(x_test), type(y_test)"
   ]
  },
  {
   "cell_type": "code",
   "execution_count": 19,
   "metadata": {
    "colab": {},
    "colab_type": "code",
    "id": "qTf7OdGQ6TSz"
   },
   "outputs": [],
   "source": [
    "from sklearn.model_selection import train_test_split\n",
    "x_train, x_val, y_train, y_val = train_test_split(X, y, test_size=0.2)"
   ]
  },
  {
   "cell_type": "code",
   "execution_count": 20,
   "metadata": {
    "colab": {},
    "colab_type": "code",
    "id": "nVZKnievv7Hh"
   },
   "outputs": [],
   "source": [
    "model = tf.keras.Sequential()\n",
    "model.add(layers.Input(shape=x_train.shape[1]))\n",
    "model.add(layers.Dense(128, activation='sigmoid'))\n",
    "model.add(layers.Dense(1))\n",
    "model.compile(optimizer='rmsprop',\n",
    "              loss='mse',\n",
    "              metrics=['mae'])"
   ]
  },
  {
   "cell_type": "code",
   "execution_count": 21,
   "metadata": {
    "colab": {},
    "colab_type": "code",
    "id": "8auyPhFbxs1W"
   },
   "outputs": [],
   "source": [
    "hist = model.fit(x_train, y_train, epochs=100, batch_size=16, validation_split=0.2,verbose=0)"
   ]
  },
  {
   "cell_type": "code",
   "execution_count": 22,
   "metadata": {
    "colab": {},
    "colab_type": "code",
    "id": "jmxSsHUty_kx"
   },
   "outputs": [],
   "source": [
    "# results = model.evaluate(x_test, y_test)\n",
    "# results"
   ]
  },
  {
   "cell_type": "code",
   "execution_count": 23,
   "metadata": {
    "colab": {},
    "colab_type": "code",
    "id": "CLRxb_LPzWs5"
   },
   "outputs": [],
   "source": [
    "predictions = model.predict(x_test[:3])\n",
    "# predictions, y_test[:3]"
   ]
  },
  {
   "cell_type": "code",
   "execution_count": 24,
   "metadata": {
    "colab": {},
    "colab_type": "code",
    "id": "LzJW11143YL6"
   },
   "outputs": [],
   "source": [
    "predictions = model.predict(x_test[7:10])\n",
    "# predictions, y_test[7:10]"
   ]
  },
  {
   "cell_type": "code",
   "execution_count": 25,
   "metadata": {
    "colab": {},
    "colab_type": "code",
    "id": "dEfox3Q9bRwm"
   },
   "outputs": [],
   "source": [
    "# model.__str__"
   ]
  },
  {
   "cell_type": "markdown",
   "metadata": {
    "colab_type": "text",
    "id": "4JEO1B3AaMoD"
   },
   "source": [
    "## Compare Optimizer"
   ]
  },
  {
   "cell_type": "code",
   "execution_count": 26,
   "metadata": {
    "colab": {},
    "colab_type": "code",
    "id": "pgtnEaglaRFY"
   },
   "outputs": [
    {
     "name": "stdout",
     "output_type": "stream",
     "text": [
      "WARNING:tensorflow:5 out of the last 8 calls to <function Model.make_predict_function.<locals>.predict_function at 0x14563b310> triggered tf.function retracing. Tracing is expensive and the excessive number of tracings could be due to (1) creating @tf.function repeatedly in a loop, (2) passing tensors with different shapes, (3) passing Python objects instead of tensors. For (1), please define your @tf.function outside of the loop. For (2), @tf.function has experimental_relax_shapes=True option that relaxes argument shapes that can avoid unnecessary retracing. For (3), please refer to https://www.tensorflow.org/tutorials/customization/performance#python_or_tensor_args and https://www.tensorflow.org/api_docs/python/tf/function for  more details.\n",
      "WARNING:tensorflow:6 out of the last 9 calls to <function Model.make_predict_function.<locals>.predict_function at 0x14249f430> triggered tf.function retracing. Tracing is expensive and the excessive number of tracings could be due to (1) creating @tf.function repeatedly in a loop, (2) passing tensors with different shapes, (3) passing Python objects instead of tensors. For (1), please define your @tf.function outside of the loop. For (2), @tf.function has experimental_relax_shapes=True option that relaxes argument shapes that can avoid unnecessary retracing. For (3), please refer to https://www.tensorflow.org/tutorials/customization/performance#python_or_tensor_args and https://www.tensorflow.org/api_docs/python/tf/function for  more details.\n",
      "WARNING:tensorflow:7 out of the last 10 calls to <function Model.make_predict_function.<locals>.predict_function at 0x14244bdc0> triggered tf.function retracing. Tracing is expensive and the excessive number of tracings could be due to (1) creating @tf.function repeatedly in a loop, (2) passing tensors with different shapes, (3) passing Python objects instead of tensors. For (1), please define your @tf.function outside of the loop. For (2), @tf.function has experimental_relax_shapes=True option that relaxes argument shapes that can avoid unnecessary retracing. For (3), please refer to https://www.tensorflow.org/tutorials/customization/performance#python_or_tensor_args and https://www.tensorflow.org/api_docs/python/tf/function for  more details.\n",
      "WARNING:tensorflow:8 out of the last 11 calls to <function Model.make_predict_function.<locals>.predict_function at 0x142474dc0> triggered tf.function retracing. Tracing is expensive and the excessive number of tracings could be due to (1) creating @tf.function repeatedly in a loop, (2) passing tensors with different shapes, (3) passing Python objects instead of tensors. For (1), please define your @tf.function outside of the loop. For (2), @tf.function has experimental_relax_shapes=True option that relaxes argument shapes that can avoid unnecessary retracing. For (3), please refer to https://www.tensorflow.org/tutorials/customization/performance#python_or_tensor_args and https://www.tensorflow.org/api_docs/python/tf/function for  more details.\n",
      "WARNING:tensorflow:8 out of the last 11 calls to <function Model.make_predict_function.<locals>.predict_function at 0x142411d30> triggered tf.function retracing. Tracing is expensive and the excessive number of tracings could be due to (1) creating @tf.function repeatedly in a loop, (2) passing tensors with different shapes, (3) passing Python objects instead of tensors. For (1), please define your @tf.function outside of the loop. For (2), @tf.function has experimental_relax_shapes=True option that relaxes argument shapes that can avoid unnecessary retracing. For (3), please refer to https://www.tensorflow.org/tutorials/customization/performance#python_or_tensor_args and https://www.tensorflow.org/api_docs/python/tf/function for  more details.\n",
      "WARNING:tensorflow:9 out of the last 12 calls to <function Model.make_predict_function.<locals>.predict_function at 0x13c75eee0> triggered tf.function retracing. Tracing is expensive and the excessive number of tracings could be due to (1) creating @tf.function repeatedly in a loop, (2) passing tensors with different shapes, (3) passing Python objects instead of tensors. For (1), please define your @tf.function outside of the loop. For (2), @tf.function has experimental_relax_shapes=True option that relaxes argument shapes that can avoid unnecessary retracing. For (3), please refer to https://www.tensorflow.org/tutorials/customization/performance#python_or_tensor_args and https://www.tensorflow.org/api_docs/python/tf/function for  more details.\n",
      "WARNING:tensorflow:9 out of the last 11 calls to <function Model.make_predict_function.<locals>.predict_function at 0x13ceee1f0> triggered tf.function retracing. Tracing is expensive and the excessive number of tracings could be due to (1) creating @tf.function repeatedly in a loop, (2) passing tensors with different shapes, (3) passing Python objects instead of tensors. For (1), please define your @tf.function outside of the loop. For (2), @tf.function has experimental_relax_shapes=True option that relaxes argument shapes that can avoid unnecessary retracing. For (3), please refer to https://www.tensorflow.org/tutorials/customization/performance#python_or_tensor_args and https://www.tensorflow.org/api_docs/python/tf/function for  more details.\n",
      "WARNING:tensorflow:10 out of the last 12 calls to <function Model.make_predict_function.<locals>.predict_function at 0x13cf3cb80> triggered tf.function retracing. Tracing is expensive and the excessive number of tracings could be due to (1) creating @tf.function repeatedly in a loop, (2) passing tensors with different shapes, (3) passing Python objects instead of tensors. For (1), please define your @tf.function outside of the loop. For (2), @tf.function has experimental_relax_shapes=True option that relaxes argument shapes that can avoid unnecessary retracing. For (3), please refer to https://www.tensorflow.org/tutorials/customization/performance#python_or_tensor_args and https://www.tensorflow.org/api_docs/python/tf/function for  more details.\n"
     ]
    }
   ],
   "source": [
    "from tensorflow.keras import optimizers\n",
    "# learning_rate=0.01\n",
    "optimizers = ['Adadelta', 'Adagrad', 'Adam', 'Adamax', 'Ftrl', 'Nadam', 'RMSprop', 'SGD']\n",
    "for optimizer in optimizers:\n",
    "  model = tf.keras.Sequential()\n",
    "  model.add(layers.Input(shape=x_train.shape[1]))\n",
    "  model.add(layers.Dense(128, activation='sigmoid'))\n",
    "  model.add(layers.Dense(1))\n",
    "  model.compile(optimizer=optimizer,\n",
    "              loss='mse',\n",
    "              metrics=['mae'])\n",
    "  model.fit(x_train, y_train, epochs=100, batch_size=16, validation_split=0.2,verbose=0)\n",
    "  predictions = model.predict(x_test[:3])\n",
    "  # print(optimizer ,predictions, y_test[:3])"
   ]
  },
  {
   "cell_type": "markdown",
   "metadata": {
    "colab_type": "text",
    "id": "krMEzI1uf13o"
   },
   "source": [
    "## Compare loss"
   ]
  },
  {
   "cell_type": "code",
   "execution_count": 27,
   "metadata": {
    "colab": {},
    "colab_type": "code",
    "id": "8OdIRv7if7aI"
   },
   "outputs": [
    {
     "name": "stdout",
     "output_type": "stream",
     "text": [
      "WARNING:tensorflow:10 out of the last 11 calls to <function Model.make_predict_function.<locals>.predict_function at 0x14eda2d30> triggered tf.function retracing. Tracing is expensive and the excessive number of tracings could be due to (1) creating @tf.function repeatedly in a loop, (2) passing tensors with different shapes, (3) passing Python objects instead of tensors. For (1), please define your @tf.function outside of the loop. For (2), @tf.function has experimental_relax_shapes=True option that relaxes argument shapes that can avoid unnecessary retracing. For (3), please refer to https://www.tensorflow.org/tutorials/customization/performance#python_or_tensor_args and https://www.tensorflow.org/api_docs/python/tf/function for  more details.\n",
      "WARNING:tensorflow:11 out of the last 12 calls to <function Model.make_predict_function.<locals>.predict_function at 0x14ee7f790> triggered tf.function retracing. Tracing is expensive and the excessive number of tracings could be due to (1) creating @tf.function repeatedly in a loop, (2) passing tensors with different shapes, (3) passing Python objects instead of tensors. For (1), please define your @tf.function outside of the loop. For (2), @tf.function has experimental_relax_shapes=True option that relaxes argument shapes that can avoid unnecessary retracing. For (3), please refer to https://www.tensorflow.org/tutorials/customization/performance#python_or_tensor_args and https://www.tensorflow.org/api_docs/python/tf/function for  more details.\n",
      "WARNING:tensorflow:11 out of the last 11 calls to <function Model.make_predict_function.<locals>.predict_function at 0x14eec58b0> triggered tf.function retracing. Tracing is expensive and the excessive number of tracings could be due to (1) creating @tf.function repeatedly in a loop, (2) passing tensors with different shapes, (3) passing Python objects instead of tensors. For (1), please define your @tf.function outside of the loop. For (2), @tf.function has experimental_relax_shapes=True option that relaxes argument shapes that can avoid unnecessary retracing. For (3), please refer to https://www.tensorflow.org/tutorials/customization/performance#python_or_tensor_args and https://www.tensorflow.org/api_docs/python/tf/function for  more details.\n",
      "WARNING:tensorflow:11 out of the last 11 calls to <function Model.make_predict_function.<locals>.predict_function at 0x13c865670> triggered tf.function retracing. Tracing is expensive and the excessive number of tracings could be due to (1) creating @tf.function repeatedly in a loop, (2) passing tensors with different shapes, (3) passing Python objects instead of tensors. For (1), please define your @tf.function outside of the loop. For (2), @tf.function has experimental_relax_shapes=True option that relaxes argument shapes that can avoid unnecessary retracing. For (3), please refer to https://www.tensorflow.org/tutorials/customization/performance#python_or_tensor_args and https://www.tensorflow.org/api_docs/python/tf/function for  more details.\n",
      "WARNING:tensorflow:11 out of the last 11 calls to <function Model.make_predict_function.<locals>.predict_function at 0x142438d30> triggered tf.function retracing. Tracing is expensive and the excessive number of tracings could be due to (1) creating @tf.function repeatedly in a loop, (2) passing tensors with different shapes, (3) passing Python objects instead of tensors. For (1), please define your @tf.function outside of the loop. For (2), @tf.function has experimental_relax_shapes=True option that relaxes argument shapes that can avoid unnecessary retracing. For (3), please refer to https://www.tensorflow.org/tutorials/customization/performance#python_or_tensor_args and https://www.tensorflow.org/api_docs/python/tf/function for  more details.\n",
      "WARNING:tensorflow:11 out of the last 11 calls to <function Model.make_predict_function.<locals>.predict_function at 0x14eec5a60> triggered tf.function retracing. Tracing is expensive and the excessive number of tracings could be due to (1) creating @tf.function repeatedly in a loop, (2) passing tensors with different shapes, (3) passing Python objects instead of tensors. For (1), please define your @tf.function outside of the loop. For (2), @tf.function has experimental_relax_shapes=True option that relaxes argument shapes that can avoid unnecessary retracing. For (3), please refer to https://www.tensorflow.org/tutorials/customization/performance#python_or_tensor_args and https://www.tensorflow.org/api_docs/python/tf/function for  more details.\n",
      "WARNING:tensorflow:11 out of the last 11 calls to <function Model.make_predict_function.<locals>.predict_function at 0x14563b430> triggered tf.function retracing. Tracing is expensive and the excessive number of tracings could be due to (1) creating @tf.function repeatedly in a loop, (2) passing tensors with different shapes, (3) passing Python objects instead of tensors. For (1), please define your @tf.function outside of the loop. For (2), @tf.function has experimental_relax_shapes=True option that relaxes argument shapes that can avoid unnecessary retracing. For (3), please refer to https://www.tensorflow.org/tutorials/customization/performance#python_or_tensor_args and https://www.tensorflow.org/api_docs/python/tf/function for  more details.\n"
     ]
    }
   ],
   "source": [
    "from tensorflow.keras import losses\n",
    "# https://keras.io/api/losses/\n",
    "# Probabilistic losses\n",
    "# losses_name = ['binary_crossentropy','categorical_crossentropy','sparse_categorical_crossentropy','poisson', 'kl_divergence',] \n",
    "# Regression losses\n",
    "losses_name = ['mean_squared_error', 'mean_absolute_error', 'mean_absolute_percentage_error', 'mean_squared_logarithmic_error', 'cosine_similarity', 'huber_loss', 'logcosh']\n",
    "# Hinge losses for \"maximum-margin\" classification\n",
    "# losses_name = ['hinge', 'squared_hinge', 'categorical_hinge', 'mean_squared_logarithmic_error', 'cosine_similarity', 'huber_loss', '']\n",
    "for loss_name in losses_name:\n",
    "  model = tf.keras.Sequential()\n",
    "  model.add(layers.Input(shape=x_train.shape[1]))\n",
    "  model.add(layers.Dense(128, activation='sigmoid'))\n",
    "  # model.add(layers.Dense(128, activation='softmax'))\n",
    "  model.add(layers.Dense(1))\n",
    "  model.compile(optimizer='SGD',\n",
    "              loss=loss_name,\n",
    "              metrics=['mae'])\n",
    "  model.fit(x_train, y_train, epochs=100, batch_size=16, validation_split=0.2,verbose=0)\n",
    "  predictions = model.predict(x_test[:3])\n",
    "  # print(loss_name ,predictions, y_test[:3])"
   ]
  },
  {
   "cell_type": "markdown",
   "metadata": {
    "colab_type": "text",
    "id": "DiPAVaRRAnO8"
   },
   "source": [
    "## set Metrics\n",
    "\n"
   ]
  },
  {
   "cell_type": "code",
   "execution_count": 1,
   "metadata": {
    "colab": {},
    "colab_type": "code",
    "id": "DadNaBB6A08N"
   },
   "outputs": [
    {
     "ename": "NameError",
     "evalue": "name 'tf' is not defined",
     "output_type": "error",
     "traceback": [
      "\u001b[0;31m---------------------------------------------------------------------------\u001b[0m",
      "\u001b[0;31mNameError\u001b[0m                                 Traceback (most recent call last)",
      "\u001b[0;32m<ipython-input-1-8682b3d6e024>\u001b[0m in \u001b[0;36m<module>\u001b[0;34m\u001b[0m\n\u001b[1;32m      2\u001b[0m \u001b[0mmetrics_nm\u001b[0m \u001b[0;34m=\u001b[0m \u001b[0;34m[\u001b[0m\u001b[0;34m'accuracy'\u001b[0m\u001b[0;34m,\u001b[0m\u001b[0;34m'mean_squared_error'\u001b[0m\u001b[0;34m,\u001b[0m\u001b[0;34m'categorical_accuracy'\u001b[0m\u001b[0;34m,\u001b[0m\u001b[0;34m'top_k_categorical_accuracy'\u001b[0m\u001b[0;34m,\u001b[0m \u001b[0;34m'sparse_top_k_categorical_accuracy'\u001b[0m\u001b[0;34m,\u001b[0m\u001b[0;34m]\u001b[0m\u001b[0;34m\u001b[0m\u001b[0;34m\u001b[0m\u001b[0m\n\u001b[1;32m      3\u001b[0m \u001b[0;31m# metrics_nm = ['accuracy','categorical_accuracy', 'binary_crossentropy',]\u001b[0m\u001b[0;34m\u001b[0m\u001b[0;34m\u001b[0m\u001b[0;34m\u001b[0m\u001b[0m\n\u001b[0;32m----> 4\u001b[0;31m \u001b[0mmodel\u001b[0m \u001b[0;34m=\u001b[0m \u001b[0mtf\u001b[0m\u001b[0;34m.\u001b[0m\u001b[0mkeras\u001b[0m\u001b[0;34m.\u001b[0m\u001b[0mSequential\u001b[0m\u001b[0;34m(\u001b[0m\u001b[0;34m)\u001b[0m\u001b[0;34m\u001b[0m\u001b[0;34m\u001b[0m\u001b[0m\n\u001b[0m\u001b[1;32m      5\u001b[0m \u001b[0mmodel\u001b[0m\u001b[0;34m.\u001b[0m\u001b[0madd\u001b[0m\u001b[0;34m(\u001b[0m\u001b[0mlayers\u001b[0m\u001b[0;34m.\u001b[0m\u001b[0mInput\u001b[0m\u001b[0;34m(\u001b[0m\u001b[0mshape\u001b[0m\u001b[0;34m=\u001b[0m\u001b[0mx_train\u001b[0m\u001b[0;34m.\u001b[0m\u001b[0mshape\u001b[0m\u001b[0;34m[\u001b[0m\u001b[0;36m1\u001b[0m\u001b[0;34m]\u001b[0m\u001b[0;34m)\u001b[0m\u001b[0;34m)\u001b[0m\u001b[0;34m\u001b[0m\u001b[0;34m\u001b[0m\u001b[0m\n\u001b[1;32m      6\u001b[0m \u001b[0mmodel\u001b[0m\u001b[0;34m.\u001b[0m\u001b[0madd\u001b[0m\u001b[0;34m(\u001b[0m\u001b[0mlayers\u001b[0m\u001b[0;34m.\u001b[0m\u001b[0mDense\u001b[0m\u001b[0;34m(\u001b[0m\u001b[0;36m128\u001b[0m\u001b[0;34m,\u001b[0m \u001b[0mactivation\u001b[0m\u001b[0;34m=\u001b[0m\u001b[0;34m'sigmoid'\u001b[0m\u001b[0;34m)\u001b[0m\u001b[0;34m)\u001b[0m  \u001b[0;31m# model.add(layers.Dense(128, activation='softmax'))\u001b[0m\u001b[0;34m\u001b[0m\u001b[0;34m\u001b[0m\u001b[0m\n",
      "\u001b[0;31mNameError\u001b[0m: name 'tf' is not defined"
     ]
    }
   ],
   "source": [
    "from tensorflow.keras import losses\n",
    "metrics_nm = ['accuracy','mean_squared_error','categorical_accuracy','top_k_categorical_accuracy', 'sparse_top_k_categorical_accuracy',]\n",
    "# metrics_nm = ['accuracy','categorical_accuracy', 'binary_crossentropy',]\n",
    "model = tf.keras.Sequential()\n",
    "model.add(layers.Input(shape=x_train.shape[1]))\n",
    "model.add(layers.Dense(128, activation='sigmoid'))  # model.add(layers.Dense(128, activation='softmax'))\n",
    "model.add(layers.Dense(1))\n",
    "\n",
    "# metrics_nm = [tf.keras.metrics.CategoricalAccuracy(), tf.keras.metrics.FalseNegatives()]\n",
    "# # metrics_nm = ['accuracy','categorical_accuracy', 'binary_crossentropy',]\n",
    "# inputs = tf.keras.Input(shape=x_train.shape[1])\n",
    "# x1 = tf.keras.layers.Dense(128, activation='sigmoid')(inputs)\n",
    "# x2 = tf.keras.layers.Dense(128, activation='sigmoid')(x1)\n",
    "# outputs = tf.keras.layers.Dense(1, activation='softmax')(x2)\n",
    "# model = tf.keras.Model(inputs=inputs, outputs=outputs)\n",
    "\n",
    "model.compile(optimizer='SGD',\n",
    "            loss='mean_squared_error',\n",
    "            metrics=metrics_nm)\n",
    "hist = model.fit(x_train, y_train, epochs=50, batch_size=256, validation_split=0.2,verbose=0)\n",
    "# predictions = model.predict(x_test[:3])"
   ]
  },
  {
   "cell_type": "code",
   "execution_count": null,
   "metadata": {
    "colab": {
     "base_uri": "https://localhost:8080/",
     "height": 35
    },
    "colab_type": "code",
    "executionInfo": {
     "elapsed": 550,
     "status": "ok",
     "timestamp": 1591767805821,
     "user": {
      "displayName": "sanghun oh",
      "photoUrl": "https://lh3.googleusercontent.com/a-/AOh14Ghlx86owSfLI1ysBzewc-4sBRVA0uQ32rdNEjLr1Q=s64",
      "userId": "06412681606171338922"
     },
     "user_tz": -540
    },
    "id": "BUOwApGR3KF_",
    "outputId": "27c14ccf-0e65-4ae3-aa05-da24740cf694"
   },
   "outputs": [],
   "source": [
    "hist.history.keys()\n",
    "# model.load_weights"
   ]
  },
  {
   "cell_type": "code",
   "execution_count": null,
   "metadata": {
    "colab": {
     "base_uri": "https://localhost:8080/",
     "height": 283
    },
    "colab_type": "code",
    "executionInfo": {
     "elapsed": 633,
     "status": "ok",
     "timestamp": 1591767589721,
     "user": {
      "displayName": "sanghun oh",
      "photoUrl": "https://lh3.googleusercontent.com/a-/AOh14Ghlx86owSfLI1ysBzewc-4sBRVA0uQ32rdNEjLr1Q=s64",
      "userId": "06412681606171338922"
     },
     "user_tz": -540
    },
    "id": "ZmfqBK4a3OQW",
    "outputId": "c55f0d31-ef9a-4334-c985-ad9296ebef9f"
   },
   "outputs": [],
   "source": [
    "import matplotlib.pyplot as plt\n",
    "plt.plot(hist.history['mean_squared_error'])\n",
    "plt.plot(hist.history['val_mean_squared_error'])"
   ]
  },
  {
   "cell_type": "code",
   "execution_count": null,
   "metadata": {
    "colab": {
     "base_uri": "https://localhost:8080/",
     "height": 283
    },
    "colab_type": "code",
    "executionInfo": {
     "elapsed": 704,
     "status": "ok",
     "timestamp": 1591767635706,
     "user": {
      "displayName": "sanghun oh",
      "photoUrl": "https://lh3.googleusercontent.com/a-/AOh14Ghlx86owSfLI1ysBzewc-4sBRVA0uQ32rdNEjLr1Q=s64",
      "userId": "06412681606171338922"
     },
     "user_tz": -540
    },
    "id": "QZTuG_S6ve_a",
    "outputId": "c56dbb7f-3409-4b90-bd90-09e70b255947"
   },
   "outputs": [],
   "source": [
    "plt.plot(hist.history['categorical_accuracy'])\n",
    "plt.plot(hist.history['val_categorical_accuracy'])"
   ]
  },
  {
   "cell_type": "markdown",
   "metadata": {
    "colab_type": "text",
    "id": "7SxGEYj54hbP"
   },
   "source": [
    "##Model.fit()"
   ]
  },
  {
   "cell_type": "code",
   "execution_count": 32,
   "metadata": {
    "colab": {
     "base_uri": "https://localhost:8080/",
     "height": 217
    },
    "colab_type": "code",
    "executionInfo": {
     "elapsed": 1356,
     "status": "ok",
     "timestamp": 1591842192457,
     "user": {
      "displayName": "sanghun oh",
      "photoUrl": "https://lh3.googleusercontent.com/a-/AOh14Ghlx86owSfLI1ysBzewc-4sBRVA0uQ32rdNEjLr1Q=s64",
      "userId": "06412681606171338922"
     },
     "user_tz": -540
    },
    "id": "ISwhSWJD3vfC",
    "outputId": "658169d0-2b9c-4284-e6d7-95767bf7e0cd"
   },
   "outputs": [
    {
     "name": "stdout",
     "output_type": "stream",
     "text": [
      "Epoch 1/5\n",
      "17/17 - 0s - loss: 131.0685 - accuracy: 0.0000e+00 - mean_squared_error: 131.0685 - root_mean_squared_error: 11.4485 - val_loss: 119.7729 - val_accuracy: 0.0000e+00 - val_mean_squared_error: 119.7729 - val_root_mean_squared_error: 10.9441\n",
      "Epoch 2/5\n",
      "17/17 - 0s - loss: 86.2194 - accuracy: 0.0000e+00 - mean_squared_error: 86.2194 - root_mean_squared_error: 9.2854 - val_loss: 83.9620 - val_accuracy: 0.0000e+00 - val_mean_squared_error: 83.9620 - val_root_mean_squared_error: 9.1631\n",
      "Epoch 3/5\n",
      "17/17 - 0s - loss: 91.5375 - accuracy: 0.0000e+00 - mean_squared_error: 91.5375 - root_mean_squared_error: 9.5675 - val_loss: 110.1584 - val_accuracy: 0.0000e+00 - val_mean_squared_error: 110.1584 - val_root_mean_squared_error: 10.4956\n",
      "Epoch 4/5\n",
      "17/17 - 0s - loss: 99.8585 - accuracy: 0.0000e+00 - mean_squared_error: 99.8585 - root_mean_squared_error: 9.9929 - val_loss: 552.9061 - val_accuracy: 0.0000e+00 - val_mean_squared_error: 552.9061 - val_root_mean_squared_error: 23.5140\n",
      "Epoch 5/5\n",
      "17/17 - 0s - loss: 138.8739 - accuracy: 0.0000e+00 - mean_squared_error: 138.8739 - root_mean_squared_error: 11.7845 - val_loss: 97.3406 - val_accuracy: 0.0000e+00 - val_mean_squared_error: 97.3406 - val_root_mean_squared_error: 9.8661\n"
     ]
    }
   ],
   "source": [
    "import tensorflow as tf\n",
    "from tensorflow.keras import layers\n",
    "import numpy as np\n",
    "from tensorflow.keras.datasets import boston_housing\n",
    "\n",
    "(X, y), (x_test, y_test) = boston_housing.load_data()\n",
    "from sklearn.model_selection import train_test_split\n",
    "x_train, x_val, y_train, y_val = train_test_split(X, y, test_size=0.2)\n",
    "\n",
    "metrics_nm = ['accuracy',tf.keras.metrics.RootMeanSquaredError(),'mean_squared_error',]\n",
    "model = tf.keras.Sequential()\n",
    "model.add(layers.Input(shape=x_train.shape[1]))\n",
    "model.add(layers.Dense(128, activation='sigmoid'))  # model.add(layers.Dense(128, activation='softmax'))\n",
    "model.add(layers.Dense(1))\n",
    "\n",
    "model.compile(optimizer='SGD', loss='mean_squared_error', metrics=metrics_nm)\n",
    "hist = model.fit(x_train, y_train, epochs=5, batch_size=16, verbose=2, validation_split=0.2)\n",
    "# hist = model.fit(x_train, y_train, epochs=5, batch_size=265, verbose=1)\n",
    "\n",
    "# predictions = model.predict(x_test[:3])"
   ]
  },
  {
   "cell_type": "code",
   "execution_count": 33,
   "metadata": {
    "colab": {
     "base_uri": "https://localhost:8080/",
     "height": 431
    },
    "colab_type": "code",
    "executionInfo": {
     "elapsed": 582,
     "status": "ok",
     "timestamp": 1591842414494,
     "user": {
      "displayName": "sanghun oh",
      "photoUrl": "https://lh3.googleusercontent.com/a-/AOh14Ghlx86owSfLI1ysBzewc-4sBRVA0uQ32rdNEjLr1Q=s64",
      "userId": "06412681606171338922"
     },
     "user_tz": -540
    },
    "id": "5Ah5yoE1My2C",
    "outputId": "38b8daa3-811c-4e5e-dedf-631da8b04126"
   },
   "outputs": [
    {
     "data": {
      "text/plain": [
       "(dict_keys(['loss', 'accuracy', 'mean_squared_error', 'root_mean_squared_error', 'val_loss', 'val_accuracy', 'val_mean_squared_error', 'val_root_mean_squared_error']),\n",
       " {'loss': [131.0685272216797,\n",
       "   86.21940612792969,\n",
       "   91.53748321533203,\n",
       "   99.85851287841797,\n",
       "   138.87393188476562],\n",
       "  'accuracy': [0.0, 0.0, 0.0, 0.0, 0.0],\n",
       "  'mean_squared_error': [131.0685272216797,\n",
       "   86.21940612792969,\n",
       "   91.53748321533203,\n",
       "   99.85851287841797,\n",
       "   138.87393188476562],\n",
       "  'root_mean_squared_error': [11.448516845703125,\n",
       "   9.285440444946289,\n",
       "   9.567522048950195,\n",
       "   9.99292278289795,\n",
       "   11.784478187561035],\n",
       "  'val_loss': [119.7729263305664,\n",
       "   83.96198272705078,\n",
       "   110.15838623046875,\n",
       "   552.9060668945312,\n",
       "   97.340576171875],\n",
       "  'val_accuracy': [0.0, 0.0, 0.0, 0.0, 0.0],\n",
       "  'val_mean_squared_error': [119.7729263305664,\n",
       "   83.96198272705078,\n",
       "   110.15838623046875,\n",
       "   552.9060668945312,\n",
       "   97.340576171875],\n",
       "  'val_root_mean_squared_error': [10.944082260131836,\n",
       "   9.163077354431152,\n",
       "   10.495636940002441,\n",
       "   23.513954162597656,\n",
       "   9.866132736206055]})"
      ]
     },
     "execution_count": 33,
     "metadata": {},
     "output_type": "execute_result"
    }
   ],
   "source": [
    "hist.history.keys(), hist.history   # epochs 횟수만큼 정보 있음."
   ]
  },
  {
   "cell_type": "code",
   "execution_count": 34,
   "metadata": {
    "colab": {},
    "colab_type": "code",
    "id": "nol0JAAIPnbh"
   },
   "outputs": [
    {
     "name": "stdout",
     "output_type": "stream",
     "text": [
      "import tensorflow as tf\n",
      "from tensorflow.keras import layers\n",
      "import numpy as np\n",
      "import tensorflow as tf\n",
      "from tensorflow.keras import layers\n",
      "import numpy as np\n",
      "\n",
      "# the four different states of the XOR gate\n",
      "x_train = np.array([[0,0],[0,1],[1,0],[1,1]])\n",
      "\n",
      "# the four expected results in the same order\n",
      "y_train = np.array([[0],[1],[1],[0]])\n",
      "\n",
      "# activation_softmax = tf.keras.activations.softmax()\n",
      "\n",
      "model = tf.keras.Sequential()\n",
      "model.add(layers.Input(shape=2))\n",
      "model.add(layers.Dense(4, activation='sigmoid'))    # Try activation='relu'\n",
      "model.add(layers.Dense(1, activation='sigmoid'))  # Try activation='softmax'\n",
      "\n",
      "model.compile(loss='mean_squared_error',\n",
      "              optimizer='SGD',                # Stochastic Gradient Descent\n",
      "              metrics=['binary_accuracy'])\n",
      "\n",
      "# model.summary()\n",
      "model.fit(x_train, y_train, epochs=600, verbose=0)  # Try epochs=1000\n",
      "\n",
      "model.predict(x_train[1:2])\n",
      "model.input\n",
      "model.save('./XORwithKeras.h5')\n",
      "new_model = tf.keras.models.load_model('./XORwithKeras.h5')\n",
      "new_model.summary()\n",
      "new_model.predict(x_train[1:2])\n",
      "param = [int('1'),int('4')]\n",
      "new_model.predict([param])\n",
      "# x_train[1:2]\n",
      "x = np.array([1,2,3,4,5,])\n",
      "y = np.array([3,5,7,9,11,])\n",
      "model = tf.keras.Sequential()\n",
      "model.add(layers.Dense(1, input_shape=(1,)))\n",
      "model.compile(optimizer='SGD', loss='mse', run_eagerly=True)\n",
      "model.fit(x,y, epochs=100, verbose=0)\n",
      "# model.predict(x), model.predict([[10]])\n",
      "x = np.array([[0,2],[1,3],[2,4],[3,5],])\n",
      "y = np.array([6,9,11.5,14.5,])\n",
      "model = tf.keras.Sequential()\n",
      "model.add(layers.Input(shape=(2,)))\n",
      "model.add(layers.Dense(units=1))\n",
      "model.compile(optimizer='SGD', loss='mse')\n",
      "model.summary()\n",
      "model.fit(x,y, epochs=100, verbose=0)\n",
      "model.predict(x), model.predict([[8,10]])\n",
      "tf.keras.utils.plot_model(model, 'two_variable.png', show_shapes=True)\n",
      "import matplotlib.pyplot as plt\n",
      "import matplotlib.image as mpimg\n",
      "# plt.imshow(mpimg.imread('./two_variable.png'))\n",
      "from tensorflow import keras\n",
      "from tensorflow.keras import layers\n",
      "\n",
      "inputs = keras.Input(shape=(784,), name='digits')\n",
      "x = layers.Dense(64, activation='relu', name='dense_1')(inputs)\n",
      "x = layers.Dense(64, activation='relu', name='dense_2')(x)\n",
      "outputs = layers.Dense(10, name='predictions')(x)\n",
      "\n",
      "model = keras.Model(inputs=inputs, outputs=outputs)\n",
      "from tensorflow import keras\n",
      "(X, y), (x_test, y_test) = keras.datasets.mnist.load_data()\n",
      "\n",
      "# Preprocess the data (these are Numpy arrays)\n",
      "X = X.reshape(60000, 784)\n",
      "x_test = x_test.reshape(10000, 784)\n",
      "from sklearn.model_selection import train_test_split\n",
      "x_train, x_val, y_train, y_val = train_test_split(X, y, test_size=0.2)\n",
      "# y_train = y_train.astype('float32')\n",
      "# y_test = y_test.astype('float32')\n",
      "\n",
      "# Reserve 10,000 samples for validation\n",
      "# x_val = x_train[-10000:]\n",
      "# y_val = y_train[-10000:]\n",
      "# x_train = x_train[:-10000]\n",
      "# y_train = y_train[:-10000]\n",
      "# (x_train, y_train), (x_test, y_test) = keras.datasets.mnist.load_data()\n",
      "# x_train.shape, x_val.shape\n",
      "model.compile(optimizer=keras.optimizers.RMSprop(),  # Optimizer\n",
      "              # Loss function to minimize\n",
      "              loss='sparse_categorical_crossentropy',\n",
      "              # List of metrics to monitor\n",
      "              metrics=['sparse_categorical_accuracy'],\n",
      "              run_eagerly=True\n",
      "              )\n",
      "hist = model.fit(x_train, y_train,\n",
      "                    batch_size=64,\n",
      "                    epochs=3,\n",
      "                    # We pass some validation for\n",
      "                    # monitoring validation loss and metrics\n",
      "                    # at the end of each epoch\n",
      "                    verbose=0,\n",
      "                    validation_data=(x_val, y_val)\n",
      "                    )\n",
      "\n",
      "# print('\\nhistory dict:', hist.history)\n",
      "# model.loss\n",
      "results = model.evaluate(x_test, y_test, batch_size=128)\n",
      "print('test loss, test acc:', results)\n",
      "\n",
      "# Generate predictions (probabilities -- the output of the last layer)\n",
      "# on new data using `predict`\n",
      "predictions = model.predict(x_test[2:3])\n",
      "# predictions\n",
      "from tensorflow.keras.layers.experimental.preprocessing import Normalization\n",
      "\n",
      "# Example image data, with values in the [0, 255] range\n",
      "training_data = np.random.randint(0, 256, size=(64, 200, 200, 3)).astype(\"float32\")\n",
      "\n",
      "normalizer = Normalization(axis=-1)\n",
      "normalizer.adapt(training_data)\n",
      "\n",
      "normalized_data = normalizer(training_data)\n",
      "# print(\"training_data : \", training_data)\n",
      "# print(\"var: %.4f\" % np.var(normalized_data))\n",
      "# print(\"mean: %.4f\" % np.mean(normalized_data))\n",
      "from tensorflow.keras.datasets import boston_housing\n",
      "\n",
      "(X, y), (x_test, y_test) = boston_housing.load_data()\n",
      "# print(X.shape, type(X))\n",
      "\n",
      "# from sklearn.preprocessing import StandardScaler\n",
      "# scaler = StandardScaler()\n",
      "# X = scaler.fit_transform(X)\n",
      "# x_test = scaler.transform(x_test)\n",
      "\n",
      "# from tensorflow.keras.layers.experimental.preprocessing import Normalization\n",
      "# normalizer = Normalization(axis=-1)\n",
      "# normalizer.adapt(X)\n",
      "# X = normalizer(X).numpy()\n",
      "# x_test = normalizer(x_test).numpy()\n",
      "\n",
      "# X.shape, y.shape, x_test.shape, y_test.shape, type(X), type(y), type(x_test), type(y_test)\n",
      "from sklearn.model_selection import train_test_split\n",
      "x_train, x_val, y_train, y_val = train_test_split(X, y, test_size=0.2)\n",
      "model = tf.keras.Sequential()\n",
      "model.add(layers.Input(shape=x_train.shape[1]))\n",
      "model.add(layers.Dense(128, activation='sigmoid'))\n",
      "model.add(layers.Dense(1))\n",
      "model.compile(optimizer='rmsprop',\n",
      "              loss='mse',\n",
      "              metrics=['mae'])\n",
      "hist = model.fit(x_train, y_train, epochs=100, batch_size=16, validation_split=0.2,verbose=0)\n",
      "# results = model.evaluate(x_test, y_test)\n",
      "# results\n",
      "predictions = model.predict(x_test[:3])\n",
      "# predictions, y_test[:3]\n",
      "predictions = model.predict(x_test[7:10])\n",
      "# predictions, y_test[7:10]\n",
      "# model.__str__\n",
      "from tensorflow.keras import optimizers\n",
      "# learning_rate=0.01\n",
      "optimizers = ['Adadelta', 'Adagrad', 'Adam', 'Adamax', 'Ftrl', 'Nadam', 'RMSprop', 'SGD']\n",
      "for optimizer in optimizers:\n",
      "  model = tf.keras.Sequential()\n",
      "  model.add(layers.Input(shape=x_train.shape[1]))\n",
      "  model.add(layers.Dense(128, activation='sigmoid'))\n",
      "  model.add(layers.Dense(1))\n",
      "  model.compile(optimizer=optimizer,\n",
      "              loss='mse',\n",
      "              metrics=['mae'])\n",
      "  model.fit(x_train, y_train, epochs=100, batch_size=16, validation_split=0.2,verbose=0)\n",
      "  predictions = model.predict(x_test[:3])\n",
      "  # print(optimizer ,predictions, y_test[:3])\n",
      "from tensorflow.keras import losses\n",
      "# https://keras.io/api/losses/\n",
      "# Probabilistic losses\n",
      "# losses_name = ['binary_crossentropy','categorical_crossentropy','sparse_categorical_crossentropy','poisson', 'kl_divergence',] \n",
      "# Regression losses\n",
      "losses_name = ['mean_squared_error', 'mean_absolute_error', 'mean_absolute_percentage_error', 'mean_squared_logarithmic_error', 'cosine_similarity', 'huber_loss', 'logcosh']\n",
      "# Hinge losses for \"maximum-margin\" classification\n",
      "# losses_name = ['hinge', 'squared_hinge', 'categorical_hinge', 'mean_squared_logarithmic_error', 'cosine_similarity', 'huber_loss', '']\n",
      "for loss_name in losses_name:\n",
      "  model = tf.keras.Sequential()\n",
      "  model.add(layers.Input(shape=x_train.shape[1]))\n",
      "  model.add(layers.Dense(128, activation='sigmoid'))\n",
      "  # model.add(layers.Dense(128, activation='softmax'))\n",
      "  model.add(layers.Dense(1))\n",
      "  model.compile(optimizer='SGD',\n",
      "              loss=loss_name,\n",
      "              metrics=['mae'])\n",
      "  model.fit(x_train, y_train, epochs=100, batch_size=16, validation_split=0.2,verbose=0)\n",
      "  predictions = model.predict(x_test[:3])\n",
      "  # print(loss_name ,predictions, y_test[:3])\n",
      "from tensorflow.keras import losses\n",
      "metrics_nm = ['accuracy','mean_squared_error','categorical_accuracy','top_k_categorical_accuracy', 'sparse_top_k_categorical_accuracy',]\n",
      "# metrics_nm = ['accuracy','categorical_accuracy', 'binary_crossentropy',]\n",
      "model = tf.keras.Sequential()\n",
      "model.add(layers.Input(shape=x_train.shape[1]))\n",
      "model.add(layers.Dense(128, activation='sigmoid'))  # model.add(layers.Dense(128, activation='softmax'))\n",
      "model.add(layers.Dense(1))\n",
      "\n",
      "# metrics_nm = [tf.keras.metrics.CategoricalAccuracy(), tf.keras.metrics.FalseNegatives()]\n",
      "# # metrics_nm = ['accuracy','categorical_accuracy', 'binary_crossentropy',]\n",
      "# inputs = tf.keras.Input(shape=x_train.shape[1])\n",
      "# x1 = tf.keras.layers.Dense(128, activation='sigmoid')(inputs)\n",
      "# x2 = tf.keras.layers.Dense(128, activation='sigmoid')(x1)\n",
      "# outputs = tf.keras.layers.Dense(1, activation='softmax')(x2)\n",
      "# model = tf.keras.Model(inputs=inputs, outputs=outputs)\n",
      "\n",
      "model.compile(optimizer='SGD',\n",
      "            loss='mean_squared_error',\n",
      "            metrics=metrics_nm)\n",
      "hist = model.fit(x_train, y_train, epochs=50, batch_size=256, validation_split=0.2,verbose=0)\n",
      "# predictions = model.predict(x_test[:3])\n",
      "hist.history.keys()\n",
      "# model.load_weights\n",
      "import matplotlib.pyplot as plt\n",
      "plt.plot(hist.history['mean_squared_error'])\n",
      "plt.plot(hist.history['val_mean_squared_error'])\n",
      "plt.plot(hist.history['categorical_accuracy'])\n",
      "plt.plot(hist.history['val_categorical_accuracy'])\n",
      "import tensorflow as tf\n",
      "from tensorflow.keras import layers\n",
      "import numpy as np\n",
      "from tensorflow.keras.datasets import boston_housing\n",
      "\n",
      "(X, y), (x_test, y_test) = boston_housing.load_data()\n",
      "from sklearn.model_selection import train_test_split\n",
      "x_train, x_val, y_train, y_val = train_test_split(X, y, test_size=0.2)\n",
      "\n",
      "metrics_nm = ['accuracy','mean_squared_error',tf.keras.metrics.RootMeanSquaredError(),]\n",
      "model = tf.keras.Sequential()\n",
      "model.add(layers.Input(shape=x_train.shape[1]))\n",
      "model.add(layers.Dense(128, activation='sigmoid'))  # model.add(layers.Dense(128, activation='softmax'))\n",
      "model.add(layers.Dense(1))\n",
      "\n",
      "model.compile(optimizer='SGD', loss='mean_squared_error', metrics=metrics_nm)\n",
      "hist = model.fit(x_train, y_train, epochs=5, batch_size=16, verbose=2, validation_split=0.2)\n",
      "# hist = model.fit(x_train, y_train, epochs=5, batch_size=265, verbose=1)\n",
      "\n",
      "# predictions = model.predict(x_test[:3])\n",
      "hist.history.keys(), hist.history   # epochs 횟수만큼 정보 있음.\n",
      "history\n"
     ]
    }
   ],
   "source": [
    "history"
   ]
  },
  {
   "cell_type": "markdown",
   "metadata": {
    "colab_type": "text",
    "id": "CDP2zXOQSTz8"
   },
   "source": [
    "#Model.evaluate()"
   ]
  },
  {
   "cell_type": "code",
   "execution_count": 35,
   "metadata": {
    "colab": {
     "base_uri": "https://localhost:8080/",
     "height": 71
    },
    "colab_type": "code",
    "executionInfo": {
     "elapsed": 587,
     "status": "ok",
     "timestamp": 1592188439582,
     "user": {
      "displayName": "sanghun oh",
      "photoUrl": "https://lh3.googleusercontent.com/a-/AOh14Ghlx86owSfLI1ysBzewc-4sBRVA0uQ32rdNEjLr1Q=s64",
      "userId": "06412681606171338922"
     },
     "user_tz": -540
    },
    "id": "ktw-1crN0t8k",
    "outputId": "05585b8a-e525-4e93-839e-73bb6e8adaac"
   },
   "outputs": [
    {
     "data": {
      "text/plain": [
       "array([7.1510e-02, 0.0000e+00, 4.4900e+00, 0.0000e+00, 4.4900e-01,\n",
       "       6.1210e+00, 5.6800e+01, 3.7476e+00, 3.0000e+00, 2.4700e+02,\n",
       "       1.8500e+01, 3.9515e+02, 8.4400e+00])"
      ]
     },
     "execution_count": 35,
     "metadata": {},
     "output_type": "execute_result"
    }
   ],
   "source": [
    "x_test[4]"
   ]
  },
  {
   "cell_type": "code",
   "execution_count": 36,
   "metadata": {
    "colab": {
     "base_uri": "https://localhost:8080/",
     "height": 287
    },
    "colab_type": "code",
    "executionInfo": {
     "elapsed": 1323,
     "status": "ok",
     "timestamp": 1592188459863,
     "user": {
      "displayName": "sanghun oh",
      "photoUrl": "https://lh3.googleusercontent.com/a-/AOh14Ghlx86owSfLI1ysBzewc-4sBRVA0uQ32rdNEjLr1Q=s64",
      "userId": "06412681606171338922"
     },
     "user_tz": -540
    },
    "id": "QoWksC3vSYhi",
    "outputId": "6f0e0b38-53d9-4328-be75-35f6796341f7"
   },
   "outputs": [
    {
     "name": "stdout",
     "output_type": "stream",
     "text": [
      "Epoch 1/5\n",
      "17/17 - 0s - loss: 511.8331 - accuracy: 0.0000e+00 - mean_squared_error: 511.8331 - val_loss: 734.5809 - val_accuracy: 0.0000e+00 - val_mean_squared_error: 734.5809\n",
      "Epoch 2/5\n",
      "17/17 - 0s - loss: 510.3633 - accuracy: 0.0000e+00 - mean_squared_error: 510.3633 - val_loss: 734.4977 - val_accuracy: 0.0000e+00 - val_mean_squared_error: 734.4977\n",
      "Epoch 3/5\n",
      "17/17 - 0s - loss: 510.3183 - accuracy: 0.0000e+00 - mean_squared_error: 510.3183 - val_loss: 734.4675 - val_accuracy: 0.0000e+00 - val_mean_squared_error: 734.4675\n",
      "Epoch 4/5\n",
      "17/17 - 0s - loss: 510.2992 - accuracy: 0.0000e+00 - mean_squared_error: 510.2992 - val_loss: 734.4517 - val_accuracy: 0.0000e+00 - val_mean_squared_error: 734.4517\n",
      "Epoch 5/5\n",
      "17/17 - 0s - loss: 510.2884 - accuracy: 0.0000e+00 - mean_squared_error: 510.2884 - val_loss: 734.4421 - val_accuracy: 0.0000e+00 - val_mean_squared_error: 734.4421\n",
      "1/1 [==============================] - 0s 4ms/step - loss: 570.7361 - accuracy: 0.0000e+00 - mean_squared_error: 570.7361\n",
      "[570.736083984375, 0.0, 570.736083984375]\n",
      "WARNING:tensorflow:11 out of the last 11 calls to <function Model.make_predict_function.<locals>.predict_function at 0x12f3c7ca0> triggered tf.function retracing. Tracing is expensive and the excessive number of tracings could be due to (1) creating @tf.function repeatedly in a loop, (2) passing tensors with different shapes, (3) passing Python objects instead of tensors. For (1), please define your @tf.function outside of the loop. For (2), @tf.function has experimental_relax_shapes=True option that relaxes argument shapes that can avoid unnecessary retracing. For (3), please refer to https://www.tensorflow.org/tutorials/customization/performance#python_or_tensor_args and https://www.tensorflow.org/api_docs/python/tf/function for  more details.\n"
     ]
    },
    {
     "data": {
      "text/plain": [
       "array([[0.99864805],\n",
       "       [0.9990872 ],\n",
       "       [0.999246  ]], dtype=float32)"
      ]
     },
     "execution_count": 36,
     "metadata": {},
     "output_type": "execute_result"
    }
   ],
   "source": [
    "import tensorflow as tf\n",
    "from tensorflow.keras import layers\n",
    "import numpy as np\n",
    "from tensorflow.keras.datasets import boston_housing\n",
    "(X, y), (x_test, y_test) = boston_housing.load_data()\n",
    "from sklearn.preprocessing import StandardScaler\n",
    "scaler = StandardScaler()\n",
    "X = scaler.fit_transform(X)\n",
    "x_test = scaler.transform(x_test)\n",
    "from sklearn.model_selection import train_test_split\n",
    "x_train, x_val, y_train, y_val = train_test_split(X, y, test_size=0.2)\n",
    "metrics_nm = ['accuracy','mean_squared_error']\n",
    "model = tf.keras.Sequential()\n",
    "model.add(layers.Input(shape=x_train.shape[1]))\n",
    "model.add(layers.Dense(128, activation='sigmoid'))  # model.add(layers.Dense(128, activation='relu'))\n",
    "model.add(layers.Dense(1, activation='sigmoid'))      # activation='softmax'\n",
    "\n",
    "model.compile(optimizer='SGD', loss='mean_squared_error', metrics=metrics_nm)\n",
    "hist = model.fit(x_train, y_train, epochs=5, batch_size=16, verbose=2, validation_split=0.2)\n",
    "\n",
    "results = model.evaluate(x_test, y_test, batch_size=128)\n",
    "print(results)      # The attribute model.metrics_names\n",
    "predictions = model.predict(x_test[:3])\n",
    "predictions"
   ]
  },
  {
   "cell_type": "code",
   "execution_count": 37,
   "metadata": {
    "colab": {
     "base_uri": "https://localhost:8080/",
     "height": 35
    },
    "colab_type": "code",
    "executionInfo": {
     "elapsed": 568,
     "status": "ok",
     "timestamp": 1592188640030,
     "user": {
      "displayName": "sanghun oh",
      "photoUrl": "https://lh3.googleusercontent.com/a-/AOh14Ghlx86owSfLI1ysBzewc-4sBRVA0uQ32rdNEjLr1Q=s64",
      "userId": "06412681606171338922"
     },
     "user_tz": -540
    },
    "id": "6oFbZxlq1AdR",
    "outputId": "d549736e-8eab-484d-9404-e52715917f62"
   },
   "outputs": [
    {
     "data": {
      "text/plain": [
       "array([[0.9992322]], dtype=float32)"
      ]
     },
     "execution_count": 37,
     "metadata": {},
     "output_type": "execute_result"
    }
   ],
   "source": [
    "x_data = [7.1510e-02, 0.0000e+00, 4.4900e+00, 0.0000e+00, 4.4900e-01,\n",
    "       6.1210e+00, 5.6800e+01, 3.7476e+00, 3.0000e+00, 2.4700e+02,\n",
    "       1.8500e+01, 3.9515e+02, 8.4400e+00]\n",
    "\n",
    "x_data = scaler.transform([x_data])\n",
    "\n",
    "predictions = model.predict(x_data)\n",
    "predictions"
   ]
  },
  {
   "cell_type": "markdown",
   "metadata": {
    "colab_type": "text",
    "id": "pBu9jGk_vs6D"
   },
   "source": [
    "##None vs softmax vs sigmoid"
   ]
  },
  {
   "cell_type": "code",
   "execution_count": 38,
   "metadata": {
    "colab": {
     "base_uri": "https://localhost:8080/",
     "height": 35
    },
    "colab_type": "code",
    "executionInfo": {
     "elapsed": 3804,
     "status": "ok",
     "timestamp": 1592276747659,
     "user": {
      "displayName": "sanghun oh",
      "photoUrl": "https://lh3.googleusercontent.com/a-/AOh14Ghlx86owSfLI1ysBzewc-4sBRVA0uQ32rdNEjLr1Q=s64",
      "userId": "06412681606171338922"
     },
     "user_tz": -540
    },
    "id": "TqnJv1r_vv9C",
    "outputId": "b885e9d4-0a5c-408b-8c6a-47cf1ebf107e"
   },
   "outputs": [
    {
     "data": {
      "text/plain": [
       "<tensorflow.python.keras.callbacks.History at 0x14ea452e0>"
      ]
     },
     "execution_count": 38,
     "metadata": {},
     "output_type": "execute_result"
    }
   ],
   "source": [
    "import numpy as np\n",
    "from tensorflow import keras\n",
    "from tensorflow.keras import layers\n",
    "import pandas as pd\n",
    "from sklearn import datasets\n",
    "\n",
    "iris = datasets.load_iris()\n",
    "Y = pd.get_dummies(iris.target)\n",
    "# Y = iris.target\n",
    "\n",
    "from sklearn.model_selection import train_test_split\n",
    "x_train, x_test, y_train, y_test = train_test_split(iris.data,Y,test_size = 0.3)\n",
    "\n",
    "model = keras.Sequential()\n",
    "model.add(layers.Input(shape=4))\n",
    "model.add(layers.Dense(10, activation='relu'))\n",
    "# model.add(layers.Dense(1))\n",
    "model.add(layers.Dense(3, activation='softmax'))\n",
    "\n",
    "# compile method receives three arguments: \"an optimizer\", \"a loss function\" and \"a list of metrics\"\n",
    "# model.compile(optimizer='Adam',loss='mse')\n",
    "model.compile(optimizer='Adam',loss='categorical_crossentropy', metrics=['accuracy'])\n",
    "\n",
    "model.fit(x_train, y_train, epochs=10, verbose=0)"
   ]
  },
  {
   "cell_type": "code",
   "execution_count": 39,
   "metadata": {
    "colab": {
     "base_uri": "https://localhost:8080/",
     "height": 34
    },
    "colab_type": "code",
    "executionInfo": {
     "elapsed": 1203,
     "status": "ok",
     "timestamp": 1592223630753,
     "user": {
      "displayName": "sanghun oh",
      "photoUrl": "https://lh3.googleusercontent.com/a-/AOh14Ghlx86owSfLI1ysBzewc-4sBRVA0uQ32rdNEjLr1Q=s64",
      "userId": "06412681606171338922"
     },
     "user_tz": -540
    },
    "id": "AWKVHqcxy4yf",
    "outputId": "82b65802-f033-467c-d239-63a1e2cb17f3"
   },
   "outputs": [
    {
     "data": {
      "text/plain": [
       "((1, 4), (105, 4))"
      ]
     },
     "execution_count": 39,
     "metadata": {},
     "output_type": "execute_result"
    }
   ],
   "source": [
    "np.array([x_train[3]]).shape, x_train.shape"
   ]
  },
  {
   "cell_type": "code",
   "execution_count": 40,
   "metadata": {
    "colab": {
     "base_uri": "https://localhost:8080/",
     "height": 34
    },
    "colab_type": "code",
    "executionInfo": {
     "elapsed": 947,
     "status": "ok",
     "timestamp": 1592222830356,
     "user": {
      "displayName": "sanghun oh",
      "photoUrl": "https://lh3.googleusercontent.com/a-/AOh14Ghlx86owSfLI1ysBzewc-4sBRVA0uQ32rdNEjLr1Q=s64",
      "userId": "06412681606171338922"
     },
     "user_tz": -540
    },
    "id": "3EMyHtfc33Jj",
    "outputId": "1c741316-3332-4ea5-9aac-72ed91e952f7"
   },
   "outputs": [
    {
     "name": "stdout",
     "output_type": "stream",
     "text": [
      "WARNING:tensorflow:10 out of the last 11 calls to <function Model.make_predict_function.<locals>.predict_function at 0x14ec67310> triggered tf.function retracing. Tracing is expensive and the excessive number of tracings could be due to (1) creating @tf.function repeatedly in a loop, (2) passing tensors with different shapes, (3) passing Python objects instead of tensors. For (1), please define your @tf.function outside of the loop. For (2), @tf.function has experimental_relax_shapes=True option that relaxes argument shapes that can avoid unnecessary retracing. For (3), please refer to https://www.tensorflow.org/tutorials/customization/performance#python_or_tensor_args and https://www.tensorflow.org/api_docs/python/tf/function for  more details.\n"
     ]
    },
    {
     "data": {
      "text/plain": [
       "array([[0.02287205, 0.9329814 , 0.04414653]], dtype=float32)"
      ]
     },
     "execution_count": 40,
     "metadata": {},
     "output_type": "execute_result"
    }
   ],
   "source": [
    "# model.add(layers.Dense(1))\n",
    "x_data = np.array([x_train[3]])\n",
    "pred = model.predict(x_data)\n",
    "pred"
   ]
  },
  {
   "cell_type": "code",
   "execution_count": 41,
   "metadata": {
    "colab": {
     "base_uri": "https://localhost:8080/",
     "height": 35
    },
    "colab_type": "code",
    "executionInfo": {
     "elapsed": 573,
     "status": "ok",
     "timestamp": 1592265950308,
     "user": {
      "displayName": "sanghun oh",
      "photoUrl": "https://lh3.googleusercontent.com/a-/AOh14Ghlx86owSfLI1ysBzewc-4sBRVA0uQ32rdNEjLr1Q=s64",
      "userId": "06412681606171338922"
     },
     "user_tz": -540
    },
    "id": "kgdoCUF6wtfH",
    "outputId": "da516689-c519-441d-a376-fe00e433e663"
   },
   "outputs": [
    {
     "data": {
      "text/plain": [
       "(array([[0.02287205, 0.9329814 , 0.04414653]], dtype=float32), 0.99999994)"
      ]
     },
     "execution_count": 41,
     "metadata": {},
     "output_type": "execute_result"
    }
   ],
   "source": [
    "# model.add(layers.Dense(3, activation='sigmoid'))\n",
    "x_data = np.array([x_train[3]])\n",
    "pred = model.predict(x_data)\n",
    "pred, pred.sum()"
   ]
  },
  {
   "cell_type": "code",
   "execution_count": 42,
   "metadata": {
    "colab": {
     "base_uri": "https://localhost:8080/",
     "height": 35
    },
    "colab_type": "code",
    "executionInfo": {
     "elapsed": 653,
     "status": "ok",
     "timestamp": 1592265972286,
     "user": {
      "displayName": "sanghun oh",
      "photoUrl": "https://lh3.googleusercontent.com/a-/AOh14Ghlx86owSfLI1ysBzewc-4sBRVA0uQ32rdNEjLr1Q=s64",
      "userId": "06412681606171338922"
     },
     "user_tz": -540
    },
    "id": "zgmfgBClckHT",
    "outputId": "05edb761-7fb0-4bba-c1b3-f0db8b57a79b"
   },
   "outputs": [
    {
     "data": {
      "text/plain": [
       "1"
      ]
     },
     "execution_count": 42,
     "metadata": {},
     "output_type": "execute_result"
    }
   ],
   "source": [
    "np.argmax(pred)"
   ]
  },
  {
   "cell_type": "code",
   "execution_count": 43,
   "metadata": {
    "colab": {
     "base_uri": "https://localhost:8080/",
     "height": 35
    },
    "colab_type": "code",
    "executionInfo": {
     "elapsed": 675,
     "status": "ok",
     "timestamp": 1592266009502,
     "user": {
      "displayName": "sanghun oh",
      "photoUrl": "https://lh3.googleusercontent.com/a-/AOh14Ghlx86owSfLI1ysBzewc-4sBRVA0uQ32rdNEjLr1Q=s64",
      "userId": "06412681606171338922"
     },
     "user_tz": -540
    },
    "id": "LokdfM5M3XIR",
    "outputId": "806927da-9351-4543-9de3-5498846ed104"
   },
   "outputs": [
    {
     "data": {
      "text/plain": [
       "(array([[0.02287205, 0.9329814 , 0.04414653]], dtype=float32), 0.99999994)"
      ]
     },
     "execution_count": 43,
     "metadata": {},
     "output_type": "execute_result"
    }
   ],
   "source": [
    "# model.add(layers.Dense(3, activation='softmax'))\n",
    "x_data = np.array([x_train[3]])\n",
    "pred = model.predict(x_data)\n",
    "pred, pred.sum()"
   ]
  },
  {
   "cell_type": "code",
   "execution_count": 44,
   "metadata": {
    "colab": {
     "base_uri": "https://localhost:8080/",
     "height": 35
    },
    "colab_type": "code",
    "executionInfo": {
     "elapsed": 634,
     "status": "ok",
     "timestamp": 1592266057510,
     "user": {
      "displayName": "sanghun oh",
      "photoUrl": "https://lh3.googleusercontent.com/a-/AOh14Ghlx86owSfLI1ysBzewc-4sBRVA0uQ32rdNEjLr1Q=s64",
      "userId": "06412681606171338922"
     },
     "user_tz": -540
    },
    "id": "8-ttvr1NbPgX",
    "outputId": "e025fb03-48be-4150-f796-bd0cdfeb867d"
   },
   "outputs": [
    {
     "data": {
      "text/plain": [
       "array([[0, 1, 0]])"
      ]
     },
     "execution_count": 44,
     "metadata": {},
     "output_type": "execute_result"
    }
   ],
   "source": [
    "np.where(pred > 0.5, 1, 0)"
   ]
  },
  {
   "cell_type": "markdown",
   "metadata": {
    "colab_type": "text",
    "id": "Ue8x4_Velfng"
   },
   "source": [
    "## Overfit"
   ]
  },
  {
   "cell_type": "code",
   "execution_count": 45,
   "metadata": {
    "colab": {},
    "colab_type": "code",
    "id": "m7PVelNps2Nv"
   },
   "outputs": [],
   "source": [
    "##regularizer"
   ]
  },
  {
   "cell_type": "code",
   "execution_count": 46,
   "metadata": {
    "colab": {},
    "colab_type": "code",
    "id": "mSHLjNd6lfHC"
   },
   "outputs": [],
   "source": [
    "dense_kernel_regularizer = tf.keras.regularizers.l2(0.001)\n",
    "model = tf.keras.Sequential()\n",
    "model.add(layers.Input(shape=x_train.shape[1]))\n",
    "model.add(layers.Dense(128, activation='sigmoid', kernel_regularizer=dense_kernel_regularizer))\n",
    "model.add(layers.Dense(1))\n",
    "\n",
    "model.compile(optimizer='SGD',\n",
    "            loss='mean_squared_error',\n",
    "            metrics=['accuracy','mean_squared_error'])\n",
    "hist = model.fit(x_train, y_train, epochs=50, batch_size=256, validation_split=0.2,verbose=0)\n"
   ]
  },
  {
   "cell_type": "code",
   "execution_count": 47,
   "metadata": {
    "colab": {
     "base_uri": "https://localhost:8080/",
     "height": 35
    },
    "colab_type": "code",
    "executionInfo": {
     "elapsed": 681,
     "status": "ok",
     "timestamp": 1591682585131,
     "user": {
      "displayName": "sanghun oh",
      "photoUrl": "https://lh3.googleusercontent.com/a-/AOh14Ghlx86owSfLI1ysBzewc-4sBRVA0uQ32rdNEjLr1Q=s64",
      "userId": "06412681606171338922"
     },
     "user_tz": -540
    },
    "id": "rzPKxJsxolK5",
    "outputId": "e8680c74-e697-48c8-f81c-025b40b95549"
   },
   "outputs": [
    {
     "data": {
      "text/plain": [
       "dict_keys(['loss', 'accuracy', 'mean_squared_error', 'val_loss', 'val_accuracy', 'val_mean_squared_error'])"
      ]
     },
     "execution_count": 47,
     "metadata": {},
     "output_type": "execute_result"
    }
   ],
   "source": [
    "hist.history.keys()"
   ]
  },
  {
   "cell_type": "code",
   "execution_count": 48,
   "metadata": {
    "colab": {
     "base_uri": "https://localhost:8080/",
     "height": 283
    },
    "colab_type": "code",
    "executionInfo": {
     "elapsed": 630,
     "status": "ok",
     "timestamp": 1591682599032,
     "user": {
      "displayName": "sanghun oh",
      "photoUrl": "https://lh3.googleusercontent.com/a-/AOh14Ghlx86owSfLI1ysBzewc-4sBRVA0uQ32rdNEjLr1Q=s64",
      "userId": "06412681606171338922"
     },
     "user_tz": -540
    },
    "id": "ZrewGF8Anpbg",
    "outputId": "484bd8aa-0a25-44f9-93ec-aab082cdb733"
   },
   "outputs": [
    {
     "data": {
      "text/plain": [
       "[<matplotlib.lines.Line2D at 0x14ed86160>]"
      ]
     },
     "execution_count": 48,
     "metadata": {},
     "output_type": "execute_result"
    },
    {
     "data": {
      "image/png": "[encoded data removed]",
      "text/plain": [
       "<Figure size 432x288 with 1 Axes>"
      ]
     },
     "metadata": {
      "needs_background": "light"
     },
     "output_type": "display_data"
    }
   ],
   "source": [
    "import matplotlib.pyplot as plt\n",
    "plt.plot(hist.history['mean_squared_error'])\n",
    "plt.plot(hist.history['val_mean_squared_error'])"
   ]
  },
  {
   "cell_type": "markdown",
   "metadata": {
    "colab_type": "text",
    "id": "WC_3LDf90H0T"
   },
   "source": [
    "#model save"
   ]
  },
  {
   "cell_type": "markdown",
   "metadata": {
    "colab_type": "text",
    "id": "eFmikuvR0LAy"
   },
   "source": [
    "## ModelCheckpoint"
   ]
  },
  {
   "cell_type": "code",
   "execution_count": 49,
   "metadata": {
    "colab": {
     "base_uri": "https://localhost:8080/",
     "height": 991
    },
    "colab_type": "code",
    "executionInfo": {
     "elapsed": 23643,
     "status": "ok",
     "timestamp": 1592277299226,
     "user": {
      "displayName": "sanghun oh",
      "photoUrl": "https://lh3.googleusercontent.com/a-/AOh14Ghlx86owSfLI1ysBzewc-4sBRVA0uQ32rdNEjLr1Q=s64",
      "userId": "06412681606171338922"
     },
     "user_tz": -540
    },
    "id": "0shCa3M_0KSM",
    "outputId": "fc6a74ca-6b12-4546-9e4f-6739fc050e04"
   },
   "outputs": [
    {
     "name": "stdout",
     "output_type": "stream",
     "text": [
      "WARNING:tensorflow:From /usr/local/lib/python3.8/site-packages/tensorflow/python/training/tracking/tracking.py:111: Model.state_updates (from tensorflow.python.keras.engine.training) is deprecated and will be removed in a future version.\n",
      "Instructions for updating:\n",
      "This property should not be used in TensorFlow 2.0, as updates are applied automatically.\n",
      "WARNING:tensorflow:From /usr/local/lib/python3.8/site-packages/tensorflow/python/training/tracking/tracking.py:111: Layer.updates (from tensorflow.python.keras.engine.base_layer) is deprecated and will be removed in a future version.\n",
      "Instructions for updating:\n",
      "This property should not be used in TensorFlow 2.0, as updates are applied automatically.\n",
      "INFO:tensorflow:Assets written to: ./training/cp.ckpt/assets\n",
      "INFO:tensorflow:Assets written to: ./training/cp.ckpt/assets\n",
      "INFO:tensorflow:Assets written to: ./training/cp.ckpt/assets\n",
      "INFO:tensorflow:Assets written to: ./training/cp.ckpt/assets\n",
      "INFO:tensorflow:Assets written to: ./training/cp.ckpt/assets\n",
      "INFO:tensorflow:Assets written to: ./training/cp.ckpt/assets\n",
      "INFO:tensorflow:Assets written to: ./training/cp.ckpt/assets\n",
      "INFO:tensorflow:Assets written to: ./training/cp.ckpt/assets\n",
      "INFO:tensorflow:Assets written to: ./training/cp.ckpt/assets\n",
      "INFO:tensorflow:Assets written to: ./training/cp.ckpt/assets\n",
      "INFO:tensorflow:Assets written to: ./training/cp.ckpt/assets\n",
      "INFO:tensorflow:Assets written to: ./training/cp.ckpt/assets\n",
      "INFO:tensorflow:Assets written to: ./training/cp.ckpt/assets\n",
      "INFO:tensorflow:Assets written to: ./training/cp.ckpt/assets\n",
      "INFO:tensorflow:Assets written to: ./training/cp.ckpt/assets\n",
      "INFO:tensorflow:Assets written to: ./training/cp.ckpt/assets\n",
      "INFO:tensorflow:Assets written to: ./training/cp.ckpt/assets\n",
      "INFO:tensorflow:Assets written to: ./training/cp.ckpt/assets\n",
      "INFO:tensorflow:Assets written to: ./training/cp.ckpt/assets\n",
      "INFO:tensorflow:Assets written to: ./training/cp.ckpt/assets\n",
      "INFO:tensorflow:Assets written to: ./training/cp.ckpt/assets\n",
      "INFO:tensorflow:Assets written to: ./training/cp.ckpt/assets\n",
      "INFO:tensorflow:Assets written to: ./training/cp.ckpt/assets\n",
      "INFO:tensorflow:Assets written to: ./training/cp.ckpt/assets\n",
      "INFO:tensorflow:Assets written to: ./training/cp.ckpt/assets\n",
      "INFO:tensorflow:Assets written to: ./training/cp.ckpt/assets\n",
      "INFO:tensorflow:Assets written to: ./training/cp.ckpt/assets\n",
      "INFO:tensorflow:Assets written to: ./training/cp.ckpt/assets\n",
      "INFO:tensorflow:Assets written to: ./training/cp.ckpt/assets\n",
      "INFO:tensorflow:Assets written to: ./training/cp.ckpt/assets\n",
      "INFO:tensorflow:Assets written to: ./training/cp.ckpt/assets\n",
      "INFO:tensorflow:Assets written to: ./training/cp.ckpt/assets\n",
      "INFO:tensorflow:Assets written to: ./training/cp.ckpt/assets\n",
      "INFO:tensorflow:Assets written to: ./training/cp.ckpt/assets\n",
      "INFO:tensorflow:Assets written to: ./training/cp.ckpt/assets\n",
      "INFO:tensorflow:Assets written to: ./training/cp.ckpt/assets\n",
      "INFO:tensorflow:Assets written to: ./training/cp.ckpt/assets\n",
      "INFO:tensorflow:Assets written to: ./training/cp.ckpt/assets\n",
      "INFO:tensorflow:Assets written to: ./training/cp.ckpt/assets\n",
      "INFO:tensorflow:Assets written to: ./training/cp.ckpt/assets\n",
      "INFO:tensorflow:Assets written to: ./training/cp.ckpt/assets\n",
      "INFO:tensorflow:Assets written to: ./training/cp.ckpt/assets\n",
      "INFO:tensorflow:Assets written to: ./training/cp.ckpt/assets\n",
      "INFO:tensorflow:Assets written to: ./training/cp.ckpt/assets\n",
      "INFO:tensorflow:Assets written to: ./training/cp.ckpt/assets\n",
      "INFO:tensorflow:Assets written to: ./training/cp.ckpt/assets\n",
      "INFO:tensorflow:Assets written to: ./training/cp.ckpt/assets\n",
      "INFO:tensorflow:Assets written to: ./training/cp.ckpt/assets\n",
      "INFO:tensorflow:Assets written to: ./training/cp.ckpt/assets\n",
      "INFO:tensorflow:Assets written to: ./training/cp.ckpt/assets\n"
     ]
    }
   ],
   "source": [
    "import tensorflow as tf\n",
    "\n",
    "import numpy as np\n",
    "from tensorflow import keras\n",
    "from tensorflow.keras import layers\n",
    "import pandas as pd\n",
    "from sklearn import datasets\n",
    "\n",
    "iris = datasets.load_iris()\n",
    "Y = pd.get_dummies(iris.target)\n",
    "# Y = iris.target\n",
    "\n",
    "from sklearn.model_selection import train_test_split\n",
    "x_train, x_test, y_train, y_test = train_test_split(iris.data,Y,test_size = 0.3)\n",
    "import os\n",
    "# dense_kernel_regularizer = tf.keras.regularizers.l2(0.001)\n",
    "model = tf.keras.Sequential()\n",
    "model.add(layers.Input(shape=x_train.shape[1]))\n",
    "model.add(layers.Dense(128, activation='sigmoid'))\n",
    "model.add(layers.Dropout(0.5))\n",
    "model.add(layers.Dense(1))\n",
    "\n",
    "# callback = tf.keras.callbacks.EarlyStopping(monitor='loss', patience=3, restore_best_weights=True)\n",
    "checkpoint_path = \"./training/cp.ckpt\"\n",
    "checkpoint_dir = os.path.dirname(checkpoint_path)\n",
    "\n",
    "# 체크포인트 콜백 만들기\n",
    "checkpoint_callback = tf.keras.callbacks.ModelCheckpoint(checkpoint_path,\n",
    "                                                 save_weights_only=False,\n",
    "                                                 verbose=0)\n",
    "\n",
    "model.compile(optimizer='SGD',\n",
    "            loss='mean_squared_error',\n",
    "            metrics=['accuracy','mean_squared_error'])\n",
    "hist = model.fit(x_train, y_train, epochs=50, batch_size=256, validation_split=0.2,verbose=0, callbacks=[checkpoint_callback])"
   ]
  },
  {
   "cell_type": "code",
   "execution_count": 50,
   "metadata": {
    "colab": {},
    "colab_type": "code",
    "id": "LrohOHSl3y-8"
   },
   "outputs": [
    {
     "ename": "OSError",
     "evalue": "Unable to open file (file read failed: time = Tue May  4 13:45:22 2021\n, filename = './training/cp.ckpt', file descriptor = 64, errno = 21, error message = 'Is a directory', buf = 0x7ffee6b473d8, total read size = 8, bytes this sub-read = 8, bytes actually read = 18446744073709551615, offset = 0)",
     "output_type": "error",
     "traceback": [
      "\u001b[0;31m---------------------------------------------------------------------------\u001b[0m",
      "\u001b[0;31mOSError\u001b[0m                                   Traceback (most recent call last)",
      "\u001b[0;32m<ipython-input-50-e027e93dc5c8>\u001b[0m in \u001b[0;36m<module>\u001b[0;34m\u001b[0m\n\u001b[0;32m----> 1\u001b[0;31m \u001b[0mload_checkpoint\u001b[0m \u001b[0;34m=\u001b[0m \u001b[0mmodel\u001b[0m\u001b[0;34m.\u001b[0m\u001b[0mload_weights\u001b[0m\u001b[0;34m(\u001b[0m\u001b[0mcheckpoint_path\u001b[0m\u001b[0;34m)\u001b[0m\u001b[0;34m\u001b[0m\u001b[0;34m\u001b[0m\u001b[0m\n\u001b[0m",
      "\u001b[0;32m/usr/local/lib/python3.8/site-packages/tensorflow/python/keras/engine/training.py\u001b[0m in \u001b[0;36mload_weights\u001b[0;34m(self, filepath, by_name, skip_mismatch, options)\u001b[0m\n\u001b[1;32m   2202\u001b[0m           'first, then load the weights.')\n\u001b[1;32m   2203\u001b[0m     \u001b[0mself\u001b[0m\u001b[0;34m.\u001b[0m\u001b[0m_assert_weights_created\u001b[0m\u001b[0;34m(\u001b[0m\u001b[0;34m)\u001b[0m\u001b[0;34m\u001b[0m\u001b[0;34m\u001b[0m\u001b[0m\n\u001b[0;32m-> 2204\u001b[0;31m     \u001b[0;32mwith\u001b[0m \u001b[0mh5py\u001b[0m\u001b[0;34m.\u001b[0m\u001b[0mFile\u001b[0m\u001b[0;34m(\u001b[0m\u001b[0mfilepath\u001b[0m\u001b[0;34m,\u001b[0m \u001b[0;34m'r'\u001b[0m\u001b[0;34m)\u001b[0m \u001b[0;32mas\u001b[0m \u001b[0mf\u001b[0m\u001b[0;34m:\u001b[0m\u001b[0;34m\u001b[0m\u001b[0;34m\u001b[0m\u001b[0m\n\u001b[0m\u001b[1;32m   2205\u001b[0m       \u001b[0;32mif\u001b[0m \u001b[0;34m'layer_names'\u001b[0m \u001b[0;32mnot\u001b[0m \u001b[0;32min\u001b[0m \u001b[0mf\u001b[0m\u001b[0;34m.\u001b[0m\u001b[0mattrs\u001b[0m \u001b[0;32mand\u001b[0m \u001b[0;34m'model_weights'\u001b[0m \u001b[0;32min\u001b[0m \u001b[0mf\u001b[0m\u001b[0;34m:\u001b[0m\u001b[0;34m\u001b[0m\u001b[0;34m\u001b[0m\u001b[0m\n\u001b[1;32m   2206\u001b[0m         \u001b[0mf\u001b[0m \u001b[0;34m=\u001b[0m \u001b[0mf\u001b[0m\u001b[0;34m[\u001b[0m\u001b[0;34m'model_weights'\u001b[0m\u001b[0;34m]\u001b[0m\u001b[0;34m\u001b[0m\u001b[0;34m\u001b[0m\u001b[0m\n",
      "\u001b[0;32m/usr/local/lib/python3.8/site-packages/h5py/_hl/files.py\u001b[0m in \u001b[0;36m__init__\u001b[0;34m(self, name, mode, driver, libver, userblock_size, swmr, rdcc_nslots, rdcc_nbytes, rdcc_w0, track_order, **kwds)\u001b[0m\n\u001b[1;32m    404\u001b[0m             \u001b[0;32mwith\u001b[0m \u001b[0mphil\u001b[0m\u001b[0;34m:\u001b[0m\u001b[0;34m\u001b[0m\u001b[0;34m\u001b[0m\u001b[0m\n\u001b[1;32m    405\u001b[0m                 \u001b[0mfapl\u001b[0m \u001b[0;34m=\u001b[0m \u001b[0mmake_fapl\u001b[0m\u001b[0;34m(\u001b[0m\u001b[0mdriver\u001b[0m\u001b[0;34m,\u001b[0m \u001b[0mlibver\u001b[0m\u001b[0;34m,\u001b[0m \u001b[0mrdcc_nslots\u001b[0m\u001b[0;34m,\u001b[0m \u001b[0mrdcc_nbytes\u001b[0m\u001b[0;34m,\u001b[0m \u001b[0mrdcc_w0\u001b[0m\u001b[0;34m,\u001b[0m \u001b[0;34m**\u001b[0m\u001b[0mkwds\u001b[0m\u001b[0;34m)\u001b[0m\u001b[0;34m\u001b[0m\u001b[0;34m\u001b[0m\u001b[0m\n\u001b[0;32m--> 406\u001b[0;31m                 fid = make_fid(name, mode, userblock_size,\n\u001b[0m\u001b[1;32m    407\u001b[0m                                \u001b[0mfapl\u001b[0m\u001b[0;34m,\u001b[0m \u001b[0mfcpl\u001b[0m\u001b[0;34m=\u001b[0m\u001b[0mmake_fcpl\u001b[0m\u001b[0;34m(\u001b[0m\u001b[0mtrack_order\u001b[0m\u001b[0;34m=\u001b[0m\u001b[0mtrack_order\u001b[0m\u001b[0;34m)\u001b[0m\u001b[0;34m,\u001b[0m\u001b[0;34m\u001b[0m\u001b[0;34m\u001b[0m\u001b[0m\n\u001b[1;32m    408\u001b[0m                                swmr=swmr)\n",
      "\u001b[0;32m/usr/local/lib/python3.8/site-packages/h5py/_hl/files.py\u001b[0m in \u001b[0;36mmake_fid\u001b[0;34m(name, mode, userblock_size, fapl, fcpl, swmr)\u001b[0m\n\u001b[1;32m    171\u001b[0m         \u001b[0;32mif\u001b[0m \u001b[0mswmr\u001b[0m \u001b[0;32mand\u001b[0m \u001b[0mswmr_support\u001b[0m\u001b[0;34m:\u001b[0m\u001b[0;34m\u001b[0m\u001b[0;34m\u001b[0m\u001b[0m\n\u001b[1;32m    172\u001b[0m             \u001b[0mflags\u001b[0m \u001b[0;34m|=\u001b[0m \u001b[0mh5f\u001b[0m\u001b[0;34m.\u001b[0m\u001b[0mACC_SWMR_READ\u001b[0m\u001b[0;34m\u001b[0m\u001b[0;34m\u001b[0m\u001b[0m\n\u001b[0;32m--> 173\u001b[0;31m         \u001b[0mfid\u001b[0m \u001b[0;34m=\u001b[0m \u001b[0mh5f\u001b[0m\u001b[0;34m.\u001b[0m\u001b[0mopen\u001b[0m\u001b[0;34m(\u001b[0m\u001b[0mname\u001b[0m\u001b[0;34m,\u001b[0m \u001b[0mflags\u001b[0m\u001b[0;34m,\u001b[0m \u001b[0mfapl\u001b[0m\u001b[0;34m=\u001b[0m\u001b[0mfapl\u001b[0m\u001b[0;34m)\u001b[0m\u001b[0;34m\u001b[0m\u001b[0;34m\u001b[0m\u001b[0m\n\u001b[0m\u001b[1;32m    174\u001b[0m     \u001b[0;32melif\u001b[0m \u001b[0mmode\u001b[0m \u001b[0;34m==\u001b[0m \u001b[0;34m'r+'\u001b[0m\u001b[0;34m:\u001b[0m\u001b[0;34m\u001b[0m\u001b[0;34m\u001b[0m\u001b[0m\n\u001b[1;32m    175\u001b[0m         \u001b[0mfid\u001b[0m \u001b[0;34m=\u001b[0m \u001b[0mh5f\u001b[0m\u001b[0;34m.\u001b[0m\u001b[0mopen\u001b[0m\u001b[0;34m(\u001b[0m\u001b[0mname\u001b[0m\u001b[0;34m,\u001b[0m \u001b[0mh5f\u001b[0m\u001b[0;34m.\u001b[0m\u001b[0mACC_RDWR\u001b[0m\u001b[0;34m,\u001b[0m \u001b[0mfapl\u001b[0m\u001b[0;34m=\u001b[0m\u001b[0mfapl\u001b[0m\u001b[0;34m)\u001b[0m\u001b[0;34m\u001b[0m\u001b[0;34m\u001b[0m\u001b[0m\n",
      "\u001b[0;32mh5py/_objects.pyx\u001b[0m in \u001b[0;36mh5py._objects.with_phil.wrapper\u001b[0;34m()\u001b[0m\n",
      "\u001b[0;32mh5py/_objects.pyx\u001b[0m in \u001b[0;36mh5py._objects.with_phil.wrapper\u001b[0;34m()\u001b[0m\n",
      "\u001b[0;32mh5py/h5f.pyx\u001b[0m in \u001b[0;36mh5py.h5f.open\u001b[0;34m()\u001b[0m\n",
      "\u001b[0;31mOSError\u001b[0m: Unable to open file (file read failed: time = Tue May  4 13:45:22 2021\n, filename = './training/cp.ckpt', file descriptor = 64, errno = 21, error message = 'Is a directory', buf = 0x7ffee6b473d8, total read size = 8, bytes this sub-read = 8, bytes actually read = 18446744073709551615, offset = 0)"
     ]
    }
   ],
   "source": [
    "load_checkpoint = model.load_weights(checkpoint_path)"
   ]
  },
  {
   "cell_type": "code",
   "execution_count": null,
   "metadata": {
    "colab": {},
    "colab_type": "code",
    "id": "hjAT5M7TGS84"
   },
   "outputs": [],
   "source": [
    "load_checkpoint."
   ]
  },
  {
   "cell_type": "code",
   "execution_count": null,
   "metadata": {
    "colab": {
     "base_uri": "https://localhost:8080/",
     "height": 35
    },
    "colab_type": "code",
    "executionInfo": {
     "elapsed": 581,
     "status": "ok",
     "timestamp": 1591686124864,
     "user": {
      "displayName": "sanghun oh",
      "photoUrl": "https://lh3.googleusercontent.com/a-/AOh14Ghlx86owSfLI1ysBzewc-4sBRVA0uQ32rdNEjLr1Q=s64",
      "userId": "06412681606171338922"
     },
     "user_tz": -540
    },
    "id": "Lz-6kgIU3-D1",
    "outputId": "4c9589ff-0a39-4cb4-c8e1-47da783e6a05"
   },
   "outputs": [],
   "source": [
    "load_checkpoint.expect_partial()"
   ]
  },
  {
   "cell_type": "markdown",
   "metadata": {
    "colab_type": "text",
    "id": "VIETkK4G6DVU"
   },
   "source": [
    "##model save"
   ]
  },
  {
   "cell_type": "code",
   "execution_count": null,
   "metadata": {
    "colab": {},
    "colab_type": "code",
    "id": "5fTM6y7V6E6S"
   },
   "outputs": [],
   "source": [
    "model.save('./save_model.h5')"
   ]
  },
  {
   "cell_type": "code",
   "execution_count": null,
   "metadata": {
    "colab": {
     "base_uri": "https://localhost:8080/",
     "height": 323
    },
    "colab_type": "code",
    "executionInfo": {
     "elapsed": 867,
     "status": "ok",
     "timestamp": 1592276995704,
     "user": {
      "displayName": "sanghun oh",
      "photoUrl": "https://lh3.googleusercontent.com/a-/AOh14Ghlx86owSfLI1ysBzewc-4sBRVA0uQ32rdNEjLr1Q=s64",
      "userId": "06412681606171338922"
     },
     "user_tz": -540
    },
    "id": "gfPai6_z6PUD",
    "outputId": "71c558f7-68f9-4e5f-f1e9-25ff3d1f3920"
   },
   "outputs": [],
   "source": [
    "new_model = tf.keras.models.load_model('./save_model.h5')\n",
    "new_model.summary()\n",
    "new_model.evaluate(x_test, y_test, verbose=2)"
   ]
  },
  {
   "cell_type": "code",
   "execution_count": null,
   "metadata": {
    "colab": {
     "base_uri": "https://localhost:8080/",
     "height": 35
    },
    "colab_type": "code",
    "executionInfo": {
     "elapsed": 883,
     "status": "ok",
     "timestamp": 1592277021320,
     "user": {
      "displayName": "sanghun oh",
      "photoUrl": "https://lh3.googleusercontent.com/a-/AOh14Ghlx86owSfLI1ysBzewc-4sBRVA0uQ32rdNEjLr1Q=s64",
      "userId": "06412681606171338922"
     },
     "user_tz": -540
    },
    "id": "Qy8dcBlQGsrG",
    "outputId": "03b12ab7-a65d-4b87-8e82-57b8ce914ab8"
   },
   "outputs": [],
   "source": [
    "print(type(new_model))"
   ]
  },
  {
   "cell_type": "code",
   "execution_count": null,
   "metadata": {
    "colab": {},
    "colab_type": "code",
    "id": "n5SFcgMtGy7U"
   },
   "outputs": [],
   "source": []
  }
 ],
 "metadata": {
  "accelerator": "GPU",
  "colab": {
   "authorship_tag": "ABX9TyM9FoSW674n4+VA6ioU5NCU",
   "collapsed_sections": [],
   "name": "00.perceptron_basic_keras.ipynb",
   "provenance": [],
   "toc_visible": true
  },
  "kernelspec": {
   "display_name": "Python 3",
   "language": "python",
   "name": "python3"
  },
  "language_info": {
   "codemirror_mode": {
    "name": "ipython",
    "version": 3
   },
   "file_extension": ".py",
   "mimetype": "text/x-python",
   "name": "python",
   "nbconvert_exporter": "python",
   "pygments_lexer": "ipython3",
   "version": "3.8.6"
  }
 },
 "nbformat": 4,
 "nbformat_minor": 1
}
