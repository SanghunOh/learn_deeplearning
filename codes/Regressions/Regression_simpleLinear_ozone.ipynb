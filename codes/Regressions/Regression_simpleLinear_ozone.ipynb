{
  "nbformat": 4,
  "nbformat_minor": 0,
  "metadata": {
    "colab": {
      "provenance": [],
      "authorship_tag": "ABX9TyMiBtFUEzWDRMrmMH8JgcMa",
      "include_colab_link": true
    },
    "kernelspec": {
      "name": "python3",
      "display_name": "Python 3"
    },
    "language_info": {
      "name": "python"
    }
  },
  "cells": [
    {
      "cell_type": "markdown",
      "metadata": {
        "id": "view-in-github",
        "colab_type": "text"
      },
      "source": [
        "<a href=\"https://colab.research.google.com/github/yojulab/learn_deeplearning/blob/master/codes/Regressions/Regression_simpleLinear_ozone.ipynb\" target=\"_parent\"><img src=\"https://colab.research.google.com/assets/colab-badge.svg\" alt=\"Open In Colab\"/></a>"
      ]
    },
    {
      "cell_type": "markdown",
      "source": [
        "#### 오존 측정치(ozone.csv) : feature - 태양세기, 바람세기, 온도(\"Solar.R\",\"Wind\",\"Temp\") / label - 오존치(\"Ozone\")"
      ],
      "metadata": {
        "id": "mQT56tDu4AcZ"
      }
    },
    {
      "cell_type": "markdown",
      "source": [
        "###1개 독립변수와 종속변수 사용"
      ],
      "metadata": {
        "id": "38Ql7F3QZeiS"
      }
    },
    {
      "cell_type": "code",
      "execution_count": null,
      "metadata": {
        "id": "sGYL2kZp3nLR",
        "colab": {
          "base_uri": "https://localhost:8080/",
          "height": 35
        },
        "outputId": "c15e1ff0-22cf-4fb0-d30f-5cda528e9e77"
      },
      "outputs": [
        {
          "output_type": "execute_result",
          "data": {
            "text/plain": [
              "'2.9.2'"
            ],
            "application/vnd.google.colaboratory.intrinsic+json": {
              "type": "string"
            }
          },
          "metadata": {},
          "execution_count": 1
        }
      ],
      "source": [
        "import tensorflow as tf\n",
        "tf.__version__"
      ]
    },
    {
      "cell_type": "markdown",
      "source": [
        "###Raw Data Loading"
      ],
      "metadata": {
        "id": "PU1K2vUReNQG"
      }
    },
    {
      "cell_type": "code",
      "source": [
        "import pandas as pd"
      ],
      "metadata": {
        "id": "bviYTsa-dRog"
      },
      "execution_count": null,
      "outputs": []
    },
    {
      "cell_type": "code",
      "source": [
        "df = pd.read_csv('./ozone.csv')\n",
        "# df\n",
        "# df.describe()\n",
        "# df.info()\n",
        "df.keys()"
      ],
      "metadata": {
        "colab": {
          "base_uri": "https://localhost:8080/"
        },
        "id": "eFylmM5eduUJ",
        "outputId": "1ca8c2b8-373f-4cbe-ccd2-48c68728dbd4"
      },
      "execution_count": null,
      "outputs": [
        {
          "output_type": "execute_result",
          "data": {
            "text/plain": [
              "Index(['Ozone', 'Solar.R', 'Wind', 'Temp', 'Month', 'Day'], dtype='object')"
            ]
          },
          "metadata": {},
          "execution_count": 3
        }
      ]
    },
    {
      "cell_type": "code",
      "source": [
        "train_df = df[['Temp','Ozone']]\n",
        "train_df.info()"
      ],
      "metadata": {
        "colab": {
          "base_uri": "https://localhost:8080/"
        },
        "id": "uFJ_3wt6d2lQ",
        "outputId": "1e32ce21-3695-48bb-b6d8-1aa919f32b0e"
      },
      "execution_count": null,
      "outputs": [
        {
          "output_type": "stream",
          "name": "stdout",
          "text": [
            "<class 'pandas.core.frame.DataFrame'>\n",
            "RangeIndex: 153 entries, 0 to 152\n",
            "Data columns (total 2 columns):\n",
            " #   Column  Non-Null Count  Dtype  \n",
            "---  ------  --------------  -----  \n",
            " 0   Temp    153 non-null    int64  \n",
            " 1   Ozone   116 non-null    float64\n",
            "dtypes: float64(1), int64(1)\n",
            "memory usage: 2.5 KB\n"
          ]
        }
      ]
    },
    {
      "cell_type": "markdown",
      "source": [
        "###Data PreProcessing"
      ],
      "metadata": {
        "id": "NFS39H-4fO7U"
      }
    },
    {
      "cell_type": "markdown",
      "source": [
        "####Missing Value(결측치)"
      ],
      "metadata": {
        "id": "6cbpicmcfweE"
      }
    },
    {
      "cell_type": "code",
      "source": [
        "#Remove Row\n",
        "train_preprocessing = train_df.dropna(how='any')\n",
        "train_preprocessing.info()"
      ],
      "metadata": {
        "colab": {
          "base_uri": "https://localhost:8080/"
        },
        "id": "QxGHP5wNe8k1",
        "outputId": "b3ec24bd-c19e-4e65-94a2-c2a7b48ec89c"
      },
      "execution_count": null,
      "outputs": [
        {
          "output_type": "stream",
          "name": "stdout",
          "text": [
            "<class 'pandas.core.frame.DataFrame'>\n",
            "Int64Index: 116 entries, 0 to 152\n",
            "Data columns (total 2 columns):\n",
            " #   Column  Non-Null Count  Dtype  \n",
            "---  ------  --------------  -----  \n",
            " 0   Temp    116 non-null    int64  \n",
            " 1   Ozone   116 non-null    float64\n",
            "dtypes: float64(1), int64(1)\n",
            "memory usage: 2.7 KB\n"
          ]
        }
      ]
    },
    {
      "cell_type": "markdown",
      "source": [
        "####이상치 처리 : 생략"
      ],
      "metadata": {
        "id": "dYxQ2CjhiNES"
      }
    },
    {
      "cell_type": "markdown",
      "source": [
        "####정규화(Normalization)"
      ],
      "metadata": {
        "id": "tyZF9skSjGUB"
      }
    },
    {
      "cell_type": "markdown",
      "source": [
        "#####각 columns 분리"
      ],
      "metadata": {
        "id": "Zuvzt7LopRJc"
      }
    },
    {
      "cell_type": "code",
      "source": [
        "feature_normalization = train_preprocessing['Temp'].values.reshape(-1,1) # 2차원 Numpy 변환\n",
        "feature_normalization.shape"
      ],
      "metadata": {
        "colab": {
          "base_uri": "https://localhost:8080/"
        },
        "id": "b01brRVviLRz",
        "outputId": "94799c24-473c-4887-af21-ae60f51c8db6"
      },
      "execution_count": null,
      "outputs": [
        {
          "output_type": "execute_result",
          "data": {
            "text/plain": [
              "(116, 1)"
            ]
          },
          "metadata": {},
          "execution_count": 6
        }
      ]
    },
    {
      "cell_type": "code",
      "source": [
        "target_normalization = train_preprocessing['Ozone'].values.reshape(-1,1) # 2차원 Numpy 변환\n",
        "target_normalization.shape"
      ],
      "metadata": {
        "colab": {
          "base_uri": "https://localhost:8080/"
        },
        "id": "twCLgRbxooj3",
        "outputId": "ce08c6ba-1365-4e15-af03-c12cb2df8ed1"
      },
      "execution_count": null,
      "outputs": [
        {
          "output_type": "execute_result",
          "data": {
            "text/plain": [
              "(116, 1)"
            ]
          },
          "metadata": {},
          "execution_count": 7
        }
      ]
    },
    {
      "cell_type": "markdown",
      "source": [
        "#####Min-Max Scaling"
      ],
      "metadata": {
        "id": "0ab6Hzy1pWts"
      }
    },
    {
      "cell_type": "code",
      "source": [
        "from sklearn.preprocessing import MinMaxScaler"
      ],
      "metadata": {
        "id": "3_lU42u0pQme"
      },
      "execution_count": null,
      "outputs": []
    },
    {
      "cell_type": "code",
      "source": [
        "feature_minmaxscaler = MinMaxScaler()\n",
        "feature_minmaxscaler.fit(feature_normalization)\n",
        "feature_minmaxscaler.scale_, feature_minmaxscaler.min_"
      ],
      "metadata": {
        "colab": {
          "base_uri": "https://localhost:8080/"
        },
        "id": "NCb7Ohdbpmo1",
        "outputId": "822dd8bf-6334-419a-d527-9969c4428d13"
      },
      "execution_count": null,
      "outputs": [
        {
          "output_type": "execute_result",
          "data": {
            "text/plain": [
              "(array([0.025]), array([-1.425]))"
            ]
          },
          "metadata": {},
          "execution_count": 9
        }
      ]
    },
    {
      "cell_type": "code",
      "source": [
        "feature_set = feature_minmaxscaler.transform(feature_normalization)\n",
        "# feature_set"
      ],
      "metadata": {
        "id": "r7oNsgZ7qnvz"
      },
      "execution_count": null,
      "outputs": []
    },
    {
      "cell_type": "code",
      "source": [
        "target_minmaxscaler = MinMaxScaler()\n",
        "target_minmaxscaler.fit(target_normalization)\n",
        "target_minmaxscaler.min_"
      ],
      "metadata": {
        "colab": {
          "base_uri": "https://localhost:8080/"
        },
        "id": "T1ClvTzTqJw9",
        "outputId": "249763a5-9b0b-4b52-b8ec-67c8a07cfe26"
      },
      "execution_count": null,
      "outputs": [
        {
          "output_type": "execute_result",
          "data": {
            "text/plain": [
              "array([-0.00598802])"
            ]
          },
          "metadata": {},
          "execution_count": 11
        }
      ]
    },
    {
      "cell_type": "code",
      "source": [
        "target_set = target_minmaxscaler.transform(target_normalization)\n",
        "# target_set"
      ],
      "metadata": {
        "id": "G9xTFhhTqKPF"
      },
      "execution_count": null,
      "outputs": []
    },
    {
      "cell_type": "markdown",
      "source": [
        "###Model 구현"
      ],
      "metadata": {
        "id": "kUIxz9yNrPIy"
      }
    },
    {
      "cell_type": "code",
      "source": [
        "import tensorflow as tf"
      ],
      "metadata": {
        "id": "a3V1MRmZq2e9"
      },
      "execution_count": null,
      "outputs": []
    },
    {
      "cell_type": "markdown",
      "source": [
        "#### input layer"
      ],
      "metadata": {
        "id": "ZCfHswzPwIII"
      }
    },
    {
      "cell_type": "code",
      "source": [
        "input = tf.keras.layers.Input(shape=(1,))"
      ],
      "metadata": {
        "id": "vUaAXsrft3ch"
      },
      "execution_count": null,
      "outputs": []
    },
    {
      "cell_type": "markdown",
      "source": [
        "####hidden layers"
      ],
      "metadata": {
        "id": "LLMuQyWDwP72"
      }
    },
    {
      "cell_type": "code",
      "source": [
        "hiddens = tf.keras.layers.Flatten()(input)"
      ],
      "metadata": {
        "id": "OtnqvczxvfK3"
      },
      "execution_count": null,
      "outputs": []
    },
    {
      "cell_type": "markdown",
      "source": [
        "#### output layer"
      ],
      "metadata": {
        "id": "Zvir8tMbwZ_W"
      }
    },
    {
      "cell_type": "code",
      "source": [
        "output = tf.keras.layers.Dense(units=1, activation='linear')(hiddens)"
      ],
      "metadata": {
        "id": "1nqQD-UjvHlI"
      },
      "execution_count": null,
      "outputs": []
    },
    {
      "cell_type": "markdown",
      "source": [
        "#### Model "
      ],
      "metadata": {
        "id": "TG1CIuoVz97b"
      }
    },
    {
      "cell_type": "code",
      "source": [
        "model = tf.keras.Model(inputs=input, outputs=output)"
      ],
      "metadata": {
        "id": "MhgMK6Xrs-DZ"
      },
      "execution_count": null,
      "outputs": []
    },
    {
      "cell_type": "markdown",
      "source": [
        "###Model 설정"
      ],
      "metadata": {
        "id": "3Yesi8MRxBKd"
      }
    },
    {
      "cell_type": "markdown",
      "source": [
        "####Optimizer 선택"
      ],
      "metadata": {
        "id": "63oUcwsQxNg9"
      }
    },
    {
      "cell_type": "code",
      "source": [
        "optimizer = tf.keras.optimizers.SGD(learning_rate=1e-2)"
      ],
      "metadata": {
        "id": "8Z3admOuxUF-"
      },
      "execution_count": null,
      "outputs": []
    },
    {
      "cell_type": "markdown",
      "source": [
        "####Loss function 선택"
      ],
      "metadata": {
        "id": "6iFNUZvbxnHN"
      }
    },
    {
      "cell_type": "code",
      "source": [
        "loss = tf.keras.losses.MeanSquaredError()\n",
        "#loss = tf.keras.losses.MeanAbsoluteError()"
      ],
      "metadata": {
        "id": "yaAKLrHzxrXh"
      },
      "execution_count": null,
      "outputs": []
    },
    {
      "cell_type": "code",
      "source": [
        "model.compile(optimizer=optimizer, loss=loss)"
      ],
      "metadata": {
        "id": "eEIqNqSNw_WH"
      },
      "execution_count": null,
      "outputs": []
    },
    {
      "cell_type": "markdown",
      "source": [
        "###Model 학습"
      ],
      "metadata": {
        "id": "1CofLFOE0SWb"
      }
    },
    {
      "cell_type": "code",
      "source": [
        "# rename\n",
        "feature = feature_set.copy()\n",
        "target = target_set.copy()"
      ],
      "metadata": {
        "id": "XQdzRffbMOuQ"
      },
      "execution_count": null,
      "outputs": []
    },
    {
      "cell_type": "code",
      "source": [
        "epoch = 500\n",
        "history = model.fit(x=feature, y=target, epochs=epoch, shuffle=True, verbose=0)"
      ],
      "metadata": {
        "id": "akhy23lTx7cf"
      },
      "execution_count": null,
      "outputs": []
    },
    {
      "cell_type": "markdown",
      "source": [
        "###Model예측"
      ],
      "metadata": {
        "id": "Ww2qENDm1QWq"
      }
    },
    {
      "cell_type": "markdown",
      "source": [
        "####예측할 데이터 생성"
      ],
      "metadata": {
        "id": "pQOia1lT1mpT"
      }
    },
    {
      "cell_type": "code",
      "source": [
        "#온도 화씨 70도 일 경우\n",
        "import numpy as np\n",
        "\n",
        "unkown_data = np.array([[70]])"
      ],
      "metadata": {
        "id": "5tsszuPo1lZy"
      },
      "execution_count": null,
      "outputs": []
    },
    {
      "cell_type": "markdown",
      "source": [
        "####PreProcessing 적용"
      ],
      "metadata": {
        "id": "Gr-ZN8tv2uaJ"
      }
    },
    {
      "cell_type": "code",
      "source": [
        "unkown_data_minmaxscaler = feature_minmaxscaler.transform(unkown_data)"
      ],
      "metadata": {
        "id": "jDCoVFRP2wPJ"
      },
      "execution_count": null,
      "outputs": []
    },
    {
      "cell_type": "code",
      "source": [
        "predict_result = model.predict(unkown_data_minmaxscaler)\n",
        "predict_result"
      ],
      "metadata": {
        "colab": {
          "base_uri": "https://localhost:8080/"
        },
        "id": "hMRmYV0j03aN",
        "outputId": "2c543ebb-3f08-461f-cf0d-82f9f7571e18"
      },
      "execution_count": null,
      "outputs": [
        {
          "output_type": "stream",
          "name": "stdout",
          "text": [
            "1/1 [==============================] - 0s 22ms/step\n"
          ]
        },
        {
          "output_type": "execute_result",
          "data": {
            "text/plain": [
              "array([[0.13868183]], dtype=float32)"
            ]
          },
          "metadata": {},
          "execution_count": 31
        }
      ]
    },
    {
      "cell_type": "markdown",
      "source": [
        "####PreProcessing 역적용"
      ],
      "metadata": {
        "id": "rqlYlyEN3KYA"
      }
    },
    {
      "cell_type": "code",
      "source": [
        "target_minmaxscaler.inverse_transform(predict_result)"
      ],
      "metadata": {
        "colab": {
          "base_uri": "https://localhost:8080/"
        },
        "id": "1OBFUpGZ3J3g",
        "outputId": "aca8e80c-df75-437b-bc13-95731988c23c"
      },
      "execution_count": null,
      "outputs": [
        {
          "output_type": "execute_result",
          "data": {
            "text/plain": [
              "array([[24.159864]], dtype=float32)"
            ]
          },
          "metadata": {},
          "execution_count": 32
        }
      ]
    },
    {
      "cell_type": "code",
      "source": [],
      "metadata": {
        "id": "R_f-Nlph2RJZ"
      },
      "execution_count": null,
      "outputs": []
    }
  ]
}