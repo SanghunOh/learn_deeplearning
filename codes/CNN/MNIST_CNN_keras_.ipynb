{
 "cells": [
  {
   "cell_type": "markdown",
   "metadata": {
    "id": "nMEeQqCsQ7MP"
   },
   "source": [
    "#https://wikidocs.net/64512"
   ]
  },
  {
   "cell_type": "code",
   "execution_count": 1,
   "metadata": {
    "colab": {
     "base_uri": "https://localhost:8080/"
    },
    "executionInfo": {
     "elapsed": 2698,
     "status": "ok",
     "timestamp": 1611470735431,
     "user": {
      "displayName": "sanghun oh",
      "photoUrl": "https://lh3.googleusercontent.com/a-/AOh14Ghlx86owSfLI1ysBzewc-4sBRVA0uQ32rdNEjLr1Q=s64",
      "userId": "06412681606171338922"
     },
     "user_tz": -540
    },
    "id": "qc6Mn2sxHdck",
    "outputId": "7f758be1-f2e4-4452-850c-7b15c00ccf93"
   },
   "outputs": [
    {
     "name": "stdout",
     "output_type": "stream",
     "text": [
      "Downloading data from https://storage.googleapis.com/tensorflow/tf-keras-datasets/mnist.npz\n",
      "11493376/11490434 [==============================] - 0s 0us/step\n"
     ]
    }
   ],
   "source": [
    "import tensorflow as tf\n",
    "from tensorflow.keras import layers\n",
    "tf.keras.backend.clear_session()\n",
    "\n",
    "batch_size = 128\n",
    "num_classes = 10\n",
    "epochs = 2\n",
    "\n",
    "# input image dimensions\n",
    "img_rows, img_cols = 28, 28\n",
    "\n",
    "# the data, split between train and test sets\n",
    "mnist = tf.keras.datasets.mnist\n",
    "\n",
    "(x_train, y_train), (x_test, y_test) = mnist.load_data()\n",
    "\n",
    "# if K.image_data_format() == 'channels_first':\n",
    "#     x_train = x_train.reshape(x_train.shape[0], 1, img_rows, img_cols)\n",
    "#     x_test = x_test.reshape(x_test.shape[0], 1, img_rows, img_cols)\n",
    "#     input_shape = (1, img_rows, img_cols)\n",
    "# else:\n",
    "x_train, x_test = x_train / 255.0, x_test / 255.0\n",
    "\n",
    "x_train = x_train.reshape(x_train.shape[0], img_rows, img_cols, 1)\n",
    "x_test = x_test.reshape(x_test.shape[0], img_rows, img_cols, 1)\n",
    "input_shape = (None, img_rows, img_cols)\n",
    "\n",
    "# convert class vectors to binary class matrices\n",
    "# y_train = tf.keras.utils.to_categorical(y_train, num_classes)\n",
    "# y_test = tf.keras.utils.to_categorical(y_test, num_classes)\n",
    "\n",
    "epoch = 8\n",
    "batch_size = 2000"
   ]
  },
  {
   "cell_type": "code",
   "execution_count": null,
   "metadata": {
    "colab": {
     "base_uri": "https://localhost:8080/"
    },
    "executionInfo": {
     "elapsed": 608,
     "status": "ok",
     "timestamp": 1611401462607,
     "user": {
      "displayName": "sanghun oh",
      "photoUrl": "https://lh3.googleusercontent.com/a-/AOh14Ghlx86owSfLI1ysBzewc-4sBRVA0uQ32rdNEjLr1Q=s64",
      "userId": "06412681606171338922"
     },
     "user_tz": -540
    },
    "id": "RtWsHJfQmGJW",
    "outputId": "1dc411eb-c9f7-43c5-d76c-7dea3cdfc0ae"
   },
   "outputs": [
    {
     "data": {
      "text/plain": [
       "((28, 28, 1), (60000, 28, 28, 1))"
      ]
     },
     "execution_count": 2,
     "metadata": {
      "tags": []
     },
     "output_type": "execute_result"
    }
   ],
   "source": [
    "x_train[0].shape, x_train.shape, "
   ]
  },
  {
   "cell_type": "code",
   "execution_count": null,
   "metadata": {
    "id": "KT1cRMj_0H-c"
   },
   "outputs": [],
   "source": [
    "# import tensorflow_datasets as tfds\n",
    "\n",
    "# dataset, info =  tfds.load('mnist', as_supervised=True, with_info=True)\n",
    "# train_dataset, test_dataset = dataset['train'], dataset['test']\n",
    "\n",
    "# num_train_examples= info.splits['train'].num_examples"
   ]
  },
  {
   "cell_type": "code",
   "execution_count": null,
   "metadata": {
    "id": "MzacihmBn8zF"
   },
   "outputs": [],
   "source": [
    "# train_dataset = train_dataset.take(7)\n",
    "# import matplotlib.pyplot as plt\n",
    "\n",
    "# for image, label in train_dataset:  \t\t# example is (image, label)\n",
    "#  \tprint(image.shape, type(image), label, type(label))\n",
    "#   # plt.imshow(image.numpy())\n"
   ]
  },
  {
   "cell_type": "code",
   "execution_count": null,
   "metadata": {
    "id": "rTUtGhzVn4Ct"
   },
   "outputs": [],
   "source": [
    "# import matplotlib.pyplot as plt\n",
    "# plt.imshow(x_train[9]), y_train[9]\t\t\t\t\t\t# 9\n",
    "# print(y_train[:3])\n"
   ]
  },
  {
   "cell_type": "markdown",
   "metadata": {
    "id": "S0xKlquankhm"
   },
   "source": [
    "#Base"
   ]
  },
  {
   "cell_type": "code",
   "execution_count": null,
   "metadata": {
    "id": "I07INZ9tXUW9"
   },
   "outputs": [],
   "source": [
    "tf.keras.backend.clear_session()\n",
    "\n",
    "model = tf.keras.models.Sequential()\n",
    "model.add(layers.Input(shape=x_train[0].shape))   \n",
    "model.add(layers.Conv2D(filters=32, kernel_size=(3, 3), activation='relu'))    # (batch_size, rows, cols, channels)\n",
    "model.add(layers.Flatten())\n",
    "model.add(layers.Dense(num_classes, activation='softmax'))\n",
    "\n",
    "model.compile(loss='sparse_categorical_crossentropy',\n",
    "              optimizer=tf.keras.optimizers.Adadelta(),\n",
    "              metrics=['accuracy'])\n"
   ]
  },
  {
   "cell_type": "code",
   "execution_count": null,
   "metadata": {
    "colab": {
     "base_uri": "https://localhost:8080/"
    },
    "executionInfo": {
     "elapsed": 133856,
     "status": "ok",
     "timestamp": 1610538567131,
     "user": {
      "displayName": "sanghun oh",
      "photoUrl": "https://lh3.googleusercontent.com/a-/AOh14Ghlx86owSfLI1ysBzewc-4sBRVA0uQ32rdNEjLr1Q=s64",
      "userId": "06412681606171338922"
     },
     "user_tz": -540
    },
    "id": "fj3z4qBGJ6kn",
    "outputId": "ffed7d28-f168-4af3-e282-cb44d0f5cfeb"
   },
   "outputs": [
    {
     "name": "stdout",
     "output_type": "stream",
     "text": [
      "Epoch 1/8\n",
      "30/30 [==============================] - 17s 562ms/step - loss: 2.2906 - accuracy: 0.1307 - val_loss: 2.2914 - val_accuracy: 0.1258\n",
      "Epoch 2/8\n",
      "30/30 [==============================] - 16s 549ms/step - loss: 2.2879 - accuracy: 0.1349 - val_loss: 2.2888 - val_accuracy: 0.1321\n",
      "Epoch 3/8\n",
      "30/30 [==============================] - 16s 550ms/step - loss: 2.2855 - accuracy: 0.1409 - val_loss: 2.2861 - val_accuracy: 0.1380\n",
      "Epoch 4/8\n",
      "30/30 [==============================] - 17s 552ms/step - loss: 2.2827 - accuracy: 0.1491 - val_loss: 2.2834 - val_accuracy: 0.1440\n",
      "Epoch 5/8\n",
      "30/30 [==============================] - 16s 547ms/step - loss: 2.2806 - accuracy: 0.1508 - val_loss: 2.2806 - val_accuracy: 0.1506\n",
      "Epoch 6/8\n",
      "30/30 [==============================] - 16s 545ms/step - loss: 2.2783 - accuracy: 0.1547 - val_loss: 2.2778 - val_accuracy: 0.1563\n",
      "Epoch 7/8\n",
      "30/30 [==============================] - 16s 548ms/step - loss: 2.2748 - accuracy: 0.1654 - val_loss: 2.2749 - val_accuracy: 0.1635\n",
      "Epoch 8/8\n",
      "30/30 [==============================] - 16s 547ms/step - loss: 2.2719 - accuracy: 0.1744 - val_loss: 2.2720 - val_accuracy: 0.1694\n"
     ]
    }
   ],
   "source": [
    "tf.keras.backend.clear_session()\n",
    "hist = model.fit(x_train, y_train,  batch_size=batch_size, epochs=epoch, validation_data=(x_test, y_test)) #within validation_data"
   ]
  },
  {
   "cell_type": "code",
   "execution_count": null,
   "metadata": {
    "colab": {
     "base_uri": "https://localhost:8080/"
    },
    "executionInfo": {
     "elapsed": 117972,
     "status": "ok",
     "timestamp": 1610520605258,
     "user": {
      "displayName": "sanghun oh",
      "photoUrl": "https://lh3.googleusercontent.com/a-/AOh14Ghlx86owSfLI1ysBzewc-4sBRVA0uQ32rdNEjLr1Q=s64",
      "userId": "06412681606171338922"
     },
     "user_tz": -540
    },
    "id": "460GYBWYucCG",
    "outputId": "cc76fc9d-a936-469a-83cd-7aa592c27c88"
   },
   "outputs": [
    {
     "name": "stdout",
     "output_type": "stream",
     "text": [
      "313/313 [==============================] - 2s 5ms/step - loss: 2.2361 - accuracy: 0.3075\n",
      "[2.236100435256958, 0.3075000047683716]\n",
      "Test loss: 2.236100435256958\n",
      "Test accuracy: 0.3075000047683716\n"
     ]
    }
   ],
   "source": [
    "score = model.evaluate(x_test, y_test, verbose=1)\n",
    "print(score)\n",
    "print('Test loss:', score[0])\n",
    "print('Test accuracy:', score[1])\n",
    "\n",
    "# Epoch 2/2\n",
    "# 469/469 [==============================] - 3s 7ms/step - loss: 6.8481 - accuracy: 0.5264 - val_loss: 4.8668 - val_accuracy: 0.6278\n",
    "# Test loss: 4.8668107986450195\n",
    "# Test accuracy: 0.6277999877929688"
   ]
  },
  {
   "cell_type": "markdown",
   "metadata": {
    "id": "Wt1EKkkUckda"
   },
   "source": [
    "### Weight Pattern"
   ]
  },
  {
   "cell_type": "code",
   "execution_count": null,
   "metadata": {
    "colab": {
     "base_uri": "https://localhost:8080/"
    },
    "executionInfo": {
     "elapsed": 1226,
     "status": "ok",
     "timestamp": 1610536493131,
     "user": {
      "displayName": "sanghun oh",
      "photoUrl": "https://lh3.googleusercontent.com/a-/AOh14Ghlx86owSfLI1ysBzewc-4sBRVA0uQ32rdNEjLr1Q=s64",
      "userId": "06412681606171338922"
     },
     "user_tz": -540
    },
    "id": "KMV_BE3rdH2R",
    "outputId": "121a8b9f-aa8e-4225-de21-13bbff7bf20a"
   },
   "outputs": [
    {
     "name": "stdout",
     "output_type": "stream",
     "text": [
      "Model: \"sequential\"\n",
      "_________________________________________________________________\n",
      "Layer (type)                 Output Shape              Param #   \n",
      "=================================================================\n",
      "conv2d (Conv2D)              (None, 26, 26, 32)        320       \n",
      "_________________________________________________________________\n",
      "flatten (Flatten)            (None, 21632)             0         \n",
      "_________________________________________________________________\n",
      "dense (Dense)                (None, 10)                216330    \n",
      "=================================================================\n",
      "Total params: 216,650\n",
      "Trainable params: 216,650\n",
      "Non-trainable params: 0\n",
      "_________________________________________________________________\n"
     ]
    }
   ],
   "source": [
    "model.summary()"
   ]
  },
  {
   "cell_type": "code",
   "execution_count": null,
   "metadata": {
    "id": "e1fYuxSfghUg"
   },
   "outputs": [],
   "source": [
    "first_layer_weights = model.layers[0].get_weights()"
   ]
  },
  {
   "cell_type": "code",
   "execution_count": null,
   "metadata": {
    "colab": {
     "base_uri": "https://localhost:8080/"
    },
    "executionInfo": {
     "elapsed": 708,
     "status": "ok",
     "timestamp": 1610537510222,
     "user": {
      "displayName": "sanghun oh",
      "photoUrl": "https://lh3.googleusercontent.com/a-/AOh14Ghlx86owSfLI1ysBzewc-4sBRVA0uQ32rdNEjLr1Q=s64",
      "userId": "06412681606171338922"
     },
     "user_tz": -540
    },
    "id": "iYqtxgJluAdn",
    "outputId": "aed4f3e9-ce43-4d71-d447-0efa360a0635"
   },
   "outputs": [
    {
     "data": {
      "text/plain": [
       "((3, 3, 1, 32),\n",
       " list,\n",
       " array([[[[ 5.51808327e-02,  4.36454117e-02,  7.45493323e-02,\n",
       "           -1.36164248e-01, -9.89494398e-02,  3.55651649e-03,\n",
       "            1.11075705e-02,  8.38075206e-03,  2.22808128e-04,\n",
       "            3.70898545e-02, -1.28922477e-01,  7.61526525e-02,\n",
       "           -1.38816163e-01, -8.94637108e-02,  2.82240217e-03,\n",
       "           -7.74940625e-02, -1.18341453e-01, -1.30451322e-01,\n",
       "           -6.17698617e-02, -1.18390046e-01,  8.94449800e-02,\n",
       "           -1.30370110e-01, -4.09720428e-02,  1.13824956e-01,\n",
       "           -1.04297943e-01,  1.12706654e-01, -1.41561776e-01,\n",
       "            7.16333464e-02,  1.11127188e-02, -1.40489087e-01,\n",
       "            1.05053857e-01, -1.05984464e-01]],\n",
       " \n",
       "         [[ 7.75545910e-02, -1.02449164e-01, -3.29478830e-02,\n",
       "           -6.06288239e-02,  9.66832563e-02, -6.14549220e-02,\n",
       "            1.05120078e-01, -5.69588579e-02,  3.24683376e-02,\n",
       "            4.07142937e-03,  4.53988388e-02, -5.92332557e-02,\n",
       "            1.36425033e-01,  1.23126991e-01, -1.26037672e-01,\n",
       "            5.42590879e-02,  4.76294197e-02, -5.44267483e-02,\n",
       "           -1.20434485e-01,  4.34434786e-02, -2.63788830e-02,\n",
       "            1.39321044e-01, -7.33544976e-02,  9.72313657e-02,\n",
       "           -1.12822004e-01, -9.03176293e-02,  3.63548025e-02,\n",
       "           -9.76749733e-02,  6.28054515e-02, -9.49201435e-02,\n",
       "            2.24401504e-02,  1.17837727e-01]],\n",
       " \n",
       "         [[ 1.11893922e-01, -4.28813845e-02,  2.17608437e-02,\n",
       "           -1.35604322e-01,  2.37568356e-02,  3.51029746e-02,\n",
       "           -5.71038015e-03, -1.33027062e-01,  6.73752502e-02,\n",
       "            3.85414250e-02, -1.11777425e-01, -3.82209867e-02,\n",
       "           -1.22233130e-01,  6.65726736e-02, -7.80290663e-02,\n",
       "            4.58795577e-02,  5.68636693e-02,  6.43533617e-02,\n",
       "           -4.10526693e-02, -1.35202017e-02,  3.61648798e-02,\n",
       "           -3.45823951e-02,  8.00952986e-02, -6.57433644e-02,\n",
       "           -8.95547047e-02, -1.21993190e-02,  8.52837786e-02,\n",
       "           -9.29694772e-02, -1.63686052e-02, -1.99704338e-02,\n",
       "            6.18636310e-02,  3.29710394e-02]]],\n",
       " \n",
       " \n",
       "        [[[ 6.52717128e-02, -6.87465584e-03, -1.32623032e-01,\n",
       "            1.35309219e-01, -1.35993734e-01,  1.24244832e-01,\n",
       "           -6.23810710e-03,  1.27851710e-01, -6.60565048e-02,\n",
       "            8.78402125e-03,  4.58479822e-02,  4.74165529e-02,\n",
       "           -1.35326516e-02,  1.40367290e-02, -2.81871576e-02,\n",
       "           -1.19067036e-01,  1.07573524e-01,  1.27772778e-01,\n",
       "            9.77134258e-02, -1.09231465e-01, -8.64611268e-02,\n",
       "            1.34466812e-01,  3.43762822e-02,  1.12733036e-01,\n",
       "           -7.55288303e-02, -3.79707143e-02, -5.86804338e-02,\n",
       "           -9.24762040e-02, -1.00460825e-02, -1.05372854e-01,\n",
       "           -6.73252493e-02, -3.81906740e-02]],\n",
       " \n",
       "         [[ 9.98212919e-02, -1.19816899e-01,  1.40596822e-01,\n",
       "           -7.92952627e-02,  2.27134563e-02, -8.85148868e-02,\n",
       "            2.74755899e-02, -1.01184994e-01,  1.41545489e-01,\n",
       "           -7.73193594e-03, -2.69651087e-03, -1.26736790e-01,\n",
       "            6.81323707e-02,  4.84534502e-02,  3.82120498e-02,\n",
       "            1.25753075e-01, -1.33823186e-01,  8.15194920e-02,\n",
       "           -1.31416246e-01, -3.42638302e-03,  6.21697232e-02,\n",
       "            3.72166112e-02,  8.45241621e-02,  3.15023437e-02,\n",
       "            4.16723825e-03,  1.08247481e-01,  4.73638661e-02,\n",
       "            3.35462056e-02, -1.02549367e-01, -1.40854195e-01,\n",
       "           -6.63659200e-02,  5.74726798e-02]],\n",
       " \n",
       "         [[-6.69697523e-02,  7.40360394e-02,  1.34464413e-01,\n",
       "            1.33171782e-01,  1.37486175e-01,  3.17617357e-02,\n",
       "           -4.74058092e-02, -9.65029374e-02,  1.35416752e-02,\n",
       "            6.27154782e-02,  1.39899030e-01,  6.94461092e-02,\n",
       "           -8.74433294e-02, -1.39257461e-01, -1.24285251e-01,\n",
       "            5.60255386e-02,  5.52249653e-03, -2.84798313e-02,\n",
       "           -1.33476332e-01, -1.00661688e-01, -4.97511439e-02,\n",
       "            3.95039767e-02,  7.07101375e-02,  1.20376296e-01,\n",
       "           -2.41638981e-02, -1.32347956e-01,  1.41954556e-01,\n",
       "           -1.90209299e-02,  1.31421387e-01, -1.04283869e-01,\n",
       "           -7.59405792e-02, -8.79339278e-02]]],\n",
       " \n",
       " \n",
       "        [[[ 9.66111869e-02,  1.41833261e-01,  1.09636210e-01,\n",
       "           -5.01833074e-02,  1.15011930e-01, -5.34913465e-02,\n",
       "            1.25647277e-01,  9.10147429e-02,  1.31052554e-01,\n",
       "            1.38915196e-01,  1.28544882e-01, -5.99668026e-02,\n",
       "            6.42059594e-02, -7.50715062e-02, -2.85481103e-02,\n",
       "            9.87307355e-02,  9.57784057e-02, -6.77611828e-02,\n",
       "            1.12814754e-01,  5.34165837e-02, -5.24355881e-02,\n",
       "           -1.10070035e-01, -1.15304843e-01, -1.15777552e-01,\n",
       "            6.64723411e-05, -7.23830611e-02,  4.82444130e-02,\n",
       "           -1.36084715e-02,  7.12378025e-02,  4.04350795e-02,\n",
       "           -2.76145525e-02, -2.08514407e-02]],\n",
       " \n",
       "         [[ 8.96690562e-02, -7.17869475e-02, -9.99533460e-02,\n",
       "            9.07115936e-02,  1.26375526e-01,  1.27499048e-02,\n",
       "           -1.38999134e-01, -8.21331143e-02, -4.55077849e-02,\n",
       "            9.41147655e-02,  1.37541788e-02, -7.73231313e-02,\n",
       "            1.40331477e-01,  5.41261584e-02, -1.38609022e-01,\n",
       "           -1.24496245e-03,  3.10118869e-02,  4.44322675e-02,\n",
       "           -1.27935559e-01, -5.24367541e-02, -3.72209959e-02,\n",
       "            5.21476194e-02, -4.30255160e-02,  1.44351106e-02,\n",
       "            7.02889785e-02, -1.41882166e-01,  1.16810901e-02,\n",
       "           -2.42460202e-02,  1.28285989e-01,  5.77249192e-02,\n",
       "            6.70715198e-02, -1.23617262e-01]],\n",
       " \n",
       "         [[-3.40280756e-02, -1.23749539e-01, -1.24624245e-01,\n",
       "           -5.94951548e-02,  2.40598023e-02, -7.45934844e-02,\n",
       "           -7.73750320e-02,  1.14743464e-01, -1.52373351e-02,\n",
       "           -1.30324453e-01, -2.29811668e-02,  3.82108800e-02,\n",
       "            1.31714836e-01, -1.39155105e-01, -8.50584805e-02,\n",
       "            6.32418543e-02,  7.32319653e-02, -3.93926576e-02,\n",
       "           -1.15321815e-01, -2.49574929e-02, -7.56771266e-02,\n",
       "            4.99834009e-02, -4.41966671e-03,  4.91888188e-02,\n",
       "           -4.24725376e-02, -3.09058838e-02, -3.41969617e-02,\n",
       "           -1.13681056e-01,  3.83929685e-02,  1.31376922e-01,\n",
       "           -6.83249682e-02,  6.92658201e-02]]]], dtype=float32))"
      ]
     },
     "execution_count": 16,
     "metadata": {
      "tags": []
     },
     "output_type": "execute_result"
    }
   ],
   "source": [
    "first_layer_weights[0].shape, type(first_layer_weights), first_layer_weights[0]"
   ]
  },
  {
   "cell_type": "code",
   "execution_count": null,
   "metadata": {
    "colab": {
     "base_uri": "https://localhost:8080/",
     "height": 286
    },
    "executionInfo": {
     "elapsed": 680,
     "status": "ok",
     "timestamp": 1610538047737,
     "user": {
      "displayName": "sanghun oh",
      "photoUrl": "https://lh3.googleusercontent.com/a-/AOh14Ghlx86owSfLI1ysBzewc-4sBRVA0uQ32rdNEjLr1Q=s64",
      "userId": "06412681606171338922"
     },
     "user_tz": -540
    },
    "id": "oGNT578Ye4-M",
    "outputId": "fda57605-f3cf-4845-b7c0-82a39a8aad78"
   },
   "outputs": [
    {
     "data": {
      "text/plain": [
       "<matplotlib.image.AxesImage at 0x7f6ad05d20b8>"
      ]
     },
     "execution_count": 19,
     "metadata": {
      "tags": []
     },
     "output_type": "execute_result"
    },
    {
     "data": {
      "image/png": "[encoded data removed]",
      "text/plain": [
       "<Figure size 432x288 with 1 Axes>"
      ]
     },
     "metadata": {
      "needs_background": "light",
      "tags": []
     },
     "output_type": "display_data"
    }
   ],
   "source": [
    "import matplotlib.pyplot as plt\n",
    "weights = model.layers[0].get_weights()[0]\n",
    "plt.imshow(weights[:,:,0,2],cmap='gray')      #(3, 3, 1, 32)"
   ]
  },
  {
   "cell_type": "code",
   "execution_count": null,
   "metadata": {
    "colab": {
     "base_uri": "https://localhost:8080/",
     "height": 248
    },
    "executionInfo": {
     "elapsed": 1947,
     "status": "ok",
     "timestamp": 1610538239395,
     "user": {
      "displayName": "sanghun oh",
      "photoUrl": "https://lh3.googleusercontent.com/a-/AOh14Ghlx86owSfLI1ysBzewc-4sBRVA0uQ32rdNEjLr1Q=s64",
      "userId": "06412681606171338922"
     },
     "user_tz": -540
    },
    "id": "-V5wFPXwgE_L",
    "outputId": "cf655ea0-7597-41d0-b2d4-7d5d61e1898e"
   },
   "outputs": [
    {
     "data": {
      "image/png": "[encoded data removed]",
      "text/plain": [
       "<Figure size 432x288 with 32 Axes>"
      ]
     },
     "metadata": {
      "needs_background": "light",
      "tags": []
     },
     "output_type": "display_data"
    }
   ],
   "source": [
    "for i in range(32):     # 32 is filter count\n",
    "    plt.subplot(6,6,i+1)\n",
    "    # plt.imshow(weights[:,:,0,i],cmap='gray',interpolation='none')\n",
    "    plt.imshow(weights[:,:,0,i],cmap='gray')\n",
    "    plt.axis('off')"
   ]
  },
  {
   "cell_type": "code",
   "execution_count": null,
   "metadata": {
    "colab": {
     "base_uri": "https://localhost:8080/",
     "height": 283
    },
    "executionInfo": {
     "elapsed": 118591,
     "status": "ok",
     "timestamp": 1610520605882,
     "user": {
      "displayName": "sanghun oh",
      "photoUrl": "https://lh3.googleusercontent.com/a-/AOh14Ghlx86owSfLI1ysBzewc-4sBRVA0uQ32rdNEjLr1Q=s64",
      "userId": "06412681606171338922"
     },
     "user_tz": -540
    },
    "id": "v934duN_nBxF",
    "outputId": "87083a53-61cc-4c27-bdb1-6af48ca668ad"
   },
   "outputs": [
    {
     "data": {
      "text/plain": [
       "<matplotlib.legend.Legend at 0x7fb94ab00198>"
      ]
     },
     "execution_count": 31,
     "metadata": {
      "tags": []
     },
     "output_type": "execute_result"
    },
    {
     "data": {
      "image/png": "[encoded data removed]",
      "text/plain": [
       "<Figure size 432x288 with 1 Axes>"
      ]
     },
     "metadata": {
      "needs_background": "light",
      "tags": []
     },
     "output_type": "display_data"
    }
   ],
   "source": [
    "import matplotlib.pyplot as plt\n",
    "plt.plot(hist.history['loss'], 'x-', label='loss')\n",
    "plt.plot(hist.history['val_loss'], 'x-', label='val_loss')\n",
    "plt.legend()"
   ]
  },
  {
   "cell_type": "code",
   "execution_count": null,
   "metadata": {
    "colab": {
     "base_uri": "https://localhost:8080/",
     "height": 282
    },
    "executionInfo": {
     "elapsed": 118586,
     "status": "ok",
     "timestamp": 1610520605883,
     "user": {
      "displayName": "sanghun oh",
      "photoUrl": "https://lh3.googleusercontent.com/a-/AOh14Ghlx86owSfLI1ysBzewc-4sBRVA0uQ32rdNEjLr1Q=s64",
      "userId": "06412681606171338922"
     },
     "user_tz": -540
    },
    "id": "xi3pw6WNcKmV",
    "outputId": "ba2a9ca4-ebc3-405e-b6b3-703718bab720"
   },
   "outputs": [
    {
     "data": {
      "text/plain": [
       "<matplotlib.legend.Legend at 0x7fb94aa64be0>"
      ]
     },
     "execution_count": 32,
     "metadata": {
      "tags": []
     },
     "output_type": "execute_result"
    },
    {
     "data": {
      "image/png": "[encoded data removed]",
      "text/plain": [
       "<Figure size 432x288 with 1 Axes>"
      ]
     },
     "metadata": {
      "needs_background": "light",
      "tags": []
     },
     "output_type": "display_data"
    }
   ],
   "source": [
    "plt.plot(hist.history['accuracy'], 'x-', label='accuracy')\n",
    "plt.plot(hist.history['val_accuracy'], 'x-', label='val_accuracy')\n",
    "plt.legend()"
   ]
  },
  {
   "cell_type": "markdown",
   "metadata": {
    "id": "_st7_gOim244"
   },
   "source": [
    "#MaxPooling"
   ]
  },
  {
   "cell_type": "code",
   "execution_count": null,
   "metadata": {
    "id": "N_wCkuU3m5SQ"
   },
   "outputs": [],
   "source": [
    "tf.keras.backend.clear_session()\n",
    "\n",
    "model = tf.keras.models.Sequential()\n",
    "model.add(layers.Input(shape=x_train[0].shape))   \n",
    "model.add(layers.Conv2D(filters=32, kernel_size=(3, 3), activation='relu'))    # (batch_size, rows, cols, channels)\n",
    "# model.add(layers.Conv2D(64, (3, 3), activation='relu'))\n",
    "model.add(layers.MaxPooling2D(pool_size=(2, 2)))\n",
    "# model.add(layers.Dropout(0.25))\n",
    "model.add(layers.Flatten())\n",
    "# model.add(layers.Dense(128, activation='relu'))\n",
    "# model.add(layers.Dropout(0.5))\n",
    "model.add(layers.Dense(num_classes, activation='softmax'))\n",
    "\n",
    "model.compile(loss='sparse_categorical_crossentropy',\n",
    "              optimizer=tf.keras.optimizers.Adadelta(),\n",
    "              metrics=['accuracy'])"
   ]
  },
  {
   "cell_type": "code",
   "execution_count": null,
   "metadata": {
    "colab": {
     "base_uri": "https://localhost:8080/"
    },
    "executionInfo": {
     "elapsed": 136553,
     "status": "ok",
     "timestamp": 1610539238464,
     "user": {
      "displayName": "sanghun oh",
      "photoUrl": "https://lh3.googleusercontent.com/a-/AOh14Ghlx86owSfLI1ysBzewc-4sBRVA0uQ32rdNEjLr1Q=s64",
      "userId": "06412681606171338922"
     },
     "user_tz": -540
    },
    "id": "EJmdz0BUnFCa",
    "outputId": "140f6667-1eae-4660-be4d-7909716a0165"
   },
   "outputs": [
    {
     "name": "stdout",
     "output_type": "stream",
     "text": [
      "Epoch 1/8\n",
      "30/30 [==============================] - 17s 563ms/step - loss: 2.2999 - accuracy: 0.1508 - val_loss: 2.2959 - val_accuracy: 0.1497\n",
      "Epoch 2/8\n",
      "30/30 [==============================] - 17s 556ms/step - loss: 2.2951 - accuracy: 0.1625 - val_loss: 2.2925 - val_accuracy: 0.1576\n",
      "Epoch 3/8\n",
      "30/30 [==============================] - 17s 556ms/step - loss: 2.2931 - accuracy: 0.1662 - val_loss: 2.2890 - val_accuracy: 0.1657\n",
      "Epoch 4/8\n",
      "30/30 [==============================] - 17s 554ms/step - loss: 2.2898 - accuracy: 0.1731 - val_loss: 2.2854 - val_accuracy: 0.1758\n",
      "Epoch 5/8\n",
      "30/30 [==============================] - 17s 561ms/step - loss: 2.2848 - accuracy: 0.1857 - val_loss: 2.2818 - val_accuracy: 0.1830\n",
      "Epoch 6/8\n",
      "30/30 [==============================] - 17s 569ms/step - loss: 2.2820 - accuracy: 0.1918 - val_loss: 2.2781 - val_accuracy: 0.1936\n",
      "Epoch 7/8\n",
      "30/30 [==============================] - 17s 567ms/step - loss: 2.2787 - accuracy: 0.1983 - val_loss: 2.2744 - val_accuracy: 0.2020\n",
      "Epoch 8/8\n",
      "30/30 [==============================] - 17s 563ms/step - loss: 2.2744 - accuracy: 0.2075 - val_loss: 2.2706 - val_accuracy: 0.2110\n"
     ]
    }
   ],
   "source": [
    "hist = model.fit(x_train, y_train,  batch_size=batch_size, epochs=epoch, validation_data=(x_test, y_test)) #within validation_data"
   ]
  },
  {
   "cell_type": "code",
   "execution_count": null,
   "metadata": {
    "colab": {
     "base_uri": "https://localhost:8080/"
    },
    "executionInfo": {
     "elapsed": 1235,
     "status": "ok",
     "timestamp": 1610539242948,
     "user": {
      "displayName": "sanghun oh",
      "photoUrl": "https://lh3.googleusercontent.com/a-/AOh14Ghlx86owSfLI1ysBzewc-4sBRVA0uQ32rdNEjLr1Q=s64",
      "userId": "06412681606171338922"
     },
     "user_tz": -540
    },
    "id": "UjMucIEynOps",
    "outputId": "b4658e7c-2bd8-4102-8a47-3accad5d4d44"
   },
   "outputs": [
    {
     "name": "stdout",
     "output_type": "stream",
     "text": [
      "Model: \"sequential\"\n",
      "_________________________________________________________________\n",
      "Layer (type)                 Output Shape              Param #   \n",
      "=================================================================\n",
      "conv2d (Conv2D)              (None, 26, 26, 32)        320       \n",
      "_________________________________________________________________\n",
      "max_pooling2d (MaxPooling2D) (None, 13, 13, 32)        0         \n",
      "_________________________________________________________________\n",
      "flatten (Flatten)            (None, 5408)              0         \n",
      "_________________________________________________________________\n",
      "dense (Dense)                (None, 10)                54090     \n",
      "=================================================================\n",
      "Total params: 54,410\n",
      "Trainable params: 54,410\n",
      "Non-trainable params: 0\n",
      "_________________________________________________________________\n"
     ]
    }
   ],
   "source": [
    "model.summary()"
   ]
  },
  {
   "cell_type": "code",
   "execution_count": null,
   "metadata": {
    "colab": {
     "base_uri": "https://localhost:8080/"
    },
    "executionInfo": {
     "elapsed": 1092,
     "status": "ok",
     "timestamp": 1610539551721,
     "user": {
      "displayName": "sanghun oh",
      "photoUrl": "https://lh3.googleusercontent.com/a-/AOh14Ghlx86owSfLI1ysBzewc-4sBRVA0uQ32rdNEjLr1Q=s64",
      "userId": "06412681606171338922"
     },
     "user_tz": -540
    },
    "id": "CoJqg0wmoy7l",
    "outputId": "89d23674-483e-405a-f055-503a99af05e4"
   },
   "outputs": [
    {
     "data": {
      "text/plain": [
       "[<tensorflow.python.keras.layers.convolutional.Conv2D at 0x7f6ad77b10b8>,\n",
       " <tensorflow.python.keras.layers.pooling.MaxPooling2D at 0x7f6ad9530240>,\n",
       " <tensorflow.python.keras.layers.core.Flatten at 0x7f6b230262b0>,\n",
       " <tensorflow.python.keras.layers.core.Dense at 0x7f6ae77c6ac8>]"
      ]
     },
     "execution_count": 36,
     "metadata": {
      "tags": []
     },
     "output_type": "execute_result"
    }
   ],
   "source": [
    "model.layers"
   ]
  },
  {
   "cell_type": "code",
   "execution_count": null,
   "metadata": {
    "colab": {
     "base_uri": "https://localhost:8080/"
    },
    "executionInfo": {
     "elapsed": 749,
     "status": "ok",
     "timestamp": 1610539322281,
     "user": {
      "displayName": "sanghun oh",
      "photoUrl": "https://lh3.googleusercontent.com/a-/AOh14Ghlx86owSfLI1ysBzewc-4sBRVA0uQ32rdNEjLr1Q=s64",
      "userId": "06412681606171338922"
     },
     "user_tz": -540
    },
    "id": "yEe3KAoQnMuN",
    "outputId": "d4b0c102-9814-4a90-b1a1-c9f15213fea9"
   },
   "outputs": [
    {
     "data": {
      "text/plain": [
       "[]"
      ]
     },
     "execution_count": 31,
     "metadata": {
      "tags": []
     },
     "output_type": "execute_result"
    }
   ],
   "source": [
    "second_layer_weights = model.layers[1].get_weights()\n",
    "second_layer_weights  # second_layer_weights.shape"
   ]
  },
  {
   "cell_type": "code",
   "execution_count": null,
   "metadata": {
    "colab": {
     "base_uri": "https://localhost:8080/"
    },
    "executionInfo": {
     "elapsed": 703,
     "status": "ok",
     "timestamp": 1610540768766,
     "user": {
      "displayName": "sanghun oh",
      "photoUrl": "https://lh3.googleusercontent.com/a-/AOh14Ghlx86owSfLI1ysBzewc-4sBRVA0uQ32rdNEjLr1Q=s64",
      "userId": "06412681606171338922"
     },
     "user_tz": -540
    },
    "id": "xKFhhRADtF1R",
    "outputId": "b10e9402-5777-4f1d-ac9d-14671cb63de7"
   },
   "outputs": [
    {
     "data": {
      "text/plain": [
       "(numpy.ndarray, (5408, 10))"
      ]
     },
     "execution_count": 45,
     "metadata": {
      "tags": []
     },
     "output_type": "execute_result"
    }
   ],
   "source": [
    "weights = model.layers[3].get_weights()[0]\n",
    "type(weights), weights.shape"
   ]
  },
  {
   "cell_type": "code",
   "execution_count": null,
   "metadata": {
    "colab": {
     "base_uri": "https://localhost:8080/"
    },
    "executionInfo": {
     "elapsed": 694,
     "status": "ok",
     "timestamp": 1610540830682,
     "user": {
      "displayName": "sanghun oh",
      "photoUrl": "https://lh3.googleusercontent.com/a-/AOh14Ghlx86owSfLI1ysBzewc-4sBRVA0uQ32rdNEjLr1Q=s64",
      "userId": "06412681606171338922"
     },
     "user_tz": -540
    },
    "id": "TnAFTaFZoHzq",
    "outputId": "322184a2-94ef-4476-f6c4-19b392c0a67b"
   },
   "outputs": [
    {
     "data": {
      "text/plain": [
       "((5408, 10), array([[-0.00927489, -0.00751183, -0.03097124, ...,  0.03214822,\n",
       "         -0.01440742,  0.00215486],\n",
       "        [-0.022694  ,  0.0232421 ,  0.02317715, ..., -0.01131915,\n",
       "         -0.03177566, -0.01015208],\n",
       "        [ 0.0280673 , -0.01501019,  0.02014371, ...,  0.00553645,\n",
       "         -0.0215067 , -0.03082386],\n",
       "        ...,\n",
       "        [ 0.00117252, -0.02635794,  0.00087275, ..., -0.01144464,\n",
       "          0.03076044,  0.00921899],\n",
       "        [ 0.00738442,  0.03203042,  0.00555248, ...,  0.0138641 ,\n",
       "          0.00239795, -0.02897373],\n",
       "        [ 0.0161751 , -0.012303  , -0.01894673, ...,  0.00804294,\n",
       "         -0.00682421,  0.00539017]], dtype=float32))"
      ]
     },
     "execution_count": 49,
     "metadata": {
      "tags": []
     },
     "output_type": "execute_result"
    }
   ],
   "source": [
    "third_layer_weights = model.layers[3].get_weights()\n",
    "third_layer_weights[0].shape, third_layer_weights[0]"
   ]
  },
  {
   "cell_type": "code",
   "execution_count": null,
   "metadata": {
    "colab": {
     "base_uri": "https://localhost:8080/"
    },
    "executionInfo": {
     "elapsed": 707,
     "status": "ok",
     "timestamp": 1610540510362,
     "user": {
      "displayName": "sanghun oh",
      "photoUrl": "https://lh3.googleusercontent.com/a-/AOh14Ghlx86owSfLI1ysBzewc-4sBRVA0uQ32rdNEjLr1Q=s64",
      "userId": "06412681606171338922"
     },
     "user_tz": -540
    },
    "id": "bhwoievJsQM0",
    "outputId": "5b6ae3c2-8dff-4603-b32a-94cf5b72b8cb"
   },
   "outputs": [
    {
     "data": {
      "text/plain": [
       "(10,)"
      ]
     },
     "execution_count": 37,
     "metadata": {
      "tags": []
     },
     "output_type": "execute_result"
    }
   ],
   "source": [
    "# W = model.layers[3].get_weights()[0]\n",
    "# W[0].shape\n",
    "# plt.figure(1, figsize=(14,7))\n",
    "# for i in range(15):\n",
    "#     plt.subplot(3,5,i+1)\n",
    "#     plt.imshow(W[:,i].reshape(28,28), cmap='gray', interpolation='none')"
   ]
  },
  {
   "cell_type": "markdown",
   "metadata": {
    "id": "RhZ_QBGAkRjr"
   },
   "source": [
    "# Deep Layer"
   ]
  },
  {
   "cell_type": "code",
   "execution_count": null,
   "metadata": {
    "id": "pOKIji7ekRKQ"
   },
   "outputs": [],
   "source": [
    "tf.keras.backend.clear_session()\n",
    "\n",
    "# @tf.function\n",
    "def deep_cnn_advanced():\n",
    "  model = tf.keras.Sequential()\n",
    "\n",
    "  model.add(layers.Input(shape=x_train[0].shape))   \n",
    "  # model.add(layers.Conv2D(input_shape = x_train[0].shape, filters = 50, kernel_size = (3,3), strides = (1,1), padding = 'same', kernel_initializer='he_normal'))\n",
    "  model.add(layers.Conv2D(filters = 50, kernel_size = (3,3), strides = (1,1), padding = 'same', activation='relu'))\n",
    "  model.add(layers.Conv2D(filters = 50, kernel_size = (3,3), strides = (1,1), padding = 'same', activation='relu'))\n",
    "  model.add(layers.MaxPooling2D(pool_size = (2,2)))\n",
    "  model.add(layers.Conv2D(filters = 50, kernel_size = (3,3), strides = (1,1), padding = 'same', activation='relu'))\n",
    "  model.add(layers.Conv2D(filters = 50, kernel_size = (3,3), strides = (1,1), padding = 'same', activation='relu'))\n",
    "  model.add(layers.MaxPooling2D(pool_size = (2,2)))\n",
    "  model.add(layers.Conv2D(filters = 50, kernel_size = (3,3), strides = (1,1), padding = 'same', activation='relu'))\n",
    "  model.add(layers.Conv2D(filters = 50, kernel_size = (3,3), strides = (1,1), padding = 'same', activation='relu'))\n",
    "  model.add(layers.MaxPooling2D(pool_size = (2,2)))\n",
    "\n",
    "  # prior layer should be flattend to be connected to dense layers\n",
    "  model.add(layers.Flatten())\n",
    "  # dense layer with 50 neurons\n",
    "  model.add(layers.Dense(50, activation = 'relu'))\n",
    "  # final layer with 10 neurons to classify the instances\n",
    "  model.add(layers.Dense(10, activation = 'softmax'))\n",
    "\n",
    "  # adam = optimizers.Adam(lr = 0.001)\n",
    "  model.compile(loss = 'sparse_categorical_crossentropy', optimizer = 'adam', metrics = ['accuracy'])\n",
    "\n",
    "  return model\n",
    "model = deep_cnn_advanced()\n",
    "# model.summary()"
   ]
  },
  {
   "cell_type": "code",
   "execution_count": null,
   "metadata": {
    "colab": {
     "base_uri": "https://localhost:8080/"
    },
    "executionInfo": {
     "elapsed": 119541,
     "status": "ok",
     "timestamp": 1610520606845,
     "user": {
      "displayName": "sanghun oh",
      "photoUrl": "https://lh3.googleusercontent.com/a-/AOh14Ghlx86owSfLI1ysBzewc-4sBRVA0uQ32rdNEjLr1Q=s64",
      "userId": "06412681606171338922"
     },
     "user_tz": -540
    },
    "id": "KB3kMadPvg9F",
    "outputId": "89465385-7c6f-441c-8f14-e97d351a35ca"
   },
   "outputs": [
    {
     "data": {
      "text/plain": [
       "(None, 28, 28, 1)"
      ]
     },
     "execution_count": 34,
     "metadata": {
      "tags": []
     },
     "output_type": "execute_result"
    }
   ],
   "source": [
    "model.input_shape"
   ]
  },
  {
   "cell_type": "code",
   "execution_count": null,
   "metadata": {
    "colab": {
     "base_uri": "https://localhost:8080/"
    },
    "executionInfo": {
     "elapsed": 2156445,
     "status": "ok",
     "timestamp": 1610522643754,
     "user": {
      "displayName": "sanghun oh",
      "photoUrl": "https://lh3.googleusercontent.com/a-/AOh14Ghlx86owSfLI1ysBzewc-4sBRVA0uQ32rdNEjLr1Q=s64",
      "userId": "06412681606171338922"
     },
     "user_tz": -540
    },
    "id": "8vDH1HK5k9EI",
    "outputId": "35c6c373-7a5b-4799-d208-b471a48b2fb6"
   },
   "outputs": [
    {
     "name": "stdout",
     "output_type": "stream",
     "text": [
      "Epoch 1/8\n",
      "21/21 [==============================] - 258s 12s/step - loss: 1.9139 - accuracy: 0.3784 - val_loss: 0.5191 - val_accuracy: 0.8317\n",
      "Epoch 2/8\n",
      "21/21 [==============================] - 253s 12s/step - loss: 0.4605 - accuracy: 0.8569 - val_loss: 0.2427 - val_accuracy: 0.9261\n",
      "Epoch 3/8\n",
      "21/21 [==============================] - 255s 12s/step - loss: 0.2239 - accuracy: 0.9301 - val_loss: 0.1512 - val_accuracy: 0.9533\n",
      "Epoch 4/8\n",
      "21/21 [==============================] - 256s 12s/step - loss: 0.1411 - accuracy: 0.9571 - val_loss: 0.1110 - val_accuracy: 0.9653\n",
      "Epoch 5/8\n",
      "21/21 [==============================] - 253s 12s/step - loss: 0.0967 - accuracy: 0.9708 - val_loss: 0.0933 - val_accuracy: 0.9714\n",
      "Epoch 6/8\n",
      "21/21 [==============================] - 254s 12s/step - loss: 0.0777 - accuracy: 0.9759 - val_loss: 0.0776 - val_accuracy: 0.9764\n",
      "Epoch 7/8\n",
      "21/21 [==============================] - 253s 12s/step - loss: 0.0637 - accuracy: 0.9809 - val_loss: 0.0719 - val_accuracy: 0.9789\n",
      "Epoch 8/8\n",
      "21/21 [==============================] - 254s 12s/step - loss: 0.0529 - accuracy: 0.9838 - val_loss: 0.0682 - val_accuracy: 0.9794\n"
     ]
    }
   ],
   "source": [
    "hist = model.fit(x_train, y_train, batch_size=batch_size, epochs=epoch, validation_split=0.3, verbose=1)"
   ]
  },
  {
   "cell_type": "code",
   "execution_count": null,
   "metadata": {
    "colab": {
     "base_uri": "https://localhost:8080/",
     "height": 282
    },
    "executionInfo": {
     "elapsed": 2156445,
     "status": "ok",
     "timestamp": 1610522643756,
     "user": {
      "displayName": "sanghun oh",
      "photoUrl": "https://lh3.googleusercontent.com/a-/AOh14Ghlx86owSfLI1ysBzewc-4sBRVA0uQ32rdNEjLr1Q=s64",
      "userId": "06412681606171338922"
     },
     "user_tz": -540
    },
    "id": "TN3xiTcdmPaz",
    "outputId": "414271da-fb86-49fb-9712-34f489cee1e1"
   },
   "outputs": [
    {
     "data": {
      "text/plain": [
       "<matplotlib.legend.Legend at 0x7fb94ab0d128>"
      ]
     },
     "execution_count": 36,
     "metadata": {
      "tags": []
     },
     "output_type": "execute_result"
    },
    {
     "data": {
      "image/png": "[encoded data removed]",
      "text/plain": [
       "<Figure size 432x288 with 1 Axes>"
      ]
     },
     "metadata": {
      "needs_background": "light",
      "tags": []
     },
     "output_type": "display_data"
    }
   ],
   "source": [
    "import matplotlib.pyplot as plt\n",
    "plt.plot(hist.history['loss'], 'o--', label='loss')\n",
    "plt.plot(hist.history['val_loss'], 'o--', label='val_loss')\n",
    "plt.legend()"
   ]
  },
  {
   "cell_type": "code",
   "execution_count": null,
   "metadata": {
    "colab": {
     "base_uri": "https://localhost:8080/",
     "height": 284
    },
    "executionInfo": {
     "elapsed": 2156810,
     "status": "ok",
     "timestamp": 1610522644122,
     "user": {
      "displayName": "sanghun oh",
      "photoUrl": "https://lh3.googleusercontent.com/a-/AOh14Ghlx86owSfLI1ysBzewc-4sBRVA0uQ32rdNEjLr1Q=s64",
      "userId": "06412681606171338922"
     },
     "user_tz": -540
    },
    "id": "YSPpea5Hmpju",
    "outputId": "9686dd58-6a0a-44ba-93b2-43c1ab991c7d"
   },
   "outputs": [
    {
     "data": {
      "text/plain": [
       "<matplotlib.legend.Legend at 0x7fb9504658d0>"
      ]
     },
     "execution_count": 37,
     "metadata": {
      "tags": []
     },
     "output_type": "execute_result"
    },
    {
     "data": {
      "image/png": "[encoded data removed]",
      "text/plain": [
       "<Figure size 432x288 with 1 Axes>"
      ]
     },
     "metadata": {
      "needs_background": "light",
      "tags": []
     },
     "output_type": "display_data"
    }
   ],
   "source": [
    "plt.plot(hist.history['accuracy'], 'x-', label='accuracy')\n",
    "plt.plot(hist.history['val_accuracy'], 'x-', label='val_accuracy')\n",
    "plt.legend()"
   ]
  },
  {
   "cell_type": "markdown",
   "metadata": {
    "id": "qMFAi6qAhRIu"
   },
   "source": [
    "# Batch Normalization\n",
    "https://buomsoo-kim.github.io/keras/2018/05/05/Easy-deep-learning-with-Keras-11.md/"
   ]
  },
  {
   "cell_type": "code",
   "execution_count": 2,
   "metadata": {
    "executionInfo": {
     "elapsed": 8594,
     "status": "ok",
     "timestamp": 1611470741354,
     "user": {
      "displayName": "sanghun oh",
      "photoUrl": "https://lh3.googleusercontent.com/a-/AOh14Ghlx86owSfLI1ysBzewc-4sBRVA0uQ32rdNEjLr1Q=s64",
      "userId": "06412681606171338922"
     },
     "user_tz": -540
    },
    "id": "SdALwUxYhQpy"
   },
   "outputs": [],
   "source": [
    "tf.keras.backend.clear_session()\n",
    "\n",
    "def deep_cnn_advanced():\n",
    "    model = tf.keras.Sequential()\n",
    "\n",
    "    model.add(layers.Conv2D(input_shape = x_train[0].shape, filters = 50, kernel_size = (3,3), strides = (1,1), padding = 'same', kernel_initializer='he_normal'))\n",
    "    model.add(layers.BatchNormalization())\n",
    "    model.add(layers.Activation('relu'))\n",
    "    model.add(layers.Conv2D(filters = 50, kernel_size = (3,3), strides = (1,1), padding = 'same', kernel_initializer='he_normal'))\n",
    "    model.add(layers.BatchNormalization())\n",
    "    model.add(layers.Activation('relu'))\n",
    "    model.add(layers.MaxPooling2D(pool_size = (2,2)))\n",
    "    model.add(layers.Conv2D(filters = 50, kernel_size = (3,3), strides = (1,1), padding = 'same', kernel_initializer='he_normal'))\n",
    "    model.add(layers.BatchNormalization())\n",
    "    model.add(layers.Activation('relu'))\n",
    "    model.add(layers.Conv2D(filters = 50, kernel_size = (3,3), strides = (1,1), padding = 'same', kernel_initializer='he_normal'))\n",
    "    model.add(layers.BatchNormalization())\n",
    "    model.add(layers.Activation('relu'))\n",
    "    model.add(layers.MaxPooling2D(pool_size = (2,2)))\n",
    "    model.add(layers.Conv2D(filters = 50, kernel_size = (3,3), strides = (1,1), padding = 'same', kernel_initializer='he_normal'))\n",
    "    model.add(layers.BatchNormalization())\n",
    "    model.add(layers.Activation('relu'))\n",
    "    model.add(layers.Conv2D(filters = 50, kernel_size = (3,3), strides = (1,1), padding = 'same', kernel_initializer='he_normal'))\n",
    "    model.add(layers.BatchNormalization())\n",
    "    model.add(layers.Activation('relu'))\n",
    "    model.add(layers.MaxPooling2D(pool_size = (2,2)))\n",
    "\n",
    "    # prior layer should be flattend to be connected to dense layers\n",
    "    model.add(layers.Flatten())\n",
    "    # dense layer with 50 neurons\n",
    "    model.add(layers.Dense(50, activation = 'relu', kernel_initializer='he_normal'))\n",
    "    model.add(layers.Dropout(0.5))\n",
    "    # final layer with 10 neurons to classify the instances\n",
    "    model.add(layers.Dense(10, activation = 'softmax', kernel_initializer='he_normal'))\n",
    "\n",
    "    # adam = optimizers.Adam(lr = 0.001)\n",
    "    model.compile(loss = 'sparse_categorical_crossentropy', optimizer = 'adam', metrics = ['accuracy'])\n",
    "\n",
    "    return model\n",
    "model = deep_cnn_advanced()"
   ]
  },
  {
   "cell_type": "code",
   "execution_count": 3,
   "metadata": {
    "colab": {
     "base_uri": "https://localhost:8080/"
    },
    "executionInfo": {
     "elapsed": 8577,
     "status": "ok",
     "timestamp": 1611470741359,
     "user": {
      "displayName": "sanghun oh",
      "photoUrl": "https://lh3.googleusercontent.com/a-/AOh14Ghlx86owSfLI1ysBzewc-4sBRVA0uQ32rdNEjLr1Q=s64",
      "userId": "06412681606171338922"
     },
     "user_tz": -540
    },
    "id": "AuNUwVIKnZWm",
    "outputId": "7e8ae8b0-5891-4630-e7c9-180bbd1b668a"
   },
   "outputs": [
    {
     "data": {
      "text/plain": [
       "(<KerasTensor: shape=(None, 28, 28, 1) dtype=float32 (created by layer 'conv2d_input')>,\n",
       " <KerasTensor: shape=(None, 10) dtype=float32 (created by layer 'dense_1')>)"
      ]
     },
     "execution_count": 3,
     "metadata": {
      "tags": []
     },
     "output_type": "execute_result"
    }
   ],
   "source": [
    "# model.summary()\n",
    "model.input, model.output"
   ]
  },
  {
   "cell_type": "code",
   "execution_count": 4,
   "metadata": {
    "colab": {
     "base_uri": "https://localhost:8080/"
    },
    "executionInfo": {
     "elapsed": 59455,
     "status": "ok",
     "timestamp": 1611470792813,
     "user": {
      "displayName": "sanghun oh",
      "photoUrl": "https://lh3.googleusercontent.com/a-/AOh14Ghlx86owSfLI1ysBzewc-4sBRVA0uQ32rdNEjLr1Q=s64",
      "userId": "06412681606171338922"
     },
     "user_tz": -540
    },
    "id": "OBYxXSa3jk3S",
    "outputId": "b5b29757-8055-4558-ca81-e228710e70dc"
   },
   "outputs": [
    {
     "name": "stdout",
     "output_type": "stream",
     "text": [
      "Epoch 1/8\n",
      "4/4 [==============================] - 18s 2s/step - loss: 2.9676 - accuracy: 0.1563 - val_loss: 2.1661 - val_accuracy: 0.2301\n",
      "Epoch 2/8\n",
      "4/4 [==============================] - 5s 1s/step - loss: 1.7930 - accuracy: 0.3643 - val_loss: 2.0387 - val_accuracy: 0.2847\n",
      "Epoch 3/8\n",
      "4/4 [==============================] - 5s 1s/step - loss: 1.4292 - accuracy: 0.5130 - val_loss: 1.5810 - val_accuracy: 0.4873\n",
      "Epoch 4/8\n",
      "4/4 [==============================] - 5s 1s/step - loss: 1.1545 - accuracy: 0.6122 - val_loss: 1.3285 - val_accuracy: 0.6302\n",
      "Epoch 5/8\n",
      "4/4 [==============================] - 5s 1s/step - loss: 0.9538 - accuracy: 0.6819 - val_loss: 1.2010 - val_accuracy: 0.6172\n",
      "Epoch 6/8\n",
      "4/4 [==============================] - 5s 1s/step - loss: 0.7999 - accuracy: 0.7384 - val_loss: 1.0741 - val_accuracy: 0.6489\n",
      "Epoch 7/8\n",
      "4/4 [==============================] - 5s 1s/step - loss: 0.6840 - accuracy: 0.7788 - val_loss: 0.9279 - val_accuracy: 0.7233\n",
      "Epoch 8/8\n",
      "4/4 [==============================] - 5s 1s/step - loss: 0.6012 - accuracy: 0.8046 - val_loss: 0.8009 - val_accuracy: 0.7977\n"
     ]
    }
   ],
   "source": [
    "hist = model.fit(x_train, y_train, batch_size=int(len(y_train)/5), epochs=epoch, validation_split=0.3, verbose=1)"
   ]
  },
  {
   "cell_type": "markdown",
   "metadata": {
    "id": "mfewEfAA0Bsw"
   },
   "source": [
    "#save model"
   ]
  },
  {
   "cell_type": "code",
   "execution_count": null,
   "metadata": {
    "id": "qPXB69Mecx_N"
   },
   "outputs": [],
   "source": [
    "rm -rf ./mnist_keras_model*"
   ]
  },
  {
   "cell_type": "markdown",
   "metadata": {
    "id": "EdupysG48S1u"
   },
   "source": [
    "##with save"
   ]
  },
  {
   "cell_type": "code",
   "execution_count": null,
   "metadata": {
    "colab": {
     "base_uri": "https://localhost:8080/"
    },
    "executionInfo": {
     "elapsed": 54684,
     "status": "ok",
     "timestamp": 1611459307544,
     "user": {
      "displayName": "sanghun oh",
      "photoUrl": "https://lh3.googleusercontent.com/a-/AOh14Ghlx86owSfLI1ysBzewc-4sBRVA0uQ32rdNEjLr1Q=s64",
      "userId": "06412681606171338922"
     },
     "user_tz": -540
    },
    "id": "psBvzHqeBA1v",
    "outputId": "0859b02d-5a23-40a4-e5a8-f58a144dc47f"
   },
   "outputs": [
    {
     "name": "stdout",
     "output_type": "stream",
     "text": [
      "INFO:tensorflow:Assets written to: mnist_keras_model/assets\n"
     ]
    }
   ],
   "source": [
    "model.save('mnist_keras_model')"
   ]
  },
  {
   "cell_type": "code",
   "execution_count": null,
   "metadata": {
    "colab": {
     "base_uri": "https://localhost:8080/"
    },
    "executionInfo": {
     "elapsed": 51985,
     "status": "ok",
     "timestamp": 1611459307546,
     "user": {
      "displayName": "sanghun oh",
      "photoUrl": "https://lh3.googleusercontent.com/a-/AOh14Ghlx86owSfLI1ysBzewc-4sBRVA0uQ32rdNEjLr1Q=s64",
      "userId": "06412681606171338922"
     },
     "user_tz": -540
    },
    "id": "1ZoUdk8b80k-",
    "outputId": "0436c1aa-9ebd-4d3e-b3bd-0098a5db3007"
   },
   "outputs": [
    {
     "name": "stdout",
     "output_type": "stream",
     "text": [
      "  adding: mnist_keras_model/ (stored 0%)\n",
      "  adding: mnist_keras_model/variables/ (stored 0%)\n",
      "  adding: mnist_keras_model/variables/variables.data-00000-of-00001 (deflated 9%)\n",
      "  adding: mnist_keras_model/variables/variables.index (deflated 75%)\n",
      "  adding: mnist_keras_model/saved_model.pb (deflated 91%)\n",
      "  adding: mnist_keras_model/assets/ (stored 0%)\n"
     ]
    }
   ],
   "source": [
    "!zip -r mnist_keras_model.zip ./mnist_keras_model"
   ]
  },
  {
   "cell_type": "markdown",
   "metadata": {
    "id": "dtdai1uD8V_V"
   },
   "source": [
    "##with saved_model"
   ]
  },
  {
   "cell_type": "code",
   "execution_count": null,
   "metadata": {
    "colab": {
     "base_uri": "https://localhost:8080/"
    },
    "executionInfo": {
     "elapsed": 52191,
     "status": "ok",
     "timestamp": 1611459310412,
     "user": {
      "displayName": "sanghun oh",
      "photoUrl": "https://lh3.googleusercontent.com/a-/AOh14Ghlx86owSfLI1ysBzewc-4sBRVA0uQ32rdNEjLr1Q=s64",
      "userId": "06412681606171338922"
     },
     "user_tz": -540
    },
    "id": "11J6Xba6k-2Q",
    "outputId": "63972fb2-4918-42a0-b024-f45f37cc8c34"
   },
   "outputs": [
    {
     "name": "stdout",
     "output_type": "stream",
     "text": [
      "INFO:tensorflow:Assets written to: mnist_keras_saved_model/assets\n"
     ]
    }
   ],
   "source": [
    "# Model frozen ?\n",
    "tf.saved_model.save(model, 'mnist_keras_saved_model')"
   ]
  },
  {
   "cell_type": "code",
   "execution_count": null,
   "metadata": {
    "colab": {
     "base_uri": "https://localhost:8080/"
    },
    "executionInfo": {
     "elapsed": 51398,
     "status": "ok",
     "timestamp": 1611459310414,
     "user": {
      "displayName": "sanghun oh",
      "photoUrl": "https://lh3.googleusercontent.com/a-/AOh14Ghlx86owSfLI1ysBzewc-4sBRVA0uQ32rdNEjLr1Q=s64",
      "userId": "06412681606171338922"
     },
     "user_tz": -540
    },
    "id": "O6edLdRQ86Qg",
    "outputId": "a140d106-d243-43b2-acb8-03aeafbfeec7"
   },
   "outputs": [
    {
     "name": "stdout",
     "output_type": "stream",
     "text": [
      "  adding: mnist_keras_saved_model/ (stored 0%)\n",
      "  adding: mnist_keras_saved_model/variables/ (stored 0%)\n",
      "  adding: mnist_keras_saved_model/variables/variables.data-00000-of-00001 (deflated 9%)\n",
      "  adding: mnist_keras_saved_model/variables/variables.index (deflated 75%)\n",
      "  adding: mnist_keras_saved_model/saved_model.pb (deflated 91%)\n",
      "  adding: mnist_keras_saved_model/assets/ (stored 0%)\n"
     ]
    }
   ],
   "source": [
    "!zip -r mnist_keras_saved_model.zip ./mnist_keras_saved_model"
   ]
  },
  {
   "cell_type": "markdown",
   "metadata": {
    "id": "WCAGM06w8gT8"
   },
   "source": [
    "##with export saved model as text"
   ]
  },
  {
   "cell_type": "code",
   "execution_count": null,
   "metadata": {
    "colab": {
     "base_uri": "https://localhost:8080/"
    },
    "executionInfo": {
     "elapsed": 51043,
     "status": "ok",
     "timestamp": 1611459313063,
     "user": {
      "displayName": "sanghun oh",
      "photoUrl": "https://lh3.googleusercontent.com/a-/AOh14Ghlx86owSfLI1ysBzewc-4sBRVA0uQ32rdNEjLr1Q=s64",
      "userId": "06412681606171338922"
     },
     "user_tz": -540
    },
    "id": "xEMfUUaRnQWB",
    "outputId": "cb6f125a-a966-47ef-ebf5-991049b6882a"
   },
   "outputs": [
    {
     "name": "stderr",
     "output_type": "stream",
     "text": [
      "/usr/local/lib/python3.6/dist-packages/tensorflow/python/keras/saving/saved_model_experimental.py:129: UserWarning: `tf.keras.experimental.export_saved_model` is deprecatedand will be removed in a future version. Please use `model.save(..., save_format=\"tf\")` or `tf.keras.models.save_model(..., save_format=\"tf\")`.\n",
      "  warnings.warn('`tf.keras.experimental.export_saved_model` is deprecated'\n",
      "/usr/local/lib/python3.6/dist-packages/tensorflow/python/keras/backend.py:492: UserWarning: `tf.keras.backend.learning_phase_scope` is deprecated and will be removed after 2020-10-11. To update it, simply pass a True/False value to the `training` argument of the `__call__` method of your layer or model.\n",
      "  warnings.warn('`tf.keras.backend.learning_phase_scope` is deprecated and '\n",
      "/usr/local/lib/python3.6/dist-packages/tensorflow/python/keras/engine/training.py:2325: UserWarning: `Model.state_updates` will be removed in a future version. This property should not be used in TensorFlow 2.0, as `updates` are applied automatically.\n",
      "  warnings.warn('`Model.state_updates` will be removed in a future version. '\n"
     ]
    },
    {
     "name": "stdout",
     "output_type": "stream",
     "text": [
      "WARNING:tensorflow:From /usr/local/lib/python3.6/dist-packages/tensorflow/python/saved_model/signature_def_utils_impl.py:253: build_tensor_info (from tensorflow.python.saved_model.utils_impl) is deprecated and will be removed in a future version.\n",
      "Instructions for updating:\n",
      "This function will only be available through the v1 compatibility library as tf.compat.v1.saved_model.utils.build_tensor_info or tf.compat.v1.saved_model.build_tensor_info.\n",
      "INFO:tensorflow:Signatures INCLUDED in export for Classify: None\n",
      "INFO:tensorflow:Signatures INCLUDED in export for Regress: None\n",
      "INFO:tensorflow:Signatures INCLUDED in export for Predict: None\n",
      "INFO:tensorflow:Signatures INCLUDED in export for Train: ['train']\n",
      "INFO:tensorflow:Signatures INCLUDED in export for Eval: None\n",
      "WARNING:tensorflow:Export includes no default signature!\n",
      "INFO:tensorflow:No assets to save.\n",
      "INFO:tensorflow:No assets to write.\n",
      "INFO:tensorflow:Signatures INCLUDED in export for Classify: None\n",
      "INFO:tensorflow:Signatures INCLUDED in export for Regress: None\n",
      "INFO:tensorflow:Signatures INCLUDED in export for Predict: None\n",
      "INFO:tensorflow:Signatures INCLUDED in export for Train: None\n",
      "INFO:tensorflow:Signatures INCLUDED in export for Eval: ['eval']\n",
      "WARNING:tensorflow:Export includes no default signature!\n",
      "INFO:tensorflow:No assets to save.\n",
      "INFO:tensorflow:No assets to write.\n",
      "INFO:tensorflow:Signatures INCLUDED in export for Classify: None\n",
      "INFO:tensorflow:Signatures INCLUDED in export for Regress: None\n",
      "INFO:tensorflow:Signatures INCLUDED in export for Predict: ['serving_default']\n",
      "INFO:tensorflow:Signatures INCLUDED in export for Train: None\n",
      "INFO:tensorflow:Signatures INCLUDED in export for Eval: None\n",
      "INFO:tensorflow:No assets to save.\n",
      "INFO:tensorflow:No assets to write.\n",
      "INFO:tensorflow:SavedModel written to: mnist_keras_model_exportasText/saved_model.pbtxt\n"
     ]
    }
   ],
   "source": [
    "# Model export \n",
    "# https://www.tensorflow.org/api_docs/python/tf/compat/v1/keras/experimental/export_saved_model\n",
    "tf.compat.v1.keras.experimental.export_saved_model(model, 'mnist_keras_model_exportasText', as_text=True)"
   ]
  },
  {
   "cell_type": "code",
   "execution_count": null,
   "metadata": {
    "colab": {
     "base_uri": "https://localhost:8080/"
    },
    "executionInfo": {
     "elapsed": 50355,
     "status": "ok",
     "timestamp": 1611459313311,
     "user": {
      "displayName": "sanghun oh",
      "photoUrl": "https://lh3.googleusercontent.com/a-/AOh14Ghlx86owSfLI1ysBzewc-4sBRVA0uQ32rdNEjLr1Q=s64",
      "userId": "06412681606171338922"
     },
     "user_tz": -540
    },
    "id": "AV27T-liMsvr",
    "outputId": "fcd696b2-3eb3-49da-d0eb-d81566f87554"
   },
   "outputs": [
    {
     "name": "stdout",
     "output_type": "stream",
     "text": [
      "  adding: mnist_keras_model_exportasText/ (stored 0%)\n",
      "  adding: mnist_keras_model_exportasText/saved_model.pbtxt (deflated 96%)\n",
      "  adding: mnist_keras_model_exportasText/variables/ (stored 0%)\n",
      "  adding: mnist_keras_model_exportasText/variables/checkpoint (deflated 37%)\n",
      "  adding: mnist_keras_model_exportasText/variables/variables.data-00000-of-00001 (deflated 8%)\n",
      "  adding: mnist_keras_model_exportasText/variables/variables.index (deflated 75%)\n",
      "  adding: mnist_keras_model_exportasText/assets/ (stored 0%)\n",
      "  adding: mnist_keras_model_exportasText/assets/saved_model.json (deflated 92%)\n"
     ]
    }
   ],
   "source": [
    "!zip -r mnist_keras_model_exportasText.zip mnist_keras_model_exportasText/"
   ]
  },
  {
   "cell_type": "markdown",
   "metadata": {
    "id": "5JcNVnbKZY-C"
   },
   "source": [
    "##with export saved model as Non text"
   ]
  },
  {
   "cell_type": "code",
   "execution_count": null,
   "metadata": {
    "colab": {
     "base_uri": "https://localhost:8080/"
    },
    "executionInfo": {
     "elapsed": 48109,
     "status": "ok",
     "timestamp": 1611459315783,
     "user": {
      "displayName": "sanghun oh",
      "photoUrl": "https://lh3.googleusercontent.com/a-/AOh14Ghlx86owSfLI1ysBzewc-4sBRVA0uQ32rdNEjLr1Q=s64",
      "userId": "06412681606171338922"
     },
     "user_tz": -540
    },
    "id": "3dyAFMnEZepB",
    "outputId": "cf64906c-468d-4064-ba49-6f8cd091ee29"
   },
   "outputs": [
    {
     "name": "stderr",
     "output_type": "stream",
     "text": [
      "/usr/local/lib/python3.6/dist-packages/tensorflow/python/keras/saving/saved_model_experimental.py:129: UserWarning: `tf.keras.experimental.export_saved_model` is deprecatedand will be removed in a future version. Please use `model.save(..., save_format=\"tf\")` or `tf.keras.models.save_model(..., save_format=\"tf\")`.\n",
      "  warnings.warn('`tf.keras.experimental.export_saved_model` is deprecated'\n",
      "/usr/local/lib/python3.6/dist-packages/tensorflow/python/keras/backend.py:492: UserWarning: `tf.keras.backend.learning_phase_scope` is deprecated and will be removed after 2020-10-11. To update it, simply pass a True/False value to the `training` argument of the `__call__` method of your layer or model.\n",
      "  warnings.warn('`tf.keras.backend.learning_phase_scope` is deprecated and '\n",
      "/usr/local/lib/python3.6/dist-packages/tensorflow/python/keras/engine/training.py:2325: UserWarning: `Model.state_updates` will be removed in a future version. This property should not be used in TensorFlow 2.0, as `updates` are applied automatically.\n",
      "  warnings.warn('`Model.state_updates` will be removed in a future version. '\n"
     ]
    },
    {
     "name": "stdout",
     "output_type": "stream",
     "text": [
      "INFO:tensorflow:Signatures INCLUDED in export for Classify: None\n",
      "INFO:tensorflow:Signatures INCLUDED in export for Regress: None\n",
      "INFO:tensorflow:Signatures INCLUDED in export for Predict: None\n",
      "INFO:tensorflow:Signatures INCLUDED in export for Train: ['train']\n",
      "INFO:tensorflow:Signatures INCLUDED in export for Eval: None\n",
      "WARNING:tensorflow:Export includes no default signature!\n",
      "INFO:tensorflow:No assets to save.\n",
      "INFO:tensorflow:No assets to write.\n",
      "INFO:tensorflow:Signatures INCLUDED in export for Classify: None\n",
      "INFO:tensorflow:Signatures INCLUDED in export for Regress: None\n",
      "INFO:tensorflow:Signatures INCLUDED in export for Predict: None\n",
      "INFO:tensorflow:Signatures INCLUDED in export for Train: None\n",
      "INFO:tensorflow:Signatures INCLUDED in export for Eval: ['eval']\n",
      "WARNING:tensorflow:Export includes no default signature!\n",
      "INFO:tensorflow:No assets to save.\n",
      "INFO:tensorflow:No assets to write.\n",
      "INFO:tensorflow:Signatures INCLUDED in export for Classify: None\n",
      "INFO:tensorflow:Signatures INCLUDED in export for Regress: None\n",
      "INFO:tensorflow:Signatures INCLUDED in export for Predict: ['serving_default']\n",
      "INFO:tensorflow:Signatures INCLUDED in export for Train: None\n",
      "INFO:tensorflow:Signatures INCLUDED in export for Eval: None\n",
      "INFO:tensorflow:No assets to save.\n",
      "INFO:tensorflow:No assets to write.\n",
      "INFO:tensorflow:SavedModel written to: mnist_keras_model_export/saved_model.pb\n"
     ]
    }
   ],
   "source": [
    "# Model export \n",
    "# https://www.tensorflow.org/api_docs/python/tf/compat/v1/keras/experimental/export_saved_model\n",
    "tf.compat.v1.keras.experimental.export_saved_model(model, 'mnist_keras_model_export', as_text=False)"
   ]
  },
  {
   "cell_type": "code",
   "execution_count": null,
   "metadata": {
    "colab": {
     "base_uri": "https://localhost:8080/"
    },
    "executionInfo": {
     "elapsed": 46705,
     "status": "ok",
     "timestamp": 1611459315786,
     "user": {
      "displayName": "sanghun oh",
      "photoUrl": "https://lh3.googleusercontent.com/a-/AOh14Ghlx86owSfLI1ysBzewc-4sBRVA0uQ32rdNEjLr1Q=s64",
      "userId": "06412681606171338922"
     },
     "user_tz": -540
    },
    "id": "BNLFCxplZ025",
    "outputId": "356d0506-2dd0-42af-da46-d5f37b0a3a81"
   },
   "outputs": [
    {
     "name": "stdout",
     "output_type": "stream",
     "text": [
      "  adding: mnist_keras_model_export/ (stored 0%)\n",
      "  adding: mnist_keras_model_export/variables/ (stored 0%)\n",
      "  adding: mnist_keras_model_export/variables/checkpoint (deflated 37%)\n",
      "  adding: mnist_keras_model_export/variables/variables.data-00000-of-00001 (deflated 8%)\n",
      "  adding: mnist_keras_model_export/variables/variables.index (deflated 75%)\n",
      "  adding: mnist_keras_model_export/saved_model.pb (deflated 90%)\n",
      "  adding: mnist_keras_model_export/assets/ (stored 0%)\n",
      "  adding: mnist_keras_model_export/assets/saved_model.json (deflated 92%)\n"
     ]
    }
   ],
   "source": [
    "!zip -r mnist_keras_model_export.zip ./mnist_keras_model_export"
   ]
  },
  {
   "cell_type": "markdown",
   "metadata": {
    "id": "kwU_qY7RntHt"
   },
   "source": [
    "#convert to ONNX"
   ]
  },
  {
   "cell_type": "code",
   "execution_count": 5,
   "metadata": {
    "colab": {
     "base_uri": "https://localhost:8080/"
    },
    "executionInfo": {
     "elapsed": 54674,
     "status": "ok",
     "timestamp": 1611470798679,
     "user": {
      "displayName": "sanghun oh",
      "photoUrl": "https://lh3.googleusercontent.com/a-/AOh14Ghlx86owSfLI1ysBzewc-4sBRVA0uQ32rdNEjLr1Q=s64",
      "userId": "06412681606171338922"
     },
     "user_tz": -540
    },
    "id": "To2TSReKock5",
    "outputId": "58842d79-b3a6-44c4-af50-ef387c7be3c5"
   },
   "outputs": [
    {
     "name": "stdout",
     "output_type": "stream",
     "text": [
      "Collecting onnx\n",
      "\u001b[?25l  Downloading https://files.pythonhosted.org/packages/2a/82/e8d0fb64df623a3b716145192ed50604f444889778b37e0e9262753d5046/onnx-1.8.0-cp36-cp36m-manylinux2010_x86_64.whl (7.7MB)\n",
      "\u001b[K     |████████████████████████████████| 7.7MB 7.7MB/s \n",
      "\u001b[?25hCollecting tf2onnx\n",
      "\u001b[?25l  Downloading https://files.pythonhosted.org/packages/0c/0e/8e3205f832f799946ea7f2e9f112d88deda7516f702a4162309b2774921a/tf2onnx-1.8.1-py3-none-any.whl (303kB)\n",
      "\u001b[K     |████████████████████████████████| 307kB 53.6MB/s \n",
      "\u001b[?25hRequirement already satisfied, skipping upgrade: six in /usr/local/lib/python3.6/dist-packages (from onnx) (1.15.0)\n",
      "Requirement already satisfied, skipping upgrade: protobuf in /usr/local/lib/python3.6/dist-packages (from onnx) (3.12.4)\n",
      "Requirement already satisfied, skipping upgrade: typing-extensions>=3.6.2.1 in /usr/local/lib/python3.6/dist-packages (from onnx) (3.7.4.3)\n",
      "Requirement already satisfied, skipping upgrade: numpy in /usr/local/lib/python3.6/dist-packages (from onnx) (1.19.5)\n",
      "Requirement already satisfied, skipping upgrade: requests in /usr/local/lib/python3.6/dist-packages (from tf2onnx) (2.23.0)\n",
      "Requirement already satisfied, skipping upgrade: flatbuffers in /usr/local/lib/python3.6/dist-packages (from tf2onnx) (1.12)\n",
      "Requirement already satisfied, skipping upgrade: setuptools in /usr/local/lib/python3.6/dist-packages (from protobuf->onnx) (51.3.3)\n",
      "Requirement already satisfied, skipping upgrade: certifi>=2017.4.17 in /usr/local/lib/python3.6/dist-packages (from requests->tf2onnx) (2020.12.5)\n",
      "Requirement already satisfied, skipping upgrade: chardet<4,>=3.0.2 in /usr/local/lib/python3.6/dist-packages (from requests->tf2onnx) (3.0.4)\n",
      "Requirement already satisfied, skipping upgrade: urllib3!=1.25.0,!=1.25.1,<1.26,>=1.21.1 in /usr/local/lib/python3.6/dist-packages (from requests->tf2onnx) (1.24.3)\n",
      "Requirement already satisfied, skipping upgrade: idna<3,>=2.5 in /usr/local/lib/python3.6/dist-packages (from requests->tf2onnx) (2.10)\n",
      "Installing collected packages: onnx, tf2onnx\n",
      "Successfully installed onnx-1.8.0 tf2onnx-1.8.1\n"
     ]
    }
   ],
   "source": [
    "!python -m pip install -U onnx tf2onnx"
   ]
  },
  {
   "cell_type": "code",
   "execution_count": 6,
   "metadata": {
    "colab": {
     "base_uri": "https://localhost:8080/"
    },
    "executionInfo": {
     "elapsed": 55811,
     "status": "ok",
     "timestamp": 1611470801370,
     "user": {
      "displayName": "sanghun oh",
      "photoUrl": "https://lh3.googleusercontent.com/a-/AOh14Ghlx86owSfLI1ysBzewc-4sBRVA0uQ32rdNEjLr1Q=s64",
      "userId": "06412681606171338922"
     },
     "user_tz": -540
    },
    "id": "8HUU9vIWpIkH",
    "outputId": "759edc7f-29b5-480a-e02a-c5da096c404f"
   },
   "outputs": [
    {
     "name": "stdout",
     "output_type": "stream",
     "text": [
      "INFO:tensorflow:Assets written to: mnist_keras_model/assets\n"
     ]
    }
   ],
   "source": [
    "model.save('mnist_keras_model')"
   ]
  },
  {
   "cell_type": "code",
   "execution_count": null,
   "metadata": {
    "colab": {
     "base_uri": "https://localhost:8080/"
    },
    "executionInfo": {
     "elapsed": 59699,
     "status": "ok",
     "timestamp": 1611470805896,
     "user": {
      "displayName": "sanghun oh",
      "photoUrl": "https://lh3.googleusercontent.com/a-/AOh14Ghlx86owSfLI1ysBzewc-4sBRVA0uQ32rdNEjLr1Q=s64",
      "userId": "06412681606171338922"
     },
     "user_tz": -540
    },
    "id": "m8ArghCTyEM3",
    "outputId": "bab44745-3575-4b98-b517-1333ba9694b6"
   },
   "outputs": [],
   "source": [
    "!python -m tf2onnx.convert --saved-model ./mnist_keras_model/ --output model.onnx"
   ]
  },
  {
   "cell_type": "code",
   "execution_count": 9,
   "metadata": {
    "executionInfo": {
     "elapsed": 695,
     "status": "ok",
     "timestamp": 1611462262933,
     "user": {
      "displayName": "sanghun oh",
      "photoUrl": "https://lh3.googleusercontent.com/a-/AOh14Ghlx86owSfLI1ysBzewc-4sBRVA0uQ32rdNEjLr1Q=s64",
      "userId": "06412681606171338922"
     },
     "user_tz": -540
    },
    "id": "i-cu3aaunyuo"
   },
   "outputs": [],
   "source": [
    "import onnx\n",
    "import keras2onnx"
   ]
  },
  {
   "cell_type": "markdown",
   "metadata": {
    "id": "rrbJF3yLhKI-"
   },
   "source": [
    "##Frozen Graph"
   ]
  },
  {
   "cell_type": "code",
   "execution_count": null,
   "metadata": {
    "id": "0mEKQwRXhJkV"
   },
   "outputs": [],
   "source": [
    "from tensorflow.python.tools import freeze_graph\n",
    "output_graph = 'frozen_model.pb'\n",
    "output_node_names = 'model/fts_output/out'\n",
    "input_saver = \"\"\n",
    "input_binary = True\n",
    "restore_op_name = 'save/restore_all'\n",
    "filename_tensor_name = 'save/Const:0'\n",
    "clear_devices = True\n",
    "initializer_nodes = ''\n",
    "variable_names_blacklist = ''\n",
    "\n",
    "\n",
    "freeze_graph.freeze_graph('', input_saver, input_binary,\n",
    "\t\t\t'', output_node_names,\n",
    "\t\t\trestore_op_name, filename_tensor_name,\n",
    "\t\t\toutput_graph, clear_devices, initializer_nodes,\n",
    "\t\t\tvariable_names_blacklist, input_saved_model_dir='saved_model')"
   ]
  },
  {
   "cell_type": "code",
   "execution_count": null,
   "metadata": {
    "colab": {
     "base_uri": "https://localhost:8080/",
     "height": 282
    },
    "executionInfo": {
     "elapsed": 4624760,
     "status": "ok",
     "timestamp": 1610525112078,
     "user": {
      "displayName": "sanghun oh",
      "photoUrl": "https://lh3.googleusercontent.com/a-/AOh14Ghlx86owSfLI1ysBzewc-4sBRVA0uQ32rdNEjLr1Q=s64",
      "userId": "06412681606171338922"
     },
     "user_tz": -540
    },
    "id": "yI7qHl_bcl0u",
    "outputId": "635d0eb6-a806-4d69-a82f-baa6eba83cef"
   },
   "outputs": [
    {
     "data": {
      "text/plain": [
       "<matplotlib.legend.Legend at 0x7fb950a6a6d8>"
      ]
     },
     "execution_count": 41,
     "metadata": {
      "tags": []
     },
     "output_type": "execute_result"
    },
    {
     "data": {
      "image/png": "[encoded data removed]",
      "text/plain": [
       "<Figure size 432x288 with 1 Axes>"
      ]
     },
     "metadata": {
      "needs_background": "light",
      "tags": []
     },
     "output_type": "display_data"
    }
   ],
   "source": [
    "import matplotlib.pyplot as plt\n",
    "plt.plot(hist.history['loss'], 'o--', label='loss')\n",
    "plt.plot(hist.history['val_loss'], 'o--', label='val_loss')\n",
    "plt.legend()"
   ]
  },
  {
   "cell_type": "code",
   "execution_count": null,
   "metadata": {
    "colab": {
     "base_uri": "https://localhost:8080/",
     "height": 282
    },
    "executionInfo": {
     "elapsed": 4624760,
     "status": "ok",
     "timestamp": 1610525112079,
     "user": {
      "displayName": "sanghun oh",
      "photoUrl": "https://lh3.googleusercontent.com/a-/AOh14Ghlx86owSfLI1ysBzewc-4sBRVA0uQ32rdNEjLr1Q=s64",
      "userId": "06412681606171338922"
     },
     "user_tz": -540
    },
    "id": "0jW9whhUcmxV",
    "outputId": "9e1f7510-3297-4122-ec16-55f527992a6d"
   },
   "outputs": [
    {
     "data": {
      "text/plain": [
       "<matplotlib.legend.Legend at 0x7fb9509d84a8>"
      ]
     },
     "execution_count": 42,
     "metadata": {
      "tags": []
     },
     "output_type": "execute_result"
    },
    {
     "data": {
      "image/png": "[encoded data removed]",
      "text/plain": [
       "<Figure size 432x288 with 1 Axes>"
      ]
     },
     "metadata": {
      "needs_background": "light",
      "tags": []
     },
     "output_type": "display_data"
    }
   ],
   "source": [
    "plt.plot(hist.history['accuracy'], 'x-', label='accuracy')\n",
    "plt.plot(hist.history['val_accuracy'], 'x-', label='val_accuracy')\n",
    "plt.legend()"
   ]
  },
  {
   "cell_type": "markdown",
   "metadata": {
    "id": "1EczxJt7DmwF"
   },
   "source": [
    "#predict"
   ]
  },
  {
   "cell_type": "markdown",
   "metadata": {
    "id": "XEpQgcFO1BHP"
   },
   "source": [
    "##with load dataset"
   ]
  },
  {
   "cell_type": "code",
   "execution_count": null,
   "metadata": {
    "id": "BvzySXkN4YA-"
   },
   "outputs": [],
   "source": [
    "predic_number=0"
   ]
  },
  {
   "cell_type": "code",
   "execution_count": null,
   "metadata": {
    "colab": {
     "base_uri": "https://localhost:8080/"
    },
    "executionInfo": {
     "elapsed": 562,
     "status": "ok",
     "timestamp": 1611449649192,
     "user": {
      "displayName": "sanghun oh",
      "photoUrl": "https://lh3.googleusercontent.com/a-/AOh14Ghlx86owSfLI1ysBzewc-4sBRVA0uQ32rdNEjLr1Q=s64",
      "userId": "06412681606171338922"
     },
     "user_tz": -540
    },
    "id": "rAoeorVG1fG4",
    "outputId": "1ea51b96-ac1e-4f53-abd3-f1e888c1016d"
   },
   "outputs": [
    {
     "data": {
      "text/plain": [
       "((28, 28, 1), 7, ())"
      ]
     },
     "execution_count": 15,
     "metadata": {
      "tags": []
     },
     "output_type": "execute_result"
    }
   ],
   "source": [
    "x_test[predic_number].shape, y_test[predic_number], y_test[predic_number].shape"
   ]
  },
  {
   "cell_type": "code",
   "execution_count": null,
   "metadata": {
    "id": "LSY6j9oQ3RFL"
   },
   "outputs": [],
   "source": [
    "x_test_one = x_test[predic_number].reshape(1, img_rows, img_cols, 1)"
   ]
  },
  {
   "cell_type": "code",
   "execution_count": null,
   "metadata": {
    "colab": {
     "base_uri": "https://localhost:8080/"
    },
    "executionInfo": {
     "elapsed": 550,
     "status": "ok",
     "timestamp": 1611449659724,
     "user": {
      "displayName": "sanghun oh",
      "photoUrl": "https://lh3.googleusercontent.com/a-/AOh14Ghlx86owSfLI1ysBzewc-4sBRVA0uQ32rdNEjLr1Q=s64",
      "userId": "06412681606171338922"
     },
     "user_tz": -540
    },
    "id": "04RVJDlZ1GZQ",
    "outputId": "bea26999-2f00-45d9-bb3e-36f9e14641a8"
   },
   "outputs": [
    {
     "data": {
      "text/plain": [
       "7"
      ]
     },
     "execution_count": 17,
     "metadata": {
      "tags": []
     },
     "output_type": "execute_result"
    }
   ],
   "source": [
    "model.predict(x_test_one).argmax()"
   ]
  },
  {
   "cell_type": "markdown",
   "metadata": {
    "id": "PTzOPBBl0kQM"
   },
   "source": [
    "##with excel file"
   ]
  },
  {
   "cell_type": "code",
   "execution_count": null,
   "metadata": {
    "id": "xB83G--WZkgF"
   },
   "outputs": [],
   "source": [
    "import pandas as pd\n",
    "handmnist = 'handMNIST2828_one_predict.xlsx'\n",
    "# handmnist = 'handMNIST2828_two_predict.xlsx'\n",
    "\n",
    "df = pd.read_excel(handmnist, header=None)\n",
    "# df\n",
    "import matplotlib.pyplot as plt\n",
    "\n",
    "plt.imshow(df.values)\n",
    "import numpy as np\n",
    "x_pred = np.array(df.values)\n",
    "x_pred.shape\n",
    "x_pred = x_pred.reshape(-1, img_rows, img_cols, 1)\n",
    "# np_x_pred = np.array([x_pred])\n",
    "# x_pred = x_pred.reshape(1, x_pred[0], x_pred[1], 1)\n",
    "x_pred.shape"
   ]
  },
  {
   "cell_type": "code",
   "execution_count": null,
   "metadata": {
    "id": "c2vMErMkUdjH"
   },
   "outputs": [],
   "source": [
    "x_pred = x_pred / 255\n",
    "model.predict(x_pred).argmax()"
   ]
  },
  {
   "cell_type": "markdown",
   "metadata": {
    "id": "ljq82rLf08HH"
   },
   "source": [
    "##with image"
   ]
  },
  {
   "cell_type": "code",
   "execution_count": null,
   "metadata": {
    "id": "4mTc8dVDCxQE"
   },
   "outputs": [],
   "source": [
    "import numpy as np\n",
    "\n",
    "image_path = './mnist_own_5.png'\n",
    "image = tf.keras.preprocessing.image.load_img(image_path,  color_mode=\"grayscale\", target_size=(28,28))\n",
    "input_arr = tf.keras.preprocessing.image.img_to_array(image)\n",
    "input_arr = np.array([input_arr])  # Convert single image to a batch.\n"
   ]
  },
  {
   "cell_type": "code",
   "execution_count": null,
   "metadata": {
    "colab": {
     "base_uri": "https://localhost:8080/"
    },
    "executionInfo": {
     "elapsed": 577,
     "status": "ok",
     "timestamp": 1611449963641,
     "user": {
      "displayName": "sanghun oh",
      "photoUrl": "https://lh3.googleusercontent.com/a-/AOh14Ghlx86owSfLI1ysBzewc-4sBRVA0uQ32rdNEjLr1Q=s64",
      "userId": "06412681606171338922"
     },
     "user_tz": -540
    },
    "id": "sptLQZeDEugd",
    "outputId": "98b4d155-522b-44ee-f0f8-8ce6fd5a5ef3"
   },
   "outputs": [
    {
     "data": {
      "text/plain": [
       "(28, 28)"
      ]
     },
     "execution_count": 23,
     "metadata": {
      "tags": []
     },
     "output_type": "execute_result"
    }
   ],
   "source": [
    "image.width, image.height"
   ]
  },
  {
   "cell_type": "code",
   "execution_count": null,
   "metadata": {
    "colab": {
     "base_uri": "https://localhost:8080/"
    },
    "executionInfo": {
     "elapsed": 587,
     "status": "ok",
     "timestamp": 1611449975967,
     "user": {
      "displayName": "sanghun oh",
      "photoUrl": "https://lh3.googleusercontent.com/a-/AOh14Ghlx86owSfLI1ysBzewc-4sBRVA0uQ32rdNEjLr1Q=s64",
      "userId": "06412681606171338922"
     },
     "user_tz": -540
    },
    "id": "MzawKNeJEnyb",
    "outputId": "7e23cdd0-357d-45ed-ee6e-3f3630149713"
   },
   "outputs": [
    {
     "data": {
      "text/plain": [
       "(2, array([[0., 0., 1., 0., 0., 0., 0., 0., 0., 0.]], dtype=float32))"
      ]
     },
     "execution_count": 24,
     "metadata": {
      "tags": []
     },
     "output_type": "execute_result"
    }
   ],
   "source": [
    "x_pred = input_arr.reshape(-1, image.width, image.height, 1)\n",
    "model.predict(x_pred).argmax(), model.predict(x_pred)"
   ]
  },
  {
   "cell_type": "code",
   "execution_count": null,
   "metadata": {
    "id": "xR4SHq44kMQp"
   },
   "outputs": [],
   "source": [
    "import matplotlib.pyplot as plt\n",
    "plt.plot(hist.history['loss'], 'o--', label='loss')\n",
    "plt.plot(hist.history['val_loss'], 'o--', label='val_loss')\n",
    "plt.legend()"
   ]
  },
  {
   "cell_type": "markdown",
   "metadata": {
    "id": "8pYTsUsB4svV"
   },
   "source": [
    "##with opencv"
   ]
  },
  {
   "cell_type": "code",
   "execution_count": null,
   "metadata": {
    "id": "R0pK-zAg44-B"
   },
   "outputs": [],
   "source": [
    "from cv2 import cv2 as cv "
   ]
  },
  {
   "cell_type": "code",
   "execution_count": null,
   "metadata": {
    "colab": {
     "base_uri": "https://localhost:8080/"
    },
    "executionInfo": {
     "elapsed": 613,
     "status": "ok",
     "timestamp": 1611450066948,
     "user": {
      "displayName": "sanghun oh",
      "photoUrl": "https://lh3.googleusercontent.com/a-/AOh14Ghlx86owSfLI1ysBzewc-4sBRVA0uQ32rdNEjLr1Q=s64",
      "userId": "06412681606171338922"
     },
     "user_tz": -540
    },
    "id": "4jYf57Mo6Bw4",
    "outputId": "297eecbf-3d56-43ea-f9a6-2bf8ff5a3cd5"
   },
   "outputs": [
    {
     "data": {
      "text/plain": [
       "(numpy.ndarray, (143, 144))"
      ]
     },
     "execution_count": 26,
     "metadata": {
      "tags": []
     },
     "output_type": "execute_result"
    }
   ],
   "source": [
    "image = cv.imread(image_path, 0)\n",
    "type(image), image.shape"
   ]
  },
  {
   "cell_type": "code",
   "execution_count": null,
   "metadata": {
    "colab": {
     "base_uri": "https://localhost:8080/"
    },
    "executionInfo": {
     "elapsed": 556,
     "status": "ok",
     "timestamp": 1611450093864,
     "user": {
      "displayName": "sanghun oh",
      "photoUrl": "https://lh3.googleusercontent.com/a-/AOh14Ghlx86owSfLI1ysBzewc-4sBRVA0uQ32rdNEjLr1Q=s64",
      "userId": "06412681606171338922"
     },
     "user_tz": -540
    },
    "id": "s2UO7uJO48bm",
    "outputId": "a6721828-cf53-4353-d357-bc078ec00e36"
   },
   "outputs": [
    {
     "data": {
      "text/plain": [
       "(1, 1, 28, 28)"
      ]
     },
     "execution_count": 28,
     "metadata": {
      "tags": []
     },
     "output_type": "execute_result"
    }
   ],
   "source": [
    "input_blob = cv.dnn.blobFromImage(image, size=(28,28)) \n",
    "input_blob.shape"
   ]
  },
  {
   "cell_type": "code",
   "execution_count": null,
   "metadata": {
    "colab": {
     "base_uri": "https://localhost:8080/"
    },
    "executionInfo": {
     "elapsed": 562,
     "status": "ok",
     "timestamp": 1611450379019,
     "user": {
      "displayName": "sanghun oh",
      "photoUrl": "https://lh3.googleusercontent.com/a-/AOh14Ghlx86owSfLI1ysBzewc-4sBRVA0uQ32rdNEjLr1Q=s64",
      "userId": "06412681606171338922"
     },
     "user_tz": -540
    },
    "id": "nk9lGoWg6M-d",
    "outputId": "d715f332-b85d-4707-d249-61726187713a"
   },
   "outputs": [
    {
     "data": {
      "text/plain": [
       "(2, array([[0., 0., 1., 0., 0., 0., 0., 0., 0., 0.]], dtype=float32))"
      ]
     },
     "execution_count": 30,
     "metadata": {
      "tags": []
     },
     "output_type": "execute_result"
    }
   ],
   "source": [
    "x_pred = input_blob.reshape(-1, 28, 28, 1)\n",
    "model.predict(x_pred).argmax(), model.predict(x_pred)"
   ]
  },
  {
   "cell_type": "markdown",
   "metadata": {
    "id": "O8CjI4Eb-c9s"
   },
   "source": [
    "#Opencv DNN"
   ]
  },
  {
   "cell_type": "code",
   "execution_count": 8,
   "metadata": {
    "colab": {
     "base_uri": "https://localhost:8080/"
    },
    "executionInfo": {
     "elapsed": 1308,
     "status": "ok",
     "timestamp": 1611470807227,
     "user": {
      "displayName": "sanghun oh",
      "photoUrl": "https://lh3.googleusercontent.com/a-/AOh14Ghlx86owSfLI1ysBzewc-4sBRVA0uQ32rdNEjLr1Q=s64",
      "userId": "06412681606171338922"
     },
     "user_tz": -540
    },
    "id": "mJffP46R6yCH",
    "outputId": "7acb01e2-0dc0-453b-ade4-0f0d20f12d3f"
   },
   "outputs": [
    {
     "name": "stdout",
     "output_type": "stream",
     "text": [
      "\t6 layers of type Convolution\n",
      "\t2 layers of type InnerProduct\n",
      "\t1 layers of type Permute\n",
      "\t3 layers of type Pooling\n",
      "\t7 layers of type Relu\n",
      "\t2 layers of type Reshape\n",
      "\t2 layers of type Scale\n",
      "\t1 layers of type Softmax\n",
      "\t1 layers of type __NetInputLayer__\n"
     ]
    }
   ],
   "source": [
    "import cv2\n",
    "import numpy as np\n",
    "\n",
    "model_path = './model.onnx'\n",
    "net = cv2.dnn.readNetFromONNX(model_path)\n",
    "for t in net.getLayerTypes():\n",
    "  print('\\t%d layers of type %s' % (net.getLayersCount(t), t))\n"
   ]
  },
  {
   "cell_type": "code",
   "execution_count": 9,
   "metadata": {
    "executionInfo": {
     "elapsed": 1294,
     "status": "ok",
     "timestamp": 1611470807229,
     "user": {
      "displayName": "sanghun oh",
      "photoUrl": "https://lh3.googleusercontent.com/a-/AOh14Ghlx86owSfLI1ysBzewc-4sBRVA0uQ32rdNEjLr1Q=s64",
      "userId": "06412681606171338922"
     },
     "user_tz": -540
    },
    "id": "e8r34I5R9u6p"
   },
   "outputs": [],
   "source": [
    "\n",
    "image_path = './mnist_own_5.png'  \n",
    "image = cv2.imread(image_path, 0)\n",
    "\n",
    "# Resize Image\n",
    "image = cv2.resize(image,(28,28)) / 255.0\n",
    "input_blob = image.reshape(-1, 28, 28, 1)\n",
    "\n",
    "# Input Image to the network\n",
    "# net.setInput(img)\n",
    "net.setInput(input_blob)"
   ]
  },
  {
   "cell_type": "code",
   "execution_count": 10,
   "metadata": {
    "colab": {
     "base_uri": "https://localhost:8080/"
    },
    "executionInfo": {
     "elapsed": 1538,
     "status": "ok",
     "timestamp": 1611470807493,
     "user": {
      "displayName": "sanghun oh",
      "photoUrl": "https://lh3.googleusercontent.com/a-/AOh14Ghlx86owSfLI1ysBzewc-4sBRVA0uQ32rdNEjLr1Q=s64",
      "userId": "06412681606171338922"
     },
     "user_tz": -540
    },
    "id": "LgKWw67T-u4T",
    "outputId": "ccbb516a-12e0-4816-e956-fadfe8b43020"
   },
   "outputs": [
    {
     "data": {
      "text/plain": [
       "(0, array([[0.37710342, 0.00664032, 0.34183863, 0.03636645, 0.03590443,\n",
       "         0.01527144, 0.05237498, 0.00174828, 0.08149169, 0.05126037]],\n",
       "       dtype=float32))"
      ]
     },
     "execution_count": 10,
     "metadata": {
      "tags": []
     },
     "output_type": "execute_result"
    }
   ],
   "source": [
    "out = net.forward()\n",
    "out.argmax(), out"
   ]
  },
  {
   "cell_type": "code",
   "execution_count": null,
   "metadata": {
    "id": "K3fU2XDU4qgK"
   },
   "outputs": [],
   "source": []
  }
 ],
 "metadata": {
  "accelerator": "GPU",
  "colab": {
   "collapsed_sections": [
    "rrbJF3yLhKI-"
   ],
   "name": "00.MNIST_CNN_keras.ipynb",
   "provenance": []
  },
  "kernelspec": {
   "display_name": "Python 3",
   "language": "python",
   "name": "python3"
  },
  "language_info": {
   "codemirror_mode": {
    "name": "ipython",
    "version": 3
   },
   "file_extension": ".py",
   "mimetype": "text/x-python",
   "name": "python",
   "nbconvert_exporter": "python",
   "pygments_lexer": "ipython3",
   "version": "3.8.6"
  }
 },
 "nbformat": 4,
 "nbformat_minor": 1
}
