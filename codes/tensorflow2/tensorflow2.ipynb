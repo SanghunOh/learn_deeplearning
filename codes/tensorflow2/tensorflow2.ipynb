{
 "cells": [
  {
   "cell_type": "code",
   "execution_count": 1,
   "metadata": {
    "colab": {
     "base_uri": "https://localhost:8080/",
     "height": 35
    },
    "colab_type": "code",
    "executionInfo": {
     "elapsed": 1973,
     "status": "ok",
     "timestamp": 1594364805661,
     "user": {
      "displayName": "sanghun oh",
      "photoUrl": "https://lh3.googleusercontent.com/a-/AOh14Ghlx86owSfLI1ysBzewc-4sBRVA0uQ32rdNEjLr1Q=s64",
      "userId": "06412681606171338922"
     },
     "user_tz": -540
    },
    "id": "W15eefa2Q5hA",
    "outputId": "60c0f99f-df82-42ff-b643-7e451dd26946"
   },
   "outputs": [
    {
     "name": "stdout",
     "output_type": "stream",
     "text": [
      "2.3.0\n"
     ]
    }
   ],
   "source": [
    "import tensorflow as tf\n",
    "print(tf.__version__)"
   ]
  },
  {
   "cell_type": "markdown",
   "metadata": {
    "colab_type": "text",
    "id": "rAIqYQmOl_wR"
   },
   "source": [
    "## TensorFlow에서 수학을 하는것"
   ]
  },
  {
   "cell_type": "markdown",
   "metadata": {
    "colab_type": "text",
    "id": "5bmtTepn6SvG"
   },
   "source": [
    "TensorFlow는 Numpy를 사용하는것과 정확히 똑같은 방법으로 사용할 수 있습니다. 이 둘의 주요 다른점은 작성한 TensorFlow의 코드는 GPU와 TPU 상에서 실행될 수 있다는 점입니다:"
   ]
  },
  {
   "cell_type": "code",
   "execution_count": 2,
   "metadata": {
    "colab": {},
    "colab_type": "code",
    "id": "pCZGHQ_XmHuZ"
   },
   "outputs": [],
   "source": [
    "# a = tf.random.normal(shape=(2, 2))\n",
    "# b = tf.random.normal(shape=(2, 2))\n",
    "\n",
    "a = tf.constant([[5., 2], [1, 3]])\n",
    "b = tf.Variable([[6., 7], [8, 9]])\n",
    "\n",
    "c = a + b\n",
    "d = tf.square(c)\n",
    "e = tf.exp(d)"
   ]
  },
  {
   "cell_type": "code",
   "execution_count": 3,
   "metadata": {
    "colab": {
     "base_uri": "https://localhost:8080/",
     "height": 85
    },
    "colab_type": "code",
    "executionInfo": {
     "elapsed": 9760,
     "status": "ok",
     "timestamp": 1594213364896,
     "user": {
      "displayName": "sanghun oh",
      "photoUrl": "https://lh3.googleusercontent.com/a-/AOh14Ghlx86owSfLI1ysBzewc-4sBRVA0uQ32rdNEjLr1Q=s64",
      "userId": "06412681606171338922"
     },
     "user_tz": -540
    },
    "id": "l2S3sCaHC_wF",
    "outputId": "b0ef0882-d1d6-4b7e-e0b0-232ee0e09d56"
   },
   "outputs": [
    {
     "data": {
      "text/plain": [
       "(<tf.Tensor: shape=(2, 2), dtype=float32, numpy=\n",
       " array([[5., 2.],\n",
       "        [1., 3.]], dtype=float32)>,\n",
       " array([[6., 7.],\n",
       "        [8., 9.]], dtype=float32))"
      ]
     },
     "execution_count": 3,
     "metadata": {},
     "output_type": "execute_result"
    }
   ],
   "source": [
    "a, b.numpy()"
   ]
  },
  {
   "cell_type": "code",
   "execution_count": 4,
   "metadata": {
    "colab": {
     "base_uri": "https://localhost:8080/",
     "height": 68
    },
    "colab_type": "code",
    "executionInfo": {
     "elapsed": 9747,
     "status": "ok",
     "timestamp": 1594213364897,
     "user": {
      "displayName": "sanghun oh",
      "photoUrl": "https://lh3.googleusercontent.com/a-/AOh14Ghlx86owSfLI1ysBzewc-4sBRVA0uQ32rdNEjLr1Q=s64",
      "userId": "06412681606171338922"
     },
     "user_tz": -540
    },
    "id": "Rv1hkt49F9s5",
    "outputId": "d66b058b-5bfe-4032-a52a-403d46580015"
   },
   "outputs": [
    {
     "data": {
      "text/plain": [
       "<tf.Tensor: shape=(2, 2), dtype=float32, numpy=\n",
       "array([[25.,  4.],\n",
       "       [ 1.,  9.]], dtype=float32)>"
      ]
     },
     "execution_count": 4,
     "metadata": {},
     "output_type": "execute_result"
    }
   ],
   "source": [
    "a = tf.square(a)\n",
    "a"
   ]
  },
  {
   "cell_type": "code",
   "execution_count": 5,
   "metadata": {
    "colab": {
     "base_uri": "https://localhost:8080/",
     "height": 68
    },
    "colab_type": "code",
    "executionInfo": {
     "elapsed": 9736,
     "status": "ok",
     "timestamp": 1594213364898,
     "user": {
      "displayName": "sanghun oh",
      "photoUrl": "https://lh3.googleusercontent.com/a-/AOh14Ghlx86owSfLI1ysBzewc-4sBRVA0uQ32rdNEjLr1Q=s64",
      "userId": "06412681606171338922"
     },
     "user_tz": -540
    },
    "id": "HcZR4k_pGGEC",
    "outputId": "604d41ed-c999-466c-db4e-9256ee421621"
   },
   "outputs": [
    {
     "data": {
      "text/plain": [
       "<tf.Tensor: shape=(2, 2), dtype=float32, numpy=\n",
       "array([[ 403.4288, 1096.6332],\n",
       "       [2980.958 , 8103.084 ]], dtype=float32)>"
      ]
     },
     "execution_count": 5,
     "metadata": {},
     "output_type": "execute_result"
    }
   ],
   "source": [
    "b = tf.exp(b)\n",
    "b"
   ]
  },
  {
   "cell_type": "code",
   "execution_count": 6,
   "metadata": {
    "colab": {
     "base_uri": "https://localhost:8080/",
     "height": 68
    },
    "colab_type": "code",
    "executionInfo": {
     "elapsed": 9724,
     "status": "ok",
     "timestamp": 1594213364899,
     "user": {
      "displayName": "sanghun oh",
      "photoUrl": "https://lh3.googleusercontent.com/a-/AOh14Ghlx86owSfLI1ysBzewc-4sBRVA0uQ32rdNEjLr1Q=s64",
      "userId": "06412681606171338922"
     },
     "user_tz": -540
    },
    "id": "9oZfmZiyGb7b",
    "outputId": "d56078fd-a309-4b2d-b221-83418b5df978"
   },
   "outputs": [
    {
     "data": {
      "text/plain": [
       "<tf.Variable 'Variable:0' shape=(2, 2) dtype=float32, numpy=\n",
       "array([[6., 7.],\n",
       "       [8., 9.]], dtype=float32)>"
      ]
     },
     "execution_count": 6,
     "metadata": {},
     "output_type": "execute_result"
    }
   ],
   "source": [
    "f = tf.Variable([[6., 7], [8, 9]])\n",
    "f"
   ]
  },
  {
   "cell_type": "code",
   "execution_count": 7,
   "metadata": {
    "colab": {
     "base_uri": "https://localhost:8080/",
     "height": 68
    },
    "colab_type": "code",
    "executionInfo": {
     "elapsed": 9710,
     "status": "ok",
     "timestamp": 1594213364900,
     "user": {
      "displayName": "sanghun oh",
      "photoUrl": "https://lh3.googleusercontent.com/a-/AOh14Ghlx86owSfLI1ysBzewc-4sBRVA0uQ32rdNEjLr1Q=s64",
      "userId": "06412681606171338922"
     },
     "user_tz": -540
    },
    "id": "e1fFLhe_GmF6",
    "outputId": "cc679118-2dd8-4c96-d858-78aa93d32a1e"
   },
   "outputs": [
    {
     "data": {
      "text/plain": [
       "<tf.Tensor: shape=(2, 2), dtype=float32, numpy=\n",
       "array([[ 409.4288, 1103.6332],\n",
       "       [2988.958 , 8112.084 ]], dtype=float32)>"
      ]
     },
     "execution_count": 7,
     "metadata": {},
     "output_type": "execute_result"
    }
   ],
   "source": [
    "c = f + b\n",
    "c"
   ]
  },
  {
   "cell_type": "code",
   "execution_count": 8,
   "metadata": {
    "colab": {
     "base_uri": "https://localhost:8080/",
     "height": 68
    },
    "colab_type": "code",
    "executionInfo": {
     "elapsed": 9696,
     "status": "ok",
     "timestamp": 1594213364901,
     "user": {
      "displayName": "sanghun oh",
      "photoUrl": "https://lh3.googleusercontent.com/a-/AOh14Ghlx86owSfLI1ysBzewc-4sBRVA0uQ32rdNEjLr1Q=s64",
      "userId": "06412681606171338922"
     },
     "user_tz": -540
    },
    "id": "awNKAnEQGwfq",
    "outputId": "0b58c100-2f27-4712-fde3-c6979e14ceff"
   },
   "outputs": [
    {
     "data": {
      "text/plain": [
       "<tf.Tensor: shape=(2, 2), dtype=float32, numpy=\n",
       "array([[36., 49.],\n",
       "       [64., 81.]], dtype=float32)>"
      ]
     },
     "execution_count": 8,
     "metadata": {},
     "output_type": "execute_result"
    }
   ],
   "source": [
    "f = tf.square(f)\n",
    "f"
   ]
  },
  {
   "cell_type": "markdown",
   "metadata": {
    "colab_type": "text",
    "id": "5Feq3qWoBVQW"
   },
   "source": [
    "## `GradientTape`을 사용해서 경사도를 계산하는것"
   ]
  },
  {
   "cell_type": "markdown",
   "metadata": {
    "colab_type": "text",
    "id": "JdsmOcrJBWXe"
   },
   "source": [
    "한 가지 더 Numpy와의 큰 차이점이 있습니다: 모든 미분가능한 표현에 대해서, 자동으로 경사도를 구하는 것이 가능합니다.\n",
    "\n",
    "단순히 [`GradientTape`](https://www.tensorflow.org/api_docs/python/tf/GradientTape)를 열게되면, 그때부턴 `tape.watch()`를 통해 텐서를 확인하고, 이 텐서를 입력으로써 사용하는 미분가능한 표현을 구성하는것이 가능합니다:"
   ]
  },
  {
   "cell_type": "code",
   "execution_count": 9,
   "metadata": {
    "colab": {
     "base_uri": "https://localhost:8080/",
     "height": 161
    },
    "colab_type": "code",
    "executionInfo": {
     "elapsed": 1506,
     "status": "ok",
     "timestamp": 1594366179216,
     "user": {
      "displayName": "sanghun oh",
      "photoUrl": "https://lh3.googleusercontent.com/a-/AOh14Ghlx86owSfLI1ysBzewc-4sBRVA0uQ32rdNEjLr1Q=s64",
      "userId": "06412681606171338922"
     },
     "user_tz": -540
    },
    "id": "OtH3FuvDDOAY",
    "outputId": "81357681-a1fc-4191-e41f-e0b4bb21b51b"
   },
   "outputs": [
    {
     "name": "stdout",
     "output_type": "stream",
     "text": [
      "tf.Tensor(\n",
      "[[11.  9.]\n",
      " [ 9. 12.]], shape=(2, 2), dtype=float32)\n",
      "None\n",
      "tf.Tensor(\n",
      "[[6.05 7.02]\n",
      " [8.01 9.03]], shape=(2, 2), dtype=float32)\n",
      "None\n"
     ]
    }
   ],
   "source": [
    "a = tf.Variable([[5., 2], [1, 3]])\n",
    "b = tf.Variable([[6., 7], [8, 9]])\n",
    "for i in range(2):\n",
    "  with tf.GradientTape() as tape:\n",
    "    # c = tf.sqrt(tf.square(a) + tf.square(b))\n",
    "    c = a + b\n",
    "    print(c)\n",
    "    a = a * 0.01\n",
    "    dc_da = tape.gradient(c, a)\n",
    "    # dc_db = tape.gradient(c, b)\n",
    "    print(dc_da)"
   ]
  },
  {
   "cell_type": "markdown",
   "metadata": {
    "colab_type": "text",
    "id": "dFlBGjuEDbt-"
   },
   "source": [
    "GradientTape을 중첩시켜서 고차원의 미분을 계산할 수도 있습니다:"
   ]
  },
  {
   "cell_type": "code",
   "execution_count": 10,
   "metadata": {
    "colab": {
     "base_uri": "https://localhost:8080/",
     "height": 68
    },
    "colab_type": "code",
    "executionInfo": {
     "elapsed": 9670,
     "status": "ok",
     "timestamp": 1594213364903,
     "user": {
      "displayName": "sanghun oh",
      "photoUrl": "https://lh3.googleusercontent.com/a-/AOh14Ghlx86owSfLI1ysBzewc-4sBRVA0uQ32rdNEjLr1Q=s64",
      "userId": "06412681606171338922"
     },
     "user_tz": -540
    },
    "id": "cjPcY0OIDhEA",
    "outputId": "a406f77c-05e4-4455-d0d3-db9ea7c2b26c"
   },
   "outputs": [
    {
     "ename": "TypeError",
     "evalue": "Cannot convert value None to a TensorFlow DType.",
     "output_type": "error",
     "traceback": [
      "\u001b[0;31m---------------------------------------------------------------------------\u001b[0m",
      "\u001b[0;31mTypeError\u001b[0m                                 Traceback (most recent call last)",
      "\u001b[0;32m<ipython-input-10-2ab3be3c106f>\u001b[0m in \u001b[0;36m<module>\u001b[0;34m\u001b[0m\n\u001b[1;32m      3\u001b[0m     \u001b[0mc\u001b[0m \u001b[0;34m=\u001b[0m \u001b[0mtf\u001b[0m\u001b[0;34m.\u001b[0m\u001b[0msqrt\u001b[0m\u001b[0;34m(\u001b[0m\u001b[0mtf\u001b[0m\u001b[0;34m.\u001b[0m\u001b[0msquare\u001b[0m\u001b[0;34m(\u001b[0m\u001b[0ma\u001b[0m\u001b[0;34m)\u001b[0m \u001b[0;34m+\u001b[0m \u001b[0mtf\u001b[0m\u001b[0;34m.\u001b[0m\u001b[0msquare\u001b[0m\u001b[0;34m(\u001b[0m\u001b[0mb\u001b[0m\u001b[0;34m)\u001b[0m\u001b[0;34m)\u001b[0m\u001b[0;34m\u001b[0m\u001b[0;34m\u001b[0m\u001b[0m\n\u001b[1;32m      4\u001b[0m     \u001b[0mdc_da\u001b[0m \u001b[0;34m=\u001b[0m \u001b[0mtape\u001b[0m\u001b[0;34m.\u001b[0m\u001b[0mgradient\u001b[0m\u001b[0;34m(\u001b[0m\u001b[0mc\u001b[0m\u001b[0;34m,\u001b[0m \u001b[0ma\u001b[0m\u001b[0;34m)\u001b[0m\u001b[0;34m\u001b[0m\u001b[0;34m\u001b[0m\u001b[0m\n\u001b[0;32m----> 5\u001b[0;31m   \u001b[0md2c_da2\u001b[0m \u001b[0;34m=\u001b[0m \u001b[0mouter_tape\u001b[0m\u001b[0;34m.\u001b[0m\u001b[0mgradient\u001b[0m\u001b[0;34m(\u001b[0m\u001b[0mdc_da\u001b[0m\u001b[0;34m,\u001b[0m \u001b[0ma\u001b[0m\u001b[0;34m)\u001b[0m\u001b[0;34m\u001b[0m\u001b[0;34m\u001b[0m\u001b[0m\n\u001b[0m\u001b[1;32m      6\u001b[0m   \u001b[0mprint\u001b[0m\u001b[0;34m(\u001b[0m\u001b[0md2c_da2\u001b[0m\u001b[0;34m)\u001b[0m\u001b[0;34m\u001b[0m\u001b[0;34m\u001b[0m\u001b[0m\n",
      "\u001b[0;32m/usr/local/lib/python3.8/site-packages/tensorflow/python/eager/backprop.py\u001b[0m in \u001b[0;36mgradient\u001b[0;34m(self, target, sources, output_gradients, unconnected_gradients)\u001b[0m\n\u001b[1;32m   1032\u001b[0m     \u001b[0mflat_targets\u001b[0m \u001b[0;34m=\u001b[0m \u001b[0;34m[\u001b[0m\u001b[0;34m]\u001b[0m\u001b[0;34m\u001b[0m\u001b[0;34m\u001b[0m\u001b[0m\n\u001b[1;32m   1033\u001b[0m     \u001b[0;32mfor\u001b[0m \u001b[0mt\u001b[0m \u001b[0;32min\u001b[0m \u001b[0mnest\u001b[0m\u001b[0;34m.\u001b[0m\u001b[0mflatten\u001b[0m\u001b[0;34m(\u001b[0m\u001b[0mtarget\u001b[0m\u001b[0;34m)\u001b[0m\u001b[0;34m:\u001b[0m\u001b[0;34m\u001b[0m\u001b[0;34m\u001b[0m\u001b[0m\n\u001b[0;32m-> 1034\u001b[0;31m       \u001b[0;32mif\u001b[0m \u001b[0;32mnot\u001b[0m \u001b[0mbackprop_util\u001b[0m\u001b[0;34m.\u001b[0m\u001b[0mIsTrainable\u001b[0m\u001b[0;34m(\u001b[0m\u001b[0mt\u001b[0m\u001b[0;34m)\u001b[0m\u001b[0;34m:\u001b[0m\u001b[0;34m\u001b[0m\u001b[0;34m\u001b[0m\u001b[0m\n\u001b[0m\u001b[1;32m   1035\u001b[0m         logging.vlog(\n\u001b[1;32m   1036\u001b[0m             \u001b[0mlogging\u001b[0m\u001b[0;34m.\u001b[0m\u001b[0mWARN\u001b[0m\u001b[0;34m,\u001b[0m \u001b[0;34m\"The dtype of the target tensor must be \"\u001b[0m\u001b[0;34m\u001b[0m\u001b[0;34m\u001b[0m\u001b[0m\n",
      "\u001b[0;32m/usr/local/lib/python3.8/site-packages/tensorflow/python/eager/backprop_util.py\u001b[0m in \u001b[0;36mIsTrainable\u001b[0;34m(tensor_or_dtype)\u001b[0m\n\u001b[1;32m     28\u001b[0m   \u001b[0;32melse\u001b[0m\u001b[0;34m:\u001b[0m\u001b[0;34m\u001b[0m\u001b[0;34m\u001b[0m\u001b[0m\n\u001b[1;32m     29\u001b[0m     \u001b[0mdtype\u001b[0m \u001b[0;34m=\u001b[0m \u001b[0mtensor_or_dtype\u001b[0m\u001b[0;34m\u001b[0m\u001b[0;34m\u001b[0m\u001b[0m\n\u001b[0;32m---> 30\u001b[0;31m   \u001b[0mdtype\u001b[0m \u001b[0;34m=\u001b[0m \u001b[0mdtypes\u001b[0m\u001b[0;34m.\u001b[0m\u001b[0mas_dtype\u001b[0m\u001b[0;34m(\u001b[0m\u001b[0mdtype\u001b[0m\u001b[0;34m)\u001b[0m\u001b[0;34m\u001b[0m\u001b[0;34m\u001b[0m\u001b[0m\n\u001b[0m\u001b[1;32m     31\u001b[0m   return dtype.base_dtype in (dtypes.float16, dtypes.float32, dtypes.float64,\n\u001b[1;32m     32\u001b[0m                               \u001b[0mdtypes\u001b[0m\u001b[0;34m.\u001b[0m\u001b[0mcomplex64\u001b[0m\u001b[0;34m,\u001b[0m \u001b[0mdtypes\u001b[0m\u001b[0;34m.\u001b[0m\u001b[0mcomplex128\u001b[0m\u001b[0;34m,\u001b[0m\u001b[0;34m\u001b[0m\u001b[0;34m\u001b[0m\u001b[0m\n",
      "\u001b[0;32m/usr/local/lib/python3.8/site-packages/tensorflow/python/framework/dtypes.py\u001b[0m in \u001b[0;36mas_dtype\u001b[0;34m(type_value)\u001b[0m\n\u001b[1;32m    647\u001b[0m     \u001b[0;32mreturn\u001b[0m \u001b[0m_INTERN_TABLE\u001b[0m\u001b[0;34m[\u001b[0m\u001b[0mtype_value\u001b[0m\u001b[0;34m.\u001b[0m\u001b[0mas_datatype_enum\u001b[0m\u001b[0;34m]\u001b[0m\u001b[0;34m\u001b[0m\u001b[0;34m\u001b[0m\u001b[0m\n\u001b[1;32m    648\u001b[0m \u001b[0;34m\u001b[0m\u001b[0m\n\u001b[0;32m--> 649\u001b[0;31m   raise TypeError(\"Cannot convert value %r to a TensorFlow DType.\" %\n\u001b[0m\u001b[1;32m    650\u001b[0m                   (type_value,))\n",
      "\u001b[0;31mTypeError\u001b[0m: Cannot convert value None to a TensorFlow DType."
     ]
    }
   ],
   "source": [
    "with tf.GradientTape() as outer_tape:\n",
    "  with tf.GradientTape() as tape:\n",
    "    c = tf.sqrt(tf.square(a) + tf.square(b))\n",
    "    dc_da = tape.gradient(c, a)\n",
    "  d2c_da2 = outer_tape.gradient(dc_da, a)\n",
    "  print(d2c_da2)"
   ]
  },
  {
   "cell_type": "markdown",
   "metadata": {
    "colab_type": "text",
    "id": "KC5RgwGeBP-9"
   },
   "source": [
    "## end-to-end 예제: 선형 회귀"
   ]
  },
  {
   "cell_type": "markdown",
   "metadata": {
    "colab_type": "text",
    "id": "Owbx4mlEErNN"
   },
   "source": [
    "지금까지 TensorFlow는 Numpy와 비슷한 라이브러리인데, 추가적으로 GPU 또는 TPU를 통해 가속될 수 있고, 자동으로 미분이 계산된다는 내용을 배웠습니다. 그러면 이제는 end-to-end 예제를 알아볼 시간입니다: 머신러닝의 피즈버즈인, 선형 회귀를 구현해 봅시다. \n",
    "\n",
    "이를 보여주기 위해서, `Layer` 또는 `MeanSquaredError`와 같은 Keras의 고수준 컴포넌트를 사용하지 않을 것입니다. 단지 기본적인 연산자만을 사용합니다."
   ]
  },
  {
   "cell_type": "code",
   "execution_count": 11,
   "metadata": {
    "colab": {},
    "colab_type": "code",
    "id": "Uhitqoj2FH8U"
   },
   "outputs": [],
   "source": [
    "import tensorflow as tf\n",
    "import numpy as np\n",
    "\n",
    "input_dim = 2\n",
    "output_dim = 1\n",
    "learning_rate = 0.01\n",
    "\n",
    "# 가중치 행렬입니다\n",
    "w = tf.Variable(tf.random.uniform(shape=(input_dim, output_dim)))\n",
    "# 편향 벡터입니다\n",
    "b = tf.Variable(tf.zeros(shape=(output_dim,)))\n",
    "\n",
    "def compute_predictions(features):\n",
    "  result = tf.matmul(features, w) + b\n",
    "  print('compute_predictions :',w, b, result)\n",
    "  return result\n",
    "\n",
    "def compute_loss(labels, predictions):\n",
    "  result = tf.reduce_mean(tf.square(labels - predictions))\n",
    "  # print(w, b, result)\n",
    "  return result\n",
    "\n",
    "# @tf.function\n",
    "def train_on_batch(x, y):\n",
    "  with tf.GradientTape() as tape:\n",
    "    predictions = compute_predictions(x)\n",
    "    loss = compute_loss(y, predictions)\n",
    "    print(y.shape, predictions.shape, loss.shape)\n",
    "    dloss_dw, dloss_db = tape.gradient(loss, [w, b])\n",
    "  w.assign_sub(learning_rate * dloss_dw)\n",
    "  b.assign_sub(learning_rate * dloss_db)\n",
    "  # print('train_on_batch : ', w, b)\n",
    "  return loss"
   ]
  },
  {
   "cell_type": "code",
   "execution_count": 12,
   "metadata": {
    "colab": {
     "base_uri": "https://localhost:8080/",
     "height": 89
    },
    "colab_type": "code",
    "executionInfo": {
     "elapsed": 1975,
     "status": "ok",
     "timestamp": 1594366304201,
     "user": {
      "displayName": "sanghun oh",
      "photoUrl": "https://lh3.googleusercontent.com/a-/AOh14Ghlx86owSfLI1ysBzewc-4sBRVA0uQ32rdNEjLr1Q=s64",
      "userId": "06412681606171338922"
     },
     "user_tz": -540
    },
    "id": "8kcVn-Qvov5P",
    "outputId": "e54daaac-c420-43fa-dfda-3ec69eec6342"
   },
   "outputs": [
    {
     "data": {
      "text/plain": [
       "(<tf.Variable 'Variable:0' shape=(2, 1) dtype=float32, numpy=\n",
       " array([[0.15090346],\n",
       "        [0.61977184]], dtype=float32)>,\n",
       " <tf.Variable 'Variable:0' shape=(1,) dtype=float32, numpy=array([0.], dtype=float32)>)"
      ]
     },
     "execution_count": 12,
     "metadata": {},
     "output_type": "execute_result"
    }
   ],
   "source": [
    "w, b"
   ]
  },
  {
   "cell_type": "code",
   "execution_count": 13,
   "metadata": {
    "colab": {
     "base_uri": "https://localhost:8080/",
     "height": 475
    },
    "colab_type": "code",
    "executionInfo": {
     "elapsed": 2160,
     "status": "ok",
     "timestamp": 1594365233697,
     "user": {
      "displayName": "sanghun oh",
      "photoUrl": "https://lh3.googleusercontent.com/a-/AOh14Ghlx86owSfLI1ysBzewc-4sBRVA0uQ32rdNEjLr1Q=s64",
      "userId": "06412681606171338922"
     },
     "user_tz": -540
    },
    "id": "aTewXx-zhZyh",
    "outputId": "5f605737-6a8f-48b6-a96e-595cc60f6180"
   },
   "outputs": [
    {
     "data": {
      "text/html": [
       "<div>\n",
       "<style scoped>\n",
       "    .dataframe tbody tr th:only-of-type {\n",
       "        vertical-align: middle;\n",
       "    }\n",
       "\n",
       "    .dataframe tbody tr th {\n",
       "        vertical-align: top;\n",
       "    }\n",
       "\n",
       "    .dataframe thead th {\n",
       "        text-align: right;\n",
       "    }\n",
       "</style>\n",
       "<table border=\"1\" class=\"dataframe\">\n",
       "  <thead>\n",
       "    <tr style=\"text-align: right;\">\n",
       "      <th></th>\n",
       "      <th>sepal_length</th>\n",
       "      <th>sepal_width</th>\n",
       "      <th>petal_length</th>\n",
       "      <th>petal_width</th>\n",
       "      <th>species</th>\n",
       "    </tr>\n",
       "  </thead>\n",
       "  <tbody>\n",
       "    <tr>\n",
       "      <th>0</th>\n",
       "      <td>5.1</td>\n",
       "      <td>3.5</td>\n",
       "      <td>1.4</td>\n",
       "      <td>0.2</td>\n",
       "      <td>setosa</td>\n",
       "    </tr>\n",
       "    <tr>\n",
       "      <th>1</th>\n",
       "      <td>4.9</td>\n",
       "      <td>3.0</td>\n",
       "      <td>1.4</td>\n",
       "      <td>0.2</td>\n",
       "      <td>setosa</td>\n",
       "    </tr>\n",
       "    <tr>\n",
       "      <th>2</th>\n",
       "      <td>4.7</td>\n",
       "      <td>3.2</td>\n",
       "      <td>1.3</td>\n",
       "      <td>0.2</td>\n",
       "      <td>setosa</td>\n",
       "    </tr>\n",
       "    <tr>\n",
       "      <th>3</th>\n",
       "      <td>4.6</td>\n",
       "      <td>3.1</td>\n",
       "      <td>1.5</td>\n",
       "      <td>0.2</td>\n",
       "      <td>setosa</td>\n",
       "    </tr>\n",
       "    <tr>\n",
       "      <th>4</th>\n",
       "      <td>5.0</td>\n",
       "      <td>3.6</td>\n",
       "      <td>1.4</td>\n",
       "      <td>0.2</td>\n",
       "      <td>setosa</td>\n",
       "    </tr>\n",
       "    <tr>\n",
       "      <th>...</th>\n",
       "      <td>...</td>\n",
       "      <td>...</td>\n",
       "      <td>...</td>\n",
       "      <td>...</td>\n",
       "      <td>...</td>\n",
       "    </tr>\n",
       "    <tr>\n",
       "      <th>145</th>\n",
       "      <td>6.7</td>\n",
       "      <td>3.0</td>\n",
       "      <td>5.2</td>\n",
       "      <td>2.3</td>\n",
       "      <td>virginica</td>\n",
       "    </tr>\n",
       "    <tr>\n",
       "      <th>146</th>\n",
       "      <td>6.3</td>\n",
       "      <td>2.5</td>\n",
       "      <td>5.0</td>\n",
       "      <td>1.9</td>\n",
       "      <td>virginica</td>\n",
       "    </tr>\n",
       "    <tr>\n",
       "      <th>147</th>\n",
       "      <td>6.5</td>\n",
       "      <td>3.0</td>\n",
       "      <td>5.2</td>\n",
       "      <td>2.0</td>\n",
       "      <td>virginica</td>\n",
       "    </tr>\n",
       "    <tr>\n",
       "      <th>148</th>\n",
       "      <td>6.2</td>\n",
       "      <td>3.4</td>\n",
       "      <td>5.4</td>\n",
       "      <td>2.3</td>\n",
       "      <td>virginica</td>\n",
       "    </tr>\n",
       "    <tr>\n",
       "      <th>149</th>\n",
       "      <td>5.9</td>\n",
       "      <td>3.0</td>\n",
       "      <td>5.1</td>\n",
       "      <td>1.8</td>\n",
       "      <td>virginica</td>\n",
       "    </tr>\n",
       "  </tbody>\n",
       "</table>\n",
       "<p>150 rows × 5 columns</p>\n",
       "</div>"
      ],
      "text/plain": [
       "     sepal_length  sepal_width  petal_length  petal_width    species\n",
       "0             5.1          3.5           1.4          0.2     setosa\n",
       "1             4.9          3.0           1.4          0.2     setosa\n",
       "2             4.7          3.2           1.3          0.2     setosa\n",
       "3             4.6          3.1           1.5          0.2     setosa\n",
       "4             5.0          3.6           1.4          0.2     setosa\n",
       "..            ...          ...           ...          ...        ...\n",
       "145           6.7          3.0           5.2          2.3  virginica\n",
       "146           6.3          2.5           5.0          1.9  virginica\n",
       "147           6.5          3.0           5.2          2.0  virginica\n",
       "148           6.2          3.4           5.4          2.3  virginica\n",
       "149           5.9          3.0           5.1          1.8  virginica\n",
       "\n",
       "[150 rows x 5 columns]"
      ]
     },
     "execution_count": 13,
     "metadata": {},
     "output_type": "execute_result"
    }
   ],
   "source": [
    "import seaborn as sns\n",
    "iris = sns.load_dataset('iris')\n",
    "iris"
   ]
  },
  {
   "cell_type": "code",
   "execution_count": 14,
   "metadata": {
    "colab": {
     "base_uri": "https://localhost:8080/",
     "height": 251
    },
    "colab_type": "code",
    "executionInfo": {
     "elapsed": 1517,
     "status": "ok",
     "timestamp": 1594365238134,
     "user": {
      "displayName": "sanghun oh",
      "photoUrl": "https://lh3.googleusercontent.com/a-/AOh14Ghlx86owSfLI1ysBzewc-4sBRVA0uQ32rdNEjLr1Q=s64",
      "userId": "06412681606171338922"
     },
     "user_tz": -540
    },
    "id": "IPEBRMZvh9bW",
    "outputId": "af957616-9ed4-4807-b726-4f158f7d587b"
   },
   "outputs": [
    {
     "name": "stdout",
     "output_type": "stream",
     "text": [
      "<class 'pandas.core.frame.DataFrame'>\n",
      "Int64Index: 100 entries, 50 to 149\n",
      "Data columns (total 5 columns):\n",
      " #   Column        Non-Null Count  Dtype  \n",
      "---  ------        --------------  -----  \n",
      " 0   sepal_length  100 non-null    float64\n",
      " 1   sepal_width   100 non-null    float64\n",
      " 2   petal_length  100 non-null    float64\n",
      " 3   petal_width   100 non-null    float64\n",
      " 4   species       100 non-null    object \n",
      "dtypes: float64(4), object(1)\n",
      "memory usage: 4.7+ KB\n"
     ]
    },
    {
     "data": {
      "text/plain": [
       "(None, array(['versicolor', 'virginica'], dtype=object))"
      ]
     },
     "execution_count": 14,
     "metadata": {},
     "output_type": "execute_result"
    }
   ],
   "source": [
    "df = iris[iris.species != 'setosa']\n",
    "df.info(), df.species.unique()"
   ]
  },
  {
   "cell_type": "code",
   "execution_count": 15,
   "metadata": {
    "colab": {
     "base_uri": "https://localhost:8080/",
     "height": 283
    },
    "colab_type": "code",
    "executionInfo": {
     "elapsed": 1743,
     "status": "ok",
     "timestamp": 1594365240400,
     "user": {
      "displayName": "sanghun oh",
      "photoUrl": "https://lh3.googleusercontent.com/a-/AOh14Ghlx86owSfLI1ysBzewc-4sBRVA0uQ32rdNEjLr1Q=s64",
      "userId": "06412681606171338922"
     },
     "user_tz": -540
    },
    "id": "5bMm4xMBigck",
    "outputId": "f93cf336-e38a-4af7-87f2-ad2448cd9e10"
   },
   "outputs": [
    {
     "data": {
      "text/plain": [
       "<matplotlib.collections.PathCollection at 0x13afbfd60>"
      ]
     },
     "execution_count": 15,
     "metadata": {},
     "output_type": "execute_result"
    },
    {
     "data": {
      "image/png": "[encoded data removed]",
      "text/plain": [
       "<Figure size 432x288 with 1 Axes>"
      ]
     },
     "metadata": {
      "needs_background": "light"
     },
     "output_type": "display_data"
    }
   ],
   "source": [
    "features = df[['sepal_length', 'sepal_width']].values.astype(np.float32)\n",
    "labels = df['species'].map({'versicolor': 1, 'virginica': 0}).values.astype(np.float32)\n",
    "import matplotlib.pyplot as plt\n",
    "plt.scatter(features[:, 0], features[:, 1], c=labels)"
   ]
  },
  {
   "cell_type": "code",
   "execution_count": 16,
   "metadata": {
    "colab": {
     "base_uri": "https://localhost:8080/",
     "height": 197
    },
    "colab_type": "code",
    "executionInfo": {
     "elapsed": 1411,
     "status": "ok",
     "timestamp": 1594365241217,
     "user": {
      "displayName": "sanghun oh",
      "photoUrl": "https://lh3.googleusercontent.com/a-/AOh14Ghlx86owSfLI1ysBzewc-4sBRVA0uQ32rdNEjLr1Q=s64",
      "userId": "06412681606171338922"
     },
     "user_tz": -540
    },
    "id": "JGawJBs0jsVf",
    "outputId": "7d234889-f9c1-4afd-95e9-3ee861569e03"
   },
   "outputs": [
    {
     "data": {
      "text/plain": [
       "(numpy.ndarray,\n",
       " 100,\n",
       " dtype('float32'),\n",
       " array([1., 1., 1., 1., 1., 1., 1., 1., 1., 1., 1., 1., 1., 1., 1., 1., 1.,\n",
       "        1., 1., 1., 1., 1., 1., 1., 1., 1., 1., 1., 1., 1., 1., 1., 1., 1.,\n",
       "        1., 1., 1., 1., 1., 1., 1., 1., 1., 1., 1., 1., 1., 1., 1., 1., 0.,\n",
       "        0., 0., 0., 0., 0., 0., 0., 0., 0., 0., 0., 0., 0., 0., 0., 0., 0.,\n",
       "        0., 0., 0., 0., 0., 0., 0., 0., 0., 0., 0., 0., 0., 0., 0., 0., 0.,\n",
       "        0., 0., 0., 0., 0., 0., 0., 0., 0., 0., 0., 0., 0., 0., 0.],\n",
       "       dtype=float32))"
      ]
     },
     "execution_count": 16,
     "metadata": {},
     "output_type": "execute_result"
    }
   ],
   "source": [
    "type(features), len(features), features.dtype, labels"
   ]
  },
  {
   "cell_type": "code",
   "execution_count": 17,
   "metadata": {
    "colab": {},
    "colab_type": "code",
    "id": "DRQ8otiHIS2N"
   },
   "outputs": [],
   "source": [
    "dataset = tf.data.Dataset.from_tensor_slices((features, labels))\n",
    "# 데이터를 무작위로 섞습니다\n",
    "# random.Random(1337).shuffle(features)\n",
    "# random.Random(1337).shuffle(labels)\n",
    "\n",
    "# 손쉽게 배치화된 반복을 위해, tf.data.Dataset 객체를 생성합니다\n",
    "dataset = tf.data.Dataset.from_tensor_slices((features, labels))\n",
    "dataset = dataset.shuffle(buffer_size=100).batch(20)"
   ]
  },
  {
   "cell_type": "code",
   "execution_count": 18,
   "metadata": {
    "colab": {
     "base_uri": "https://localhost:8080/",
     "height": 53
    },
    "colab_type": "code",
    "executionInfo": {
     "elapsed": 1502,
     "status": "ok",
     "timestamp": 1594365245724,
     "user": {
      "displayName": "sanghun oh",
      "photoUrl": "https://lh3.googleusercontent.com/a-/AOh14Ghlx86owSfLI1ysBzewc-4sBRVA0uQ32rdNEjLr1Q=s64",
      "userId": "06412681606171338922"
     },
     "user_tz": -540
    },
    "id": "V1nSuKj9R8S_",
    "outputId": "89dce681-327b-46c4-fb81-50e86f0ef982"
   },
   "outputs": [
    {
     "data": {
      "text/plain": [
       "(TensorSpec(shape=(None, 2), dtype=tf.float32, name=None),\n",
       " TensorSpec(shape=(None,), dtype=tf.float32, name=None))"
      ]
     },
     "execution_count": 18,
     "metadata": {},
     "output_type": "execute_result"
    }
   ],
   "source": [
    "dataset.element_spec"
   ]
  },
  {
   "cell_type": "code",
   "execution_count": 19,
   "metadata": {
    "colab": {
     "base_uri": "https://localhost:8080/",
     "height": 809
    },
    "colab_type": "code",
    "executionInfo": {
     "elapsed": 1480,
     "status": "ok",
     "timestamp": 1594365250149,
     "user": {
      "displayName": "sanghun oh",
      "photoUrl": "https://lh3.googleusercontent.com/a-/AOh14Ghlx86owSfLI1ysBzewc-4sBRVA0uQ32rdNEjLr1Q=s64",
      "userId": "06412681606171338922"
     },
     "user_tz": -540
    },
    "id": "AQB9oXoNQ7dL",
    "outputId": "7d36b91f-e174-4285-866b-f76afc5c72d6"
   },
   "outputs": [
    {
     "data": {
      "text/plain": [
       "[(array([[6.7, 3.1],\n",
       "         [7.7, 3. ],\n",
       "         [6.7, 3.3],\n",
       "         [6.7, 3. ],\n",
       "         [5.1, 2.5],\n",
       "         [6.2, 2.9],\n",
       "         [6.7, 3. ],\n",
       "         [6.7, 3.1],\n",
       "         [5.4, 3. ],\n",
       "         [6.4, 2.7],\n",
       "         [6.3, 2.3],\n",
       "         [6.4, 3.2],\n",
       "         [6.9, 3.1],\n",
       "         [5.5, 2.4],\n",
       "         [5.9, 3. ],\n",
       "         [6. , 3.4],\n",
       "         [5.7, 2.9],\n",
       "         [5.5, 2.6],\n",
       "         [7.4, 2.8],\n",
       "         [7.7, 2.8]], dtype=float32),\n",
       "  array([0., 0., 0., 0., 1., 1., 1., 1., 1., 0., 1., 0., 0., 1., 0., 1., 1.,\n",
       "         1., 0., 0.], dtype=float32)),\n",
       " (array([[7.7, 3.8],\n",
       "         [5.8, 2.7],\n",
       "         [5.8, 2.7],\n",
       "         [6.2, 2.2],\n",
       "         [5.6, 2.7],\n",
       "         [6.5, 3. ],\n",
       "         [6.1, 3. ],\n",
       "         [5.5, 2.4],\n",
       "         [6.4, 3.1],\n",
       "         [7.2, 3. ],\n",
       "         [4.9, 2.4],\n",
       "         [7.3, 2.9],\n",
       "         [6.3, 2.5],\n",
       "         [6.1, 2.9],\n",
       "         [6.3, 2.8],\n",
       "         [5.7, 2.8],\n",
       "         [5.9, 3. ],\n",
       "         [5.5, 2.5],\n",
       "         [6.3, 2.7],\n",
       "         [6. , 2.2]], dtype=float32),\n",
       "  array([0., 0., 0., 1., 1., 0., 0., 1., 0., 0., 1., 0., 1., 1., 0., 1., 1.,\n",
       "         1., 0., 0.], dtype=float32))]"
      ]
     },
     "execution_count": 19,
     "metadata": {},
     "output_type": "execute_result"
    }
   ],
   "source": [
    "list(dataset.as_numpy_iterator())[:2]"
   ]
  },
  {
   "cell_type": "code",
   "execution_count": 20,
   "metadata": {
    "colab": {
     "base_uri": "https://localhost:8080/",
     "height": 1000
    },
    "colab_type": "code",
    "executionInfo": {
     "elapsed": 1528,
     "status": "ok",
     "timestamp": 1594365343656,
     "user": {
      "displayName": "sanghun oh",
      "photoUrl": "https://lh3.googleusercontent.com/a-/AOh14Ghlx86owSfLI1ysBzewc-4sBRVA0uQ32rdNEjLr1Q=s64",
      "userId": "06412681606171338922"
     },
     "user_tz": -540
    },
    "id": "YsHszjjaJDQZ",
    "outputId": "e0d299ba-2731-475f-e00c-1922fc909a75"
   },
   "outputs": [
    {
     "name": "stdout",
     "output_type": "stream",
     "text": [
      "compute_predictions : <tf.Variable 'Variable:0' shape=(2, 1) dtype=float32, numpy=\n",
      "array([[0.15090346],\n",
      "       [0.61977184]], dtype=float32)> <tf.Variable 'Variable:0' shape=(1,) dtype=float32, numpy=array([0.], dtype=float32)> tf.Tensor(\n",
      "[[2.7615047]\n",
      " [2.3174214]\n",
      " [2.6741943]\n",
      " [2.840188 ]\n",
      " [3.0395942]\n",
      " [2.2554443]\n",
      " [2.4866467]\n",
      " [2.8703687]\n",
      " [2.548624 ]\n",
      " [3.0061817]\n",
      " [3.0579162]\n",
      " [2.897318 ]\n",
      " [2.4413757]\n",
      " [2.7194653]\n",
      " [3.012645 ]\n",
      " [2.595511 ]\n",
      " [3.0563002]\n",
      " [2.949052 ]\n",
      " [2.6423979]\n",
      " [2.7162337]], shape=(20, 1), dtype=float32)\n",
      "(20,) (20, 1) ()\n",
      "compute_predictions : <tf.Variable 'Variable:0' shape=(2, 1) dtype=float32, numpy=\n",
      "array([[-0.11260968],\n",
      "       [ 0.49655727]], dtype=float32)> <tf.Variable 'Variable:0' shape=(1,) dtype=float32, numpy=array([-0.04188838], dtype=float32)> tf.Tensor(\n",
      "[[0.815132  ]\n",
      " [0.8873096 ]\n",
      " [0.7178578 ]\n",
      " [0.44501993]\n",
      " [0.72043234]\n",
      " [0.39075235]\n",
      " [0.5760771 ]\n",
      " [0.77008814]\n",
      " [0.62519544]\n",
      " [0.5893753 ]\n",
      " [0.6953358 ]\n",
      " [0.49006382]\n",
      " [0.62777   ]\n",
      " [0.7065968 ]\n",
      " [0.74295425]\n",
      " [0.56224144]\n",
      " [0.7224697 ]\n",
      " [0.81716925]\n",
      " [0.6072853 ]\n",
      " [0.6615529 ]], shape=(20, 1), dtype=float32)\n",
      "(20,) (20, 1) ()\n",
      "compute_predictions : <tf.Variable 'Variable:0' shape=(2, 1) dtype=float32, numpy=\n",
      "array([[-0.1446141 ],\n",
      "       [ 0.48138562]], dtype=float32)> <tf.Variable 'Variable:0' shape=(1,) dtype=float32, numpy=array([-0.04705906], dtype=float32)> tf.Tensor(\n",
      "[[0.5197061 ]\n",
      " [0.32715183]\n",
      " [0.36102742]\n",
      " [0.47632188]\n",
      " [0.44779587]\n",
      " [0.39450628]\n",
      " [0.5149518 ]\n",
      " [0.38975185]\n",
      " [0.44739902]\n",
      " [0.41392028]\n",
      " [0.35587633]\n",
      " [0.5438746 ]\n",
      " [0.41392028]\n",
      " [0.64015174]\n",
      " [0.34656602]\n",
      " [0.524659  ]\n",
      " [0.42342907]\n",
      " [0.45215344]\n",
      " [0.69304466]\n",
      " [0.33705735]], shape=(20, 1), dtype=float32)\n",
      "(20,) (20, 1) ()\n",
      "compute_predictions : <tf.Variable 'Variable:0' shape=(2, 1) dtype=float32, numpy=\n",
      "array([[-0.12642112],\n",
      "       [ 0.48954815]], dtype=float32)> <tf.Variable 'Variable:0' shape=(1,) dtype=float32, numpy=array([-0.04408233], dtype=float32)> tf.Tensor(\n",
      "[[0.25530016]\n",
      " [0.52697206]\n",
      " [0.5917964 ]\n",
      " [0.55548364]\n",
      " [0.6786774 ]\n",
      " [0.72440505]\n",
      " [0.3911361 ]\n",
      " [0.59018266]\n",
      " [0.6044385 ]\n",
      " [0.435517  ]\n",
      " [0.2743969 ]\n",
      " [0.54445505]\n",
      " [0.8080589 ]\n",
      " [0.62649536]\n",
      " [0.81747365]\n",
      " [0.4591877 ]\n",
      " [0.56973934]\n",
      " [0.6203078 ]\n",
      " [0.71660376]\n",
      " [0.5648984 ]], shape=(20, 1), dtype=float32)\n",
      "(20,) (20, 1) ()\n",
      "compute_predictions : <tf.Variable 'Variable:0' shape=(2, 1) dtype=float32, numpy=\n",
      "array([[-0.12879138],\n",
      "       [ 0.48760462]], dtype=float32)> <tf.Variable 'Variable:0' shape=(1,) dtype=float32, numpy=array([-0.04443786], dtype=float32)> tf.Tensor(\n",
      "[[0.69163215]\n",
      " [0.6327486 ]\n",
      " [0.57847595]\n",
      " [0.81676614]\n",
      " [0.6401155 ]\n",
      " [0.5554738 ]\n",
      " [0.42668244]\n",
      " [0.5223485 ]\n",
      " [0.5582299 ]\n",
      " [0.28681448]\n",
      " [0.4947355 ]\n",
      " [0.5812321 ]\n",
      " [0.64562774]\n",
      " [0.363188  ]\n",
      " [0.7532717 ]\n",
      " [0.22978583]\n",
      " [0.4993464 ]\n",
      " [0.49659023]\n",
      " [0.5812321 ]\n",
      " [0.2555441 ]], shape=(20, 1), dtype=float32)\n",
      "(20,) (20, 1) ()\n",
      "Take Time Per epoch: 0.006 sec\n"
     ]
    }
   ],
   "source": [
    "import time\n",
    "\n",
    "t0 = time.time()\n",
    "for epoch in range(1):\n",
    "  for step, (x, y) in enumerate(dataset):\n",
    "    loss = train_on_batch(x, y)\n",
    "t_end = time.time() - t0\n",
    "print('Take Time Per epoch: %.3f sec' % (t_end / 20,))\n",
    "\n",
    "# without @tf.function\n",
    "# epoch당 걸린 시간: 0.005 초\n",
    "# within @tf.function\n",
    "# epoch당 걸린 시간: 0.004 초"
   ]
  },
  {
   "cell_type": "markdown",
   "metadata": {
    "colab_type": "text",
    "id": "zIDDhTcyJwSM"
   },
   "source": [
    "아래는 우리가 만든 모델이 얼마나 잘 동작하는지를 보여줍니다:"
   ]
  },
  {
   "cell_type": "code",
   "execution_count": 21,
   "metadata": {
    "colab": {
     "base_uri": "https://localhost:8080/",
     "height": 282
    },
    "colab_type": "code",
    "executionInfo": {
     "elapsed": 12772,
     "status": "ok",
     "timestamp": 1594213368091,
     "user": {
      "displayName": "sanghun oh",
      "photoUrl": "https://lh3.googleusercontent.com/a-/AOh14Ghlx86owSfLI1ysBzewc-4sBRVA0uQ32rdNEjLr1Q=s64",
      "userId": "06412681606171338922"
     },
     "user_tz": -540
    },
    "id": "oBPYQpskJxxT",
    "outputId": "be140014-a4ed-4b05-a78e-846d66ffcc4e"
   },
   "outputs": [
    {
     "name": "stdout",
     "output_type": "stream",
     "text": [
      "compute_predictions : <tf.Variable 'Variable:0' shape=(2, 1) dtype=float32, numpy=\n",
      "array([[-0.15885745],\n",
      "       [ 0.47326443]], dtype=float32)> <tf.Variable 'Variable:0' shape=(1,) dtype=float32, numpy=array([-0.0490477], dtype=float32)> tf.Tensor(\n",
      "[[ 0.3533963 ]\n",
      " [ 0.44871068]\n",
      " [ 0.32195556]\n",
      " [ 0.16574444]\n",
      " [ 0.2435192 ]\n",
      " [ 0.37060523]\n",
      " [ 0.51192296]\n",
      " [ 0.3083855 ]\n",
      " [ 0.27496004]\n",
      " [ 0.40270764]\n",
      " [ 0.10319389]\n",
      " [ 0.43348658]\n",
      " [ 0.03898944]\n",
      " [ 0.35438877]\n",
      " [ 0.4338175 ]\n",
      " [ 0.3537271 ]\n",
      " [ 0.48114383]\n",
      " [ 0.30739307]\n",
      " [ 0.00721795]\n",
      " [ 0.24451162]\n",
      " [ 0.5281395 ]\n",
      " [ 0.3070622 ]\n",
      " [ 0.1333114 ]\n",
      " [ 0.3070622 ]\n",
      " [ 0.30673146]\n",
      " [ 0.32228637]\n",
      " [ 0.19586195]\n",
      " [ 0.30640066]\n",
      " [ 0.37027454]\n",
      " [ 0.27595234]\n",
      " [ 0.213071  ]\n",
      " [ 0.213071  ]\n",
      " [ 0.30739307]\n",
      " [ 0.27562165]\n",
      " [ 0.5129153 ]\n",
      " [ 0.6069068 ]\n",
      " [ 0.3537271 ]\n",
      " [ 0.03865851]\n",
      " [ 0.48114383]\n",
      " [ 0.26039732]\n",
      " [ 0.30772376]\n",
      " [ 0.4017151 ]\n",
      " [ 0.2600665 ]\n",
      " [ 0.24517317]\n",
      " [ 0.3391646 ]\n",
      " [ 0.46525812]\n",
      " [ 0.4179318 ]\n",
      " [ 0.33850306]\n",
      " [ 0.32394034]\n",
      " [ 0.37060523]\n",
      " [ 0.51192296]\n",
      " [ 0.30739307]\n",
      " [ 0.24285771]\n",
      " [ 0.3226173 ]\n",
      " [ 0.33817208]\n",
      " [ 0.16342892]\n",
      " [ 0.35571182]\n",
      " [ 0.16375984]\n",
      " [ 0.06976844]\n",
      " [ 0.51093066]\n",
      " [ 0.43282497]\n",
      " [ 0.21207859]\n",
      " [ 0.29051483]\n",
      " [ 0.22862591]\n",
      " [ 0.3547194 ]\n",
      " [ 0.44871068]\n",
      " [ 0.33817208]\n",
      " [ 0.52615476]\n",
      " [-0.04176258]\n",
      " [ 0.03898944]\n",
      " [ 0.369282  ]\n",
      " [ 0.38649094]\n",
      " [ 0.05289031]\n",
      " [ 0.22796442]\n",
      " [ 0.44838   ]\n",
      " [ 0.32162488]\n",
      " [ 0.2911765 ]\n",
      " [ 0.4017151 ]\n",
      " [ 0.2594049 ]\n",
      " [ 0.226972  ]\n",
      " [ 0.10054757]\n",
      " [ 0.49438322]\n",
      " [ 0.2594049 ]\n",
      " [ 0.27529073]\n",
      " [ 0.21240933]\n",
      " [ 0.1475432 ]\n",
      " [ 0.5592495 ]\n",
      " [ 0.40138423]\n",
      " [ 0.41760087]\n",
      " [ 0.32195556]\n",
      " [ 0.3537271 ]\n",
      " [ 0.32195556]\n",
      " [ 0.30739307]\n",
      " [ 0.38516772]\n",
      " [ 0.44838   ]\n",
      " [ 0.30640066]\n",
      " [ 0.1333114 ]\n",
      " [ 0.33817208]\n",
      " [ 0.5751353 ]\n",
      " [ 0.43348658]], shape=(100, 1), dtype=float32)\n"
     ]
    },
    {
     "data": {
      "text/plain": [
       "<matplotlib.collections.PathCollection at 0x13d2364c0>"
      ]
     },
     "execution_count": 21,
     "metadata": {},
     "output_type": "execute_result"
    },
    {
     "data": {
      "image/png": "[encoded data removed]",
      "text/plain": [
       "<Figure size 432x288 with 1 Axes>"
      ]
     },
     "metadata": {
      "needs_background": "light"
     },
     "output_type": "display_data"
    }
   ],
   "source": [
    "predictions = compute_predictions(features)\n",
    "plt.scatter(features[:, 0], features[:, 1], c=predictions > 0.5)"
   ]
  },
  {
   "cell_type": "code",
   "execution_count": 22,
   "metadata": {
    "colab": {},
    "colab_type": "code",
    "id": "3pIWa68vmmDz"
   },
   "outputs": [],
   "source": [
    "# predictions.shape, predictions"
   ]
  },
  {
   "cell_type": "markdown",
   "metadata": {
    "colab_type": "text",
    "id": "B3I3v_FqjFty"
   },
   "source": [
    "# 파트 2: Keras API"
   ]
  },
  {
   "cell_type": "markdown",
   "metadata": {
    "colab_type": "text",
    "id": "FjLI719fPfJi"
   },
   "source": [
    "Keras는 딥러닝을 위한 파이썬 API 입니다. 모두가 사용할만한 내용을 가지고 있습니다:\n",
    "\n",
    "- 엔지니어의 경우, Keras는 계층, 평가지표(metrics), 학습 반복문과 같은 재사용 가능한 블록을 제공하여 일반적은 사용 사례를 지원합니다. 고수준의 사용자 경험을 제공하여 접근이 용이하고, 생산성이 좋습니다.\n",
    "\n",
    "- 연구자의 경우, 계층이나 학습 반목문과 같은 이미 제공되는 블록의 사용을 선호하지 않고, 스스로 만든 것을 대신 사용할 지도 모릅니다. 물론, Keras는 이를 가능하게 해 줍니다. 이 경우, Keras는 여러분이 작성하게될 블록에 대한 템플릿을 Layers 및 Metrics와 같은 표준적인 API와 함께 제공합니다. 이러한 구조는 다른 사람과 코드를 쉽게 공유하고, 상용의 작업 흐름에도 통합될 수 있게끔 해 줍니다.\n",
    "\n",
    "- 이 같은 내용은 라이브러리를 개발하는 분들에게도 적용되는 사실입니다. TensorFlow는 거대한 생태계죠. 수 많은 라이브러리가 존재합니다. 서로다른 라이브러리가 상호작용하고, 이들의 컴포넌트를 공유할 수 있게하기 위해선 API 표준을 따라야만 합니다. API 표준이 곧 Keras가 제공하는 핵심입니다.\n",
    "\n",
    "\n",
    "Keras는 결정적으로 고수준의 UX와 저수준의 유연성을 모두 함께 완만히 도입합니다. 이는 더이상 한편으론 사용성이 뛰어나지만 유연치는 못한 고수준 API를, 다른 한편으론 매우 유연하지만 전문가만이 사용가능한 저수준 API를 가져야만 하는 상황에서 벗어나게 해 줍니다. 그 대신, 매우 고수준에서부터 매우 저수준 까지의 다양한 작업 흐름의 범위를 가질 수 있게 됩니다. 이 작업흐름이란, 동일한 컨셉과 객체에 기반해서 만들어졌기 때문에 모든것이 상호 호환 가능한 것을 의미합니다.\n",
    "\n",
    "![Keras 작업 흐름의 범위](https://drive.google.com/uc?export=view&id=1bE0FiQY2XF5QzBLRHfe7-SdxvwGIO0GK)"
   ]
  },
  {
   "cell_type": "markdown",
   "metadata": {
    "colab_type": "text",
    "id": "o9DSVjdHPkOw"
   },
   "source": [
    "## `Layer` 기본 클래스\n",
    "\n",
    "가장 첫 번째로 알아야할 클래스는 [`Layer`](https://www.tensorflow.org/api_docs/python/tf/keras/layers/Layer) 입니다. Keras의 거의 모든것은 이 클래스로부터 파생됩니다.\n",
    "\n",
    "Layer는 상태(가중치, weights)와 몇 (`call` 메소드에 정의된)계산을 캡슐화 합니다."
   ]
  },
  {
   "cell_type": "code",
   "execution_count": 23,
   "metadata": {
    "colab": {},
    "colab_type": "code",
    "executionInfo": {
     "elapsed": 1133,
     "status": "ok",
     "timestamp": 1594601199999,
     "user": {
      "displayName": "sanghun oh",
      "photoUrl": "https://lh3.googleusercontent.com/a-/AOh14Ghlx86owSfLI1ysBzewc-4sBRVA0uQ32rdNEjLr1Q=s64",
      "userId": "06412681606171338922"
     },
     "user_tz": -540
    },
    "id": "Io3dUQzaPnPc"
   },
   "outputs": [],
   "source": [
    "import tensorflow as tf\n",
    "\n",
    "from tensorflow.keras.layers import Layer\n",
    "\n",
    "class Linear(Layer):\n",
    "  \"\"\"y = w.x + b\"\"\"\n",
    "\n",
    "  def __init__(self, units=32, input_dim=32):\n",
    "      super(Linear, self).__init__()\n",
    "      w_init = tf.random_normal_initializer()\n",
    "      self.w = tf.Variable(\n",
    "          initial_value=w_init(shape=(input_dim, units), dtype='float32'),\n",
    "          trainable=True)\n",
    "      b_init = tf.zeros_initializer()\n",
    "      self.b = tf.Variable(\n",
    "          initial_value=b_init(shape=(units,), dtype='float32'),\n",
    "          trainable=True)\n",
    "\n",
    "  def call(self, inputs):\n",
    "      return tf.matmul(inputs, self.w) + self.b\n",
    "\n",
    "# 우리가 만든 Layer객체를 인스턴스화 합니다\n",
    "linear_layer = Linear(4, 2)"
   ]
  },
  {
   "cell_type": "code",
   "execution_count": 24,
   "metadata": {
    "colab": {
     "base_uri": "https://localhost:8080/",
     "height": 102
    },
    "colab_type": "code",
    "executionInfo": {
     "elapsed": 761,
     "status": "ok",
     "timestamp": 1594215976596,
     "user": {
      "displayName": "sanghun oh",
      "photoUrl": "https://lh3.googleusercontent.com/a-/AOh14Ghlx86owSfLI1ysBzewc-4sBRVA0uQ32rdNEjLr1Q=s64",
      "userId": "06412681606171338922"
     },
     "user_tz": -540
    },
    "id": "3qranXsqqJKM",
    "outputId": "36bae326-ef9a-4f6a-911d-b8fbed61f6f2"
   },
   "outputs": [
    {
     "data": {
      "text/plain": [
       "[<tf.Variable 'Variable:0' shape=(2, 4) dtype=float32, numpy=\n",
       " array([[ 0.04492129, -0.03926697,  0.06812944, -0.08744679],\n",
       "        [ 0.0826984 ,  0.01640736,  0.04189934, -0.03311927]],\n",
       "       dtype=float32)>,\n",
       " <tf.Variable 'Variable:0' shape=(4,) dtype=float32, numpy=array([0., 0., 0., 0.], dtype=float32)>]"
      ]
     },
     "execution_count": 24,
     "metadata": {},
     "output_type": "execute_result"
    }
   ],
   "source": [
    "linear_layer.weights"
   ]
  },
  {
   "cell_type": "markdown",
   "metadata": {
    "colab_type": "text",
    "id": "Vo3etyK8BO4a"
   },
   "source": [
    "Layer 인스턴스는 마치 함수처럼 동작합니다. 몇 데이터에 대해서 이를 호출해 봅시다:"
   ]
  },
  {
   "cell_type": "code",
   "execution_count": 25,
   "metadata": {
    "colab": {
     "base_uri": "https://localhost:8080/",
     "height": 85
    },
    "colab_type": "code",
    "executionInfo": {
     "elapsed": 632,
     "status": "ok",
     "timestamp": 1594215982013,
     "user": {
      "displayName": "sanghun oh",
      "photoUrl": "https://lh3.googleusercontent.com/a-/AOh14Ghlx86owSfLI1ysBzewc-4sBRVA0uQ32rdNEjLr1Q=s64",
      "userId": "06412681606171338922"
     },
     "user_tz": -540
    },
    "id": "hBUCLfHVBQLF",
    "outputId": "daac964e-a55a-49a4-c993-c65ca5ac5abf"
   },
   "outputs": [
    {
     "data": {
      "text/plain": [
       "(TensorShape([2, 4]),\n",
       " <tf.Tensor: shape=(2, 4), dtype=float32, numpy=\n",
       " array([[ 0.12761968, -0.02285961,  0.11002879, -0.12056606],\n",
       "        [ 0.12761968, -0.02285961,  0.11002879, -0.12056606]],\n",
       "       dtype=float32)>)"
      ]
     },
     "execution_count": 25,
     "metadata": {},
     "output_type": "execute_result"
    }
   ],
   "source": [
    "y = linear_layer(tf.ones((2, 2)))\n",
    "y.shape, y"
   ]
  },
  {
   "cell_type": "markdown",
   "metadata": {
    "colab_type": "text",
    "id": "MXqpznsxBaCC"
   },
   "source": [
    "`Layer` 클래스는 속성으로써 부여된 weights를 통해서, 가중치들을 추적합니다 "
   ]
  },
  {
   "cell_type": "code",
   "execution_count": 26,
   "metadata": {
    "colab": {
     "base_uri": "https://localhost:8080/",
     "height": 102
    },
    "colab_type": "code",
    "executionInfo": {
     "elapsed": 508,
     "status": "ok",
     "timestamp": 1594215986946,
     "user": {
      "displayName": "sanghun oh",
      "photoUrl": "https://lh3.googleusercontent.com/a-/AOh14Ghlx86owSfLI1ysBzewc-4sBRVA0uQ32rdNEjLr1Q=s64",
      "userId": "06412681606171338922"
     },
     "user_tz": -540
    },
    "id": "j_FaUtEYBeJw",
    "outputId": "f8b92a5e-10d9-4795-cb61-4590495df202"
   },
   "outputs": [
    {
     "data": {
      "text/plain": [
       "[<tf.Variable 'Variable:0' shape=(2, 4) dtype=float32, numpy=\n",
       " array([[ 0.04492129, -0.03926697,  0.06812944, -0.08744679],\n",
       "        [ 0.0826984 ,  0.01640736,  0.04189934, -0.03311927]],\n",
       "       dtype=float32)>,\n",
       " <tf.Variable 'Variable:0' shape=(4,) dtype=float32, numpy=array([0., 0., 0., 0.], dtype=float32)>]"
      ]
     },
     "execution_count": 26,
     "metadata": {},
     "output_type": "execute_result"
    }
   ],
   "source": [
    "# 가중치는 자동으로 `weights`라는 속성으로써 추적됩니다.\n",
    "# linear_layer.weights == [linear_layer.w, linear_layer.b]\n",
    "linear_layer.weights"
   ]
  },
  {
   "cell_type": "markdown",
   "metadata": {
    "colab_type": "text",
    "id": "b6PZ6QXUHdxA"
   },
   "source": [
    "`add_weight`를 이용하여 간단히 가중치를 생성하는 방법이 있는것도 알아두세요. 이렇게 코드를 작성하는것 대신:\n",
    "\n",
    "```python\n",
    "w_init = tf.random_normal_initializer()\n",
    "self.w = tf.Variable(initial_value=w_init(shape=shape, dtype='float32'))\n",
    "```\n",
    "\n",
    "일반적으로 아래와 같이 작성합니다:\n",
    "\n",
    "```python\n",
    "self.w = self.add_weight(shape=shape, initializer='random_normal')\n",
    "```"
   ]
  },
  {
   "cell_type": "markdown",
   "metadata": {
    "colab_type": "text",
    "id": "lphpMGIiHRUP"
   },
   "source": [
    "`build`라는 별도의 메소드에서 가중치를 생성하는것이 좋은 관례입니다. 이 `build`는 Layer에 의해 첫 번째 입력의 Shape이 확인되는 순간 호출되는 lazy한 메소드 입니다. 이러한 패턴은 입력 차원(input_dim)을 생성자에 명시하지 않아도 되게 해 줍니다:"
   ]
  },
  {
   "cell_type": "code",
   "execution_count": 27,
   "metadata": {
    "colab": {},
    "colab_type": "code",
    "executionInfo": {
     "elapsed": 833,
     "status": "ok",
     "timestamp": 1594605178478,
     "user": {
      "displayName": "sanghun oh",
      "photoUrl": "https://lh3.googleusercontent.com/a-/AOh14Ghlx86owSfLI1ysBzewc-4sBRVA0uQ32rdNEjLr1Q=s64",
      "userId": "06412681606171338922"
     },
     "user_tz": -540
    },
    "id": "BpPjScZKHXhS"
   },
   "outputs": [],
   "source": [
    "import tensorflow as tf\n",
    "\n",
    "from tensorflow.keras.layers import Layer\n",
    "\n",
    "class Linear(Layer):\n",
    "  \"\"\"y = w.x + b\"\"\"\n",
    "\n",
    "  def __init__(self, units=32):\n",
    "      super(Linear, self).__init__()\n",
    "      self.units = units\n",
    "      print('__init__')\n",
    "\n",
    "  def build(self, input_shape):\n",
    "      self.w = self.add_weight(shape=(input_shape[-1], self.units),\n",
    "                               initializer='random_normal',\n",
    "                               trainable=True)\n",
    "      self.b = self.add_weight(shape=(self.units,),\n",
    "                               initializer='zero',\n",
    "                               trainable=False)\n",
    "      print('build')\n",
    "  def call(self, inputs):\n",
    "      print('call')\n",
    "      return tf.matmul(inputs, self.w) + self.b\n",
    "\n",
    "\n"
   ]
  },
  {
   "cell_type": "code",
   "execution_count": 28,
   "metadata": {
    "colab": {
     "base_uri": "https://localhost:8080/",
     "height": 53
    },
    "colab_type": "code",
    "executionInfo": {
     "elapsed": 816,
     "status": "ok",
     "timestamp": 1594605180379,
     "user": {
      "displayName": "sanghun oh",
      "photoUrl": "https://lh3.googleusercontent.com/a-/AOh14Ghlx86owSfLI1ysBzewc-4sBRVA0uQ32rdNEjLr1Q=s64",
      "userId": "06412681606171338922"
     },
     "user_tz": -540
    },
    "id": "_3_UM6waqPap",
    "outputId": "529bf30c-6714-4792-d214-cebfe08bd305"
   },
   "outputs": [
    {
     "name": "stdout",
     "output_type": "stream",
     "text": [
      "__init__\n"
     ]
    },
    {
     "data": {
      "text/plain": [
       "2"
      ]
     },
     "execution_count": 28,
     "metadata": {},
     "output_type": "execute_result"
    }
   ],
   "source": [
    "# Lazy한 Layer의 인스턴스를 만듭니다.\n",
    "linear_layer = Linear(2)\n",
    "\n",
    "linear_layer.units"
   ]
  },
  {
   "cell_type": "code",
   "execution_count": 29,
   "metadata": {
    "colab": {
     "base_uri": "https://localhost:8080/",
     "height": 233
    },
    "colab_type": "code",
    "executionInfo": {
     "elapsed": 9357,
     "status": "ok",
     "timestamp": 1594605192148,
     "user": {
      "displayName": "sanghun oh",
      "photoUrl": "https://lh3.googleusercontent.com/a-/AOh14Ghlx86owSfLI1ysBzewc-4sBRVA0uQ32rdNEjLr1Q=s64",
      "userId": "06412681606171338922"
     },
     "user_tz": -540
    },
    "id": "msRMRNsps4I0",
    "outputId": "e5a082cb-b164-4dda-ec8e-648aaff78080"
   },
   "outputs": [
    {
     "name": "stdout",
     "output_type": "stream",
     "text": [
      "build\n",
      "call\n"
     ]
    },
    {
     "data": {
      "text/plain": [
       "([<tf.Variable 'linear_1/Variable:0' shape=(2, 2) dtype=float32, numpy=\n",
       "  array([[-0.04468481, -0.0442934 ],\n",
       "         [-0.02728648, -0.00681267]], dtype=float32)>,\n",
       "  <tf.Variable 'linear_1/Variable:0' shape=(2,) dtype=float32, numpy=array([0., 0.], dtype=float32)>],\n",
       " [array([[-0.04468481, -0.0442934 ],\n",
       "         [-0.02728648, -0.00681267]], dtype=float32),\n",
       "  array([0., 0.], dtype=float32)],\n",
       " <tf.Tensor: shape=(2, 2), dtype=float32, numpy=\n",
       " array([[-0.07197129, -0.05110607],\n",
       "        [-0.07197129, -0.05110607]], dtype=float32)>)"
      ]
     },
     "execution_count": 29,
     "metadata": {},
     "output_type": "execute_result"
    }
   ],
   "source": [
    "# 이렇게 하면, `build(input_shape)`이 호출되어 가중치를 생성하게 됩니다.\n",
    "y = linear_layer(tf.ones((2, 2)))\n",
    "# y = linear_layer(tf.zeros((5, 3)))\n",
    "\n",
    "linear_layer.weights, linear_layer.get_weights(), y"
   ]
  },
  {
   "cell_type": "markdown",
   "metadata": {
    "colab_type": "text",
    "id": "86khdsF3Pnr0"
   },
   "source": [
    "## 학습 가능한, 그리고 학습 불가능한 가중치"
   ]
  },
  {
   "cell_type": "markdown",
   "metadata": {
    "colab_type": "text",
    "id": "32zvCEKLICr5"
   },
   "source": [
    "Layer에 의해 생성된 가중치는 학습이 가능할 수도, 학습이 불가능할 수도 있습니다. 이 두 경우는 각각 \n",
    "`trainable_weights` 및 `non_trainable_weights`로써 노출되어 외부에서 접근 가능합니다. 다음은 학습 불가능한 가중치를 가지는 Layer를 보여줍니다:"
   ]
  },
  {
   "cell_type": "code",
   "execution_count": 30,
   "metadata": {
    "colab": {
     "base_uri": "https://localhost:8080/",
     "height": 51
    },
    "colab_type": "code",
    "executionInfo": {
     "elapsed": 12729,
     "status": "ok",
     "timestamp": 1594213368097,
     "user": {
      "displayName": "sanghun oh",
      "photoUrl": "https://lh3.googleusercontent.com/a-/AOh14Ghlx86owSfLI1ysBzewc-4sBRVA0uQ32rdNEjLr1Q=s64",
      "userId": "06412681606171338922"
     },
     "user_tz": -540
    },
    "id": "LZ8s28NnX20u",
    "outputId": "0157bd43-7254-4152-baad-f7a51069985a"
   },
   "outputs": [
    {
     "name": "stdout",
     "output_type": "stream",
     "text": [
      "[2. 2.]\n",
      "[4. 4.]\n"
     ]
    }
   ],
   "source": [
    "class ComputeSum(Layer):\n",
    "  \"\"\"입력의 합산 결과를 반환하는 Layer\"\"\"\n",
    "\n",
    "  def __init__(self, input_dim):\n",
    "      super(ComputeSum, self).__init__()\n",
    "      # 학습 불가능한 가중치를 생성합니다.\n",
    "      self.total = tf.Variable(initial_value=tf.zeros((input_dim,)),\n",
    "                               trainable=False)\n",
    "\n",
    "  def call(self, inputs):\n",
    "      self.total.assign_add(tf.reduce_sum(inputs, axis=0))\n",
    "      return self.total  \n",
    "\n",
    "my_sum = ComputeSum(2)\n",
    "x = tf.ones((2, 2))\n",
    "\n",
    "y = my_sum(x)\n",
    "print(y.numpy())  # [2. 2.]\n",
    "\n",
    "y = my_sum(x)\n",
    "print(y.numpy())  # [4. 4.]\n",
    "\n",
    "assert my_sum.weights == [my_sum.total]\n",
    "assert my_sum.non_trainable_weights == [my_sum.total]\n",
    "assert my_sum.trainable_weights == []"
   ]
  },
  {
   "cell_type": "markdown",
   "metadata": {
    "colab_type": "text",
    "id": "6oBkX6ZfYO8j"
   },
   "source": [
    "## 재귀적으로 Layer를 조합하는것"
   ]
  },
  {
   "cell_type": "markdown",
   "metadata": {
    "colab_type": "text",
    "id": "YeLDL9MJI2dK"
   },
   "source": [
    "Layer들은 더 큰 계산을 위한 블록을 생성하기 위해 재귀적으로 중첩될 수 있습니다. 각각의 Layer는 각각의 (학습 가능한것과 학습 불가능한)가중치를 추적할 수 있습니다."
   ]
  },
  {
   "cell_type": "code",
   "execution_count": 31,
   "metadata": {
    "colab": {},
    "colab_type": "code",
    "id": "N5HBH-dtYQuk"
   },
   "outputs": [
    {
     "name": "stdout",
     "output_type": "stream",
     "text": [
      "__init__\n",
      "__init__\n",
      "__init__\n",
      "build\n",
      "call\n",
      "build\n",
      "call\n",
      "build\n",
      "call\n"
     ]
    }
   ],
   "source": [
    "# `build` 메소드와 함께 앞서 정의된\n",
    "# Linear 클래스를 재사용 해봅시다\n",
    "\n",
    "class MLP(Layer):\n",
    "    \"\"\"Linear Layer의 간단한 층을 쌓는 Layer 입니다.\"\"\"\n",
    "\n",
    "    def __init__(self):\n",
    "        super(MLP, self).__init__()\n",
    "        self.linear_1 = Linear(32)\n",
    "        self.linear_2 = Linear(32)\n",
    "        self.linear_3 = Linear(10)\n",
    "\n",
    "    def call(self, inputs):\n",
    "        x = self.linear_1(inputs)\n",
    "        x = tf.nn.relu(x)\n",
    "        x = self.linear_2(x)\n",
    "        x = tf.nn.relu(x)\n",
    "        return self.linear_3(x)\n",
    "\n",
    "mlp = MLP()\n",
    "\n",
    "# `mlp` 객체에 대한 첫 번째 호출은 가중치를 생성하게 됩니다.\n",
    "y = mlp(tf.ones(shape=(3, 64)))\n",
    "\n",
    "# 가중치들은 재귀적으로 추적됩니다.\n",
    "assert len(mlp.weights) == 6"
   ]
  },
  {
   "cell_type": "markdown",
   "metadata": {
    "colab_type": "text",
    "id": "WavMVtXGQk-z"
   },
   "source": [
    "## 미리 정의된 Layer의 종류\n",
    "\n",
    "Keras는 [넓은 범위의 미리 정의된 Layer의 종류](https://www.tensorflow.org/api_docs/python/tf/keras/layers/)를 제공하여 항상 여러분 스스로가 모든것을 구현하지 않아도 되도록끔 해 줍니다.\n",
    "\n",
    "- Convolution layers\n",
    "- Transposed convolutions\n",
    "- Separateable convolutions\n",
    "- Average and max pooling\n",
    "- Global average and max pooling\n",
    "- LSTM, GRU (with built-in cuDNN acceleration)\n",
    "- BatchNormalization\n",
    "- Dropout\n",
    "- Attention\n",
    "- ConvLSTM2D\n",
    "- etc.\n",
    "\n",
    "\n"
   ]
  },
  {
   "cell_type": "markdown",
   "metadata": {
    "colab_type": "text",
    "id": "pdrw7OppQ6At"
   },
   "source": [
    "Keras는 디폴트로 좋은 설정값을 노출시키는 원칙을 따릅니다. 이렇게 해서, 필요한 인자값을 디폴트값으로 내버려두어도 대부분의 경우에서 잘 동작할 수 있게끔 해 줍니다. 예를 들어서, `LSTM` Layer는 디폴트로 직교 순환 행렬 초기화자(orthogonal recurrent matrix intializer)를 사용하고, 이는 forget 게이트의 편향값을 1로써 초기화 합니다."
   ]
  },
  {
   "cell_type": "markdown",
   "metadata": {
    "colab_type": "text",
    "id": "_oq88tadFz8Z"
   },
   "source": [
    "## `call` 메소드의 `training` 인자\n"
   ]
  },
  {
   "cell_type": "markdown",
   "metadata": {
    "colab_type": "text",
    "id": "A2NkTT0AQV8j"
   },
   "source": [
    "몇 Layer, 특히 `BatchNormalization`과 `Dropout` Layer,는 학습과 추론단계에서 서로다른 동작방식을 가집니다. 이러한 종류의 Layer에 대해선, `call` 메소으의 (부울 형식인)`training` 인자를 노출시키는 것이 표준적인 관례입니다.\n",
    "\n",
    "`call` 메소드의 이 인자를 노출시킴으로써, 미리 제공되는 학습과 평가 반복문(예를 들어서 `fit` 메소드)이 해당 Layer를 학습과 추론에 대해서 옳바르게 사용할 수 있게 됩니다."
   ]
  },
  {
   "cell_type": "code",
   "execution_count": 32,
   "metadata": {
    "colab": {},
    "colab_type": "code",
    "id": "ysXzHB5KJiLt"
   },
   "outputs": [
    {
     "name": "stdout",
     "output_type": "stream",
     "text": [
      "__init__\n",
      "__init__\n",
      "build\n",
      "call\n",
      "build\n",
      "call\n",
      "call\n",
      "call\n"
     ]
    }
   ],
   "source": [
    "class Dropout(Layer):\n",
    "  \n",
    "  def __init__(self, rate):\n",
    "    super(Dropout, self).__init__()\n",
    "    self.rate = rate\n",
    "\n",
    "  def call(self, inputs, training=None):\n",
    "    if training:\n",
    "      return tf.nn.dropout(inputs, rate=self.rate)\n",
    "    return inputs\n",
    "\n",
    "class MLPWithDropout(Layer):\n",
    "\n",
    "  def __init__(self):\n",
    "      super(MLPWithDropout, self).__init__()\n",
    "      self.linear_1 = Linear(32)\n",
    "      self.dropout = Dropout(0.5)\n",
    "      self.linear_3 = Linear(10)\n",
    "\n",
    "  def call(self, inputs, training=None):\n",
    "      x = self.linear_1(inputs)\n",
    "      x = tf.nn.relu(x)\n",
    "      x = self.dropout(x, training=training)\n",
    "      return self.linear_3(x)\n",
    "    \n",
    "mlp = MLPWithDropout()\n",
    "y_train = mlp(tf.ones((2, 2)), training=True)\n",
    "y_test = mlp(tf.ones((2, 2)), training=False)"
   ]
  },
  {
   "cell_type": "markdown",
   "metadata": {
    "colab_type": "text",
    "id": "SyC7KfV-YcYS"
   },
   "source": [
    "## 좀 더 함수형적으로 모델을 정의하기 위한 방법"
   ]
  },
  {
   "cell_type": "markdown",
   "metadata": {
    "colab_type": "text",
    "id": "CxbEQANKQB6F"
   },
   "source": [
    "딥 러닝 모델을 만들기 위해서, 항상 객체지향적 프로그래밍 방법을 사용할 필요는 없습니다. 아래의 예시처럼 Layer들은 함수형적으로도 조합이 가능합니다 (\"함수형 API\" 라고 부릅니다):"
   ]
  },
  {
   "cell_type": "code",
   "execution_count": 33,
   "metadata": {
    "colab": {},
    "colab_type": "code",
    "id": "jiL-0N7sYc6X"
   },
   "outputs": [
    {
     "name": "stdout",
     "output_type": "stream",
     "text": [
      "__init__\n",
      "build\n",
      "call\n",
      "__init__\n",
      "build\n",
      "call\n",
      "call\n",
      "call\n"
     ]
    }
   ],
   "source": [
    "# `Input` 객체를 사용해서, 입력의 shape(모양)과 dtype(데이터형)을 묘사합니다.\n",
    "# 딥러닝에서 이는 데이터형을 선언하는 방식입니다.\n",
    "# shape 인자는 샘플당 으로, 배치 크기를 포함하지 않습니다. \n",
    "# 함수형 API는 샘플당 변형을 정의하는데 집중합니다.\n",
    "# 생성하는 모델은 자동으로 샘플당 변형에 대한 배치를 고려합니다.\n",
    "# 따라서, 모델은 데이터의 배치마다 호출됩니다.\n",
    "inputs = tf.keras.Input(shape=(16,))\n",
    "\n",
    "# 이러한 \"데이터형\"의 객체에 대해서 Layer를 호출하고,\n",
    "# 호출 결과로 갱신된 (새로운 shape과 dtype을 가지는)\"데이터형\"을 반환합니다.\n",
    "x = Linear(32)(inputs) # 앞서 정의된 Linear Layer를 재사용 합니다.\n",
    "x = Dropout(0.5)(x)    # 앞서 정의된 Droptout Layer를 재사용 합니다.\n",
    "outputs = Linear(10)(x)\n",
    "\n",
    "# 함수형 `모델(Model)`은 입력과 출력을 명시하여 정의될 수 있습니다.\n",
    "# 모델은 다른것과 마찬가지로 스스로가 또 하나의 Layer가 됩니다.\n",
    "model = tf.keras.Model(inputs, outputs)\n",
    "\n",
    "# 함수형 모델은 호출되기전, 이미 가중치를 가집니다.\n",
    "# 그 이유는 입력에 대한 shape을 `input`에서 사전에 정의했기 때문입니다.\n",
    "assert len(model.weights) == 4\n",
    "\n",
    "# 똑같은 데이터에 대해서, 모델을 다시 호출해 봅시다.\n",
    "y = model(tf.ones((2, 16)))\n",
    "assert y.shape == (2, 10)"
   ]
  },
  {
   "cell_type": "markdown",
   "metadata": {
    "colab_type": "text",
    "id": "vK5HqnT3Xgcz"
   },
   "source": [
    "함수형 API는 하위 클래스를 만드는것 보다 더 간결하고, 여기엔 몇몇 부가적인 이점(일반적으로 함수형, 형 선언적 언어가 형 선언적이지 않은 객체지향 개발에 비해 가지는 이점과 동일)이 존재합니다. 하지만, 이는 Layer들의 DAGs를 정의하는데에만 사용될 수 있습니다. 재귀적인 네트워크는 `Layer`의 하위 클래스를 통해서 정의되어야 합니다.\n",
    "\n",
    "함수형 모델과 하위 클래스를 통해 정의된 모델의 주요 다른점은 [이곳](https://medium.com/tensorflow/what-are-symbolic-and-imperative-apis-in-tensorflow-2-0-dfccecb01021)에 설명되어 있습니다.\n",
    "\n",
    "[이곳](https://www.tensorflow.org/alpha/guide/keras/functional)을 방문해서, 함수형 API에 대해 좀 더 배워볼 수 있습니다.\n",
    "\n",
    "연구의 작업 흐름에서, 객체지향 모델과 함수형 모델을 섞어쓰는 자신을 종종 발견하게 될지도 모릅니다."
   ]
  },
  {
   "cell_type": "markdown",
   "metadata": {
    "colab_type": "text",
    "id": "6p0KngmPTScu"
   },
   "source": [
    "단일 입력과 출력을 가지는 Layer을 이용해서, 여러 층으로 구성된 모델에 대하여 `Sequential` 클래스를 사용할 수도 있습니다. 이 클래스는 Layer의 목록을 `Model`로 변환해 줍니다:"
   ]
  },
  {
   "cell_type": "code",
   "execution_count": 34,
   "metadata": {
    "colab": {
     "base_uri": "https://localhost:8080/",
     "height": 244
    },
    "colab_type": "code",
    "executionInfo": {
     "elapsed": 2632,
     "status": "error",
     "timestamp": 1594605093626,
     "user": {
      "displayName": "sanghun oh",
      "photoUrl": "https://lh3.googleusercontent.com/a-/AOh14Ghlx86owSfLI1ysBzewc-4sBRVA0uQ32rdNEjLr1Q=s64",
      "userId": "06412681606171338922"
     },
     "user_tz": -540
    },
    "id": "QNhTY6frTaP2",
    "outputId": "b47e3055-530a-4f2a-d7d7-dfecd6ac872e"
   },
   "outputs": [
    {
     "name": "stdout",
     "output_type": "stream",
     "text": [
      "__init__\n",
      "__init__\n",
      "build\n",
      "call\n",
      "build\n",
      "call\n",
      "call\n",
      "call\n"
     ]
    }
   ],
   "source": [
    "from tensorflow.keras import Sequential\n",
    "\n",
    "model = Sequential([Linear(32), Dropout(0.5), Linear(10)])\n",
    "\n",
    "y = model(tf.ones((2, 16)))\n",
    "assert y.shape == (2, 10)"
   ]
  },
  {
   "cell_type": "markdown",
   "metadata": {
    "colab_type": "text",
    "id": "cydf3i_FFXlh"
   },
   "source": [
    "\n",
    "## Loss 클래스\n",
    "\n",
    "Keras는 넓은 범위의 미리 정의된 손실함수에 대한 Loss 클래스를 제공합니다. 이는 `BinaryCrossentropy`, `CategoricalCrossentropy`, `KLDivergence`등과 같은 것이 포함되며 다음과 같이 작동합니다:"
   ]
  },
  {
   "cell_type": "code",
   "execution_count": 35,
   "metadata": {
    "colab": {
     "base_uri": "https://localhost:8080/",
     "height": 35
    },
    "colab_type": "code",
    "executionInfo": {
     "elapsed": 914,
     "status": "ok",
     "timestamp": 1594606376585,
     "user": {
      "displayName": "sanghun oh",
      "photoUrl": "https://lh3.googleusercontent.com/a-/AOh14Ghlx86owSfLI1ysBzewc-4sBRVA0uQ32rdNEjLr1Q=s64",
      "userId": "06412681606171338922"
     },
     "user_tz": -540
    },
    "id": "l2PsrvQP4VHa",
    "outputId": "6ea18b43-93c7-421b-9d93-f2abe0cdf54a"
   },
   "outputs": [
    {
     "data": {
      "text/plain": [
       "0.25"
      ]
     },
     "execution_count": 35,
     "metadata": {},
     "output_type": "execute_result"
    }
   ],
   "source": [
    "import numpy as np\n",
    "\n",
    "y_true02 = [0., 0., 1., 0.]  # 75%\n",
    "\n",
    "y = np.array(y_true02)\n",
    "np.mean(np.sqrt(y))"
   ]
  },
  {
   "cell_type": "code",
   "execution_count": 36,
   "metadata": {
    "colab": {
     "base_uri": "https://localhost:8080/",
     "height": 226
    },
    "colab_type": "code",
    "executionInfo": {
     "elapsed": 773,
     "status": "error",
     "timestamp": 1594605094695,
     "user": {
      "displayName": "sanghun oh",
      "photoUrl": "https://lh3.googleusercontent.com/a-/AOh14Ghlx86owSfLI1ysBzewc-4sBRVA0uQ32rdNEjLr1Q=s64",
      "userId": "06412681606171338922"
     },
     "user_tz": -540
    },
    "id": "019Nm1eWFaUO",
    "outputId": "20f19a90-4395-4968-8f2e-2775ca381349"
   },
   "outputs": [
    {
     "data": {
      "text/plain": [
       "(0.36033964, 0.12011322, 0.0)"
      ]
     },
     "execution_count": 36,
     "metadata": {},
     "output_type": "execute_result"
    }
   ],
   "source": [
    "y_true01 = [0., 0., 1., 1.]  # 25%\n",
    "y_true02 = [1., 0., 1., 0.]  # 75%\n",
    "y_true03 = [1., 1., 1., 0.]  # 100%\n",
    "y_pred = [1., 1., 1., 0.]  # 예측 결과\n",
    "msle = tf.keras.losses.MeanSquaredLogarithmicError()\n",
    "msle(y_true01, y_pred).numpy(), msle(y_true02, y_pred).numpy(), msle(y_true03, y_pred).numpy()"
   ]
  },
  {
   "cell_type": "markdown",
   "metadata": {
    "colab_type": "text",
    "id": "smbxFMGXY83U"
   },
   "source": [
    "Loss 클래스는 상태를 가지지 않습니다. 즉, `__call__`의 출력은 입력에 대한 함수일 뿐입니다."
   ]
  },
  {
   "cell_type": "code",
   "execution_count": 37,
   "metadata": {
    "colab": {
     "base_uri": "https://localhost:8080/",
     "height": 34
    },
    "colab_type": "code",
    "executionInfo": {
     "elapsed": 13548,
     "status": "ok",
     "timestamp": 1594213368960,
     "user": {
      "displayName": "sanghun oh",
      "photoUrl": "https://lh3.googleusercontent.com/a-/AOh14Ghlx86owSfLI1ysBzewc-4sBRVA0uQ32rdNEjLr1Q=s64",
      "userId": "06412681606171338922"
     },
     "user_tz": -540
    },
    "id": "DQEnkWoVRaDE",
    "outputId": "6bcac2db-0855-4d5f-fb1a-02e61e1f34f2"
   },
   "outputs": [
    {
     "data": {
      "text/plain": [
       "(0.75, 0.25, 0.0)"
      ]
     },
     "execution_count": 37,
     "metadata": {},
     "output_type": "execute_result"
    }
   ],
   "source": [
    "mse = tf.keras.losses.MeanSquaredError()\n",
    "mse(y_true01, y_pred).numpy(), mse(y_true02, y_pred).numpy(), mse(y_true03, y_pred).numpy()"
   ]
  },
  {
   "cell_type": "code",
   "execution_count": 38,
   "metadata": {
    "colab": {
     "base_uri": "https://localhost:8080/",
     "height": 34
    },
    "colab_type": "code",
    "executionInfo": {
     "elapsed": 13535,
     "status": "ok",
     "timestamp": 1594213368961,
     "user": {
      "displayName": "sanghun oh",
      "photoUrl": "https://lh3.googleusercontent.com/a-/AOh14Ghlx86owSfLI1ysBzewc-4sBRVA0uQ32rdNEjLr1Q=s64",
      "userId": "06412681606171338922"
     },
     "user_tz": -540
    },
    "id": "EQ0HjvoKOJ1D",
    "outputId": "03d5033f-2d82-40c9-bea0-6e8ac42513bf"
   },
   "outputs": [
    {
     "data": {
      "text/plain": [
       "(11.522857, 3.8333097, 0.0)"
      ]
     },
     "execution_count": 38,
     "metadata": {},
     "output_type": "execute_result"
    }
   ],
   "source": [
    "bce = tf.keras.losses.BinaryCrossentropy()\n",
    "bce(y_true01, y_pred).numpy(), bce(y_true02, y_pred).numpy(), bce(y_true03, y_pred).numpy()"
   ]
  },
  {
   "cell_type": "code",
   "execution_count": 39,
   "metadata": {
    "colab": {
     "base_uri": "https://localhost:8080/",
     "height": 34
    },
    "colab_type": "code",
    "executionInfo": {
     "elapsed": 13520,
     "status": "ok",
     "timestamp": 1594213368961,
     "user": {
      "displayName": "sanghun oh",
      "photoUrl": "https://lh3.googleusercontent.com/a-/AOh14Ghlx86owSfLI1ysBzewc-4sBRVA0uQ32rdNEjLr1Q=s64",
      "userId": "06412681606171338922"
     },
     "user_tz": -540
    },
    "id": "Cyc2cqAafDjR",
    "outputId": "538d5cad-553d-477d-a411-2200f1d5b134"
   },
   "outputs": [
    {
     "data": {
      "text/plain": [
       "(0.9082331, 0.6582331, 0.40823305)"
      ]
     },
     "execution_count": 39,
     "metadata": {},
     "output_type": "execute_result"
    }
   ],
   "source": [
    "bce = tf.keras.losses.BinaryCrossentropy(from_logits=True)\n",
    "bce(y_true01, y_pred).numpy(), bce(y_true02, y_pred).numpy(), bce(y_true03, y_pred).numpy()"
   ]
  },
  {
   "cell_type": "code",
   "execution_count": 40,
   "metadata": {
    "colab": {
     "base_uri": "https://localhost:8080/",
     "height": 34
    },
    "colab_type": "code",
    "executionInfo": {
     "elapsed": 13508,
     "status": "ok",
     "timestamp": 1594213368962,
     "user": {
      "displayName": "sanghun oh",
      "photoUrl": "https://lh3.googleusercontent.com/a-/AOh14Ghlx86owSfLI1ysBzewc-4sBRVA0uQ32rdNEjLr1Q=s64",
      "userId": "06412681606171338922"
     },
     "user_tz": -540
    },
    "id": "okr0s8V1TFCl",
    "outputId": "bee821ff-c3ad-4dc5-970f-10cb63ef33c8"
   },
   "outputs": [
    {
     "data": {
      "text/plain": [
       "(9.2103405, 1.1769392, 0.13721842)"
      ]
     },
     "execution_count": 40,
     "metadata": {},
     "output_type": "execute_result"
    }
   ],
   "source": [
    "y_true01 = [[0, 0, 1], [1, 0, 0]] \n",
    "y_true02 = [[0, 1, 0], [0, 0, 1]] \n",
    "y_true03 = [[0, 1, 0], [0, 1, 0]] \n",
    "y_pred = [[0.05, 0.95, 0], [0.1, 0.8, 0.1]]\n",
    "loss = tf.keras.losses.CategoricalCrossentropy()\n",
    "loss(y_true01, y_pred).numpy(), loss(y_true02, y_pred).numpy(), loss(y_true03, y_pred).numpy()"
   ]
  },
  {
   "cell_type": "code",
   "execution_count": 41,
   "metadata": {
    "colab": {
     "base_uri": "https://localhost:8080/",
     "height": 34
    },
    "colab_type": "code",
    "executionInfo": {
     "elapsed": 13495,
     "status": "ok",
     "timestamp": 1594213368964,
     "user": {
      "displayName": "sanghun oh",
      "photoUrl": "https://lh3.googleusercontent.com/a-/AOh14Ghlx86owSfLI1ysBzewc-4sBRVA0uQ32rdNEjLr1Q=s64",
      "userId": "06412681606171338922"
     },
     "user_tz": -540
    },
    "id": "NIVx7bMxetNl",
    "outputId": "a7185581-d4c7-4469-d5fc-a2b5fd7f9df9"
   },
   "outputs": [
    {
     "data": {
      "text/plain": [
       "(1.461895, 0.9868951, 0.63689506)"
      ]
     },
     "execution_count": 41,
     "metadata": {},
     "output_type": "execute_result"
    }
   ],
   "source": [
    "loss = tf.keras.losses.CategoricalCrossentropy(from_logits=True)\n",
    "loss(y_true01, y_pred).numpy(), loss(y_true02, y_pred).numpy(), loss(y_true03, y_pred).numpy()"
   ]
  },
  {
   "cell_type": "code",
   "execution_count": 42,
   "metadata": {
    "colab": {
     "base_uri": "https://localhost:8080/",
     "height": 34
    },
    "colab_type": "code",
    "executionInfo": {
     "elapsed": 13482,
     "status": "ok",
     "timestamp": 1594213368965,
     "user": {
      "displayName": "sanghun oh",
      "photoUrl": "https://lh3.googleusercontent.com/a-/AOh14Ghlx86owSfLI1ysBzewc-4sBRVA0uQ32rdNEjLr1Q=s64",
      "userId": "06412681606171338922"
     },
     "user_tz": -540
    },
    "id": "R43kDQn1N7WB",
    "outputId": "85f57c57-566d-45d6-e0c4-9939e1aa8a3e"
   },
   "outputs": [
    {
     "data": {
      "text/plain": [
       "(12.664219, 1.190456, 0.12128953)"
      ]
     },
     "execution_count": 42,
     "metadata": {},
     "output_type": "execute_result"
    }
   ],
   "source": [
    "y_true01 = [2, 2, 0, 0]\n",
    "y_true02 = [1, 2, 2, 1]\n",
    "y_true03 = [1, 1, 2, 2]\n",
    "y_pred01 = [[0.05, 0.95, 0], [0.1, 0.8, 0.1], [0.0, 0.1, 0.9], [0.0, 0.1, 0.9]]\n",
    "y_pred02 = [[0., 1., 0.], [0., 1., 0.], [0., 0., 1.], [0., 0., 1.]]\n",
    "loss = tf.keras.losses.SparseCategoricalCrossentropy()\n",
    "loss(y_true01, y_pred01).numpy(), loss(y_true02, y_pred01).numpy(), loss(y_true03, y_pred01).numpy()"
   ]
  },
  {
   "cell_type": "code",
   "execution_count": 43,
   "metadata": {
    "colab": {
     "base_uri": "https://localhost:8080/",
     "height": 34
    },
    "colab_type": "code",
    "executionInfo": {
     "elapsed": 13469,
     "status": "ok",
     "timestamp": 1594213368965,
     "user": {
      "displayName": "sanghun oh",
      "photoUrl": "https://lh3.googleusercontent.com/a-/AOh14Ghlx86owSfLI1ysBzewc-4sBRVA0uQ32rdNEjLr1Q=s64",
      "userId": "06412681606171338922"
     },
     "user_tz": -540
    },
    "id": "0b5NV7PKM7aa",
    "outputId": "44743b1e-e5e7-4758-f9f9-fba6f99500eb"
   },
   "outputs": [
    {
     "data": {
      "text/plain": [
       "(1.4901319, 1.002632, 0.627632)"
      ]
     },
     "execution_count": 43,
     "metadata": {},
     "output_type": "execute_result"
    }
   ],
   "source": [
    "loss = tf.keras.losses.SparseCategoricalCrossentropy(from_logits=True)\n",
    "loss(y_true01, y_pred01).numpy(), loss(y_true02, y_pred01).numpy(), loss(y_true03, y_pred01).numpy()"
   ]
  },
  {
   "cell_type": "markdown",
   "metadata": {
    "colab_type": "text",
    "id": "RNLZsnswFbE_"
   },
   "source": [
    "## Metric 클래스\n",
    "\n",
    "또한, Keras는 넓은 범위의 미리 정의된 평가지표 함수에 대한 Metric 클래스를 제공합니다. 이는 `BinaryAccuracy`, `AUC`, `FalsePositives`등과 같은것을 포함합니다.\n",
    "\n",
    "Loss와는 다르게, Metric은 상태를 가집니다. `update_state` 메소드를 사용해서 상태를 갱신하고, `result`를 사용해서 스칼라형태의 결과값을 요청할 수 있습니다:"
   ]
  },
  {
   "cell_type": "code",
   "execution_count": 44,
   "metadata": {
    "colab": {
     "base_uri": "https://localhost:8080/",
     "height": 51
    },
    "colab_type": "code",
    "executionInfo": {
     "elapsed": 13456,
     "status": "ok",
     "timestamp": 1594213368966,
     "user": {
      "displayName": "sanghun oh",
      "photoUrl": "https://lh3.googleusercontent.com/a-/AOh14Ghlx86owSfLI1ysBzewc-4sBRVA0uQ32rdNEjLr1Q=s64",
      "userId": "06412681606171338922"
     },
     "user_tz": -540
    },
    "id": "4dUZkMWATKMC",
    "outputId": "fca429e6-74f4-4fb8-f546-11c0dcf6435f"
   },
   "outputs": [
    {
     "name": "stdout",
     "output_type": "stream",
     "text": [
      "중간 결과:  0.6666667\n",
      "최종 결과:  0.71428573\n"
     ]
    }
   ],
   "source": [
    "m = tf.keras.metrics.AUC()\n",
    "m.update_state([0, 1, 1, 1], [0, 1, 0, 0])\n",
    "print('중간 결과: ', m.result().numpy())\n",
    "\n",
    "m.update_state([1, 1, 1, 1], [0, 1, 1, 0])\n",
    "print('최종 결과: ', m.result().numpy())"
   ]
  },
  {
   "cell_type": "markdown",
   "metadata": {
    "colab_type": "text",
    "id": "doUSrciie2Px"
   },
   "source": [
    "내부 상태는 `metric.reset_states`에 의해 초기화될 수 있습니다."
   ]
  },
  {
   "cell_type": "markdown",
   "metadata": {
    "colab_type": "text",
    "id": "uwx7DjFBZ-C-"
   },
   "source": [
    "`Metric` 클래스의 하위 클래스를 만들어서, 여러분만의 평가지표 함수를 손쉽게 만들수도 있습니다:\n",
    "\n",
    "- `__init__`내의 상태 변수를 생성합니다\n",
    "- `update_state`내에서 인자로써 주어진 `y_true`와 `y_pred`를 이용해서 변수를 갱신합니다\n",
    "- `result`내에서 평가지표의 결과를 반환합니다\n",
    "- `reset_states`내에서 상태를 초기화 합니다\n",
    "\n",
    "다음은 이 방법을 보여주기 위한 목적으로, `BinaryTruePositive` 평가지표에 대한 구현하고 있습니다:"
   ]
  },
  {
   "cell_type": "code",
   "execution_count": 45,
   "metadata": {
    "colab": {},
    "colab_type": "code",
    "id": "vVByLrJyaBx_"
   },
   "outputs": [],
   "source": [
    "class BinaryTruePositives(tf.keras.metrics.Metric):\n",
    "\n",
    "  def __init__(self, name='binary_true_positives', **kwargs):\n",
    "    super(BinaryTruePositives, self).__init__(name=name, **kwargs)\n",
    "    self.true_positives = self.add_weight(name='tp', initializer='zeros')\n",
    "\n",
    "  def update_state(self, y_true, y_pred, sample_weight=None):\n",
    "    y_true = tf.cast(y_true, tf.bool)\n",
    "    y_pred = tf.cast(y_pred, tf.bool)\n",
    "\n",
    "    values = tf.logical_and(tf.equal(y_true, True), tf.equal(y_pred, True))\n",
    "    values = tf.cast(values, self.dtype)\n",
    "    if sample_weight is not None:\n",
    "      sample_weight = tf.cast(sample_weight, self.dtype)\n",
    "      sample_weight = tf.broadcast_weights(sample_weight, values)\n",
    "      values = tf.multiply(values, sample_weight)\n",
    "    self.true_positives.assign_add(tf.reduce_sum(values))\n",
    "\n",
    "  def result(self):\n",
    "    return self.true_positives\n",
    "\n",
    "  def reset_states(self):\n",
    "    self.true_positive.assign(0)"
   ]
  },
  {
   "cell_type": "markdown",
   "metadata": {
    "colab_type": "text",
    "id": "i0PdvHdAdQl0"
   },
   "source": [
    "## Optimizer 클래스 & 빠른 end-to-end 학습 반복문\n",
    "\n",
    "앞서 보여진 선형회귀 예제에서 작성한, 경사하강시 변수값을 직접 갱신하는 방법은 일반적으로 하지 않아도 됩니다. 보통은 `SGD`, `RMSprop`, 또는 `Adam`등과 같이 Keras에서 미리 제공되는 Optimizer 중 하나를 사용하면 됩니다.\n",
    "\n",
    "아래는 MNIST 데이터에 대해서, Loss, Metric 클래스와 Optimizer가 모두 함께 사용되는 예를 보여줍니다."
   ]
  },
  {
   "cell_type": "code",
   "execution_count": 46,
   "metadata": {
    "colab": {},
    "colab_type": "code",
    "id": "4vVF140-XWO3"
   },
   "outputs": [],
   "source": [
    "data01 = np.array([[0, 1],[2, 2],[1, 0],[1, 0],[2, 1]])\n",
    "data02 = np.array([[0, 1],[2, 3],[4, 5],[6, 7],[8, 9]])\n",
    "data03 = np.array([[0, 1000],[2, 3000],[4, 5000],[6, 7000],[8, 9000]])\n",
    "data04 = np.array([[-0.00014, 100000],[-0.2400222, 30],[-0.00008, 50000000],[-0.4829, 70],[8, 0.9]])\n",
    "labels01 = np.array([0, 1, 2, 3, 4])\n",
    "labels02 = np.array([40000, 1000, 2800000, 39, 40])\n",
    "labels03 = np.array([0, 1, 1, 0, 1])"
   ]
  },
  {
   "cell_type": "markdown",
   "metadata": {
    "colab_type": "text",
    "id": "WS2cI5mW0n_s"
   },
   "source": [
    "## Data Scaling per Column"
   ]
  },
  {
   "cell_type": "code",
   "execution_count": 47,
   "metadata": {
    "colab": {
     "base_uri": "https://localhost:8080/",
     "height": 102
    },
    "colab_type": "code",
    "executionInfo": {
     "elapsed": 549,
     "status": "ok",
     "timestamp": 1594218248956,
     "user": {
      "displayName": "sanghun oh",
      "photoUrl": "https://lh3.googleusercontent.com/a-/AOh14Ghlx86owSfLI1ysBzewc-4sBRVA0uQ32rdNEjLr1Q=s64",
      "userId": "06412681606171338922"
     },
     "user_tz": -540
    },
    "id": "HbdQJhRAxR7N",
    "outputId": "ee538b74-a2ae-4647-bd69-b038be7bb339"
   },
   "outputs": [
    {
     "data": {
      "text/plain": [
       "(array([[-1.7500000e-05,  2.0000000e-03],\n",
       "        [-3.0002775e-02,  6.0000000e-07],\n",
       "        [-1.0000000e-05,  1.0000000e+00],\n",
       "        [-6.0362500e-02,  1.4000000e-06],\n",
       "        [ 1.0000000e+00,  1.8000000e-08]]),\n",
       " 8.0,\n",
       " 50000000.0)"
      ]
     },
     "execution_count": 47,
     "metadata": {},
     "output_type": "execute_result"
    }
   ],
   "source": [
    "data05 = data04.copy()\n",
    "data05[:,0] = data04[:,0] / data04[:,0].max()\n",
    "data05[:,1] = data04[:,1] / data04[:,1].max()\n",
    "data05, data04[:,0].max(), data04[:,1].max()"
   ]
  },
  {
   "cell_type": "markdown",
   "metadata": {
    "colab_type": "text",
    "id": "ONi5vhf50xOv"
   },
   "source": [
    "##Data Scaling Max Values"
   ]
  },
  {
   "cell_type": "code",
   "execution_count": 48,
   "metadata": {
    "colab": {
     "base_uri": "https://localhost:8080/",
     "height": 102
    },
    "colab_type": "code",
    "executionInfo": {
     "elapsed": 547,
     "status": "ok",
     "timestamp": 1594218342575,
     "user": {
      "displayName": "sanghun oh",
      "photoUrl": "https://lh3.googleusercontent.com/a-/AOh14Ghlx86owSfLI1ysBzewc-4sBRVA0uQ32rdNEjLr1Q=s64",
      "userId": "06412681606171338922"
     },
     "user_tz": -540
    },
    "id": "dq7TobOkv540",
    "outputId": "0a719450-66e9-4b87-ae50-205c0f6d16e2"
   },
   "outputs": [
    {
     "data": {
      "text/plain": [
       "(array([[-2.800000e-12,  2.000000e-03],\n",
       "        [-4.800444e-09,  6.000000e-07],\n",
       "        [-1.600000e-12,  1.000000e+00],\n",
       "        [-9.658000e-09,  1.400000e-06],\n",
       "        [ 1.600000e-07,  1.800000e-08]]),\n",
       " 50000000.0)"
      ]
     },
     "execution_count": 48,
     "metadata": {},
     "output_type": "execute_result"
    }
   ],
   "source": [
    "data06 = data04.copy()\n",
    "data06 = data04 / data04.max()\n",
    "data06, data04.max()"
   ]
  },
  {
   "cell_type": "code",
   "execution_count": 49,
   "metadata": {
    "colab": {
     "base_uri": "https://localhost:8080/",
     "height": 68
    },
    "colab_type": "code",
    "executionInfo": {
     "elapsed": 6067,
     "status": "ok",
     "timestamp": 1594219158588,
     "user": {
      "displayName": "sanghun oh",
      "photoUrl": "https://lh3.googleusercontent.com/a-/AOh14Ghlx86owSfLI1ysBzewc-4sBRVA0uQ32rdNEjLr1Q=s64",
      "userId": "06412681606171338922"
     },
     "user_tz": -540
    },
    "id": "z0nnFEGik0Ce",
    "outputId": "e730b241-ce62-4bbf-af67-4c6689132b69"
   },
   "outputs": [
    {
     "name": "stdout",
     "output_type": "stream",
     "text": [
      "5/5 - 0s - loss: 5.9905\n",
      "5/5 - 0s - loss: 5.9238\n",
      "5/5 - 0s - loss: 6.0326\n"
     ]
    }
   ],
   "source": [
    "opt = ()\n",
    "m = ()\n",
    "data = data05\n",
    "data = data / data.max()  # scale\n",
    "\n",
    "labels=labels01\n",
    "# labels = labels / labels.max()  # scale\n",
    "# labels = np.log10(labels)  # scale\n",
    "\n",
    "for i in range(3):\n",
    "  opt = tf.keras.optimizers.RMSprop()\n",
    "  # opt = tf.keras.optimizers.RMSprop(learning_rate=0.1)\n",
    "  # opt = tf.keras.optimizers.Adam()\n",
    "  # opt = tf.keras.optimizers.Nadam()\n",
    "  # opt = tf.keras.optimizers.Nadam(beta_1=0.9, beta_2=0.999, epsilon=1e-07)\n",
    "  m = tf.keras.models.Sequential([tf.keras.layers.Dense(units=50)])  # Try add dropout(0.3)\n",
    "  m.compile(opt, loss='mse');\n",
    "  # m.compile(opt, loss=tf.keras.losses.MeanSquaredLogarithmicError());\n",
    "  # m.compile(opt, loss=tf.keras.losses.MeanSquaredLogarithmicError(reduction=tf.keras.losses.Reduction.SUM));\n",
    "  # m.compile(opt, loss='binary_crossentropy');   \n",
    "  results = m.fit(data, labels, batch_size=1, verbose=2)\n",
    "  # print(opt.get_weights())    #opt.weights\n",
    "  opt.set_weights(opt.get_weights())   #opt.get_weights()\n",
    "  opt.iterations\n",
    "\n",
    "m.reset_states()\n",
    "# m.reset_metrics()\n",
    "# opt = ()"
   ]
  },
  {
   "cell_type": "code",
   "execution_count": 50,
   "metadata": {
    "colab": {},
    "colab_type": "code",
    "id": "OspGrjR4yEWk"
   },
   "outputs": [],
   "source": [
    "# optimizers.RMSprop(), loss='mse'\n",
    "# 5/5 - 0s - loss: 1.1397\n",
    "# [<tf.Variable 'RMSprop/iter:0' shape=() dtype=int64, numpy=5>, <tf.Variable 'RMSprop/sequential_11/dense_24/kernel/rms:0' shape=(2, 1) dtype=float32, numpy=\n",
    "# array([[0.09027224],\n",
    "#        [1.969766  ]], dtype=float32)>, <tf.Variable 'RMSprop/sequential_11/dense_24/bias/rms:0' shape=(1,) dtype=float32, numpy=array([2.0604513], dtype=float32)>]\n",
    "# 5/5 - 0s - loss: 1.1803\n",
    "# [<tf.Variable 'RMSprop/iter:0' shape=() dtype=int64, numpy=5>, <tf.Variable 'RMSprop/sequential_12/dense_25/kernel/rms:0' shape=(2, 1) dtype=float32, numpy=\n",
    "# array([[0.2868856],\n",
    "#        [1.9651258]], dtype=float32)>, <tf.Variable 'RMSprop/sequential_12/dense_25/bias/rms:0' shape=(1,) dtype=float32, numpy=array([2.2536077], dtype=float32)>]\n",
    "# 5/5 - 0s - loss: 0.9667\n",
    "# [<tf.Variable 'RMSprop/iter:0' shape=() dtype=int64, numpy=5>, <tf.Variable 'RMSprop/sequential_13/dense_26/kernel/rms:0' shape=(2, 1) dtype=float32, numpy=\n",
    "# array([[0.17692871],\n",
    "#        [1.108282  ]], dtype=float32)>, <tf.Variable 'RMSprop/sequential_13/dense_26/bias/rms:0' shape=(1,) dtype=float32, numpy=array([1.2864558], dtype=float32)>]"
   ]
  },
  {
   "cell_type": "code",
   "execution_count": 51,
   "metadata": {
    "colab": {},
    "colab_type": "code",
    "id": "4jNl1ykEdkj8"
   },
   "outputs": [
    {
     "name": "stdout",
     "output_type": "stream",
     "text": [
      "단계(Step): 0\n",
      "마지막 단계(Step)의 손실: 2.398073673248291\n",
      "지금까지 수행된 전체에 대한 정확도: 0.0625\n",
      "단계(Step): 100\n",
      "마지막 단계(Step)의 손실: 0.2937637269496918\n",
      "지금까지 수행된 전체에 대한 정확도: 0.8387994766235352\n",
      "단계(Step): 200\n",
      "마지막 단계(Step)의 손실: 0.14822545647621155\n",
      "지금까지 수행된 전체에 대한 정확도: 0.8759328126907349\n",
      "단계(Step): 300\n",
      "마지막 단계(Step)의 손실: 0.11159861087799072\n",
      "지금까지 수행된 전체에 대한 정확도: 0.895348846912384\n",
      "단계(Step): 400\n",
      "마지막 단계(Step)의 손실: 0.15199613571166992\n",
      "지금까지 수행된 전체에 대한 정확도: 0.9080813527107239\n",
      "단계(Step): 500\n",
      "마지막 단계(Step)의 손실: 0.3641197383403778\n",
      "지금까지 수행된 전체에 대한 정확도: 0.9154191613197327\n",
      "단계(Step): 600\n",
      "마지막 단계(Step)의 손실: 0.17728500068187714\n",
      "지금까지 수행된 전체에 대한 정확도: 0.9219009876251221\n",
      "단계(Step): 700\n",
      "마지막 단계(Step)의 손실: 0.1511647254228592\n",
      "지금까지 수행된 전체에 대한 정확도: 0.9264889359474182\n",
      "단계(Step): 800\n",
      "마지막 단계(Step)의 손실: 0.12480690330266953\n",
      "지금까지 수행된 전체에 대한 정확도: 0.9295216798782349\n",
      "단계(Step): 900\n",
      "마지막 단계(Step)의 손실: 0.09813143312931061\n",
      "지금까지 수행된 전체에 대한 정확도: 0.9333552718162537\n"
     ]
    }
   ],
   "source": [
    "from tensorflow.keras import layers\n",
    "\n",
    "# 데이터셋를 준비합니다\n",
    "(x_train, y_train), (x_test, y_test) = tf.keras.datasets.mnist.load_data()\n",
    "x_train = x_train[:].reshape(60000, 784).astype('float32') / 255\n",
    "dataset = tf.data.Dataset.from_tensor_slices((x_train, y_train))\n",
    "dataset = dataset.shuffle(buffer_size=1024).batch(64)\n",
    "\n",
    "# 간단한 분류를 위한 모델의 인스턴스를 만듭니다\n",
    "model = tf.keras.Sequential([\n",
    "  layers.Dense(256, activation=tf.nn.relu),\n",
    "  layers.Dense(256, activation=tf.nn.relu),\n",
    "  layers.Dense(10)\n",
    "])\n",
    "\n",
    "# 정수형 레이블을 인자로 받아들이는, 로지스틱 Loss의 인스턴스를 만듭니다\n",
    "loss = tf.keras.losses.SparseCategoricalCrossentropy(from_logits=True)\n",
    "\n",
    "# 정확도에 대한 Metric의 인스턴스를 만듭니다\n",
    "accuracy = tf.keras.metrics.SparseCategoricalAccuracy()\n",
    "\n",
    "# Optimizer의 인스턴스를 만듭니다\n",
    "optimizer = tf.keras.optimizers.Adam()\n",
    "\n",
    "# 데이터셋의 데이터 배치를 순회합니다\n",
    "for step, (x, y) in enumerate(dataset):\n",
    "  \n",
    "  # GradientTape 열어줍니다\n",
    "  with tf.GradientTape() as tape:\n",
    "\n",
    "    # 순방향 전파(forward)를 수행합니다\n",
    "    logits = model(x)\n",
    "\n",
    "    # 현재 배치에 대한 손실값을 측정합니다\n",
    "    loss_value = loss(y, logits)\n",
    "     \n",
    "  # 손실에 대한 가중치의 경사도를 계산합니다\n",
    "  gradients = tape.gradient(loss_value, model.trainable_weights)\n",
    "  \n",
    "  # 모델의 가중치를 갱신합니다\n",
    "  optimizer.apply_gradients(zip(gradients, model.trainable_weights))\n",
    "\n",
    "  # 현재까지 수행된 전체에 대한 모델의 정확도를 갱신합니다\n",
    "  accuracy.update_state(y, logits)\n",
    "  \n",
    "  # 로그를 출력합니다\n",
    "  if step % 100 == 0:\n",
    "    print('단계(Step):', step)\n",
    "    print('마지막 단계(Step)의 손실:', float(loss_value))\n",
    "    print('지금까지 수행된 전체에 대한 정확도:', float(accuracy.result()))"
   ]
  },
  {
   "cell_type": "markdown",
   "metadata": {
    "colab_type": "text",
    "id": "MIJYBrXoekXD"
   },
   "source": [
    "`SparseCategoricalAccuracy` Metric 인스턴스를 재사용해서 테스트 반복문을 구현할 수 있습니다:"
   ]
  },
  {
   "cell_type": "code",
   "execution_count": 52,
   "metadata": {
    "colab": {},
    "colab_type": "code",
    "id": "sl6FKvqbeqX9"
   },
   "outputs": [
    {
     "name": "stdout",
     "output_type": "stream",
     "text": [
      "최종 테스트 정확도: 0.9624999761581421\n"
     ]
    }
   ],
   "source": [
    "x_test = x_test[:].reshape(10000, 784).astype('float32') / 255\n",
    "test_dataset = tf.data.Dataset.from_tensor_slices((x_test, y_test))\n",
    "test_dataset = test_dataset.batch(128)\n",
    "\n",
    "accuracy.reset_states()  # 이 코드는 Metric의 내부 상태를 초기화 합니다\n",
    "\n",
    "for step, (x, y) in enumerate(test_dataset):\n",
    "  logits = model(x)\n",
    "  accuracy.update_state(y, logits)\n",
    "\n",
    "print('최종 테스트 정확도:', float(accuracy.result()))"
   ]
  },
  {
   "cell_type": "markdown",
   "metadata": {
    "colab_type": "text",
    "id": "CEP7jzC8YVWy"
   },
   "source": [
    "## `add_loss` 메소드\n",
    "\n",
    "때로는 순방향 전파(forward) 수행 중 손실값을 계산해 보고 싶을 수 있습니다 (특히, 정규화(regularization) 손실에 대해서). Keras는 어느시점에서든지 손실값을 계산할 수 있게 해 주고, `add_loss` 메소드를 통해 이 손실값을 재귀적으로 계속 추적할 수 있게 해 줍니다.\n",
    "\n",
    "다음은 입력에 대한 L2 노름에 기반한 희소 정규화(regularization) 손실을 추가하는 Layer의 예를 보여줍니다:"
   ]
  },
  {
   "cell_type": "code",
   "execution_count": 53,
   "metadata": {
    "colab": {},
    "colab_type": "code",
    "id": "LbBVP--jYgHg"
   },
   "outputs": [],
   "source": [
    "class ActivityRegularization(Layer):\n",
    "  \"\"\"활성 희소 정규화 손실(activity sparsity regularization loss)을 생성하는 Layer 입니다\"\"\"\n",
    "  \n",
    "  def __init__(self, rate=1e-2):\n",
    "    super(ActivityRegularization, self).__init__()\n",
    "    self.rate = rate\n",
    "  \n",
    "  def call(self, inputs):\n",
    "    # 입력값에 기반하는\n",
    "    # `add_loss`를 사용해서 정규화 손실을 생성합니다\n",
    "    self.add_loss(self.rate * tf.reduce_sum(tf.square(inputs)))\n",
    "    return inputs"
   ]
  },
  {
   "cell_type": "markdown",
   "metadata": {
    "colab_type": "text",
    "id": "m4qoQk7abK5v"
   },
   "source": [
    "`add_loss`를 이용해서 추가된 손실값은 `Layer` 또는 `Model`의 리스트형 속성인 `.losses`를 통해서 접근이 가능합니다:"
   ]
  },
  {
   "cell_type": "code",
   "execution_count": 54,
   "metadata": {
    "colab": {},
    "colab_type": "code",
    "id": "VlJc_4pbbQ2N"
   },
   "outputs": [
    {
     "name": "stdout",
     "output_type": "stream",
     "text": [
      "[<tf.Tensor: shape=(), dtype=float32, numpy=0.9347536>]\n"
     ]
    }
   ],
   "source": [
    "from tensorflow.keras import layers\n",
    "\n",
    "class SparseMLP(Layer):\n",
    "  \"\"\"희소 정규화 손실을 가지는 선형 계층을 쌓아올린 Layer 입니다\"\"\"\n",
    "\n",
    "  def __init__(self, output_dim):\n",
    "      super(SparseMLP, self).__init__()\n",
    "      self.dense_1 = layers.Dense(32, activation=tf.nn.relu)\n",
    "      self.regularization = ActivityRegularization(1e-2)\n",
    "      self.dense_2 = layers.Dense(output_dim)\n",
    "\n",
    "  def call(self, inputs):\n",
    "      x = self.dense_1(inputs)\n",
    "      x = self.regularization(x)\n",
    "      return self.dense_2(x)\n",
    "    \n",
    "\n",
    "mlp = SparseMLP(1)\n",
    "y = mlp(tf.ones((10, 10)))\n",
    "\n",
    "print(mlp.losses)  # float32 자료형의 단일 스칼라값을 가지는 리스트 입니다"
   ]
  },
  {
   "cell_type": "markdown",
   "metadata": {
    "colab_type": "text",
    "id": "jkI3GA2TbWvY"
   },
   "source": [
    "이 손실값들은 순방향 전파(forward)의 시작점에 있는 최상위 Layer로부터 초기화되며 축적되지 않습니다. 따라서 `layer.losses`는 항상 마지막 순방향 전파동안 생성된 손실값만을 가지게 됩니다. 학습 반복문을 작성할 때, 일반적으로 경사도 계산 이전에 이 손실값들에 대한 합산을 수행합니다."
   ]
  },
  {
   "cell_type": "code",
   "execution_count": 55,
   "metadata": {
    "colab": {},
    "colab_type": "code",
    "id": "2m0xNYGEbZe2"
   },
   "outputs": [
    {
     "name": "stdout",
     "output_type": "stream",
     "text": [
      "0 4.407524108886719\n",
      "100 2.3146865367889404\n",
      "200 2.292613983154297\n",
      "300 2.298588991165161\n",
      "400 2.268310546875\n",
      "500 2.203012466430664\n",
      "600 2.0955467224121094\n",
      "700 2.000004291534424\n",
      "800 1.9723894596099854\n",
      "900 1.9376038312911987\n"
     ]
    }
   ],
   "source": [
    "# *마지막* 순방향 전파에 해당하는 손실값들 입니다\n",
    "mlp = SparseMLP(1)\n",
    "mlp(tf.ones((10, 10)))\n",
    "assert len(mlp.losses) == 1\n",
    "mlp(tf.ones((10, 10)))\n",
    "assert len(mlp.losses) == 1  # 축적되지 않습니다\n",
    "\n",
    "# 이 손실값들을 학습 반복문에서 사용하는법을 보여줍니다\n",
    "\n",
    "# 데이터셋을 준비합니다\n",
    "(x_train, y_train), _ = tf.keras.datasets.mnist.load_data()\n",
    "dataset = tf.data.Dataset.from_tensor_slices(\n",
    "    (x_train.reshape(60000, 784).astype('float32') / 255, y_train))\n",
    "dataset = dataset.shuffle(buffer_size=1024).batch(64)\n",
    "\n",
    "# 새로운 MLP를 만듭니다\n",
    "mlp = SparseMLP(10)\n",
    "\n",
    "# Loss와 Optimizer를 만듭니다\n",
    "loss_fn = tf.keras.losses.SparseCategoricalCrossentropy(from_logits=True)\n",
    "optimizer = tf.keras.optimizers.SGD(learning_rate=0.1)\n",
    "\n",
    "for step, (x, y) in enumerate(dataset):\n",
    "  with tf.GradientTape() as tape:\n",
    "\n",
    "    # 순방향 전파를 수행합니다\n",
    "    logits = mlp(x)\n",
    "\n",
    "    # 현재 배치에 대한 외부의 손실값을 계산합니다\n",
    "    loss = loss_fn(y, logits)\n",
    "    \n",
    "    # 순방향 전파시 생성된 손실값을 더해줍니다 \n",
    "    loss += sum(mlp.losses)\n",
    "     \n",
    "    # 해당 손실에 대한 가중치의 경사도를 계산합니다\n",
    "    gradients = tape.gradient(loss, mlp.trainable_weights)\n",
    "  \n",
    "  # 모델의 가중치를 갱신합니다\n",
    "  optimizer.apply_gradients(zip(gradients, mlp.trainable_weights))\n",
    "  \n",
    "  # 로그를 출력합니다\n",
    "  if step % 100 == 0:\n",
    "    print(step, float(loss))"
   ]
  },
  {
   "cell_type": "markdown",
   "metadata": {
    "colab_type": "text",
    "id": "zecO65f2Ph7O"
   },
   "source": [
    "## 자세한 end-to-end 예제: Variational AutoEncoder (VAE)\n",
    "\n",
    "기초적인 내용의 공부를 잠시 미뤄두고, 약간 더 어려운 예제를 살펴보고 싶다면, [여기에 소개된 VAE](https://www.tensorflow.org/guide/keras/custom_layers_and_models#putting_it_all_together_an_end-to-end_example)에 대한 구현의 예제를 확인해 보시기 바랍니다. 이는 여러분이 지금까지 배워왔던 모든것의 내용을 담고 있습니다:\n",
    "\n",
    "- `Layer`의 하위 클래스를 만드는것\n",
    "- 재귀적으로 Layer를 구성하는것\n",
    "- Loss 및 Metric 클래스에 대한것\n",
    "- `add_loss`\n",
    "- `GradientTape`"
   ]
  },
  {
   "cell_type": "markdown",
   "metadata": {
    "colab_type": "text",
    "id": "7V0yRrfYFuVT"
   },
   "source": [
    "## 미리 정의된 학습 반복문을 사용하는것"
   ]
  },
  {
   "cell_type": "markdown",
   "metadata": {
    "colab_type": "text",
    "id": "BNwAjgEXPpnP"
   },
   "source": [
    "간단한 케이스에 대해서 조차 여러분이 스스로 저수준의 학습 반복문을 매번 작성해야 한다면, 이는 어리석은 일일지도 모릅니다. Keras는 미리 정의된 학습 반복문을 `Model` 클래스에서 제공합니다. 사용하고자 한다면, `Model`의 하위 클래스를 만들거나 `Functional(함수형)` 또는 `Sequential(순차형)` 모델을 생성하면 됩니다.\n",
    "\n",
    "이를 보여주기 위해서, 앞서 만들어둔 MNIST의 예를 재사용 해 보겠습니다:"
   ]
  },
  {
   "cell_type": "code",
   "execution_count": 56,
   "metadata": {
    "colab": {},
    "colab_type": "code",
    "id": "omdNf2x4jovv"
   },
   "outputs": [],
   "source": [
    "# 데이터셋을 준비합니다\n",
    "(x_train, y_train), (x_test, y_test) = tf.keras.datasets.mnist.load_data()\n",
    "x_train = x_train.reshape(60000, 784).astype('float32') / 255\n",
    "dataset = tf.data.Dataset.from_tensor_slices((x_train, y_train))\n",
    "dataset = dataset.shuffle(buffer_size=1024).batch(64)\n",
    "\n",
    "# 간단한 분류모델의 인스턴스를 만듭니다\n",
    "model = tf.keras.Sequential([\n",
    "  layers.Dense(256, activation=tf.nn.relu),\n",
    "  layers.Dense(256, activation=tf.nn.relu),\n",
    "  layers.Dense(10)\n",
    "])\n",
    "\n",
    "# 정수형 레이블을 인자로 받아들이는, 로지스틱 Loss의 인스턴스를 만듭니다\n",
    "loss = tf.keras.losses.SparseCategoricalCrossentropy(from_logits=True)\n",
    "\n",
    "# 정확도에 대한 Metric의 인스턴스를 만듭니다\n",
    "accuracy = tf.keras.metrics.SparseCategoricalAccuracy()\n",
    "\n",
    "# Optimizer의 인스턴스를 만듭니다\n",
    "optimizer = tf.keras.optimizers.Adam()"
   ]
  },
  {
   "cell_type": "markdown",
   "metadata": {
    "colab_type": "text",
    "id": "MYU5PkaLiriO"
   },
   "source": [
    "가장 첫 번째로, `compile` 메소드를 호출하여 Optimizer, Loss, 모니터링하기 위한 Metric을 설정합니다."
   ]
  },
  {
   "cell_type": "code",
   "execution_count": 57,
   "metadata": {
    "colab": {},
    "colab_type": "code",
    "id": "Eo6GhvzjJjdb"
   },
   "outputs": [],
   "source": [
    "model.compile(optimizer=optimizer, loss=loss, metrics=[accuracy])"
   ]
  },
  {
   "cell_type": "markdown",
   "metadata": {
    "colab_type": "text",
    "id": "98zDjMPej06U"
   },
   "source": [
    "그리고 나선 `fit` 메소드를 호출하고, 이 때 데이터를 전달해 줍니다:"
   ]
  },
  {
   "cell_type": "code",
   "execution_count": 58,
   "metadata": {
    "colab": {},
    "colab_type": "code",
    "id": "-OdztL4nj4ed"
   },
   "outputs": [
    {
     "name": "stdout",
     "output_type": "stream",
     "text": [
      "Epoch 1/3\n",
      "938/938 [==============================] - 8s 9ms/step - loss: 0.2207 - sparse_categorical_accuracy: 0.9350\n",
      "Epoch 2/3\n",
      "938/938 [==============================] - 10s 10ms/step - loss: 0.0874 - sparse_categorical_accuracy: 0.9730\n",
      "Epoch 3/3\n",
      "938/938 [==============================] - 8s 9ms/step - loss: 0.0570 - sparse_categorical_accuracy: 0.9823\n"
     ]
    },
    {
     "data": {
      "text/plain": [
       "<tensorflow.python.keras.callbacks.History at 0x13dbf18b0>"
      ]
     },
     "execution_count": 58,
     "metadata": {},
     "output_type": "execute_result"
    }
   ],
   "source": [
    "model.fit(dataset, epochs=3)"
   ]
  },
  {
   "cell_type": "markdown",
   "metadata": {
    "colab_type": "text",
    "id": "bZc2ss8qln1p"
   },
   "source": [
    "이게 끝입니다! 이제는 테스트를 해 봅시다:"
   ]
  },
  {
   "cell_type": "code",
   "execution_count": 59,
   "metadata": {
    "colab": {},
    "colab_type": "code",
    "id": "d0-XQbxOlqB3"
   },
   "outputs": [
    {
     "name": "stdout",
     "output_type": "stream",
     "text": [
      "79/79 [==============================] - 1s 7ms/step - loss: 0.0821 - sparse_categorical_accuracy: 0.9748\n",
      "손실: 0.08208072930574417 정확도: 0.9747999906539917\n"
     ]
    }
   ],
   "source": [
    "x_test = x_test[:].reshape(10000, 784).astype('float32') / 255\n",
    "test_dataset = tf.data.Dataset.from_tensor_slices((x_test, y_test))\n",
    "test_dataset = test_dataset.batch(128)\n",
    "\n",
    "loss, acc = model.evaluate(test_dataset)\n",
    "print('손실:', loss, '정확도:', acc)"
   ]
  },
  {
   "cell_type": "markdown",
   "metadata": {
    "colab_type": "text",
    "id": "DkmbEn55nV7y"
   },
   "source": [
    "`fit`이 수행되는 동안 검증용 데이터셋에 대한 Loss와 Metric을 모니터링 하는것 또한 가능합니다.\n",
    "\n",
    "또한, Numpy형의 배열에 대해서도 직접적으로 `fit`을 호출할 수 있습니다. 따라서 데이터셋에 대한 변환이 필요 없습니다:"
   ]
  },
  {
   "cell_type": "code",
   "execution_count": 60,
   "metadata": {
    "colab": {},
    "colab_type": "code",
    "id": "7q8UuNivngVe"
   },
   "outputs": [
    {
     "name": "stdout",
     "output_type": "stream",
     "text": [
      "Epoch 1/3\n",
      "782/782 [==============================] - 9s 12ms/step - loss: 0.2439 - sparse_categorical_accuracy: 0.9276 - val_loss: 0.1224 - val_sparse_categorical_accuracy: 0.9637\n",
      "Epoch 2/3\n",
      "782/782 [==============================] - 7s 10ms/step - loss: 0.0962 - sparse_categorical_accuracy: 0.9708 - val_loss: 0.0811 - val_sparse_categorical_accuracy: 0.9768\n",
      "Epoch 3/3\n",
      "782/782 [==============================] - 9s 11ms/step - loss: 0.0614 - sparse_categorical_accuracy: 0.9810 - val_loss: 0.0763 - val_sparse_categorical_accuracy: 0.9771\n"
     ]
    },
    {
     "data": {
      "text/plain": [
       "<tensorflow.python.keras.callbacks.History at 0x144710400>"
      ]
     },
     "execution_count": 60,
     "metadata": {},
     "output_type": "execute_result"
    }
   ],
   "source": [
    "(x_train, y_train), (x_test, y_test) = tf.keras.datasets.mnist.load_data()\n",
    "x_train = x_train.reshape(60000, 784).astype('float32') / 255\n",
    "\n",
    "num_val_samples = 10000\n",
    "x_val = x_train[-num_val_samples:]\n",
    "y_val = y_train[-num_val_samples:]\n",
    "x_train = x_train[:-num_val_samples]\n",
    "y_train = y_train[:-num_val_samples]\n",
    "\n",
    "# 간단한 분류모델의 인스턴스를 만듭니다\n",
    "model = tf.keras.Sequential([\n",
    "  layers.Dense(256, activation=tf.nn.relu),\n",
    "  layers.Dense(256, activation=tf.nn.relu),\n",
    "  layers.Dense(10)\n",
    "])\n",
    "\n",
    "# 정수형 레이블을 인자로 받아들이는, 로지스틱 Loss의 인스턴스를 만듭니다\n",
    "loss = tf.keras.losses.SparseCategoricalCrossentropy(from_logits=True)\n",
    "\n",
    "# 정확도에 대한 Metric의 인스턴스를 만듭니다\n",
    "accuracy = tf.keras.metrics.SparseCategoricalAccuracy()\n",
    "\n",
    "# Optimizer의 인스턴스를 만듭니다\n",
    "optimizer = tf.keras.optimizers.Adam()\n",
    "\n",
    "model.compile(optimizer=optimizer,\n",
    "              loss=loss,\n",
    "              metrics=[accuracy])\n",
    "model.fit(x_train, y_train,\n",
    "          validation_data=(x_val, y_val),\n",
    "          epochs=3,\n",
    "          batch_size=64)"
   ]
  },
  {
   "cell_type": "markdown",
   "metadata": {
    "colab_type": "text",
    "id": "88ExjKfCo7aP"
   },
   "source": [
    "## Callbacks\n",
    "\n",
    "`fit`이 가지는 간단하지만 훌륭한 기능 중 하나로, [callbacks](https://www.tensorflow.org/api_docs/python/tf/keras/callbacks/)을 사용해서 학습과 평가 도중 일어나는 일에 대한 사용자 정의화가 가능합니다.\n",
    "\n",
    "Callback은 객체의 한 종류로, 학습 중간 중간에 호출(예를들어, 매 배치마다 또는 매 epoch마다) 되며 어떤 작업을 수행합니다.\n",
    "\n",
    "미리 정의된 여러가지 Callback이 존재합니다. `ModelCheckpoint`는 학습도중 매 epoch마다 모델을 저장하고, `EarlyStopping`은 검증용 평가지표(metrics)가 향상되지 않을 때 학습을 중단시킵니다.\n",
    "\n",
    "물론, 손쉽게 [여러분만의 callback을 작성할 수도 있습니다](https://www.tensorflow.org/guide/keras/custom_callback).\n"
   ]
  },
  {
   "cell_type": "code",
   "execution_count": 61,
   "metadata": {
    "colab": {},
    "colab_type": "code",
    "id": "oAylVdYJqcZ3"
   },
   "outputs": [
    {
     "name": "stdout",
     "output_type": "stream",
     "text": [
      "Epoch 1/30\n",
      "782/782 [==============================] - 7s 9ms/step - loss: 0.2460 - sparse_categorical_accuracy: 0.9267 - val_loss: 0.1294 - val_sparse_categorical_accuracy: 0.9615\n",
      "Epoch 2/30\n",
      "782/782 [==============================] - 9s 11ms/step - loss: 0.0936 - sparse_categorical_accuracy: 0.9719 - val_loss: 0.0906 - val_sparse_categorical_accuracy: 0.9735\n",
      "Epoch 3/30\n",
      "782/782 [==============================] - 10s 13ms/step - loss: 0.0652 - sparse_categorical_accuracy: 0.9799 - val_loss: 0.0889 - val_sparse_categorical_accuracy: 0.9731\n",
      "Epoch 4/30\n",
      "782/782 [==============================] - 11s 14ms/step - loss: 0.0456 - sparse_categorical_accuracy: 0.9856 - val_loss: 0.0816 - val_sparse_categorical_accuracy: 0.9770\n",
      "Epoch 5/30\n",
      "782/782 [==============================] - 10s 13ms/step - loss: 0.0320 - sparse_categorical_accuracy: 0.9896 - val_loss: 0.0764 - val_sparse_categorical_accuracy: 0.9791\n",
      "Epoch 6/30\n",
      "782/782 [==============================] - 9s 12ms/step - loss: 0.0289 - sparse_categorical_accuracy: 0.9906 - val_loss: 0.0862 - val_sparse_categorical_accuracy: 0.9777\n"
     ]
    },
    {
     "data": {
      "text/plain": [
       "<tensorflow.python.keras.callbacks.History at 0x144d1eaf0>"
      ]
     },
     "execution_count": 61,
     "metadata": {},
     "output_type": "execute_result"
    }
   ],
   "source": [
    "# 간단한 분류모델의 인스턴스를 만듭니다\n",
    "model = tf.keras.Sequential([\n",
    "  layers.Dense(256, activation=tf.nn.relu),\n",
    "  layers.Dense(256, activation=tf.nn.relu),\n",
    "  layers.Dense(10)\n",
    "])\n",
    "\n",
    "# 정수형 레이블을 인자로 받아들이는, 로지스틱 Loss의 인스턴스를 만듭니다\n",
    "loss = tf.keras.losses.SparseCategoricalCrossentropy(from_logits=True)\n",
    "\n",
    "# 정확도에 대한 Metric의 인스턴스를 만듭니다\n",
    "accuracy = tf.keras.metrics.SparseCategoricalAccuracy()\n",
    "\n",
    "# Optimizer의 인스턴스를 만듭니다\n",
    "optimizer = tf.keras.optimizers.Adam()\n",
    "\n",
    "model.compile(optimizer=optimizer,\n",
    "              loss=loss,\n",
    "              metrics=[accuracy])\n",
    "\n",
    "# 몇가지 Callback의 인스턴스를 만듭니다\n",
    "callbacks = [tf.keras.callbacks.EarlyStopping(),\n",
    "             tf.keras.callbacks.ModelCheckpoint(filepath='my_model.keras',\n",
    "                                                save_best_only=True)]\n",
    "\n",
    "model.fit(x_train, y_train,\n",
    "          validation_data=(x_val, y_val),\n",
    "          epochs=30,\n",
    "          batch_size=64,\n",
    "          callbacks=callbacks)"
   ]
  },
  {
   "cell_type": "markdown",
   "metadata": {
    "colab_type": "text",
    "id": "fxINLLGitX_n"
   },
   "source": [
    "# 작별 인사\n",
    "\n",
    "저는 이 가이드가 여러분에게 TensorFlow2.0과 Keras로 무엇을 할 수 있는지 알려주는 좋은 오버뷰가 되길 희망합니다!\n",
    "\n",
    "TensorFlow와 Keras는 단일 작업 흐름만을 대변하는게 아니라는 것을 기억하세요. 사용성과 유연성이라는 트레이드오프를 가지는 여러 범위의 작업흐름을 지원합니다. 예를 들어서, `fit` 메소드를 사용하는것이 사용자정의 학습 반복문을 작성하는것보다 훨씬 쉽지만, `fit`은 연구에서 필요한 미세한 조절이 가능한 수준까지를 제공하진 못합니다.\n",
    "\n",
    "따라서, 여러분의 일에 맞는 알맞은 툴을 사용하세요!\n",
    "\n",
    "Keras의 중심이 되는 원칙은 \"복잡도의 점진적인 공개\" 입니다. 매우 쉽게 시작할 수 있고, 점점 더 많은 부분을 밑바닥에서 부터 구현해야 하는 작업흐름에 대해서 점진적으로 좀 더 깊이 들여다보고, 그렇게함으로써 완전한 제어를 할 수 있게 됩니다.\n",
    "\n",
    "\n",
    "이 사실은 모델의 정의와 모델의 학습 모두에 적용되는 것입니다.\n",
    "\n",
    "![모델의 정의: 작업 흐름의 범위](https://drive.google.com/uc?export=view&id=1bTHrw-OXaKqnJI-DVGG04suWHVOl8UVj)\n",
    "\n",
    "![모델의 학습: 작업 흐름의 범위](https://drive.google.com/uc?export=view&id=1a6oMJ9IKyMg19JX7NkihyOfzdiJo5Mpq)"
   ]
  },
  {
   "cell_type": "markdown",
   "metadata": {
    "colab_type": "text",
    "id": "MfO_uy61upRm"
   },
   "source": [
    "\n",
    "## 이 다음으로 보면 좋을만한 것들\n",
    "\n",
    "이 가이드 다음으로, 여러분이 관심을 가질만한 주제가 더 있습니다:\n",
    "\n",
    "- [저장과 직렬화](https://www.tensorflow.org/guide/keras/save_and_serialize)\n",
    "- [다중 GPUs에서의 분산 학습](https://www.tensorflow.org/guide/distributed_training)\n",
    "- [임베디드 시스템이나 안드로이드 개발에 활용하기 위해 모델을 TFLite로 내보내기](https://www.tensorflow.org/lite/convert/python_api#converting_a_keras_model_)\n",
    "- [브라우져에서의 개발에 활용하기 위해 모델을 TensorFlow.js로 내보내기](https://www.tensorflow.org/js/tutorials/conversion/import_keras)"
   ]
  },
  {
   "cell_type": "code",
   "execution_count": null,
   "metadata": {
    "colab": {},
    "colab_type": "code",
    "id": "FelcNL4gO4mP"
   },
   "outputs": [],
   "source": []
  }
 ],
 "metadata": {
  "accelerator": "GPU",
  "colab": {
   "collapsed_sections": [],
   "name": "00.learn_basic_tensorflow.ipynb",
   "provenance": [
    {
     "file_id": "1p4RhSj1FEuscyZP81ocn8IeGD_2r46fS",
     "timestamp": 1593650732758
    },
    {
     "file_id": "1UCJt8EYjlzCs1H1d1X0iDGYJsHKwu-NO",
     "timestamp": 1570373780932
    }
   ]
  },
  "kernelspec": {
   "display_name": "Python 3",
   "language": "python",
   "name": "python3"
  },
  "language_info": {
   "codemirror_mode": {
    "name": "ipython",
    "version": 3
   },
   "file_extension": ".py",
   "mimetype": "text/x-python",
   "name": "python",
   "nbconvert_exporter": "python",
   "pygments_lexer": "ipython3",
   "version": "3.8.6"
  }
 },
 "nbformat": 4,
 "nbformat_minor": 1
}
