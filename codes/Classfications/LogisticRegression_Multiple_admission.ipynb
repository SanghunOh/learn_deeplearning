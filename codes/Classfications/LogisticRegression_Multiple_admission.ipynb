{
  "nbformat": 4,
  "nbformat_minor": 0,
  "metadata": {
    "colab": {
      "provenance": [],
      "authorship_tag": "ABX9TyN09hzWp2eN42RVIOsYMXA1",
      "include_colab_link": true
    },
    "kernelspec": {
      "name": "python3",
      "display_name": "Python 3"
    },
    "language_info": {
      "name": "python"
    }
  },
  "cells": [
    {
      "cell_type": "markdown",
      "metadata": {
        "id": "view-in-github",
        "colab_type": "text"
      },
      "source": [
        "<a href=\"https://colab.research.google.com/github/yojulab/learn_deeplearning/blob/master/codes/Classfications/LogisticRegression_Multiple_admission.ipynb\" target=\"_parent\"><img src=\"https://colab.research.google.com/assets/colab-badge.svg\" alt=\"Open In Colab\"/></a>"
      ]
    },
    {
      "cell_type": "markdown",
      "source": [
        "###여러 독립변수와 종속변수 사용"
      ],
      "metadata": {
        "id": "38Ql7F3QZeiS"
      }
    },
    {
      "cell_type": "code",
      "execution_count": 1,
      "metadata": {
        "id": "sGYL2kZp3nLR",
        "colab": {
          "base_uri": "https://localhost:8080/",
          "height": 35
        },
        "outputId": "224371ae-45b4-41ec-ed14-aaf1227e6641"
      },
      "outputs": [
        {
          "output_type": "execute_result",
          "data": {
            "text/plain": [
              "'2.9.2'"
            ],
            "application/vnd.google.colaboratory.intrinsic+json": {
              "type": "string"
            }
          },
          "metadata": {},
          "execution_count": 1
        }
      ],
      "source": [
        "import tensorflow as tf\n",
        "tf.__version__"
      ]
    },
    {
      "cell_type": "markdown",
      "source": [
        "###Raw Data Loading"
      ],
      "metadata": {
        "id": "PU1K2vUReNQG"
      }
    },
    {
      "cell_type": "code",
      "source": [
        "import pandas as pd"
      ],
      "metadata": {
        "id": "bviYTsa-dRog"
      },
      "execution_count": 2,
      "outputs": []
    },
    {
      "cell_type": "code",
      "source": [
        "df = pd.read_csv('./admission.csv')\n",
        "# df\n",
        "# df.describe()\n",
        "# df.info()\n",
        "df.keys()"
      ],
      "metadata": {
        "colab": {
          "base_uri": "https://localhost:8080/"
        },
        "id": "eFylmM5eduUJ",
        "outputId": "c051a77e-c791-45b0-8aff-2383a2602a66"
      },
      "execution_count": 3,
      "outputs": [
        {
          "output_type": "execute_result",
          "data": {
            "text/plain": [
              "Index(['admit', 'gre', 'gpa', 'rank'], dtype='object')"
            ]
          },
          "metadata": {},
          "execution_count": 3
        }
      ]
    },
    {
      "cell_type": "code",
      "source": [
        "train_df = df[['gre', 'gpa', 'admit']]\n",
        "train_df.info()"
      ],
      "metadata": {
        "colab": {
          "base_uri": "https://localhost:8080/"
        },
        "id": "uFJ_3wt6d2lQ",
        "outputId": "2f81d12a-bfea-4364-a663-4ecc3cb69ce5"
      },
      "execution_count": 4,
      "outputs": [
        {
          "output_type": "stream",
          "name": "stdout",
          "text": [
            "<class 'pandas.core.frame.DataFrame'>\n",
            "RangeIndex: 400 entries, 0 to 399\n",
            "Data columns (total 3 columns):\n",
            " #   Column  Non-Null Count  Dtype  \n",
            "---  ------  --------------  -----  \n",
            " 0   gre     400 non-null    int64  \n",
            " 1   gpa     400 non-null    float64\n",
            " 2   admit   400 non-null    int64  \n",
            "dtypes: float64(1), int64(2)\n",
            "memory usage: 9.5 KB\n"
          ]
        }
      ]
    },
    {
      "cell_type": "markdown",
      "source": [
        "###Data PreProcessing"
      ],
      "metadata": {
        "id": "NFS39H-4fO7U"
      }
    },
    {
      "cell_type": "markdown",
      "source": [
        "#####각 columns 분리"
      ],
      "metadata": {
        "id": "Zuvzt7LopRJc"
      }
    },
    {
      "cell_type": "code",
      "source": [
        "feature_set = train_df[['gre', 'gpa']] # Dont Need 2차원 Numpy 변환\n",
        "feature_set.shape"
      ],
      "metadata": {
        "colab": {
          "base_uri": "https://localhost:8080/"
        },
        "id": "b01brRVviLRz",
        "outputId": "6a80b3db-b824-424f-9a22-3adbda156514"
      },
      "execution_count": 5,
      "outputs": [
        {
          "output_type": "execute_result",
          "data": {
            "text/plain": [
              "(400, 2)"
            ]
          },
          "metadata": {},
          "execution_count": 5
        }
      ]
    },
    {
      "cell_type": "code",
      "source": [
        "target_set = train_df['admit'].values.reshape(-1,1) # 2차원 Numpy 변환\n",
        "target_set.shape"
      ],
      "metadata": {
        "colab": {
          "base_uri": "https://localhost:8080/"
        },
        "id": "twCLgRbxooj3",
        "outputId": "2650385f-74a8-432e-8008-a1c3ee890710"
      },
      "execution_count": 6,
      "outputs": [
        {
          "output_type": "execute_result",
          "data": {
            "text/plain": [
              "(400, 1)"
            ]
          },
          "metadata": {},
          "execution_count": 6
        }
      ]
    },
    {
      "cell_type": "markdown",
      "source": [
        "####data Split\n",
        "- train:test(7:3)"
      ],
      "metadata": {
        "id": "SeP6k5gYY5X1"
      }
    },
    {
      "cell_type": "code",
      "source": [
        "from sklearn.model_selection import train_test_split\n",
        "\n",
        "feature_train, feature_test, target_train, target_test = train_test_split(feature_set, target_set, test_size=0.3)"
      ],
      "metadata": {
        "id": "seZJqvWjY9pE"
      },
      "execution_count": 7,
      "outputs": []
    },
    {
      "cell_type": "markdown",
      "source": [
        "####Missing Value(결측치)"
      ],
      "metadata": {
        "id": "6cbpicmcfweE"
      }
    },
    {
      "cell_type": "markdown",
      "source": [
        "####이상치 처리 : 생략"
      ],
      "metadata": {
        "id": "dYxQ2CjhiNES"
      }
    },
    {
      "cell_type": "markdown",
      "source": [
        "####정규화(Normalization)"
      ],
      "metadata": {
        "id": "tyZF9skSjGUB"
      }
    },
    {
      "cell_type": "markdown",
      "source": [
        "#####Min-Max Scaling"
      ],
      "metadata": {
        "id": "0ab6Hzy1pWts"
      }
    },
    {
      "cell_type": "code",
      "source": [
        "from sklearn.preprocessing import MinMaxScaler"
      ],
      "metadata": {
        "id": "3_lU42u0pQme"
      },
      "execution_count": 8,
      "outputs": []
    },
    {
      "cell_type": "markdown",
      "source": [
        "#####feature data(train and test)"
      ],
      "metadata": {
        "id": "xZYVQgaFaSYC"
      }
    },
    {
      "cell_type": "markdown",
      "source": [
        "######Train data"
      ],
      "metadata": {
        "id": "7b39CwYSbANT"
      }
    },
    {
      "cell_type": "code",
      "source": [
        "feature_train_minmaxscaler = MinMaxScaler()\n",
        "feature_train_minmaxscaler.fit(feature_train)\n",
        "feature_train_minmaxscaler.scale_, feature_train_minmaxscaler.min_"
      ],
      "metadata": {
        "colab": {
          "base_uri": "https://localhost:8080/"
        },
        "id": "NCb7Ohdbpmo1",
        "outputId": "a6f4f748-c1e0-4da5-f2f0-fa4c23b375b7"
      },
      "execution_count": 9,
      "outputs": [
        {
          "output_type": "execute_result",
          "data": {
            "text/plain": [
              "(array([0.00172414, 0.63291139]), array([-0.37931034, -1.53164557]))"
            ]
          },
          "metadata": {},
          "execution_count": 9
        }
      ]
    },
    {
      "cell_type": "code",
      "source": [
        "feature_train_normalization = feature_train_minmaxscaler.transform(feature_train)\n",
        "feature_train_normalization.shape"
      ],
      "metadata": {
        "id": "r7oNsgZ7qnvz",
        "colab": {
          "base_uri": "https://localhost:8080/"
        },
        "outputId": "c628c4f5-3f25-4d1c-cd1d-5fcb6cd1d23b"
      },
      "execution_count": 10,
      "outputs": [
        {
          "output_type": "execute_result",
          "data": {
            "text/plain": [
              "(280, 2)"
            ]
          },
          "metadata": {},
          "execution_count": 10
        }
      ]
    },
    {
      "cell_type": "markdown",
      "source": [
        "######Test data"
      ],
      "metadata": {
        "id": "n8E__atVbIJi"
      }
    },
    {
      "cell_type": "code",
      "source": [
        "feature_test_minmaxscaler = MinMaxScaler()\n",
        "feature_test_minmaxscaler.fit(feature_test)\n",
        "feature_test_minmaxscaler.scale_, feature_test_minmaxscaler.min_"
      ],
      "metadata": {
        "colab": {
          "base_uri": "https://localhost:8080/"
        },
        "outputId": "dd569647-7166-4703-c587-bfa52c389e7b",
        "id": "45koNBGza8CL"
      },
      "execution_count": 11,
      "outputs": [
        {
          "output_type": "execute_result",
          "data": {
            "text/plain": [
              "(array([0.00217391, 0.57471264]), array([-0.73913043, -1.29885057]))"
            ]
          },
          "metadata": {},
          "execution_count": 11
        }
      ]
    },
    {
      "cell_type": "code",
      "source": [
        "feature_test_normalization = feature_test_minmaxscaler.transform(feature_test)\n",
        "feature_test_normalization.shape"
      ],
      "metadata": {
        "colab": {
          "base_uri": "https://localhost:8080/"
        },
        "outputId": "29e066b1-1f9d-4f9b-fed7-33e5f70aa89a",
        "id": "MUlEShe_a8CL"
      },
      "execution_count": 12,
      "outputs": [
        {
          "output_type": "execute_result",
          "data": {
            "text/plain": [
              "(120, 2)"
            ]
          },
          "metadata": {},
          "execution_count": 12
        }
      ]
    },
    {
      "cell_type": "markdown",
      "source": [
        "#####target data(train and test)"
      ],
      "metadata": {
        "id": "G1Hp0oUFaQ9D"
      }
    }
  ]
}