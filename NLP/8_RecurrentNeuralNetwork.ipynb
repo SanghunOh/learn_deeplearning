{
  "nbformat": 4,
  "nbformat_minor": 0,
  "metadata": {
    "colab": {
      "name": "8_RecurrentNeuralNetwork.ipynb",
      "provenance": [],
      "collapsed_sections": [],
      "include_colab_link": true
    },
    "kernelspec": {
      "name": "python3",
      "display_name": "Python 3"
    },
    "accelerator": "GPU"
  },
  "cells": [
    {
      "cell_type": "markdown",
      "metadata": {
        "id": "view-in-github",
        "colab_type": "text"
      },
      "source": [
        "<a href=\"https://colab.research.google.com/github/SanghunOh/learn_DeepLearning/blob/master/NLP/8_RecurrentNeuralNetwork.ipynb\" target=\"_parent\"><img src=\"https://colab.research.google.com/assets/colab-badge.svg\" alt=\"Open In Colab\"/></a>"
      ]
    },
    {
      "cell_type": "markdown",
      "metadata": {
        "id": "ttIrl-syYNqL"
      },
      "source": [
        "### from https://youtu.be/hGuUFVZ_tSs"
      ]
    },
    {
      "cell_type": "markdown",
      "metadata": {
        "id": "jacLnynuqUXZ"
      },
      "source": [
        "# 순환 신경망 (Recurrent Neural Network, RNN)\n",
        "\n",
        "- **순서가 있는 데이터**를 입력으로 받음\n",
        "\n",
        "- 변화하는 입력에 대한 출력을 얻음\n",
        "\n",
        "- 시계열(날씨, 주가 등), 자연어와 같이 **시간의 흐름에 따라 변화하고, 그 변화가 의미를 갖는 데이터** "
      ]
    },
    {
      "cell_type": "markdown",
      "metadata": {
        "id": "3P0gpo4gqWUz"
      },
      "source": [
        "## Feed Forward Network vs Recurrent Network\n",
        "\n",
        "- Feed Forward Net (앞먹임 구조)\n",
        "  - 일반적인 구조의 신경망\n",
        "\n",
        "  - 입력 → 은닉 → 출력층 으로 이어지는 단방향 구조\n",
        "\n",
        "  - 이전 스텝의 출력의 영향을 받지 않음\n",
        "\n",
        "- Recurrent Net (되먹임 구조)\n",
        "  - 이전 층(Layer), 또는 스텝의 출력이 다시 입력으로 연결되는 신경망 구조\n",
        "\n",
        "  - 각 스텝마다 이전 상태를 기억 시스템(Memory System)  \n",
        "\n",
        "  - 현재 상태가 이전 상태에 종속\n",
        "\n",
        "  <br>\n",
        "\n",
        "  <img src=\"https://www.researchgate.net/profile/Engin_Pekel/publication/315111480/figure/fig1/AS:472548166115333@1489675670530/Feed-forward-and-recurrent-ANN-architecture.png\">\n",
        "\n",
        "  <sub>출처: https://www.researchgate.net/figure/Feed-forward-and-recurrent-ANN-architecture_fig1_315111480</sub>\n",
        "\n"
      ]
    },
    {
      "cell_type": "markdown",
      "metadata": {
        "id": "2h5HFH0BqYho"
      },
      "source": [
        "## 순환 신경망 구조\n",
        "\n",
        "<img src=\"https://colah.github.io/posts/2015-08-Understanding-LSTMs/img/RNN-unrolled.png\" width=\"700\">\n",
        "\n",
        "<br>\n",
        "\n",
        "- 입력 $x_t$에서 $t$는 시각을 뜻함\n",
        "\n",
        "- $X_0$에 대한 출력 $Y_0$이 다음 레이어에 전달\n",
        "\n",
        "- 각각의 입력에 대해 출력은 해당 레이어대로 출력값을 반환"
      ]
    },
    {
      "cell_type": "markdown",
      "metadata": {
        "id": "kowOGfSLqbSn"
      },
      "source": [
        "## 순환 신경망의 다양한 구조\n",
        "\n",
        "<img src=\"https://static.packt-cdn.com/products/9781789346640/graphics/2d4a64ef-9cf9-4b4a-9049-cb9de7a07f89.png\">\n",
        "  \n",
        "  <sub>출처: https://subscription.packtpub.com/book/big_data_and_business_intelligence/9781789346640/11/ch11lvl1sec80/introduction</sub>\n",
        "\n",
        "- one to one\n",
        "  - RNN\n",
        "\n",
        "- one to many\n",
        "  - Image Captioning \n",
        "\n",
        "  - 이미지에 대한 설명 생성\n",
        "\n",
        "- many to one\n",
        "  - Sentiment Classification\n",
        "\n",
        "  - 문장의 긍정/부정을 판단하는 감정 분석\n",
        "\n",
        "- many to many\n",
        "  - Machine Translation\n",
        "\n",
        "  - 하나의 언어를 다른 언어로 번역하는 기계 번역\n",
        "\n",
        "- many to many\n",
        "  - Video Classification(Frame Level)\n",
        "\n",
        "\n"
      ]
    },
    {
      "cell_type": "markdown",
      "metadata": {
        "id": "uiIA4Ue7-G5B"
      },
      "source": [
        "## 두 가지 정보(현재 입력, 이전 시각의 출력)을 처리하는 수식\n",
        "$\\qquad h_t = tanh ( \\ h_{t-1} W_h \\ + \\ x_t W_x + b) $\n",
        "\n",
        "- $W_x$ : 입력 $x$를 출력 $h$로 변환하기 위한 가중치\n",
        "\n",
        "- $W_h$ : 다음 시각의 출력으로 변환하기 위한 가중치\n",
        "\n",
        "- $h$는 '상태'를 기억\n",
        "\n",
        "- $h_t \\ $를 은닉 상태(hidden state) 또는 은닉 상태 벡터(hidden state vector)라고도 불림\n",
        "\n",
        "  <sub>출처: https://colah.github.io/posts/2015-08-Understanding-LSTMs/</sub>"
      ]
    },
    {
      "cell_type": "markdown",
      "metadata": {
        "id": "lp3_sVIjHk0F"
      },
      "source": [
        "## 순환 신경망 레이어 (RNN Layer)\n",
        "\n",
        "- 입력: `(timesteps, input_features)`\n",
        "\n",
        "- 출력: `(timesteps, output_features)`"
      ]
    },
    {
      "cell_type": "code",
      "metadata": {
        "id": "n08yr0aAIbFD"
      },
      "source": [
        "import numpy as np\n",
        "timesteps = 100\n",
        "input_features = 32\n",
        "output_features = 64\n",
        "\n",
        "inputs = np.random.random((timesteps, input_features))"
      ],
      "execution_count": 1,
      "outputs": []
    },
    {
      "cell_type": "code",
      "metadata": {
        "id": "ZKIInEEZIcBj",
        "colab": {
          "base_uri": "https://localhost:8080/"
        },
        "outputId": "84472b41-3f2c-42ee-ee46-c9554f13b164"
      },
      "source": [
        "state_t = np.zeros((output_features, ))\n",
        "\n",
        "W = np.random.random((output_features, input_features))\n",
        "U = np.random.random((output_features, output_features))\n",
        "b = np.random.random((output_features,))\n",
        "\n",
        "succesive_outputs = list()\n",
        "\n",
        "for input_t in inputs:\n",
        "  output_t = np.tanh(np.dot(W, input_t) + np.dot(U, state_t) + b)\n",
        "  succesive_outputs.append(output_t)\n",
        "  state_t = output_t \n",
        "\n",
        "final_ouptput_sequence = np.stack(succesive_outputs, axis=0)\n",
        "final_ouptput_sequence"
      ],
      "execution_count": 2,
      "outputs": [
        {
          "output_type": "execute_result",
          "data": {
            "text/plain": [
              "array([[0.99999996, 1.        , 1.        , ..., 0.99999996, 0.99999961,\n",
              "        0.99999995],\n",
              "       [1.        , 1.        , 1.        , ..., 1.        , 1.        ,\n",
              "        1.        ],\n",
              "       [1.        , 1.        , 1.        , ..., 1.        , 1.        ,\n",
              "        1.        ],\n",
              "       ...,\n",
              "       [1.        , 1.        , 1.        , ..., 1.        , 1.        ,\n",
              "        1.        ],\n",
              "       [1.        , 1.        , 1.        , ..., 1.        , 1.        ,\n",
              "        1.        ],\n",
              "       [1.        , 1.        , 1.        , ..., 1.        , 1.        ,\n",
              "        1.        ]])"
            ]
          },
          "metadata": {
            "tags": []
          },
          "execution_count": 2
        }
      ]
    },
    {
      "cell_type": "markdown",
      "metadata": {
        "id": "bEZ8dQEEKxlQ"
      },
      "source": [
        "## 케라스의 순환층\n",
        "- `SimpleRNN` layer\n",
        "\n",
        "- 입력: `(batch_size, timesteps, input_features)`\n",
        "\n",
        "- 출력\n",
        "  - `return_sequences`로 결정할 수 있음\n",
        "  \n",
        "  - 3D 텐서\n",
        "    - 타임스텝의 출력을 모은 전체 시퀀스를 반환\n",
        "\n",
        "    - `(batch_size, timesteps, output_features)`\n",
        "\n",
        "  - 2D 텐서\n",
        "    - 입력 시퀀스에 대한 마지막 출력만 반환\n",
        "\n",
        "    - `(batch_size, output_features)`\n"
      ]
    },
    {
      "cell_type": "code",
      "metadata": {
        "id": "lZ1YCi1iKMC8"
      },
      "source": [
        "from tensorflow.keras.layers import SimpleRNN, Embedding\n",
        "from tensorflow.keras.models import Sequential"
      ],
      "execution_count": 3,
      "outputs": []
    },
    {
      "cell_type": "code",
      "metadata": {
        "id": "GQ9LbTgoKxIl",
        "colab": {
          "base_uri": "https://localhost:8080/"
        },
        "outputId": "0dad7837-005f-4255-d1d7-6bb3c0bc2774"
      },
      "source": [
        "model = Sequential()\n",
        "model.add(Embedding(10000, 32))\n",
        "model.add(SimpleRNN(32))\n",
        "model.summary()"
      ],
      "execution_count": 4,
      "outputs": [
        {
          "output_type": "stream",
          "text": [
            "Model: \"sequential\"\n",
            "_________________________________________________________________\n",
            "Layer (type)                 Output Shape              Param #   \n",
            "=================================================================\n",
            "embedding (Embedding)        (None, None, 32)          320000    \n",
            "_________________________________________________________________\n",
            "simple_rnn (SimpleRNN)       (None, 32)                2080      \n",
            "=================================================================\n",
            "Total params: 322,080\n",
            "Trainable params: 322,080\n",
            "Non-trainable params: 0\n",
            "_________________________________________________________________\n"
          ],
          "name": "stdout"
        }
      ]
    },
    {
      "cell_type": "code",
      "metadata": {
        "id": "KDxE5Jv0Kc7O",
        "colab": {
          "base_uri": "https://localhost:8080/"
        },
        "outputId": "537b1c1d-a4f6-4992-8588-d1882b8520ef"
      },
      "source": [
        "model = Sequential()\n",
        "model.add(Embedding(10000, 32))\n",
        "model.add(SimpleRNN(32, return_sequences=True))\n",
        "model.summary()"
      ],
      "execution_count": 5,
      "outputs": [
        {
          "output_type": "stream",
          "text": [
            "Model: \"sequential_1\"\n",
            "_________________________________________________________________\n",
            "Layer (type)                 Output Shape              Param #   \n",
            "=================================================================\n",
            "embedding_1 (Embedding)      (None, None, 32)          320000    \n",
            "_________________________________________________________________\n",
            "simple_rnn_1 (SimpleRNN)     (None, None, 32)          2080      \n",
            "=================================================================\n",
            "Total params: 322,080\n",
            "Trainable params: 322,080\n",
            "Non-trainable params: 0\n",
            "_________________________________________________________________\n"
          ],
          "name": "stdout"
        }
      ]
    },
    {
      "cell_type": "markdown",
      "metadata": {
        "id": "E-MDIz1zcIyP"
      },
      "source": [
        "- 네트워크의 표현력을 증가시키기 위해 여러 개의 순환층을 차례대로 쌓는 것이 유용할 때가 있음\n",
        "\n",
        "  - 이런 설정에서는 중간층들이 전체 출력 시퀀스를 반환하도록 설정"
      ]
    },
    {
      "cell_type": "code",
      "metadata": {
        "id": "E1tUaIe2L7GZ"
      },
      "source": [
        "model = Sequential()\n",
        "model.add(Embedding(10000, 32))\n",
        "model.add(SimpleRNN(32))  \n",
        "# ValueError: Input 0 of layer simple_rnn_5 is incompatible with the layer: expected ndim=3, found ndim=2. Full shape received: (None, 32)\n",
        "# model.add(SimpleRNN(32, return_sequences=True))\n",
        "# model.add(SimpleRNN(32, return_sequences=True))\n",
        "# model.add(SimpleRNN(32, return_sequences=True))\n",
        "model.add(SimpleRNN(32))  \n",
        "model.summary()"
      ],
      "execution_count": null,
      "outputs": []
    },
    {
      "cell_type": "markdown",
      "metadata": {
        "id": "j0CNAzN_deXE"
      },
      "source": [
        "## IMDB 데이터 적용"
      ]
    },
    {
      "cell_type": "markdown",
      "metadata": {
        "id": "W1SbNYRdmVTY"
      },
      "source": [
        "### 데이터 로드"
      ]
    },
    {
      "cell_type": "code",
      "metadata": {
        "id": "-27Tkihbcei2"
      },
      "source": [
        "from tensorflow.keras.datasets import imdb"
      ],
      "execution_count": 9,
      "outputs": []
    },
    {
      "cell_type": "code",
      "metadata": {
        "id": "KL-_piPIdms6",
        "colab": {
          "base_uri": "https://localhost:8080/"
        },
        "outputId": "2cde2d7d-5c09-44db-9491-cc53c0dc6c01"
      },
      "source": [
        "vocab_size = 10000\n",
        "\n",
        "(input_train, y_train), (input_test, y_test) = imdb.load_data(num_words=vocab_size)\n",
        "len(input_train), len(input_test), input_train.shape, input_test.shape"
      ],
      "execution_count": 10,
      "outputs": [
        {
          "output_type": "stream",
          "text": [
            "Downloading data from https://storage.googleapis.com/tensorflow/tf-keras-datasets/imdb.npz\n",
            "17465344/17464789 [==============================] - 0s 0us/step\n"
          ],
          "name": "stdout"
        },
        {
          "output_type": "stream",
          "text": [
            "<string>:6: VisibleDeprecationWarning: Creating an ndarray from ragged nested sequences (which is a list-or-tuple of lists-or-tuples-or ndarrays with different lengths or shapes) is deprecated. If you meant to do this, you must specify 'dtype=object' when creating the ndarray\n",
            "/usr/local/lib/python3.7/dist-packages/tensorflow/python/keras/datasets/imdb.py:155: VisibleDeprecationWarning: Creating an ndarray from ragged nested sequences (which is a list-or-tuple of lists-or-tuples-or ndarrays with different lengths or shapes) is deprecated. If you meant to do this, you must specify 'dtype=object' when creating the ndarray\n",
            "  x_train, y_train = np.array(xs[:idx]), np.array(labels[:idx])\n",
            "/usr/local/lib/python3.7/dist-packages/tensorflow/python/keras/datasets/imdb.py:156: VisibleDeprecationWarning: Creating an ndarray from ragged nested sequences (which is a list-or-tuple of lists-or-tuples-or ndarrays with different lengths or shapes) is deprecated. If you meant to do this, you must specify 'dtype=object' when creating the ndarray\n",
            "  x_test, y_test = np.array(xs[idx:]), np.array(labels[idx:])\n"
          ],
          "name": "stderr"
        },
        {
          "output_type": "execute_result",
          "data": {
            "text/plain": [
              "(25000, 25000, (25000,), (25000,))"
            ]
          },
          "metadata": {
            "tags": []
          },
          "execution_count": 10
        }
      ]
    },
    {
      "cell_type": "code",
      "metadata": {
        "colab": {
          "base_uri": "https://localhost:8080/"
        },
        "id": "wvCGCZwBfAWf",
        "outputId": "df5257cb-851c-405d-cae1-4bf884203892"
      },
      "source": [
        "from tensorflow.keras.preprocessing import sequence\n",
        "\n",
        "max_len = 500\n",
        "x_train = sequence.pad_sequences(input_train, maxlen=max_len)\n",
        "x_test = sequence.pad_sequences(input_test, maxlen=max_len)\n",
        "x_train.shape, x_test.shape"
      ],
      "execution_count": 11,
      "outputs": [
        {
          "output_type": "execute_result",
          "data": {
            "text/plain": [
              "((25000, 500), (25000, 500))"
            ]
          },
          "metadata": {
            "tags": []
          },
          "execution_count": 11
        }
      ]
    },
    {
      "cell_type": "markdown",
      "metadata": {
        "id": "uf2EVnzceS4R"
      },
      "source": [
        "### 모델 구성"
      ]
    },
    {
      "cell_type": "code",
      "metadata": {
        "colab": {
          "base_uri": "https://localhost:8080/"
        },
        "id": "KNe-oc-GzCfn",
        "outputId": "b9f65655-dfd9-431b-a4a5-a9640f558895"
      },
      "source": [
        "import tensorflow as tf\n",
        "import numpy as np\n",
        "\n",
        "raw_inputs = np.array([[1,2,3],[4,5,6],[7,8,9]])\n",
        "embedding = tf.keras.layers.Embedding(input_dim=10, output_dim=4)\n",
        "\n",
        "outputs = embedding(raw_inputs)\n",
        "outputs"
      ],
      "execution_count": 59,
      "outputs": [
        {
          "output_type": "execute_result",
          "data": {
            "text/plain": [
              "<tf.Tensor: shape=(3, 3, 4), dtype=float32, numpy=\n",
              "array([[[-0.00784566, -0.02204928, -0.03408428, -0.04385064],\n",
              "        [ 0.00507622,  0.04447166, -0.04245411,  0.00379325],\n",
              "        [ 0.03574561, -0.03291982,  0.03275356,  0.00769701]],\n",
              "\n",
              "       [[-0.04699612,  0.000105  ,  0.02444604, -0.04704022],\n",
              "        [-0.01462909, -0.01118188,  0.00776777, -0.04616939],\n",
              "        [-0.03883702, -0.02270868,  0.04579786,  0.03613842]],\n",
              "\n",
              "       [[ 0.02167476, -0.0425374 , -0.0470854 , -0.01401937],\n",
              "        [ 0.02130613,  0.0135067 , -0.0289029 , -0.04573511],\n",
              "        [-0.03767594, -0.01881344, -0.01464494,  0.00353013]]],\n",
              "      dtype=float32)>"
            ]
          },
          "metadata": {
            "tags": []
          },
          "execution_count": 59
        }
      ]
    },
    {
      "cell_type": "code",
      "metadata": {
        "id": "d7dfeDC5eMdj"
      },
      "source": [
        "from tensorflow.keras.layers import Dense"
      ],
      "execution_count": 12,
      "outputs": []
    },
    {
      "cell_type": "code",
      "metadata": {
        "id": "KnAUijOReWGu",
        "colab": {
          "base_uri": "https://localhost:8080/"
        },
        "outputId": "d4483a80-18cc-4efb-e8b1-434a05fba633"
      },
      "source": [
        "model = Sequential()\n",
        "model.add(Embedding(vocab_size, 32))\n",
        "model.add(SimpleRNN(32))\n",
        "model.add(Dense(1, activation='sigmoid'))\n",
        "\n",
        "model.compile(optimizer='rmsprop',\n",
        "              loss='binary_crossentropy',\n",
        "              metrics=['acc'])\n",
        "model.summary()"
      ],
      "execution_count": 13,
      "outputs": [
        {
          "output_type": "stream",
          "text": [
            "Model: \"sequential_5\"\n",
            "_________________________________________________________________\n",
            "Layer (type)                 Output Shape              Param #   \n",
            "=================================================================\n",
            "embedding_5 (Embedding)      (None, None, 32)          320000    \n",
            "_________________________________________________________________\n",
            "simple_rnn_10 (SimpleRNN)    (None, 32)                2080      \n",
            "_________________________________________________________________\n",
            "dense (Dense)                (None, 1)                 33        \n",
            "=================================================================\n",
            "Total params: 322,113\n",
            "Trainable params: 322,113\n",
            "Non-trainable params: 0\n",
            "_________________________________________________________________\n"
          ],
          "name": "stdout"
        }
      ]
    },
    {
      "cell_type": "markdown",
      "metadata": {
        "id": "pU_9-Hu7mcMa"
      },
      "source": [
        "### 모델 학습"
      ]
    },
    {
      "cell_type": "code",
      "metadata": {
        "colab": {
          "base_uri": "https://localhost:8080/"
        },
        "id": "4d_rzKopimdO",
        "outputId": "fa337494-9c69-41e0-9c6a-337056d3257f"
      },
      "source": [
        "type(x_train), type(y_train)"
      ],
      "execution_count": 14,
      "outputs": [
        {
          "output_type": "execute_result",
          "data": {
            "text/plain": [
              "(numpy.ndarray, numpy.ndarray)"
            ]
          },
          "metadata": {
            "tags": []
          },
          "execution_count": 14
        }
      ]
    },
    {
      "cell_type": "code",
      "metadata": {
        "id": "XdPtzPwNeonA",
        "colab": {
          "base_uri": "https://localhost:8080/"
        },
        "outputId": "fea627bd-b3f1-4238-f203-af4878440d49"
      },
      "source": [
        "hist = model.fit(x_train, y_train,\n",
        "          epochs=10,\n",
        "          batch_size=128,\n",
        "          validation_split=0.2)"
      ],
      "execution_count": 22,
      "outputs": [
        {
          "output_type": "stream",
          "text": [
            "Epoch 1/10\n",
            "157/157 [==============================] - 67s 425ms/step - loss: 0.0492 - acc: 0.9851 - val_loss: 0.6980 - val_acc: 0.7694\n",
            "Epoch 2/10\n",
            "157/157 [==============================] - 68s 431ms/step - loss: 0.0309 - acc: 0.9907 - val_loss: 0.5645 - val_acc: 0.8344\n",
            "Epoch 3/10\n",
            "157/157 [==============================] - 66s 423ms/step - loss: 0.0202 - acc: 0.9939 - val_loss: 0.6547 - val_acc: 0.8254\n",
            "Epoch 4/10\n",
            "157/157 [==============================] - 66s 423ms/step - loss: 0.0174 - acc: 0.9944 - val_loss: 0.6655 - val_acc: 0.8316\n",
            "Epoch 5/10\n",
            "157/157 [==============================] - 66s 419ms/step - loss: 0.0147 - acc: 0.9959 - val_loss: 0.7425 - val_acc: 0.8012\n",
            "Epoch 6/10\n",
            "157/157 [==============================] - 66s 420ms/step - loss: 0.0162 - acc: 0.9955 - val_loss: 0.7191 - val_acc: 0.8260\n",
            "Epoch 7/10\n",
            "157/157 [==============================] - 67s 424ms/step - loss: 0.0097 - acc: 0.9970 - val_loss: 0.7865 - val_acc: 0.8114\n",
            "Epoch 8/10\n",
            "157/157 [==============================] - 66s 423ms/step - loss: 0.0143 - acc: 0.9955 - val_loss: 0.7969 - val_acc: 0.8068\n",
            "Epoch 9/10\n",
            "157/157 [==============================] - 68s 431ms/step - loss: 0.0098 - acc: 0.9969 - val_loss: 0.7954 - val_acc: 0.8130\n",
            "Epoch 10/10\n",
            "157/157 [==============================] - 66s 423ms/step - loss: 0.0072 - acc: 0.9977 - val_loss: 0.8206 - val_acc: 0.8316\n"
          ],
          "name": "stdout"
        }
      ]
    },
    {
      "cell_type": "markdown",
      "metadata": {
        "id": "afIyKdLsmj6N"
      },
      "source": [
        "### 시각화"
      ]
    },
    {
      "cell_type": "code",
      "metadata": {
        "id": "sendhEujeu8S"
      },
      "source": [
        "import matplotlib.pyplot as plt"
      ],
      "execution_count": 17,
      "outputs": []
    },
    {
      "cell_type": "code",
      "metadata": {
        "id": "3rjMFpiBe4Fa",
        "colab": {
          "base_uri": "https://localhost:8080/",
          "height": 284
        },
        "outputId": "51f78a2d-785b-495d-9ce9-4fb60fd09dc5"
      },
      "source": [
        "plt.plot(hist.history['loss'], 'b--', label='loss')\n",
        "plt.plot(hist.history['val_loss'], 'r:', label='val loss')\n",
        "plt.legend()"
      ],
      "execution_count": 23,
      "outputs": [
        {
          "output_type": "execute_result",
          "data": {
            "text/plain": [
              "<matplotlib.legend.Legend at 0x7fad226e0810>"
            ]
          },
          "metadata": {
            "tags": []
          },
          "execution_count": 23
        },
        {
          "output_type": "display_data",
          "data": {
            "image/png": "[encoded data removed]",
            "text/plain": [
              "<Figure size 432x288 with 1 Axes>"
            ]
          },
          "metadata": {
            "tags": [],
            "needs_background": "light"
          }
        }
      ]
    },
    {
      "cell_type": "code",
      "metadata": {
        "id": "YLO526Sgf-U_",
        "colab": {
          "base_uri": "https://localhost:8080/",
          "height": 284
        },
        "outputId": "defef988-a1fc-42a1-e8d7-be33a47e1684"
      },
      "source": [
        "plt.plot(hist.history['loss'], 'b--', label='accuracy')\n",
        "plt.plot(hist.history['val_loss'], 'r:', label='val accuracy')\n",
        "plt.grid()\n",
        "plt.legend()"
      ],
      "execution_count": 24,
      "outputs": [
        {
          "output_type": "execute_result",
          "data": {
            "text/plain": [
              "<matplotlib.legend.Legend at 0x7fad21c7b710>"
            ]
          },
          "metadata": {
            "tags": []
          },
          "execution_count": 24
        },
        {
          "output_type": "display_data",
          "data": {
            "image/png": "[encoded data removed]",
            "text/plain": [
              "<Figure size 432x288 with 1 Axes>"
            ]
          },
          "metadata": {
            "tags": [],
            "needs_background": "light"
          }
        }
      ]
    },
    {
      "cell_type": "code",
      "metadata": {
        "colab": {
          "base_uri": "https://localhost:8080/"
        },
        "id": "-1g_1UXYqnO4",
        "outputId": "dbc01e59-3fac-4f68-de49-ad213de2c01f"
      },
      "source": [
        "model.evaluate(x_test, y_test)"
      ],
      "execution_count": 25,
      "outputs": [
        {
          "output_type": "stream",
          "text": [
            "782/782 [==============================] - 28s 36ms/step - loss: 0.8394 - acc: 0.8248\n"
          ],
          "name": "stdout"
        },
        {
          "output_type": "execute_result",
          "data": {
            "text/plain": [
              "[0.83943772315979, 0.8248400092124939]"
            ]
          },
          "metadata": {
            "tags": []
          },
          "execution_count": 25
        }
      ]
    },
    {
      "cell_type": "markdown",
      "metadata": {
        "id": "VTmZ_XiZguM5"
      },
      "source": [
        "- 전체 시퀀스가 아니라 순서대로 500개의 단어만 입력했기 때문에 성능이 낮게 나옴\n",
        "\n",
        "- SimpleRNN은 긴 시퀀스를 처리하는데 적합하지 않음\n",
        "\n",
        "- SimpleRNN은 실전에 사용하기엔 너무 단순\n",
        "\n",
        "- SimpleRNN은 이론적으로 시간 $t$ 에서 이전의 모든 타임스텝의 정보를 유지할 수 있지만, 실제로는 긴 시간에 걸친 의존성은 학습할 수 없음\n",
        "\n",
        "- 그래디언트 소실 문제(vanishing gradient problem)\n",
        "  - 이를 방지하기 위해 LSTM, GRU 같은 레이어 등장\n",
        "\n"
      ]
    },
    {
      "cell_type": "markdown",
      "metadata": {
        "id": "oZXJIdDai7sV"
      },
      "source": [
        "# LSTM(Long Short-Term Memory)\n",
        "- 장단기 메모리 알고리즘\n",
        "\n",
        "- 나중을 위해 정보를 저장함으로써 오래된 시그널이 점차 소실되는 것을 막아줌\n",
        "\n",
        "  <img src=\"https://colah.github.io/posts/2015-08-Understanding-LSTMs/img/LSTM3-chain.png\">\n",
        "\n",
        "  <sub>출처: https://colah.github.io/posts/2015-08-Understanding-LSTMs/</sub>"
      ]
    },
    {
      "cell_type": "markdown",
      "metadata": {
        "id": "j3afhQOUlqG9"
      },
      "source": [
        "## IMDB 데이터"
      ]
    },
    {
      "cell_type": "markdown",
      "metadata": {
        "id": "tZOCK6EQl1QI"
      },
      "source": [
        "### 데이터 로드"
      ]
    },
    {
      "cell_type": "code",
      "metadata": {
        "id": "00ZS9v3YmT_H"
      },
      "source": [
        "vocab_size = 10000\n",
        "max_len = 500"
      ],
      "execution_count": 26,
      "outputs": []
    },
    {
      "cell_type": "code",
      "metadata": {
        "id": "UW-VG35_gwmt",
        "colab": {
          "base_uri": "https://localhost:8080/"
        },
        "outputId": "481ef887-a587-4222-ea4e-94365a7b74e9"
      },
      "source": [
        "x_train = sequence.pad_sequences(input_train, maxlen=max_len)\n",
        "x_test = sequence.pad_sequences(input_test, maxlen=max_len)\n",
        "x_train.shape, x_test.shape"
      ],
      "execution_count": 27,
      "outputs": [
        {
          "output_type": "execute_result",
          "data": {
            "text/plain": [
              "((25000, 500), (25000, 500))"
            ]
          },
          "metadata": {
            "tags": []
          },
          "execution_count": 27
        }
      ]
    },
    {
      "cell_type": "markdown",
      "metadata": {
        "id": "uo8uhFyBl2k-"
      },
      "source": [
        "### 모델 구성"
      ]
    },
    {
      "cell_type": "code",
      "metadata": {
        "id": "tFkAN2Dzl3GC",
        "colab": {
          "base_uri": "https://localhost:8080/"
        },
        "outputId": "40cec95f-e50f-4bbd-da64-94baf1f6d9ed"
      },
      "source": [
        "from tensorflow.keras.layers import LSTM\n",
        "model = Sequential()\n",
        "model.add(Embedding(vocab_size, 32))\n",
        "model.add(LSTM(32))\n",
        "model.add(Dense(1, activation='sigmoid'))\n",
        "\n",
        "model.compile(optimizer='rmsprop',\n",
        "              loss='binary_crossentropy',\n",
        "              metrics=['acc'])\n",
        "model.summary()"
      ],
      "execution_count": 29,
      "outputs": [
        {
          "output_type": "stream",
          "text": [
            "Model: \"sequential_6\"\n",
            "_________________________________________________________________\n",
            "Layer (type)                 Output Shape              Param #   \n",
            "=================================================================\n",
            "embedding_6 (Embedding)      (None, None, 32)          320000    \n",
            "_________________________________________________________________\n",
            "lstm (LSTM)                  (None, 32)                8320      \n",
            "_________________________________________________________________\n",
            "dense_1 (Dense)              (None, 1)                 33        \n",
            "=================================================================\n",
            "Total params: 328,353\n",
            "Trainable params: 328,353\n",
            "Non-trainable params: 0\n",
            "_________________________________________________________________\n"
          ],
          "name": "stdout"
        }
      ]
    },
    {
      "cell_type": "markdown",
      "metadata": {
        "id": "vAPnX6ACmenz"
      },
      "source": [
        "### 모델 학습"
      ]
    },
    {
      "cell_type": "code",
      "metadata": {
        "id": "TPr9Ec-El50W",
        "colab": {
          "base_uri": "https://localhost:8080/"
        },
        "outputId": "1549ad1e-95fc-45aa-95db-c6b5fdcc6e42"
      },
      "source": [
        "hist = model.fit(x_train, y_train,\n",
        "          epochs=10,\n",
        "          batch_size=128,\n",
        "          validation_split=0.2)"
      ],
      "execution_count": 30,
      "outputs": [
        {
          "output_type": "stream",
          "text": [
            "Epoch 1/10\n",
            "157/157 [==============================] - 10s 31ms/step - loss: 0.4904 - acc: 0.7695 - val_loss: 0.3283 - val_acc: 0.8716\n",
            "Epoch 2/10\n",
            "157/157 [==============================] - 4s 26ms/step - loss: 0.2881 - acc: 0.8871 - val_loss: 0.2938 - val_acc: 0.8816\n",
            "Epoch 3/10\n",
            "157/157 [==============================] - 4s 27ms/step - loss: 0.2341 - acc: 0.9107 - val_loss: 0.3849 - val_acc: 0.8592\n",
            "Epoch 4/10\n",
            "157/157 [==============================] - 4s 27ms/step - loss: 0.1972 - acc: 0.9266 - val_loss: 0.2915 - val_acc: 0.8874\n",
            "Epoch 5/10\n",
            "157/157 [==============================] - 4s 26ms/step - loss: 0.1748 - acc: 0.9366 - val_loss: 0.3399 - val_acc: 0.8886\n",
            "Epoch 6/10\n",
            "157/157 [==============================] - 4s 25ms/step - loss: 0.1615 - acc: 0.9427 - val_loss: 0.2973 - val_acc: 0.8892\n",
            "Epoch 7/10\n",
            "157/157 [==============================] - 4s 26ms/step - loss: 0.1448 - acc: 0.9492 - val_loss: 0.3110 - val_acc: 0.8734\n",
            "Epoch 8/10\n",
            "157/157 [==============================] - 4s 26ms/step - loss: 0.1274 - acc: 0.9570 - val_loss: 0.3190 - val_acc: 0.8710\n",
            "Epoch 9/10\n",
            "157/157 [==============================] - 4s 27ms/step - loss: 0.1205 - acc: 0.9587 - val_loss: 0.3722 - val_acc: 0.8870\n",
            "Epoch 10/10\n",
            "157/157 [==============================] - 4s 27ms/step - loss: 0.1099 - acc: 0.9624 - val_loss: 0.3846 - val_acc: 0.8608\n"
          ],
          "name": "stdout"
        }
      ]
    },
    {
      "cell_type": "markdown",
      "metadata": {
        "id": "gFiE5SpPmh_x"
      },
      "source": [
        "### 시각화"
      ]
    },
    {
      "cell_type": "code",
      "metadata": {
        "colab": {
          "base_uri": "https://localhost:8080/",
          "height": 284
        },
        "id": "xyVu8A5atqpR",
        "outputId": "0fd150e2-b99d-4dcf-b409-7e0ece5564aa"
      },
      "source": [
        "plt.plot(hist.history['loss'], 'b--', label='loss')\n",
        "plt.plot(hist.history['val_loss'], 'r:', label='val loss')\n",
        "plt.legend()\n"
      ],
      "execution_count": 36,
      "outputs": [
        {
          "output_type": "execute_result",
          "data": {
            "text/plain": [
              "<matplotlib.legend.Legend at 0x7fad30dc8850>"
            ]
          },
          "metadata": {
            "tags": []
          },
          "execution_count": 36
        },
        {
          "output_type": "display_data",
          "data": {
            "image/png": "[encoded data removed]",
            "text/plain": [
              "<Figure size 432x288 with 1 Axes>"
            ]
          },
          "metadata": {
            "tags": [],
            "needs_background": "light"
          }
        }
      ]
    },
    {
      "cell_type": "code",
      "metadata": {
        "id": "jwQ6ZYHTyXHS",
        "colab": {
          "base_uri": "https://localhost:8080/",
          "height": 284
        },
        "outputId": "ff75d44a-02cd-4b6b-8732-7797bae6f6a8"
      },
      "source": [
        "plt.plot(hist.history['loss'], 'b--', label='accuracy')\n",
        "plt.plot(hist.history['val_loss'], 'r:', label='val accuracy')\n",
        "# plt.grid()\n",
        "plt.legend()\n"
      ],
      "execution_count": 38,
      "outputs": [
        {
          "output_type": "execute_result",
          "data": {
            "text/plain": [
              "<matplotlib.legend.Legend at 0x7fad30ccff10>"
            ]
          },
          "metadata": {
            "tags": []
          },
          "execution_count": 38
        },
        {
          "output_type": "display_data",
          "data": {
            "image/png": "[encoded data removed]",
            "text/plain": [
              "<Figure size 432x288 with 1 Axes>"
            ]
          },
          "metadata": {
            "tags": [],
            "needs_background": "light"
          }
        }
      ]
    },
    {
      "cell_type": "markdown",
      "metadata": {
        "id": "NiZ6uiUPyXHN"
      },
      "source": [
        "### 모델 평가"
      ]
    },
    {
      "cell_type": "code",
      "metadata": {
        "id": "DZjW6iOV3k-J",
        "colab": {
          "base_uri": "https://localhost:8080/"
        },
        "outputId": "a486a9c4-5386-4687-e688-799c4ef6451d"
      },
      "source": [
        "model.evaluate(x_test, y_test)"
      ],
      "execution_count": 32,
      "outputs": [
        {
          "output_type": "stream",
          "text": [
            "782/782 [==============================] - 6s 8ms/step - loss: 0.4146 - acc: 0.8535\n"
          ],
          "name": "stdout"
        },
        {
          "output_type": "execute_result",
          "data": {
            "text/plain": [
              "[0.41459211707115173, 0.8535199761390686]"
            ]
          },
          "metadata": {
            "tags": []
          },
          "execution_count": 32
        }
      ]
    },
    {
      "cell_type": "markdown",
      "metadata": {
        "id": "Dc0wuvArGHgD"
      },
      "source": [
        "# GRU (Gated Recurrent Unit)\n",
        "- LSTM을 더 단순하게 만든 구조\n",
        "\n",
        "- 기억 셀은 없고, 시간방향으로 전파하는 것은 은닉 상태만 있음\n",
        "\n",
        "- reset gate\n",
        "  - 과거의 은닉 상태를 얼마나 무시할지 결정\n",
        "\n",
        "  - $r$ 값이 결정\n",
        "\n",
        "- update gate\n",
        "  -  은닉 상태를 갱신하는 게이트  \n",
        "\n",
        "  - LSTM의 forget, input gate 역할을 동시에 함\n",
        "  \n",
        "  <img src=\"https://miro.medium.com/max/1400/1*jhi5uOm9PvZfmxvfaCektw.png\" width=\"500\">\n",
        "\n",
        "<sub>출처: https://towardsdatascience.com/illustrated-guide-to-lstms-and-gru-s-a-step-by-step-explanation-44e9eb85bf21</sub>\n",
        "\n",
        "  ### $\\qquad z = \\sigma (x_t W^{(z)}_x + h_{t-1} W^{(z)}_h + b^{(z)} \\\\ \n",
        "  \\qquad r = \\sigma (x_t W^{(r)}_x + h_{t-1} W^{(r)}_h + b^{(r)}) \\\\\n",
        "  \\qquad \\tilde{i} = tanh (x_t W^{(i)}_x + (r \\odot h_{t-1}) W^{(i)}_h + b ) \\\\\n",
        "  \\qquad h_t = (1 - z) \\odot h_{t-1} + z \\odot \\tilde{h}$\n"
      ]
    },
    {
      "cell_type": "markdown",
      "metadata": {
        "id": "TvnFLeqSsOSh"
      },
      "source": [
        "## Reuters 데이터\n",
        "\n",
        "- IMDB와 유사한 데이터셋(텍스트 데이터)\n",
        "\n",
        "- 46개의 상호 배타적인 토픽으로 이루어진 데이터셋 \n",
        "  - 다중 분류 문제\n"
      ]
    },
    {
      "cell_type": "markdown",
      "metadata": {
        "id": "ONPaMDFEsftq"
      },
      "source": [
        "### 데이터셋 로드"
      ]
    },
    {
      "cell_type": "code",
      "metadata": {
        "id": "sFyvFVizsUVD"
      },
      "source": [
        "from tensorflow.keras.datasets import reuters"
      ],
      "execution_count": 39,
      "outputs": []
    },
    {
      "cell_type": "code",
      "metadata": {
        "id": "C234q3AVsUSp",
        "colab": {
          "base_uri": "https://localhost:8080/"
        },
        "outputId": "bd5659a9-2b36-4958-e38f-f8ac1735ac71"
      },
      "source": [
        "vocab_size = 10000\n",
        "(input_train, y_train), (input_test, y_test) = reuters.load_data(num_words=vocab_size)\n",
        "input_train.shape, input_test.shape"
      ],
      "execution_count": 40,
      "outputs": [
        {
          "output_type": "stream",
          "text": [
            "Downloading data from https://storage.googleapis.com/tensorflow/tf-keras-datasets/reuters.npz\n",
            "2113536/2110848 [==============================] - 0s 0us/step\n"
          ],
          "name": "stdout"
        },
        {
          "output_type": "stream",
          "text": [
            "/usr/local/lib/python3.7/dist-packages/tensorflow/python/keras/datasets/reuters.py:143: VisibleDeprecationWarning: Creating an ndarray from ragged nested sequences (which is a list-or-tuple of lists-or-tuples-or ndarrays with different lengths or shapes) is deprecated. If you meant to do this, you must specify 'dtype=object' when creating the ndarray\n",
            "  x_train, y_train = np.array(xs[:idx]), np.array(labels[:idx])\n",
            "/usr/local/lib/python3.7/dist-packages/tensorflow/python/keras/datasets/reuters.py:144: VisibleDeprecationWarning: Creating an ndarray from ragged nested sequences (which is a list-or-tuple of lists-or-tuples-or ndarrays with different lengths or shapes) is deprecated. If you meant to do this, you must specify 'dtype=object' when creating the ndarray\n",
            "  x_test, y_test = np.array(xs[idx:]), np.array(labels[idx:])\n"
          ],
          "name": "stderr"
        },
        {
          "output_type": "execute_result",
          "data": {
            "text/plain": [
              "((8982,), (2246,))"
            ]
          },
          "metadata": {
            "tags": []
          },
          "execution_count": 40
        }
      ]
    },
    {
      "cell_type": "markdown",
      "metadata": {
        "id": "VioYGD8Ms4zH"
      },
      "source": [
        "### 데이터 전처리 및 확인"
      ]
    },
    {
      "cell_type": "code",
      "metadata": {
        "id": "2Sb0OxNlsUQT"
      },
      "source": [
        "from tensorflow.keras.preprocessing import sequence\n",
        "max_len = 300"
      ],
      "execution_count": 41,
      "outputs": []
    },
    {
      "cell_type": "code",
      "metadata": {
        "id": "rNUkve6-sUN6",
        "colab": {
          "base_uri": "https://localhost:8080/"
        },
        "outputId": "a6ea3f7d-1f7f-417f-c580-60d8d9d3d976"
      },
      "source": [
        "x_train = sequence.pad_sequences(input_train, maxlen=max_len)\n",
        "x_test = sequence.pad_sequences(input_test, maxlen=max_len)\n",
        "x_train.shape, x_test.shape"
      ],
      "execution_count": 42,
      "outputs": [
        {
          "output_type": "execute_result",
          "data": {
            "text/plain": [
              "((8982, 300), (2246, 300))"
            ]
          },
          "metadata": {
            "tags": []
          },
          "execution_count": 42
        }
      ]
    },
    {
      "cell_type": "code",
      "metadata": {
        "id": "jBxQZtOJsULl"
      },
      "source": [
        "x_train[0]"
      ],
      "execution_count": null,
      "outputs": []
    },
    {
      "cell_type": "code",
      "metadata": {
        "id": "a6hwQtn_sUJN"
      },
      "source": [
        "x_test[3]"
      ],
      "execution_count": null,
      "outputs": []
    },
    {
      "cell_type": "markdown",
      "metadata": {
        "id": "_P_JxBFntQOP"
      },
      "source": [
        "### 모델 구성\n",
        "- LSTM 레이어도 SimpleRNN과 같이 `return_sequences` 인자 사용가능"
      ]
    },
    {
      "cell_type": "code",
      "metadata": {
        "id": "1vG3ZGSksUG5"
      },
      "source": [
        "from tensorflow.keras.layers import GRU"
      ],
      "execution_count": 43,
      "outputs": []
    },
    {
      "cell_type": "code",
      "metadata": {
        "id": "K_uMdxmysUEg",
        "colab": {
          "base_uri": "https://localhost:8080/"
        },
        "outputId": "b1eac461-a93e-43af-c981-4cead0a749ae"
      },
      "source": [
        "model = Sequential()\n",
        "model.add(Embedding(vocab_size, 256))\n",
        "model.add(GRU(256, return_sequences=True))\n",
        "model.add(GRU(128))\n",
        "model.add(Dense(46, activation='softmax'))\n",
        "\n",
        "model.compile(optimizer='nadam',\n",
        "              loss='sparse_categorical_crossentropy',\n",
        "              metrics=['acc'])\n",
        "\n",
        "model.summary()"
      ],
      "execution_count": 44,
      "outputs": [
        {
          "output_type": "stream",
          "text": [
            "Model: \"sequential_7\"\n",
            "_________________________________________________________________\n",
            "Layer (type)                 Output Shape              Param #   \n",
            "=================================================================\n",
            "embedding_7 (Embedding)      (None, None, 256)         2560000   \n",
            "_________________________________________________________________\n",
            "gru (GRU)                    (None, None, 256)         394752    \n",
            "_________________________________________________________________\n",
            "gru_1 (GRU)                  (None, 128)               148224    \n",
            "_________________________________________________________________\n",
            "dense_2 (Dense)              (None, 46)                5934      \n",
            "=================================================================\n",
            "Total params: 3,108,910\n",
            "Trainable params: 3,108,910\n",
            "Non-trainable params: 0\n",
            "_________________________________________________________________\n"
          ],
          "name": "stdout"
        }
      ]
    },
    {
      "cell_type": "markdown",
      "metadata": {
        "id": "qjgupW2puHXA"
      },
      "source": [
        "### 모델 학습"
      ]
    },
    {
      "cell_type": "code",
      "metadata": {
        "id": "T22YsRQ8sUBg",
        "colab": {
          "base_uri": "https://localhost:8080/"
        },
        "outputId": "9028034f-8abd-45e3-b99f-7660ff26717c"
      },
      "source": [
        "hist = model.fit(x_train, y_train,\n",
        "                 batch_size=128, epochs=10,\n",
        "                 validation_split=0.2)"
      ],
      "execution_count": 46,
      "outputs": [
        {
          "output_type": "stream",
          "text": [
            "Epoch 1/10\n",
            "57/57 [==============================] - 9s 115ms/step - loss: 2.3430 - acc: 0.4013 - val_loss: 1.8809 - val_acc: 0.5142\n",
            "Epoch 2/10\n",
            "57/57 [==============================] - 6s 105ms/step - loss: 1.7666 - acc: 0.5279 - val_loss: 1.7827 - val_acc: 0.5326\n",
            "Epoch 3/10\n",
            "57/57 [==============================] - 6s 106ms/step - loss: 1.6000 - acc: 0.5790 - val_loss: 1.7482 - val_acc: 0.5710\n",
            "Epoch 4/10\n",
            "57/57 [==============================] - 6s 107ms/step - loss: 1.4061 - acc: 0.6323 - val_loss: 2.1609 - val_acc: 0.5470\n",
            "Epoch 5/10\n",
            "57/57 [==============================] - 6s 107ms/step - loss: 1.2500 - acc: 0.6781 - val_loss: 1.6705 - val_acc: 0.5921\n",
            "Epoch 6/10\n",
            "57/57 [==============================] - 6s 107ms/step - loss: 1.1057 - acc: 0.7136 - val_loss: 1.5783 - val_acc: 0.6238\n",
            "Epoch 7/10\n",
            "57/57 [==============================] - 6s 107ms/step - loss: 1.0122 - acc: 0.7364 - val_loss: 1.5961 - val_acc: 0.6272\n",
            "Epoch 8/10\n",
            "57/57 [==============================] - 6s 106ms/step - loss: 0.9036 - acc: 0.7609 - val_loss: 1.7249 - val_acc: 0.5815\n",
            "Epoch 9/10\n",
            "57/57 [==============================] - 6s 105ms/step - loss: 0.8006 - acc: 0.7894 - val_loss: 1.7048 - val_acc: 0.6066\n",
            "Epoch 10/10\n",
            "57/57 [==============================] - 6s 104ms/step - loss: 0.7069 - acc: 0.8132 - val_loss: 1.6430 - val_acc: 0.6433\n"
          ],
          "name": "stdout"
        }
      ]
    },
    {
      "cell_type": "markdown",
      "metadata": {
        "id": "JGZhIiYeuSCD"
      },
      "source": [
        "### 시각화"
      ]
    },
    {
      "cell_type": "code",
      "metadata": {
        "id": "INJu0-itsT_T",
        "colab": {
          "base_uri": "https://localhost:8080/",
          "height": 285
        },
        "outputId": "9547280c-403e-47dc-e706-439115ed36f4"
      },
      "source": [
        "plt.plot(hist.history['loss'], 'b--', label='loss')\n",
        "plt.plot(hist.history['val_loss'], 'r:', label='val loss')\n",
        "plt.legend()"
      ],
      "execution_count": 48,
      "outputs": [
        {
          "output_type": "execute_result",
          "data": {
            "text/plain": [
              "<matplotlib.legend.Legend at 0x7fad2510f750>"
            ]
          },
          "metadata": {
            "tags": []
          },
          "execution_count": 48
        },
        {
          "output_type": "display_data",
          "data": {
            "image/png": "[encoded data removed]",
            "text/plain": [
              "<Figure size 432x288 with 1 Axes>"
            ]
          },
          "metadata": {
            "tags": [],
            "needs_background": "light"
          }
        }
      ]
    },
    {
      "cell_type": "markdown",
      "metadata": {
        "id": "dLZLATDBuTtj"
      },
      "source": [
        "### 모델 평가\n"
      ]
    },
    {
      "cell_type": "code",
      "metadata": {
        "id": "SVxVV-kmsT6D",
        "colab": {
          "base_uri": "https://localhost:8080/"
        },
        "outputId": "479d9cd7-810b-4928-e6ad-fe7e5b96d537"
      },
      "source": [
        "model.evaluate(x_test, y_test)"
      ],
      "execution_count": 47,
      "outputs": [
        {
          "output_type": "stream",
          "text": [
            "71/71 [==============================] - 1s 13ms/step - loss: 1.7137 - acc: 0.6456\n"
          ],
          "name": "stdout"
        },
        {
          "output_type": "execute_result",
          "data": {
            "text/plain": [
              "[1.713731288909912, 0.6455921530723572]"
            ]
          },
          "metadata": {
            "tags": []
          },
          "execution_count": 47
        }
      ]
    },
    {
      "cell_type": "code",
      "metadata": {
        "id": "JlSx-YUTybVH"
      },
      "source": [
        ""
      ],
      "execution_count": null,
      "outputs": []
    }
  ]
}