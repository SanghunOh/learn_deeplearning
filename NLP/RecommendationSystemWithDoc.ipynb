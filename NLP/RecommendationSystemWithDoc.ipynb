{
  "nbformat": 4,
  "nbformat_minor": 0,
  "metadata": {
    "colab": {
      "name": "RecommendationSystemWithDoc.ipynb",
      "provenance": [],
      "authorship_tag": "ABX9TyMaWLSgFbkvk7yXhouZmBrL"
    },
    "kernelspec": {
      "name": "python3",
      "display_name": "Python 3"
    },
    "language_info": {
      "name": "python"
    }
  },
  "cells": [
    {
      "cell_type": "code",
      "metadata": {
        "id": "VE-_YVk3pZwM"
      },
      "source": [
        "import pandas as pd"
      ],
      "execution_count": 2,
      "outputs": []
    },
    {
      "cell_type": "code",
      "metadata": {
        "colab": {
          "base_uri": "https://localhost:8080/",
          "height": 396
        },
        "id": "t47_Y4kwp9Ij",
        "outputId": "c57222f1-be09-4355-952b-46b79744ea63"
      },
      "source": [
        "df_data = pd.read_csv('./data.csv', index_col='Unnamed: 0')\n",
        "df_data.head(4)"
      ],
      "execution_count": 19,
      "outputs": [
        {
          "output_type": "execute_result",
          "data": {
            "text/html": [
              "<div>\n",
              "<style scoped>\n",
              "    .dataframe tbody tr th:only-of-type {\n",
              "        vertical-align: middle;\n",
              "    }\n",
              "\n",
              "    .dataframe tbody tr th {\n",
              "        vertical-align: top;\n",
              "    }\n",
              "\n",
              "    .dataframe thead th {\n",
              "        text-align: right;\n",
              "    }\n",
              "</style>\n",
              "<table border=\"1\" class=\"dataframe\">\n",
              "  <thead>\n",
              "    <tr style=\"text-align: right;\">\n",
              "      <th></th>\n",
              "      <th>Desc</th>\n",
              "      <th>Unnamed: 0.1</th>\n",
              "      <th>author</th>\n",
              "      <th>genre</th>\n",
              "      <th>image_link</th>\n",
              "      <th>rating</th>\n",
              "      <th>title</th>\n",
              "    </tr>\n",
              "  </thead>\n",
              "  <tbody>\n",
              "    <tr>\n",
              "      <th>0</th>\n",
              "      <td>We know that power is shifting: From West to E...</td>\n",
              "      <td>0.0</td>\n",
              "      <td>Moisés Naím</td>\n",
              "      <td>Business</td>\n",
              "      <td>https://i.gr-assets.com/images/S/compressed.ph...</td>\n",
              "      <td>3.63</td>\n",
              "      <td>The End of Power: From Boardrooms to Battlefie...</td>\n",
              "    </tr>\n",
              "    <tr>\n",
              "      <th>1</th>\n",
              "      <td>Following the success of The Accidental Billio...</td>\n",
              "      <td>1.0</td>\n",
              "      <td>Blake J. Harris</td>\n",
              "      <td>Business</td>\n",
              "      <td>https://i.gr-assets.com/images/S/compressed.ph...</td>\n",
              "      <td>3.94</td>\n",
              "      <td>Console Wars: Sega, Nintendo, and the Battle t...</td>\n",
              "    </tr>\n",
              "    <tr>\n",
              "      <th>2</th>\n",
              "      <td>How to tap the power of social software and ne...</td>\n",
              "      <td>2.0</td>\n",
              "      <td>Chris Brogan</td>\n",
              "      <td>Business</td>\n",
              "      <td>https://i.gr-assets.com/images/S/compressed.ph...</td>\n",
              "      <td>3.78</td>\n",
              "      <td>Trust Agents: Using the Web to Build Influence...</td>\n",
              "    </tr>\n",
              "    <tr>\n",
              "      <th>3</th>\n",
              "      <td>William J. Bernstein is an American financial ...</td>\n",
              "      <td>3.0</td>\n",
              "      <td>William J. Bernstein</td>\n",
              "      <td>Business</td>\n",
              "      <td>https://i.gr-assets.com/images/S/compressed.ph...</td>\n",
              "      <td>4.20</td>\n",
              "      <td>The Four Pillars of Investing</td>\n",
              "    </tr>\n",
              "  </tbody>\n",
              "</table>\n",
              "</div>"
            ],
            "text/plain": [
              "                                                Desc  ...                                              title\n",
              "0  We know that power is shifting: From West to E...  ...  The End of Power: From Boardrooms to Battlefie...\n",
              "1  Following the success of The Accidental Billio...  ...  Console Wars: Sega, Nintendo, and the Battle t...\n",
              "2  How to tap the power of social software and ne...  ...  Trust Agents: Using the Web to Build Influence...\n",
              "3  William J. Bernstein is an American financial ...  ...                      The Four Pillars of Investing\n",
              "\n",
              "[4 rows x 7 columns]"
            ]
          },
          "metadata": {},
          "execution_count": 19
        }
      ]
    },
    {
      "cell_type": "code",
      "metadata": {
        "colab": {
          "base_uri": "https://localhost:8080/"
        },
        "id": "whgJPkxXqNsL",
        "outputId": "c0770273-ae14-4fa8-d339-ffb2a8044ea9"
      },
      "source": [
        "df_data.info()"
      ],
      "execution_count": 20,
      "outputs": [
        {
          "output_type": "stream",
          "text": [
            "<class 'pandas.core.frame.DataFrame'>\n",
            "Int64Index: 2382 entries, 0 to 2450\n",
            "Data columns (total 7 columns):\n",
            " #   Column        Non-Null Count  Dtype  \n",
            "---  ------        --------------  -----  \n",
            " 0   Desc          2382 non-null   object \n",
            " 1   Unnamed: 0.1  1185 non-null   float64\n",
            " 2   author        2382 non-null   object \n",
            " 3   genre         2382 non-null   object \n",
            " 4   image_link    2382 non-null   object \n",
            " 5   rating        2382 non-null   float64\n",
            " 6   title         2382 non-null   object \n",
            "dtypes: float64(2), object(5)\n",
            "memory usage: 148.9+ KB\n"
          ],
          "name": "stdout"
        }
      ]
    },
    {
      "cell_type": "code",
      "metadata": {
        "colab": {
          "base_uri": "https://localhost:8080/"
        },
        "id": "YvYgLNqUrprK",
        "outputId": "c298d8b0-db02-4bda-d90b-72ec5d4d74bd"
      },
      "source": [
        "df_data['Desc']"
      ],
      "execution_count": 21,
      "outputs": [
        {
          "output_type": "execute_result",
          "data": {
            "text/plain": [
              "0       We know that power is shifting: From West to E...\n",
              "1       Following the success of The Accidental Billio...\n",
              "2       How to tap the power of social software and ne...\n",
              "3       William J. Bernstein is an American financial ...\n",
              "4       Amazing book. And I joined Steve Jobs and many...\n",
              "                              ...                        \n",
              "2446    Ralph Roberts, a sus setenta años y tras la mu...\n",
              "2447    Murder at the Vicarage marks the debut of Agat...\n",
              "2448    In 1951 John Wyndham published his novel The D...\n",
              "2449    This now classic book revealed Flannery O'Conn...\n",
              "2450    Imbued on every page with Frank McCourt's asto...\n",
              "Name: Desc, Length: 2382, dtype: object"
            ]
          },
          "metadata": {},
          "execution_count": 21
        }
      ]
    },
    {
      "cell_type": "code",
      "metadata": {
        "id": "fa5t2s8is_Vi"
      },
      "source": [
        "from nltk.tokenize import RegexpTokenizer"
      ],
      "execution_count": 22,
      "outputs": []
    },
    {
      "cell_type": "code",
      "metadata": {
        "id": "mRk79qLfsxRk"
      },
      "source": [
        "text01 = 'We know that power is shifting: From West to E'\n",
        "def remove_punctuation(text):\n",
        "  tokenizer = RegexpTokenizer('[a-zA-Z]+')\n",
        "  text_list = tokenizer.tokenize(text)\n",
        "  # print(type(text_list), text_list)\n",
        "  result = ' '.join(text_list)\n",
        "  # print(type(result), result)\n",
        "  return result"
      ],
      "execution_count": 23,
      "outputs": []
    },
    {
      "cell_type": "code",
      "metadata": {
        "colab": {
          "base_uri": "https://localhost:8080/",
          "height": 35
        },
        "id": "8YJRPkh_wa5i",
        "outputId": "45d31f55-9b70-4eb5-e8b6-375d99b29534"
      },
      "source": [
        "# for text01 in df_data['Desc']:\n",
        "remove_punctuation(text01)"
      ],
      "execution_count": 26,
      "outputs": [
        {
          "output_type": "execute_result",
          "data": {
            "application/vnd.google.colaboratory.intrinsic+json": {
              "type": "string"
            },
            "text/plain": [
              "'We know that power is shifting From West to E'"
            ]
          },
          "metadata": {},
          "execution_count": 26
        }
      ]
    },
    {
      "cell_type": "code",
      "metadata": {
        "id": "1yzTMF3qsHyi"
      },
      "source": [
        "df_data['cleaned'] = df_data['Desc'].apply(remove_punctuation)"
      ],
      "execution_count": 27,
      "outputs": []
    },
    {
      "cell_type": "code",
      "metadata": {
        "colab": {
          "base_uri": "https://localhost:8080/"
        },
        "id": "zpENWAyDxKb7",
        "outputId": "376bb90b-7dc5-42b1-e316-48edf3af27d6"
      },
      "source": [
        "df_data.columns"
      ],
      "execution_count": 28,
      "outputs": [
        {
          "output_type": "execute_result",
          "data": {
            "text/plain": [
              "Index(['Desc', 'Unnamed: 0.1', 'author', 'genre', 'image_link', 'rating',\n",
              "       'title', 'cleaned'],\n",
              "      dtype='object')"
            ]
          },
          "metadata": {},
          "execution_count": 28
        }
      ]
    },
    {
      "cell_type": "code",
      "metadata": {
        "colab": {
          "base_uri": "https://localhost:8080/"
        },
        "id": "Dqbdc0u6xzLA",
        "outputId": "3241b22c-a135-49c3-8cf0-77f422843a9a"
      },
      "source": [
        "df_data['cleaned'].head(5)"
      ],
      "execution_count": 29,
      "outputs": [
        {
          "output_type": "execute_result",
          "data": {
            "text/plain": [
              "0    We know that power is shifting From West to Ea...\n",
              "1    Following the success of The Accidental Billio...\n",
              "2    How to tap the power of social software and ne...\n",
              "3    William J Bernstein is an American financial t...\n",
              "4    Amazing book And I joined Steve Jobs and many ...\n",
              "Name: cleaned, dtype: object"
            ]
          },
          "metadata": {},
          "execution_count": 29
        }
      ]
    },
    {
      "cell_type": "code",
      "metadata": {
        "colab": {
          "base_uri": "https://localhost:8080/"
        },
        "id": "ow60GjS2x8Uy",
        "outputId": "c742c612-6a50-47fe-dc06-4cb6a64a3b59"
      },
      "source": [
        "df_data.info()"
      ],
      "execution_count": 31,
      "outputs": [
        {
          "output_type": "stream",
          "text": [
            "<class 'pandas.core.frame.DataFrame'>\n",
            "Int64Index: 2382 entries, 0 to 2450\n",
            "Data columns (total 8 columns):\n",
            " #   Column        Non-Null Count  Dtype  \n",
            "---  ------        --------------  -----  \n",
            " 0   Desc          2382 non-null   object \n",
            " 1   Unnamed: 0.1  1185 non-null   float64\n",
            " 2   author        2382 non-null   object \n",
            " 3   genre         2382 non-null   object \n",
            " 4   image_link    2382 non-null   object \n",
            " 5   rating        2382 non-null   float64\n",
            " 6   title         2382 non-null   object \n",
            " 7   cleaned       2382 non-null   object \n",
            "dtypes: float64(2), object(6)\n",
            "memory usage: 167.5+ KB\n"
          ],
          "name": "stdout"
        }
      ]
    },
    {
      "cell_type": "markdown",
      "metadata": {
        "id": "dclA6szL3nDq"
      },
      "source": [
        "##Pre-Trained"
      ]
    },
    {
      "cell_type": "code",
      "metadata": {
        "colab": {
          "base_uri": "https://localhost:8080/"
        },
        "id": "INRiG2JbyLEa",
        "outputId": "5d6786d3-032b-48eb-a7df-da42f1e91633"
      },
      "source": [
        "!curl -O https://s3.amazonaws.com/dl4j-distribution/GoogleNews-vectors-negative300.bin.gz"
      ],
      "execution_count": 32,
      "outputs": [
        {
          "output_type": "stream",
          "text": [
            "  % Total    % Received % Xferd  Average Speed   Time    Time     Time  Current\n",
            "                                 Dload  Upload   Total   Spent    Left  Speed\n",
            "100 1570M  100 1570M    0     0  36.0M      0  0:00:43  0:00:43 --:--:-- 32.5M\n"
          ],
          "name": "stdout"
        }
      ]
    },
    {
      "cell_type": "code",
      "metadata": {
        "id": "zfLVIHfY3ryi"
      },
      "source": [
        "from gensim.models import Word2Vec"
      ],
      "execution_count": 33,
      "outputs": []
    },
    {
      "cell_type": "code",
      "metadata": {
        "colab": {
          "base_uri": "https://localhost:8080/"
        },
        "id": "LzBFmcZW8zD5",
        "outputId": "9f67dd83-ea9b-4d76-bb44-1743090b0e17"
      },
      "source": [
        "corpus = []\n",
        "for words in df_data['cleaned']:\n",
        "  corpus.append(words.split())\n",
        "print(type(corpus), corpus[4:8])"
      ],
      "execution_count": 46,
      "outputs": [
        {
          "output_type": "stream",
          "text": [
            "<class 'list'> [['Amazing', 'book', 'And', 'I', 'joined', 'Steve', 'Jobs', 'and', 'many', 'more', 'from', 'the', 'Akio', 'Morita', 'fan', 'club', 'Did', 'you', 'know', 'that', 'he', 'was', 'such', 'a', 'sensation', 'that', 'Steve', 'Jobs', 'wanted', 'to', 'build', 'Apple', 'to', 'be', 'like', 'Sony', 'Here', 'are', 'the', 'similarities', 'Both', 'Apple', 'and', 'Sony', 'had', 'a', 'reputation', 'of', 'creating', 'perfectly', 'crafted', 'consumer', 'products', 'which', 'conquer', 'the', 'marketplace', 'Apple', 'still', 'does', 'in', 'fact', 'Both', 'companies', 'were', 'leaders', 'in', 'personal', 'technology', 'This', 'is', 'where', 'Apple', 'drew', 'inspiration', 'from', 'Sony', 's', 'Walkman', 'an', 'inspiration', 'which', 'culminated', 'in', 'the'], ['In', 'the', 'tradition', 'of', 'Phil', 'Knight', 's', 'Shoe', 'Dog', 'comes', 'the', 'incredible', 'untold', 'story', 'of', 'how', 'Netflix', 'went', 'from', 'concept', 'to', 'company', 'all', 'revealed', 'by', 'co', 'founder', 'and', 'first', 'CEO', 'Marc', 'Randolph', 'Once', 'upon', 'a', 'time', 'brick', 'and', 'mortar', 'video', 'stores', 'were', 'king', 'Late', 'fees', 'were', 'ubiquitous', 'video', 'streaming', 'unheard', 'was', 'of', 'and', 'widespread', 'DVD', 'adoption', 'seemed', 'about', 'as', 'imminent', 'as', 'flying', 'cars', 'Indeed', 'these', 'were', 'the', 'widely', 'accepted', 'laws', 'of', 'the', 'land', 'in', 'when', 'Marc', 'Randolph', 'had', 'an', 'idea', 'It', 'was', 'a', 'simple', 'thought', 'leveraging', 'the', 'internet', 'to', 'rent', 'movies', 'and', 'was', 'just', 'one', 'of', 'many', 'more', 'and', 'far', 'worse', 'proposals', 'like', 'personalized', 'baseball', 'bats', 'and', 'a', 'shampoo', 'delivery', 'service', 'that', 'Randolph', 'would', 'pitch', 'to', 'his', 'business', 'partner', 'Reed', 'Hastings', 'on', 'their', 'commute', 'to', 'work', 'each', 'morning', 'But', 'Hastings', 'was', 'intrigued', 'and', 'the', 'pair', 'with', 'Hastings', 'as', 'the', 'primary', 'investor', 'and', 'Randolph', 'as', 'the', 'CEO', 'founded', 'a', 'company', 'Now', 'with', 'over', 'million', 'subscribers', 'Netflix', 's', 'triumph', 'feels', 'inevitable', 'but', 'the', 'twenty', 'first', 'century', 's', 'most', 'disruptive', 'start', 'up', 'began', 'with', 'few', 'believers', 'and', 'calamity', 'at', 'every', 'turn', 'From', 'having', 'to', 'pitch', 'his', 'own', 'mother', 'on', 'being', 'an', 'early', 'investor', 'to', 'the', 'motel', 'conference', 'room', 'that', 'served', 'as', 'a', 'first', 'office', 'to', 'server', 'crashes', 'on', 'launch', 'day', 'to', 'the', 'now', 'infamous', 'meeting', 'when', 'Netflix', 'brass', 'pitched', 'Blockbuster', 'to', 'acquire', 'them', 'Marc', 'Randolph', 's', 'transformational', 'journey', 'exemplifies', 'how', 'anyone', 'with', 'grit', 'gut', 'instincts', 'and', 'determination', 'can', 'change', 'the', 'world', 'even', 'with', 'an', 'idea', 'that', 'many', 'think', 'will', 'never', 'work', 'What', 'emerges', 'though', 'isn', 't', 'just', 'the', 'inside', 'story', 'of', 'one', 'of', 'the', 'world', 's', 'most', 'iconic', 'companies', 'Full', 'of', 'counter', 'intuitive', 'concepts', 'and', 'written', 'in', 'binge', 'worthy', 'prose', 'it', 'answers', 'some', 'of', 'our', 'most', 'fundamental', 'questions', 'about', 'taking', 'that', 'leap', 'of', 'faith', 'in', 'business', 'or', 'in', 'life', 'How', 'do', 'you', 'begin', 'How', 'do', 'you', 'weather', 'disappointment', 'and', 'failure', 'How', 'do', 'you', 'deal', 'with', 'success', 'What', 'even', 'is', 'success', 'From', 'idea', 'generation', 'to', 'team', 'building', 'to', 'knowing', 'when', 'it', 's', 'time', 'to', 'let', 'go', 'That', 'Will', 'Never', 'Work', 'is', 'not', 'only', 'the', 'ultimate', 'follow', 'your', 'dreams', 'parable', 'but', 'also', 'one', 'of', 'the', 'most', 'dramatic', 'and', 'insightful', 'entrepreneurial', 'stories', 'of', 'our', 'time'], ['Gregory', 'Zuckerman', 'the', 'bestselling', 'author', 'of', 'The', 'Greatest', 'Trade', 'Ever', 'and', 'The', 'Frackers', 'answers', 'the', 'question', 'investors', 'have', 'been', 'asking', 'for', 'decades', 'How', 'did', 'Jim', 'Simons', 'do', 'it', 'Shortlisted', 'for', 'the', 'Financial', 'Times', 'McKinsey', 'Business', 'Book', 'of', 'the', 'Year', 'AwardJim', 'Simons', 'is', 'the', 'greatest', 'money', 'maker', 'in', 'modern', 'financial', 'history', 'No', 'other', 'investor', 'Warren', 'Buffett', 'Peter', 'Lynch', 'Ray', 'Dalio', 'Steve', 'Cohen', 'or', 'George', 'Soros', 'can', 'touch', 'his', 'record', 'Since', 'Renaissance', 's', 'signature', 'Medallion', 'fund', 'has', 'generated', 'average', 'annual', 'returns', 'of', 'percent', 'The', 'firm', 'has', 'earned', 'profits', 'of', 'more', 'than', 'billion', 'Simons', 'is', 'worth', 'twenty', 'three', 'billion', 'dollars', 'Drawing', 'on', 'unprecedented', 'access', 'to', 'Simons', 'and', 'dozens', 'of', 'current', 'and', 'former', 'employees', 'Zuckerman', 'a', 'veteran', 'Wall', 'Street', 'Journal', 'investigative', 'reporter', 'tells', 'the', 'gripping', 'story', 'of', 'how', 'a', 'world', 'class', 'mathematician', 'and', 'former', 'code', 'breaker', 'mastered', 'the', 'market', 'Simons', 'pioneered', 'a', 'data', 'driven', 'algorithmic', 'approach', 'that', 's', 'sweeping', 'the', 'world', 'As', 'Renaissance', 'became', 'a', 'market', 'force', 'its', 'executives', 'began', 'influencing', 'the', 'world', 'beyond', 'finance', 'Simons', 'became', 'a', 'major', 'figure', 'in', 'scientific', 'research', 'education', 'and', 'liberal', 'politics', 'Senior', 'executive', 'Robert', 'Mercer', 'is', 'more', 'responsible', 'than', 'anyone', 'else', 'for', 'the', 'Trump', 'presidency', 'placing', 'Steve', 'Bannon', 'in', 'the', 'campaign', 'and', 'funding', 'Trump', 's', 'victorious', 'effort', 'Mercer', 'also', 'impacted', 'the', 'campaign', 'behind', 'Brexit', 'The', 'Man', 'Who', 'Solved', 'the', 'Market', 'is', 'a', 'portrait', 'of', 'a', 'modern', 'day', 'Midas', 'who', 'remade', 'markets', 'in', 'his', 'own', 'image', 'but', 'failed', 'to', 'anticipate', 'how', 'his', 'success', 'would', 'impact', 'his', 'firm', 'and', 'his', 'country', 'It', 's', 'also', 'a', 'story', 'of', 'what', 'Simons', 's', 'revolution', 'means', 'for', 'the', 'rest', 'of', 'us'], ['From', 'bestselling', 'writer', 'David', 'Graeber', 'a', 'powerful', 'argument', 'against', 'the', 'rise', 'of', 'meaningless', 'unfulfilling', 'jobs', 'and', 'their', 'consequences', 'Does', 'your', 'job', 'make', 'a', 'meaningful', 'contribution', 'to', 'the', 'world', 'In', 'the', 'spring', 'of', 'David', 'Graeber', 'asked', 'this', 'question', 'in', 'a', 'playful', 'provocative', 'essay', 'titled', 'On', 'the', 'Phenomenon', 'of', 'Bullshit', 'Jobs', 'It', 'went', 'viral', 'After', 'a', 'million', 'online', 'views', 'in', 'seventeen', 'different', 'languages', 'people', 'all', 'over', 'the', 'world', 'are', 'still', 'debating', 'the', 'answer', 'There', 'are', 'millions', 'of', 'people', 'HR', 'consultants', 'communication', 'coordinators', 'telemarketing', 'researchers', 'corporate', 'lawyers', 'whose', 'jobs', 'are', 'useless', 'and', 'tragically', 'they', 'know', 'it', 'These', 'people', 'are', 'caught', 'in', 'bullshit', 'jobs', 'Graeber', 'explores', 'one', 'of', 'society', 's', 'most', 'vexing', 'and', 'deeply', 'felt', 'concerns', 'indicting', 'among', 'other', 'villains', 'a', 'particular', 'strain', 'of', 'finance', 'capitalism', 'that', 'betrays', 'ideals', 'shared', 'by', 'thinkers', 'ranging', 'from', 'Keynes', 'to', 'Lincoln', 'Bullshit', 'Jobs', 'gives', 'individuals', 'corporations', 'and', 'societies', 'permission', 'to', 'undergo', 'a', 'shift', 'in', 'values', 'placing', 'creative', 'and', 'caring', 'work', 'at', 'the', 'center', 'of', 'our', 'culture', 'This', 'book', 'is', 'for', 'everyone', 'who', 'wants', 'to', 'turn', 'their', 'vocation', 'back', 'into', 'an', 'avocation']]\n"
          ],
          "name": "stdout"
        }
      ]
    },
    {
      "cell_type": "code",
      "metadata": {
        "id": "2JElOu4I4tUA"
      },
      "source": [
        "word2vec_model = Word2Vec(min_count=2, workers=-1, size=300)\n",
        "word2vec_model.build_vocab(corpus) # need to modify"
      ],
      "execution_count": 47,
      "outputs": []
    },
    {
      "cell_type": "code",
      "metadata": {
        "id": "aVFiNp7m58Cx"
      },
      "source": [
        "word2vec_model.intersect_word2vec_format('GoogleNews-vectors-negative300.bin.gz', lockf=1.0, binary=True)"
      ],
      "execution_count": 48,
      "outputs": []
    },
    {
      "cell_type": "code",
      "metadata": {
        "colab": {
          "base_uri": "https://localhost:8080/"
        },
        "id": "I5WoUrTl6e_J",
        "outputId": "bd229a1a-ad71-4fe3-8e3b-523bf3f75d8a"
      },
      "source": [
        "word2vec_model.train(corpus, total_examples=word2vec_model.corpus_count, epochs=15)"
      ],
      "execution_count": 49,
      "outputs": [
        {
          "output_type": "execute_result",
          "data": {
            "text/plain": [
              "(0, 0)"
            ]
          },
          "metadata": {},
          "execution_count": 49
        }
      ]
    },
    {
      "cell_type": "code",
      "metadata": {
        "id": "FTuRmxpK7gYR"
      },
      "source": [
        "word2vec_model.wv.vocab"
      ],
      "execution_count": null,
      "outputs": []
    },
    {
      "cell_type": "code",
      "metadata": {
        "colab": {
          "base_uri": "https://localhost:8080/"
        },
        "id": "L5VZMhvw7zSB",
        "outputId": "320c702e-61f7-4fc6-9a54-7835ecaf4cdf"
      },
      "source": [
        "doc_embedding_list = list()\n",
        "# for line in df_data['cleaned'][2:3]:\n",
        "for line in df_data['cleaned']:\n",
        "  # print(line)\n",
        "  doc2vec = None\n",
        "  for word in line.split():\n",
        "    # print(word)\n",
        "    if word in word2vec_model.wv.vocab:\n",
        "      # print(word2vec_model[word])\n",
        "      if doc2vec is None:\n",
        "        doc2vec = word2vec_model[word] \n",
        "      else :\n",
        "        doc2vec = doc2vec + word2vec_model[word] \n",
        "\n",
        "  if doc2vec is not None:\n",
        "    doc2vec = doc2vec / len(doc2vec)\n",
        "    doc_embedding_list.append(doc2vec)\n",
        "  # print(type(doc2vec), doc2vec.shape, doc2vec)\n",
        "\n",
        "print(doc_embedding_list)"
      ],
      "execution_count": 69,
      "outputs": [
        {
          "output_type": "stream",
          "text": [
            "/usr/local/lib/python3.7/dist-packages/ipykernel_launcher.py:13: DeprecationWarning: Call to deprecated `__getitem__` (Method will be removed in 4.0.0, use self.wv.__getitem__() instead).\n",
            "  del sys.path[0]\n",
            "/usr/local/lib/python3.7/dist-packages/ipykernel_launcher.py:15: DeprecationWarning: Call to deprecated `__getitem__` (Method will be removed in 4.0.0, use self.wv.__getitem__() instead).\n",
            "  from ipykernel import kernelapp as app\n",
            "IOPub data rate exceeded.\n",
            "The notebook server will temporarily stop sending output\n",
            "to the client in order to avoid crashing it.\n",
            "To change this limit, set the config variable\n",
            "`--NotebookApp.iopub_data_rate_limit`.\n",
            "\n",
            "Current values:\n",
            "NotebookApp.iopub_data_rate_limit=1000000.0 (bytes/sec)\n",
            "NotebookApp.rate_limit_window=3.0 (secs)\n",
            "\n"
          ],
          "name": "stderr"
        }
      ]
    },
    {
      "cell_type": "code",
      "metadata": {
        "id": "V6TN3VLF_2Ao"
      },
      "source": [
        "type(doc_embedding_list), doc_embedding_list[3]"
      ],
      "execution_count": null,
      "outputs": []
    },
    {
      "cell_type": "markdown",
      "metadata": {
        "id": "VmBnR1c4FB_B"
      },
      "source": [
        "## cosin metrix"
      ]
    },
    {
      "cell_type": "code",
      "metadata": {
        "id": "w1Yy1QOJEqQJ"
      },
      "source": [
        "from sklearn.metrics.pairwise import cosine_similarity"
      ],
      "execution_count": 72,
      "outputs": []
    },
    {
      "cell_type": "code",
      "metadata": {
        "colab": {
          "base_uri": "https://localhost:8080/"
        },
        "id": "7wNhG14QH4kY",
        "outputId": "94bcc9bb-4747-4947-c611-edbdadf45a09"
      },
      "source": [
        "cosine_sim = cosine_similarity(doc_embedding_list, doc_embedding_list)\n",
        "type(cosine_sim), cosine_sim.shape"
      ],
      "execution_count": 73,
      "outputs": [
        {
          "output_type": "execute_result",
          "data": {
            "text/plain": [
              "(numpy.ndarray, (2381, 2381))"
            ]
          },
          "metadata": {},
          "execution_count": 73
        }
      ]
    },
    {
      "cell_type": "code",
      "metadata": {
        "colab": {
          "base_uri": "https://localhost:8080/"
        },
        "id": "ARzSSfzZIM7Y",
        "outputId": "86c4ae92-d73b-434a-a3a0-62ee3d438bce"
      },
      "source": [
        "cosine_sim[3]"
      ],
      "execution_count": 74,
      "outputs": [
        {
          "output_type": "execute_result",
          "data": {
            "text/plain": [
              "array([0.7652013 , 0.7288478 , 0.7382637 , ..., 0.7205809 , 0.671141  ,\n",
              "       0.75326025], dtype=float32)"
            ]
          },
          "metadata": {},
          "execution_count": 74
        }
      ]
    },
    {
      "cell_type": "markdown",
      "metadata": {
        "id": "2dTpAvbAIiAR"
      },
      "source": [
        "##predict"
      ]
    },
    {
      "cell_type": "code",
      "metadata": {
        "id": "rDNPaVzCIS8X"
      },
      "source": [
        "title = 'The Da Vinci Code'\n",
        "title = 'The Four Pillars of Investing' # 3"
      ],
      "execution_count": 75,
      "outputs": []
    },
    {
      "cell_type": "code",
      "metadata": {
        "colab": {
          "base_uri": "https://localhost:8080/"
        },
        "id": "oP0fDWv5JN_4",
        "outputId": "968b624e-1277-4a95-c4c2-596d8dda7e79"
      },
      "source": [
        "idx = 3\n",
        "sim_scores = list(enumerate(cosine_sim[3]))\n",
        "print(sim_scores)"
      ],
      "execution_count": 79,
      "outputs": [
        {
          "output_type": "stream",
          "text": [
            "[(0, 0.7652013), (1, 0.7288478), (2, 0.7382637), (3, 1.0000001), (4, 0.70852065), (5, 0.78052557), (6, 0.8593161), (7, 0.7965761), (8, 0.73945004), (9, 0.72541755), (10, 0.7626427), (11, 0.7512978), (12, 0.72598165), (13, 0.76437527), (14, 0.68264425), (15, 0.7593478), (16, 0.77798283), (17, 0.7627544), (18, 0.747933), (19, 0.72264415), (20, 0.739023), (21, 0.73652476), (22, 0.7103417), (23, 0.7436234), (24, 0.7929562), (25, 0.64623004), (26, 0.74710804), (27, 0.7641606), (28, 0.7267465), (29, 0.7583428), (30, 0.7627836), (31, 0.7457088), (32, 0.70272654), (33, 0.73092747), (34, 0.7818265), (35, 0.7560634), (36, 0.76583326), (37, 0.75778145), (38, 0.76889163), (39, 0.7515075), (40, 0.7727596), (41, 0.7501653), (42, 0.7340446), (43, 0.7826318), (44, 0.7182108), (45, 0.7281456), (46, 0.7454174), (47, 0.78781325), (48, 0.76131535), (49, 0.6651001), (50, 0.7032439), (51, 0.69864947), (52, 0.75292796), (53, 0.72966254), (54, 0.7792649), (55, 0.735143), (56, 0.77239203), (57, 0.7017862), (58, 0.7409579), (59, 0.80424196), (60, 0.7295873), (61, 0.73377025), (62, 0.8006316), (63, 0.7122988), (64, 0.8024148), (65, 0.6939987), (66, 0.70312685), (67, 0.7799724), (68, 0.71721005), (69, 0.8081847), (70, 0.7480971), (71, 0.7136834), (72, 0.708376), (73, 0.72409225), (74, 0.727038), (75, 0.74635863), (76, 0.7520976), (77, 0.72113967), (78, 0.72414464), (79, 0.568935), (80, 0.75318146), (81, 0.7045229), (82, 0.7408045), (83, 0.7382829), (84, 0.79575896), (85, 0.8063371), (86, 0.7564672), (87, 0.81221235), (88, 0.74877536), (89, 0.7523899), (90, 0.749603), (91, 0.7713908), (92, 0.68307877), (93, 0.74302864), (94, 0.76808965), (95, 0.7502126), (96, 0.7797334), (97, 0.73516095), (98, 0.73711246), (99, 0.74377817), (100, 0.7786051), (101, 0.76483077), (102, 0.67744523), (103, 0.75828665), (104, 0.7575612), (105, 0.8020422), (106, 0.68676597), (107, 0.7727481), (108, 0.7294081), (109, 0.7338962), (110, 0.7076468), (111, 0.7322566), (112, 0.7806139), (113, 0.709671), (114, 0.70314723), (115, 0.74943995), (116, 0.76806545), (117, 0.8323088), (118, 0.77581364), (119, 0.78386295), (120, 0.78145593), (121, 0.8106201), (122, 0.74389917), (123, 0.73669726), (124, 0.7046731), (125, 0.74760747), (126, 0.7834861), (127, 0.71244514), (128, 0.7461938), (129, 0.74932724), (130, 0.762489), (131, 0.77606374), (132, 0.7606366), (133, 0.7931659), (134, 0.73720485), (135, 0.8199724), (136, 0.7970929), (137, 0.808523), (138, 0.7588793), (139, 0.75863075), (140, 0.74162364), (141, 0.74498105), (142, 0.7492697), (143, 0.74138397), (144, 0.78571814), (145, 0.75761825), (146, 0.6391238), (147, 0.7831839), (148, 0.7548736), (149, 0.7991931), (150, 0.7564693), (151, 0.7613904), (152, 0.7355386), (153, 0.7242258), (154, 0.7221395), (155, 0.7889393), (156, 0.7456861), (157, 0.72566813), (158, 0.77739644), (159, 0.7494934), (160, 0.84261227), (161, 0.74955606), (162, 0.73782784), (163, 0.7260419), (164, 0.7614312), (165, 0.76873416), (166, 0.7807066), (167, 0.76789093), (168, 0.7822465), (169, 0.76551044), (170, 0.7509526), (171, 0.76352936), (172, 0.79478127), (173, 0.7997767), (174, 0.72153616), (175, 0.7840412), (176, 0.7575443), (177, 0.77303225), (178, 0.7207101), (179, 0.7746822), (180, 0.7401475), (181, 0.7822496), (182, 0.7724325), (183, 0.7522793), (184, 0.7994201), (185, 0.68395126), (186, 0.81030524), (187, 0.7656091), (188, 0.74026096), (189, 0.8321409), (190, 0.76314926), (191, 0.732562), (192, 0.72927105), (193, 0.7462413), (194, 0.7730053), (195, 0.77142197), (196, 0.7550968), (197, 0.7273735), (198, 0.71815777), (199, 0.7678659), (200, 0.7133181), (201, 0.7383446), (202, 0.772764), (203, 0.71474004), (204, 0.7081155), (205, 0.71940416), (206, 0.41143233), (207, 0.70347893), (208, 0.8332226), (209, 0.7599035), (210, 0.7536038), (211, 0.74895084), (212, 0.79368013), (213, 0.77267617), (214, 0.7593635), (215, 0.43889356), (216, 0.78802615), (217, 0.7303235), (218, 0.71217287), (219, 0.75835454), (220, 0.7362891), (221, 0.7786046), (222, 0.7847607), (223, 0.72243565), (224, 0.78490263), (225, 0.8524448), (226, 0.69586647), (227, 0.7846738), (228, 0.7806221), (229, 0.6234362), (230, 0.7909077), (231, 0.7771901), (232, 0.7135688), (233, 0.7300225), (234, 0.8013838), (235, 0.6842), (236, 0.7223015), (237, 0.7647755), (238, 0.75763476), (239, 0.7488668), (240, 0.8219575), (241, 0.73209745), (242, 0.7462822), (243, 0.7636732), (244, 0.79480606), (245, 0.8057855), (246, 0.7479904), (247, 0.7537727), (248, 0.79780215), (249, 0.804301), (250, 0.78019303), (251, 0.7617701), (252, 0.77460676), (253, 0.7667173), (254, 0.70216644), (255, 0.783415), (256, 0.76257294), (257, 0.6492961), (258, 0.71245706), (259, 0.6472469), (260, 0.71027994), (261, 0.69198155), (262, 0.79264355), (263, 0.17397232), (264, 0.75425684), (265, 0.6967369), (266, 0.78682643), (267, 0.7194533), (268, 0.7745027), (269, 0.7183389), (270, 0.7934493), (271, 0.715773), (272, 0.73376095), (273, 0.7052014), (274, 0.775197), (275, 0.75833607), (276, 0.8134997), (277, 0.7776371), (278, 0.7145087), (279, 0.71767235), (280, 0.71798396), (281, 0.7596249), (282, 0.76054496), (283, 0.77781427), (284, 0.7058774), (285, 0.7555357), (286, 0.7559181), (287, 0.77748877), (288, 0.7472579), (289, 0.76321816), (290, 0.65235317), (291, 0.7676041), (292, 0.73973334), (293, 0.71441054), (294, 0.82274365), (295, 0.76521504), (296, 0.75746316), (297, 0.8283224), (298, 0.7378001), (299, 0.7812162), (300, 0.7189742), (301, 0.6767154), (302, 0.71299535), (303, 0.75196534), (304, 0.7778999), (305, 0.81205827), (306, 0.7821392), (307, 0.77638173), (308, 0.75241256), (309, 0.75771284), (310, 0.8028074), (311, 0.76505715), (312, 0.8061892), (313, 0.75678927), (314, 0.79006267), (315, 0.7761171), (316, 0.73881745), (317, 0.77345943), (318, 0.7426109), (319, 0.7229801), (320, 0.6676252), (321, 0.7448782), (322, 0.7860589), (323, 0.74233764), (324, 0.7380308), (325, 0.8308619), (326, 0.7254448), (327, 0.78474486), (328, 0.7756556), (329, 0.7566911), (330, 0.77468765), (331, 0.8456889), (332, 0.74686337), (333, 0.74802554), (334, 0.75557375), (335, 0.7913388), (336, 0.73956054), (337, 0.77904683), (338, 0.78867656), (339, 0.75628), (340, 0.76947325), (341, 0.7278117), (342, 0.7253179), (343, 0.7464283), (344, 0.7621983), (345, 0.72733986), (346, 0.67758006), (347, 0.7672865), (348, 0.72325826), (349, 0.79977745), (350, 0.7529564), (351, 0.77895886), (352, 0.70214105), (353, 0.76341456), (354, 0.7765484), (355, 0.816129), (356, 0.7454446), (357, 0.7587151), (358, 0.8389801), (359, 0.77947783), (360, 0.7637849), (361, 0.7466026), (362, 0.82835793), (363, 0.7581332), (364, 0.709562), (365, 0.7485485), (366, 0.76240265), (367, 0.8100783), (368, 0.672603), (369, 0.7286653), (370, 0.7658225), (371, 0.7569115), (372, 0.724537), (373, 0.76257527), (374, 0.75312746), (375, 0.8165781), (376, 0.74607736), (377, 0.70463866), (378, 0.7646306), (379, 0.722085), (380, 0.7879793), (381, 0.7381061), (382, 0.74729747), (383, 0.7328927), (384, 0.6867226), (385, 0.799541), (386, 0.73955435), (387, 0.72613674), (388, 0.7647967), (389, 0.7772024), (390, 0.7257573), (391, 0.7862893), (392, 0.7528738), (393, 0.7833543), (394, 0.73757267), (395, 0.73952216), (396, 0.7577671), (397, 0.70529056), (398, 0.7633163), (399, 0.72390264), (400, 0.7369278), (401, 0.7345943), (402, 0.75414455), (403, 0.76971745), (404, 0.7323344), (405, 0.7734108), (406, 0.78244436), (407, 0.761802), (408, 0.7810581), (409, 0.77188987), (410, 0.7836039), (411, 0.73327684), (412, 0.736167), (413, 0.77801645), (414, 0.80540675), (415, 0.800566), (416, 0.75606453), (417, 0.7656216), (418, 0.740538), (419, 0.6943974), (420, 0.7792021), (421, 0.73238295), (422, 0.74919397), (423, 0.7694792), (424, 0.79342574), (425, 0.7573699), (426, 0.7307168), (427, 0.7351175), (428, 0.5484199), (429, 0.7430065), (430, 0.78825665), (431, 0.7395379), (432, 0.7209922), (433, 0.7689958), (434, 0.76062053), (435, 0.74624264), (436, 0.7715274), (437, 0.72308934), (438, 0.7858901), (439, 0.73427933), (440, 0.7751439), (441, 0.7645726), (442, 0.732718), (443, 0.7634994), (444, 0.78309745), (445, 0.77896315), (446, 0.77853906), (447, 0.744327), (448, 0.7341486), (449, 0.71436626), (450, 0.77188027), (451, 0.7503142), (452, 0.7689209), (453, 0.78577185), (454, 0.70413893), (455, 0.76982576), (456, 0.770535), (457, 0.7903204), (458, 0.7239074), (459, 0.705101), (460, 0.8011741), (461, 0.7856625), (462, 0.779764), (463, 0.7563028), (464, 0.68878996), (465, 0.73454726), (466, 0.72752696), (467, 0.8241996), (468, 0.74924195), (469, 0.71759814), (470, 0.7921388), (471, 0.6615735), (472, 0.6741846), (473, 0.7369852), (474, 0.7579559), (475, 0.7110176), (476, 0.7386331), (477, 0.6766358), (478, 0.12492011), (479, 0.74686337), (480, 0.69370437), (481, 0.7495189), (482, 0.79146534), (483, 0.6320126), (484, 0.76688063), (485, 0.8124444), (486, 0.72892857), (487, 0.6912784), (488, 0.7144333), (489, 0.83510906), (490, 0.75331175), (491, 0.7581621), (492, 0.7495735), (493, 0.73327476), (494, 0.7530819), (495, 0.74040884), (496, 0.74154633), (497, 0.7246499), (498, 0.68497854), (499, 0.8085585), (500, 0.7693695), (501, 0.7784753), (502, 0.7436517), (503, 0.7746695), (504, 0.7668808), (505, 0.7076489), (506, 0.7670933), (507, 0.7269402), (508, 0.7782455), (509, 0.7441427), (510, 0.75037384), (511, 0.7300822), (512, 0.7748771), (513, 0.7199323), (514, 0.79297704), (515, 0.75304043), (516, 0.73342544), (517, 0.7507364), (518, 0.7490892), (519, 0.77776027), (520, 0.74228156), (521, 0.7923246), (522, 0.6628285), (523, 0.7950602), (524, 0.76337856), (525, 0.68127006), (526, 0.802576), (527, 0.77616215), (528, 0.7419543), (529, 0.7893584), (530, 0.74479026), (531, 0.7706847), (532, 0.7107287), (533, 0.70465344), (534, 0.73014086), (535, 0.7686835), (536, 0.7627504), (537, 0.84788775), (538, 0.7786611), (539, 0.7150457), (540, 0.7275316), (541, 0.7692758), (542, 0.7583263), (543, 0.75894016), (544, 0.7364815), (545, 0.7547731), (546, 0.76978755), (547, 0.7441301), (548, 0.6779226), (549, 0.72604686), (550, 0.76349807), (551, 0.755106), (552, 0.79119587), (553, 0.77223134), (554, 0.78916115), (555, 0.7748074), (556, 0.8022254), (557, 0.73469347), (558, 0.7652543), (559, 0.7665233), (560, 0.72009337), (561, 0.7637794), (562, 0.7820786), (563, 0.73306966), (564, 0.81760144), (565, 0.8110783), (566, 0.7839235), (567, 0.7714477), (568, 0.7840393), (569, 0.71063393), (570, 0.7307029), (571, 0.7887217), (572, 0.78121406), (573, 0.7892079), (574, 0.7996636), (575, 0.7585531), (576, 0.7408456), (577, 0.80654764), (578, 0.77079666), (579, 0.6757477), (580, 0.794728), (581, 0.7771243), (582, 0.76023954), (583, 0.7223247), (584, 0.7923082), (585, 0.80606496), (586, 0.75098306), (587, 0.74170977), (588, 0.7624149), (589, 0.7528906), (590, 0.6473185), (591, 0.7524778), (592, 0.75897056), (593, 0.7793437), (594, 0.77391726), (595, 0.77045995), (596, 0.7450614), (597, 0.74519706), (598, 0.7625014), (599, 0.7809604), (600, 0.76553065), (601, 0.71760947), (602, 0.7555357), (603, 0.7449566), (604, 0.7679965), (605, 0.78128326), (606, 0.84676266), (607, 0.7349165), (608, 0.80372506), (609, 0.7504547), (610, 0.797694), (611, 0.66466665), (612, 0.79671645), (613, 0.78154844), (614, 0.80242956), (615, 0.75523406), (616, 0.7885711), (617, 0.7050603), (618, 0.73512447), (619, 0.70719814), (620, 0.78252816), (621, 0.7560759), (622, 0.7654944), (623, 0.676449), (624, 0.7657365), (625, 0.7820331), (626, 0.8031443), (627, 0.8067865), (628, 0.76154983), (629, 0.7940623), (630, 0.8221309), (631, 0.77136225), (632, 0.77191615), (633, 0.7777828), (634, 0.780504), (635, 0.7682575), (636, 0.7560596), (637, 0.770614), (638, 0.77903557), (639, 0.7564283), (640, 0.7892561), (641, 0.77073634), (642, 0.7048087), (643, 0.747934), (644, 0.75303304), (645, 0.71534467), (646, 0.79191965), (647, 0.7321924), (648, 0.7800049), (649, 0.7910102), (650, 0.7912474), (651, 0.7473047), (652, 0.74345905), (653, 0.7981408), (654, 0.717213), (655, 0.7521029), (656, 0.76304746), (657, 0.76922876), (658, 0.79834366), (659, 0.8125066), (660, 0.7819096), (661, 0.7729477), (662, 0.7917809), (663, 0.7458666), (664, 0.7761321), (665, 0.5898624), (666, 0.75169396), (667, 0.69962054), (668, 0.753814), (669, 0.6284908), (670, 0.74667585), (671, 0.76415974), (672, 0.14629242), (673, 0.73707134), (674, 0.73391104), (675, 0.7349956), (676, 0.7484669), (677, 0.691934), (678, 0.76264215), (679, 0.7984471), (680, 0.7877401), (681, 0.7504272), (682, 0.737449), (683, 0.77237254), (684, 0.757375), (685, 0.7287845), (686, 0.73272246), (687, 0.79781866), (688, 0.76604396), (689, 0.777331), (690, 0.76891184), (691, 0.7405683), (692, 0.8229086), (693, 0.7560533), (694, 0.7346562), (695, 0.7836626), (696, 0.73555404), (697, 0.6943988), (698, 0.7231045), (699, 0.800552), (700, 0.79179883), (701, 0.7761615), (702, 0.7250831), (703, 0.6876038), (704, 0.7754087), (705, 0.6967711), (706, 0.7661717), (707, 0.8044727), (708, 0.75541973), (709, 0.7835835), (710, 0.78764), (711, 0.7244675), (712, 0.7668434), (713, 0.8093816), (714, 0.71174574), (715, 0.7745003), (716, 0.7600314), (717, 0.7151858), (718, 0.7538564), (719, 0.75799185), (720, 0.7791715), (721, 0.6861185), (722, 0.7994542), (723, 0.7589459), (724, 0.79088175), (725, 0.746904), (726, 0.7736449), (727, 0.78898984), (728, 0.7419186), (729, 0.7531679), (730, 0.764894), (731, 0.77104044), (732, 0.74146235), (733, 0.68493235), (734, 0.77225155), (735, 0.7431072), (736, 0.77476084), (737, 0.77450323), (738, 0.7953358), (739, 0.74379694), (740, 0.7388977), (741, 0.75392956), (742, 0.7530817), (743, 0.7115496), (744, 0.7408134), (745, 0.74188036), (746, 0.7965731), (747, 0.7672386), (748, 0.7506073), (749, 0.7737509), (750, 0.7686704), (751, 0.75824875), (752, 0.75042593), (753, 0.8056375), (754, 0.76460767), (755, 0.776014), (756, 0.73276085), (757, 0.72731364), (758, 0.780808), (759, 0.7420467), (760, 0.7658528), (761, 0.7884433), (762, 0.75426227), (763, 0.7477372), (764, 0.7750308), (765, 0.75780845), (766, 0.79862803), (767, 0.8267212), (768, 0.7680335), (769, 0.7357823), (770, 0.7523276), (771, 0.7959776), (772, 0.7611382), (773, 0.7188754), (774, 0.7298495), (775, 0.6982291), (776, 0.78449005), (777, 0.78125477), (778, 0.7164066), (779, 0.7180013), (780, 0.7398062), (781, 0.70812064), (782, 0.6735347), (783, 0.77258664), (784, 0.74262875), (785, 0.8285725), (786, 0.6691913), (787, 0.72432005), (788, 0.78560317), (789, 0.77668315), (790, 0.7431381), (791, 0.68734044), (792, 0.75042933), (793, 0.6834008), (794, 0.7308069), (795, 0.7820895), (796, 0.76172936), (797, 0.73974574), (798, 0.804346), (799, 0.7521376), (800, 0.7842456), (801, 0.7814992), (802, 0.75695074), (803, 0.7391641), (804, 0.7715213), (805, 0.80299735), (806, 0.7544665), (807, 0.74166316), (808, 0.7547454), (809, 0.76976514), (810, 0.8248216), (811, 0.7812606), (812, 0.7714296), (813, 0.8083727), (814, 0.7748671), (815, 0.7741935), (816, 0.7680004), (817, 0.79689837), (818, 0.77441585), (819, 0.73834014), (820, 0.7834027), (821, 0.71847963), (822, 0.7726621), (823, 0.65816313), (824, 0.7742742), (825, 0.7468024), (826, 0.75320315), (827, 0.79091805), (828, 0.67488945), (829, 0.75201726), (830, 0.6561919), (831, 0.734909), (832, 0.7460536), (833, 0.8036197), (834, 0.80397934), (835, 0.6960652), (836, 0.720222), (837, 0.7408806), (838, 0.7793347), (839, 0.7554393), (840, 0.80114704), (841, 0.74325407), (842, 0.7329807), (843, 0.7296468), (844, 0.74357826), (845, 0.7904914), (846, 0.79664034), (847, 0.67374736), (848, 0.76804435), (849, 0.7895869), (850, 0.7611632), (851, 0.8191436), (852, 0.7500341), (853, 0.7694301), (854, 0.7171253), (855, 0.79025), (856, 0.7641715), (857, 0.8120937), (858, 0.7863006), (859, 0.7543403), (860, 0.7899023), (861, 0.5195047), (862, 0.73847073), (863, 0.7864687), (864, 0.8145395), (865, 0.72755486), (866, 0.778228), (867, 0.7884334), (868, 0.7371559), (869, 0.7362709), (870, 0.7976225), (871, 0.7559095), (872, 0.77488154), (873, 0.80090785), (874, 0.7882045), (875, 0.81089735), (876, 0.7798929), (877, 0.8240257), (878, 0.7293336), (879, 0.7227844), (880, 0.7178277), (881, 0.78311855), (882, 0.77900445), (883, 0.791844), (884, 0.79180396), (885, 0.790042), (886, 0.7355158), (887, 0.8391226), (888, 0.7500422), (889, 0.82479024), (890, 0.8198211), (891, 0.71273124), (892, 0.77559096), (893, 0.73027796), (894, 0.76610047), (895, 0.72411686), (896, 0.82438624), (897, 0.76034814), (898, 0.7295768), (899, 0.77448), (900, 0.799545), (901, 0.7604068), (902, 0.7168302), (903, 0.7485753), (904, 0.7938769), (905, 0.7586912), (906, 0.7388516), (907, 0.8389471), (908, 0.7253994), (909, 0.72347206), (910, 0.78356373), (911, 0.77558845), (912, 0.7467141), (913, 0.76280624), (914, 0.7430832), (915, 0.77980596), (916, 0.76112795), (917, 0.74287426), (918, 0.75903827), (919, 0.7473704), (920, 0.78530985), (921, 0.7537778), (922, 0.72608197), (923, 0.76892596), (924, 0.74758166), (925, 0.6572226), (926, 0.7437476), (927, 0.75505114), (928, 0.75071526), (929, 0.7500794), (930, 0.7958899), (931, 0.7650619), (932, 0.6760307), (933, 0.7727243), (934, 0.744595), (935, 0.7843182), (936, 0.799564), (937, 0.73320585), (938, 0.777441), (939, 0.7584911), (940, 0.65350574), (941, 0.7675011), (942, 0.65666), (943, 0.760897), (944, 0.75740576), (945, 0.7742125), (946, 0.73278487), (947, 0.74903524), (948, 0.77961975), (949, 0.7470755), (950, 0.7853517), (951, 0.7315332), (952, 0.71128815), (953, 0.5954285), (954, 0.7831606), (955, 0.7485232), (956, 0.74657017), (957, 0.7501361), (958, 0.7433982), (959, 0.73982376), (960, 0.7585866), (961, 0.7312649), (962, 0.7599502), (963, 0.7498774), (964, 0.7511072), (965, 0.7804416), (966, 0.7900082), (967, 0.287573), (968, 0.7257369), (969, 0.7370825), (970, 0.7535209), (971, 0.82635134), (972, 0.75402796), (973, 0.7825506), (974, 0.78852737), (975, 0.760117), (976, 0.7528202), (977, 0.73744607), (978, 0.7250334), (979, 0.81505996), (980, 0.7397395), (981, 0.8061194), (982, 0.74686337), (983, 0.8154869), (984, 0.65365326), (985, 0.7285052), (986, 0.7126876), (987, 0.75746053), (988, 0.80434793), (989, 0.7667651), (990, 0.7292579), (991, 0.8009141), (992, 0.6738711), (993, 0.68556505), (994, 0.74137735), (995, 0.6973736), (996, 0.72855157), (997, 0.76851344), (998, 0.7703102), (999, 0.7725593), (1000, 0.75608915), (1001, 0.75018114), (1002, 0.7252342), (1003, 0.74142873), (1004, 0.760742), (1005, 0.75042754), (1006, 0.7664388), (1007, 0.7727939), (1008, 0.5484199), (1009, 0.799663), (1010, 0.770604), (1011, 0.651785), (1012, 0.79063976), (1013, 0.75143516), (1014, 0.79020697), (1015, 0.7584555), (1016, 0.75815), (1017, 0.74845874), (1018, 0.77960557), (1019, 0.7510945), (1020, 0.8128096), (1021, 0.78559023), (1022, 0.83576065), (1023, 0.7735072), (1024, 0.78347915), (1025, 0.7425395), (1026, 0.76417464), (1027, 0.73206323), (1028, 0.77855766), (1029, 0.7494607), (1030, 0.7404214), (1031, 0.7734957), (1032, 0.7865656), (1033, 0.727725), (1034, 0.6915352), (1035, 0.7494607), (1036, 0.67988354), (1037, 0.7923523), (1038, 0.7520521), (1039, 0.78782946), (1040, 0.76504254), (1041, 0.741473), (1042, 0.7808947), (1043, 0.7519769), (1044, 0.7302812), (1045, 0.80253583), (1046, 0.7424705), (1047, 0.74650496), (1048, 0.72527945), (1049, 0.7890945), (1050, 0.73831105), (1051, 0.76570624), (1052, 0.78876686), (1053, 0.74469995), (1054, 0.7184737), (1055, 0.75404227), (1056, 0.79844934), (1057, 0.7923664), (1058, 0.793531), (1059, 0.773809), (1060, 0.7014055), (1061, 0.7418232), (1062, 0.7937614), (1063, 0.7456534), (1064, 0.73078555), (1065, 0.7996764), (1066, 0.7621215), (1067, 0.7340619), (1068, 0.769157), (1069, 0.7772645), (1070, 0.76305914), (1071, 0.65716875), (1072, 0.725705), (1073, 0.7747745), (1074, 0.814752), (1075, 0.7482752), (1076, 0.7290195), (1077, 0.7497846), (1078, 0.80501753), (1079, 0.6609662), (1080, 0.67877996), (1081, 0.78099597), (1082, 0.7226922), (1083, 0.84130627), (1084, 0.796536), (1085, 0.7831279), (1086, 0.73027796), (1087, 0.71398884), (1088, 0.7397467), (1089, 0.7821387), (1090, 0.7626149), (1091, 0.7738042), (1092, 0.78532565), (1093, 0.62373996), (1094, 0.7939402), (1095, 0.72996825), (1096, 0.75149053), (1097, 0.77798414), (1098, 0.7697892), (1099, 0.74567413), (1100, 0.7137534), (1101, 0.77974147), (1102, 0.7608499), (1103, 0.7363905), (1104, 0.7595962), (1105, 0.7879077), (1106, 0.7773935), (1107, 0.72274226), (1108, 0.7073956), (1109, 0.7441704), (1110, 0.80066806), (1111, 0.7597204), (1112, 0.74485886), (1113, 0.73117876), (1114, 0.74408907), (1115, 0.72328454), (1116, 0.7493576), (1117, 0.69924885), (1118, 0.757376), (1119, 0.7657883), (1120, 0.7801912), (1121, 0.7806657), (1122, 0.70248413), (1123, 0.7624205), (1124, 0.77424884), (1125, 0.7720355), (1126, 0.7900446), (1127, 0.72534555), (1128, 0.76559675), (1129, 0.7241519), (1130, 0.7646204), (1131, 0.72214735), (1132, 0.75382525), (1133, 0.8096462), (1134, 0.7170149), (1135, 0.78774667), (1136, 0.7811817), (1137, 0.8122458), (1138, 0.7799245), (1139, 0.773692), (1140, 0.76774895), (1141, 0.7921992), (1142, 0.72478694), (1143, 0.7359308), (1144, 0.74389), (1145, 0.69138044), (1146, 0.6168176), (1147, 0.64974564), (1148, 0.6394593), (1149, 0.76487064), (1150, 0.79351956), (1151, 0.8188823), (1152, 0.74085486), (1153, 0.73978376), (1154, 0.15433033), (1155, 0.73988116), (1156, 0.8076303), (1157, 0.75449973), (1158, 0.74070495), (1159, 0.803962), (1160, 0.77843237), (1161, 0.7533967), (1162, 0.7528496), (1163, 0.71362245), (1164, 0.79414564), (1165, 0.8029956), (1166, 0.7377366), (1167, 0.7469631), (1168, 0.78047925), (1169, 0.76446396), (1170, 0.8158508), (1171, 0.7705346), (1172, 0.83232987), (1173, 0.82173413), (1174, 0.6495888), (1175, 0.7647437), (1176, 0.77534646), (1177, 0.7751363), (1178, 0.8008584), (1179, 0.79077303), (1180, 0.6943045), (1181, 0.7652017), (1182, 0.728848), (1183, 0.7382635), (1184, 0.8009807), (1185, 0.72197664), (1186, 0.7409847), (1187, 0.72424424), (1188, 0.7206164), (1189, 0.726222), (1190, 0.71626323), (1191, 0.6809642), (1192, 0.71169585), (1193, 0.7264474), (1194, 0.6932597), (1195, 0.65783435), (1196, 0.6455686), (1197, 0.70012534), (1198, 0.69850516), (1199, 0.7275355), (1200, 0.6881067), (1201, 0.6456453), (1202, 0.7509218), (1203, 0.67731684), (1204, 0.67289716), (1205, 0.69599986), (1206, 0.69483733), (1207, 0.6803988), (1208, 0.74540013), (1209, 0.75429165), (1210, 0.69658643), (1211, 0.7498808), (1212, 0.7748642), (1213, 0.72099555), (1214, 0.71442926), (1215, 0.72739255), (1216, 0.660701), (1217, 0.660418), (1218, 0.68997175), (1219, 0.71054035), (1220, 0.71144986), (1221, 0.7370416), (1222, 0.7143098), (1223, 0.65138674), (1224, 0.7215311), (1225, 0.6884885), (1226, 0.71619356), (1227, 0.7273202), (1228, 0.7306416), (1229, 0.65357786), (1230, 0.6989049), (1231, 0.75470227), (1232, 0.747995), (1233, 0.6896963), (1234, 0.67082244), (1235, 0.7239282), (1236, 0.7252292), (1237, 0.7141569), (1238, 0.71304226), (1239, 0.6739343), (1240, 0.7386743), (1241, 0.65154785), (1242, 0.7084725), (1243, 0.7137791), (1244, 0.68156797), (1245, 0.68033844), (1246, 0.6954299), (1247, 0.7362625), (1248, 0.64833456), (1249, 0.7657191), (1250, 0.682096), (1251, 0.7306258), (1252, 0.7402066), (1253, 0.711227), (1254, 0.7348386), (1255, 0.74739236), (1256, 0.65398884), (1257, 0.7093457), (1258, 0.7348332), (1259, 0.7019989), (1260, 0.69407225), (1261, 0.6900138), (1262, 0.70034146), (1263, 0.7609899), (1264, 0.73390275), (1265, 0.72121406), (1266, 0.725362), (1267, 0.57947886), (1268, 0.7444181), (1269, 0.6964756), (1270, 0.67550397), (1271, 0.6850095), (1272, 0.6762446), (1273, 0.69883746), (1274, 0.7305399), (1275, 0.6676364), (1276, 0.71633065), (1277, 0.7309458), (1278, 0.7243501), (1279, 0.75421524), (1280, 0.6882862), (1281, 0.7450298), (1282, 0.7322273), (1283, 0.7019641), (1284, 0.7303764), (1285, 0.76318216), (1286, 0.7358092), (1287, 0.68481916), (1288, 0.7533409), (1289, 0.7379149), (1290, 0.70180297), (1291, 0.71157426), (1292, 0.68174815), (1293, 0.713597), (1294, 0.7355823), (1295, 0.6896963), (1296, 0.7193061), (1297, 0.692314), (1298, 0.73000664), (1299, 0.7185936), (1300, 0.7047334), (1301, 0.6881906), (1302, 0.7246807), (1303, 0.6424144), (1304, 0.6782091), (1305, 0.6758928), (1306, 0.7510945), (1307, 0.7066872), (1308, 0.6718063), (1309, 0.69354564), (1310, 0.7325461), (1311, 0.6949549), (1312, 0.6916482), (1313, 0.6471147), (1314, 0.71983796), (1315, 0.6762231), (1316, 0.71532774), (1317, 0.7252427), (1318, 0.6315747), (1319, 0.7836575), (1320, 0.72692734), (1321, 0.7320425), (1322, 0.6707018), (1323, 0.741991), (1324, 0.76891196), (1325, 0.70517397), (1326, 0.6799845), (1327, 0.6381237), (1328, 0.717834), (1329, 0.7521986), (1330, 0.7489591), (1331, 0.72204155), (1332, 0.7594425), (1333, 0.6890239), (1334, 0.7307419), (1335, 0.6926377), (1336, 0.6878794), (1337, 0.69096625), (1338, 0.74925035), (1339, 0.7234726), (1340, 0.6959788), (1341, 0.7431684), (1342, 0.6130427), (1343, 0.7482024), (1344, 0.6840111), (1345, 0.68780077), (1346, 0.6382697), (1347, 0.7159357), (1348, 0.64286625), (1349, 0.679938), (1350, 0.74008214), (1351, 0.7079961), (1352, 0.7380179), (1353, 0.67248446), (1354, 0.7534307), (1355, 0.7375242), (1356, 0.69917864), (1357, 0.68051237), (1358, 0.7297285), (1359, 0.72267896), (1360, 0.71198803), (1361, 0.7414148), (1362, 0.7231497), (1363, 0.76337856), (1364, 0.68668824), (1365, 0.72440445), (1366, 0.71011865), (1367, 0.7316836), (1368, 0.70019245), (1369, 0.75065285), (1370, 0.7297558), (1371, 0.73376364), (1372, 0.7135747), (1373, 0.7382425), (1374, 0.7205386), (1375, 0.759436), (1376, 0.6889385), (1377, 0.72427386), (1378, 0.6531674), (1379, 0.6653858), (1380, 0.71776515), (1381, 0.70939636), (1382, 0.6585437), (1383, 0.70221174), (1384, 0.70636636), (1385, 0.7471371), (1386, 0.6519384), (1387, 0.751373), (1388, 0.73089874), (1389, 0.68307334), (1390, 0.7000919), (1391, 0.69720834), (1392, 0.7243138), (1393, 0.6716618), (1394, 0.74252063), (1395, 0.6897662), (1396, 0.7415915), (1397, 0.7570726), (1398, 0.726035), (1399, 0.723496), (1400, 0.73796326), (1401, 0.7318775), (1402, 0.65500045), (1403, 0.7617141), (1404, 0.7457274), (1405, 0.615481), (1406, 0.7249143), (1407, 0.6761493), (1408, 0.6812366), (1409, 0.72307473), (1410, 0.7573875), (1411, 0.73180383), (1412, 0.7392356), (1413, 0.77372545), (1414, 0.716928), (1415, 0.74650604), (1416, 0.7155109), (1417, 0.7440503), (1418, 0.7585855), (1419, 0.76552206), (1420, 0.7384283), (1421, 0.70629686), (1422, 0.73679954), (1423, 0.6614905), (1424, 0.7716602), (1425, 0.6660218), (1426, 0.659624), (1427, 0.6919337), (1428, 0.7320596), (1429, 0.74075377), (1430, 0.7495125), (1431, 0.7265386), (1432, 0.66153735), (1433, 0.7128849), (1434, 0.74300116), (1435, 0.7096649), (1436, 0.70574397), (1437, 0.7408701), (1438, 0.65180206), (1439, 0.74410087), (1440, 0.73762685), (1441, 0.7161398), (1442, 0.7454909), (1443, 0.7289271), (1444, 0.73431444), (1445, 0.72237957), (1446, 0.7463362), (1447, 0.687003), (1448, 0.6997206), (1449, 0.7409948), (1450, 0.7256892), (1451, 0.7330439), (1452, 0.71081835), (1453, 0.70759255), (1454, 0.777909), (1455, 0.6425882), (1456, 0.68409324), (1457, 0.7799125), (1458, 0.7782997), (1459, 0.75102174), (1460, 0.7205488), (1461, 0.7196714), (1462, 0.7396559), (1463, 0.73867387), (1464, 0.6683773), (1465, 0.74689496), (1466, 0.6669261), (1467, 0.787692), (1468, 0.700366), (1469, 0.74830014), (1470, 0.7217739), (1471, 0.7194968), (1472, 0.6890359), (1473, 0.75704145), (1474, 0.67231035), (1475, 0.6737305), (1476, 0.778621), (1477, 0.7787977), (1478, 0.73526067), (1479, 0.70701766), (1480, 0.70938295), (1481, 0.75444704), (1482, 0.72876376), (1483, 0.713214), (1484, 0.657838), (1485, 0.7266495), (1486, 0.7449481), (1487, 0.6931026), (1488, 0.72454506), (1489, 0.648124), (1490, 0.7136116), (1491, 0.73408985), (1492, 0.6745386), (1493, 0.7205488), (1494, 0.7040177), (1495, 0.66673565), (1496, 0.73334754), (1497, 0.7134799), (1498, 0.118014485), (1499, 0.75211704), (1500, 0.7205878), (1501, 0.6612363), (1502, 0.7587361), (1503, 0.71601945), (1504, 0.66595066), (1505, 0.73306924), (1506, 0.6842916), (1507, 0.7460282), (1508, 0.69201744), (1509, 0.70913935), (1510, 0.74634695), (1511, 0.7220793), (1512, 0.7035574), (1513, 0.7650335), (1514, 0.70353156), (1515, 0.72685534), (1516, 0.7042948), (1517, 0.702356), (1518, 0.72822356), (1519, 0.6405107), (1520, 0.65250623), (1521, 0.67083573), (1522, 0.6895627), (1523, 0.642035), (1524, 0.71142113), (1525, 0.74928683), (1526, 0.6758792), (1527, 0.7429098), (1528, 0.69113064), (1529, 0.52606636), (1530, 0.6946), (1531, 0.61071765), (1532, 0.6905691), (1533, 0.7273178), (1534, 0.68747216), (1535, 0.7600267), (1536, 0.711527), (1537, 0.703195), (1538, 0.73454016), (1539, 0.73656034), (1540, 0.7318279), (1541, 0.7142472), (1542, 0.6478488), (1543, 0.61844885), (1544, 0.7112708), (1545, 0.72794825), (1546, 0.68025154), (1547, 0.72602135), (1548, 0.6738617), (1549, 0.67841077), (1550, 0.69264936), (1551, 0.74450773), (1552, 0.6784897), (1553, 0.670891), (1554, 0.74776226), (1555, 0.699266), (1556, 0.69817483), (1557, 0.6845238), (1558, 0.7424075), (1559, 0.68797255), (1560, 0.7466093), (1561, 0.7339821), (1562, 0.69538367), (1563, 0.7389099), (1564, 0.7386692), (1565, 0.6883442), (1566, 0.7223127), (1567, 0.7705973), (1568, 0.7479736), (1569, 0.6875802), (1570, 0.66698), (1571, 0.73033106), (1572, 0.7205488), (1573, 0.7038217), (1574, 0.7153335), (1575, 0.735964), (1576, 0.7058477), (1577, 0.73972416), (1578, 0.7115021), (1579, 0.72492164), (1580, 0.6892376), (1581, 0.7230076), (1582, 0.76539224), (1583, 0.7263751), (1584, 0.73948854), (1585, 0.67088574), (1586, 0.7258269), (1587, 0.72034043), (1588, 0.7346489), (1589, 0.69561774), (1590, 0.72675896), (1591, 0.7086028), (1592, 0.73264366), (1593, 0.7139795), (1594, 0.71895325), (1595, 0.7042382), (1596, 0.7192321), (1597, 0.7249724), (1598, 0.73839945), (1599, 0.7168346), (1600, 0.6760719), (1601, 0.7238974), (1602, 0.70255166), (1603, 0.70450246), (1604, 0.6578981), (1605, 0.68712455), (1606, 0.7582664), (1607, 0.72177553), (1608, 0.6464508), (1609, 0.72959477), (1610, 0.72368515), (1611, 0.6943951), (1612, 0.72283006), (1613, 0.69796604), (1614, 0.7495869), (1615, 0.74834156), (1616, 0.7147646), (1617, 0.69253343), (1618, 0.66442174), (1619, 0.67055184), (1620, 0.67137307), (1621, 0.71371675), (1622, 0.7337646), (1623, 0.7292597), (1624, 0.7613485), (1625, 0.71846324), (1626, 0.66573083), (1627, 0.6790743), (1628, 0.67524326), (1629, 0.7804423), (1630, 0.71730953), (1631, 0.69395083), (1632, 0.6646756), (1633, 0.69468117), (1634, 0.7613746), (1635, 0.722609), (1636, 0.73674726), (1637, 0.7114326), (1638, 0.7019794), (1639, 0.70152664), (1640, 0.71077955), (1641, 0.6053774), (1642, 0.7532155), (1643, 0.6598626), (1644, 0.7715666), (1645, 0.71986836), (1646, 0.72580206), (1647, 0.7013964), (1648, 0.76141745), (1649, 0.76295346), (1650, 0.7008716), (1651, 0.63239014), (1652, 0.6853514), (1653, 0.7219764), (1654, 0.72093755), (1655, 0.70197606), (1656, 0.67980397), (1657, 0.765922), (1658, 0.69755495), (1659, 0.7048819), (1660, 0.65348035), (1661, 0.7534199), (1662, 0.7439635), (1663, 0.7544347), (1664, 0.6951407), (1665, 0.71528405), (1666, 0.68284), (1667, 0.73304176), (1668, 0.7298226), (1669, 0.6260016), (1670, 0.71218204), (1671, 0.69828534), (1672, 0.6999921), (1673, 0.7400855), (1674, 0.73570144), (1675, 0.68395036), (1676, 0.7226744), (1677, 0.74865806), (1678, 0.6980368), (1679, 0.7366864), (1680, 0.70291144), (1681, 0.6567584), (1682, 0.7036256), (1683, 0.66068953), (1684, 0.7376625), (1685, 0.7375547), (1686, 0.73178315), (1687, 0.7329087), (1688, 0.6737137), (1689, 0.720607), (1690, 0.77908266), (1691, 0.670635), (1692, 0.75705945), (1693, 0.65065515), (1694, 0.72687566), (1695, 0.76091397), (1696, 0.5980336), (1697, 0.573215), (1698, 0.7453711), (1699, 0.7008176), (1700, 0.7122527), (1701, 0.6409748), (1702, 0.68072146), (1703, 0.7105738), (1704, 0.69578487), (1705, 0.7000565), (1706, 0.7156461), (1707, 0.68491834), (1708, 0.7317345), (1709, 0.59372336), (1710, 0.7755665), (1711, 0.66471565), (1712, 0.6920185), (1713, 0.7091825), (1714, 0.66898924), (1715, 0.7191865), (1716, 0.71243876), (1717, 0.74665195), (1718, 0.7102262), (1719, 0.7424535), (1720, 0.70149237), (1721, 0.7526942), (1722, 0.6949755), (1723, 0.6063652), (1724, 0.67187804), (1725, 0.66161585), (1726, 0.73536474), (1727, 0.7626176), (1728, 0.6883758), (1729, 0.661189), (1730, 0.69464636), (1731, 0.75436723), (1732, 0.7270483), (1733, 0.751373), (1734, 0.72810274), (1735, 0.71405524), (1736, 0.61507297), (1737, 0.75366503), (1738, 0.6906625), (1739, 0.67831326), (1740, 0.6859719), (1741, 0.7585803), (1742, 0.67902565), (1743, 0.73476106), (1744, 0.66793877), (1745, 0.7410882), (1746, 0.71618694), (1747, 0.61235666), (1748, 0.6558863), (1749, 0.6398152), (1750, 0.7255963), (1751, 0.7380277), (1752, 0.693571), (1753, 0.658393), (1754, 0.71607673), (1755, 0.74378115), (1756, 0.72925705), (1757, 0.6917443), (1758, 0.6819834), (1759, 0.70933473), (1760, 0.7092928), (1761, 0.75317323), (1762, 0.692282), (1763, 0.69085944), (1764, 0.7153147), (1765, 0.7435652), (1766, 0.76863885), (1767, 0.7477141), (1768, 0.686015), (1769, 0.7468827), (1770, 0.66175526), (1771, 0.6477481), (1772, 0.7013946), (1773, 0.67542183), (1774, 0.65210515), (1775, 0.7135171), (1776, 0.70415473), (1777, 0.73228824), (1778, 0.7582407), (1779, 0.68333316), (1780, 0.72824126), (1781, 0.7051357), (1782, 0.70297515), (1783, 0.73268324), (1784, 0.64702386), (1785, 0.72751033), (1786, 0.6697797), (1787, 0.75436145), (1788, 0.7016828), (1789, 0.69622874), (1790, 0.7129496), (1791, 0.68562883), (1792, 0.70192987), (1793, 0.71098655), (1794, 0.7009295), (1795, 0.6893914), (1796, 0.7318587), (1797, 0.701579), (1798, 0.6880146), (1799, 0.7176635), (1800, 0.7146168), (1801, 0.7082899), (1802, 0.7823894), (1803, 0.7196557), (1804, 0.7266505), (1805, 0.71893203), (1806, 0.6756378), (1807, 0.74145204), (1808, 0.75227547), (1809, 0.7280647), (1810, 0.7078537), (1811, 0.68583757), (1812, 0.6875136), (1813, 0.7004453), (1814, 0.7367555), (1815, 0.75251114), (1816, 0.77883506), (1817, 0.6648025), (1818, 0.78062344), (1819, 0.7177105), (1820, 0.75276047), (1821, 0.7198223), (1822, 0.66237295), (1823, 0.6719451), (1824, 0.63839346), (1825, 0.6284076), (1826, 0.6808832), (1827, 0.78792906), (1828, 0.72172296), (1829, 0.7339268), (1830, 0.6340875), (1831, 0.6368766), (1832, 0.7468885), (1833, 0.71384263), (1834, 0.7348159), (1835, 0.70000196), (1836, 0.71254194), (1837, 0.6761762), (1838, 0.760155), (1839, 0.7162908), (1840, 0.69011146), (1841, 0.19335526), (1842, 0.75270855), (1843, 0.75983006), (1844, 0.7169331), (1845, 0.7353562), (1846, 0.7083381), (1847, 0.75862306), (1848, 0.69744056), (1849, 0.72498554), (1850, 0.73791194), (1851, 0.72836715), (1852, 0.7353046), (1853, 0.719223), (1854, 0.7360175), (1855, 0.71300346), (1856, 0.7665055), (1857, 0.7455794), (1858, 0.7175999), (1859, 0.7089434), (1860, 0.7533494), (1861, 0.6354426), (1862, 0.7574849), (1863, 0.71628094), (1864, 0.7093251), (1865, 0.66329306), (1866, 0.7254194), (1867, 0.7201088), (1868, 0.7431533), (1869, 0.6707317), (1870, 0.66192627), (1871, 0.721869), (1872, 0.7408477), (1873, 0.7111775), (1874, 0.7732242), (1875, 0.7416097), (1876, 0.7585326), (1877, 0.7055467), (1878, 0.69663006), (1879, 0.7484529), (1880, 0.7614075), (1881, 0.7263366), (1882, 0.7353264), (1883, 0.71528643), (1884, 0.5795295), (1885, 0.689541), (1886, 0.7170353), (1887, 0.7080954), (1888, 0.6754648), (1889, 0.731697), (1890, 0.7496724), (1891, 0.72028834), (1892, 0.75650716), (1893, 0.7641932), (1894, 0.76068026), (1895, 0.7264743), (1896, 0.70188147), (1897, 0.7487725), (1898, 0.73233885), (1899, 0.6821308), (1900, 0.6865888), (1901, 0.74535555), (1902, 0.72503453), (1903, 0.6745344), (1904, 0.73167384), (1905, 0.72994864), (1906, 0.7270739), (1907, 0.78382146), (1908, 0.6423092), (1909, 0.7287559), (1910, 0.7120487), (1911, 0.748881), (1912, 0.69619876), (1913, 0.7084755), (1914, 0.63127655), (1915, 0.7385006), (1916, 0.76229185), (1917, 0.69747746), (1918, 0.72541577), (1919, 0.7139238), (1920, 0.65848625), (1921, 0.69397235), (1922, 0.66543883), (1923, 0.7341209), (1924, 0.70853466), (1925, 0.6672993), (1926, 0.6763899), (1927, 0.6950477), (1928, 0.78466743), (1929, 0.7074786), (1930, 0.74191767), (1931, 0.7218125), (1932, 0.73134714), (1933, 0.78021514), (1934, 0.7386743), (1935, 0.7043923), (1936, 0.57254076), (1937, 0.67753774), (1938, 0.69032824), (1939, 0.73328906), (1940, 0.6991315), (1941, 0.73863435), (1942, 0.65968305), (1943, 0.70387703), (1944, 0.7457354), (1945, 0.75441253), (1946, 0.766629), (1947, 0.7439011), (1948, 0.6961796), (1949, 0.7183596), (1950, 0.76274556), (1951, 0.65926635), (1952, 0.74025434), (1953, 0.6920359), (1954, 0.7427636), (1955, 0.73400694), (1956, 0.72019255), (1957, 0.7309568), (1958, 0.68461406), (1959, 0.76517946), (1960, 0.688286), (1961, 0.7059137), (1962, 0.70796496), (1963, 0.7026002), (1964, 0.7153475), (1965, 0.72666025), (1966, 0.6840106), (1967, 0.7537227), (1968, 0.69252044), (1969, 0.7397575), (1970, 0.7551837), (1971, 0.7065232), (1972, 0.6564184), (1973, 0.7037603), (1974, 0.7694053), (1975, 0.7426812), (1976, 0.7580099), (1977, 0.655087), (1978, 0.6853107), (1979, 0.7064373), (1980, 0.6819106), (1981, 0.68063563), (1982, 0.6933394), (1983, 0.6411805), (1984, 0.6792689), (1985, 0.6837017), (1986, 0.7111357), (1987, 0.7013161), (1988, 0.70557046), (1989, 0.7298763), (1990, 0.65819234), (1991, 0.7131296), (1992, 0.78332186), (1993, 0.72688276), (1994, 0.739644), (1995, 0.6956618), (1996, 0.80549234), (1997, 0.68158203), (1998, 0.66927445), (1999, 0.6904842), (2000, 0.73177135), (2001, 0.7361389), (2002, 0.7165282), (2003, 0.7050198), (2004, 0.69568926), (2005, 0.64620334), (2006, 0.6697311), (2007, 0.6897011), (2008, 0.7222386), (2009, 0.71283114), (2010, 0.6621642), (2011, 0.56134343), (2012, 0.73960394), (2013, 0.71181834), (2014, 0.76402044), (2015, 0.7036438), (2016, 0.76588154), (2017, 0.69027627), (2018, 0.7107639), (2019, 0.63687575), (2020, 0.7649377), (2021, 0.6675111), (2022, 0.7358741), (2023, 0.13863398), (2024, 0.74877125), (2025, 0.71176505), (2026, 0.63626593), (2027, 0.6989205), (2028, 0.6627491), (2029, 0.65006673), (2030, 0.6548267), (2031, 0.6877852), (2032, 0.74135077), (2033, 0.6923567), (2034, 0.7526843), (2035, 0.69646764), (2036, 0.72346145), (2037, 0.69807065), (2038, 0.7276192), (2039, 0.7081196), (2040, 0.7085966), (2041, 0.74593014), (2042, 0.7608719), (2043, 0.68916863), (2044, 0.7197461), (2045, 0.70801914), (2046, 0.6853439), (2047, 0.7252219), (2048, 0.69557804), (2049, 0.74119794), (2050, 0.6258959), (2051, 0.7055374), (2052, 0.70294374), (2053, 0.68052566), (2054, 0.6866176), (2055, 0.7675712), (2056, 0.72384477), (2057, 0.66497535), (2058, 0.7474821), (2059, 0.643201), (2060, 0.74412245), (2061, 0.7316334), (2062, 0.69573796), (2063, 0.6641159), (2064, 0.7205072), (2065, 0.74887466), (2066, 0.69542015), (2067, 0.7338954), (2068, 0.7267706), (2069, 0.74623233), (2070, 0.7402205), (2071, 0.74285614), (2072, 0.74374676), (2073, 0.6422285), (2074, 0.7370107), (2075, 0.7516238), (2076, 0.6190038), (2077, 0.73175746), (2078, 0.75361747), (2079, 0.7328046), (2080, 0.73834985), (2081, 0.7397477), (2082, 0.72313803), (2083, 0.7254553), (2084, 0.6538743), (2085, 0.6936059), (2086, 0.72279865), (2087, 0.7256712), (2088, 0.7569647), (2089, 0.7248141), (2090, 0.67391825), (2091, 0.7415212), (2092, 0.674945), (2093, 0.7794704), (2094, 0.78032565), (2095, 0.68223685), (2096, 0.59234565), (2097, 0.6307774), (2098, 0.77406234), (2099, 0.7820563), (2100, 0.6485217), (2101, 0.7159995), (2102, 0.6685795), (2103, 0.73721945), (2104, 0.7347149), (2105, 0.72658896), (2106, 0.7082379), (2107, 0.74606293), (2108, 0.742704), (2109, 0.68811285), (2110, 0.73005074), (2111, 0.7167141), (2112, 0.6820996), (2113, 0.6773786), (2114, 0.7010398), (2115, 0.6772218), (2116, 0.7328966), (2117, 0.69465065), (2118, 0.68844426), (2119, 0.7074192), (2120, 0.72239065), (2121, 0.69050455), (2122, 0.7406748), (2123, 0.70397663), (2124, 0.7113164), (2125, 0.6900462), (2126, 0.69469756), (2127, 0.722362), (2128, 0.6954565), (2129, 0.67803067), (2130, 0.67523724), (2131, 0.7245519), (2132, 0.66103095), (2133, 0.74516875), (2134, 0.7350645), (2135, 0.72878635), (2136, 0.7346516), (2137, 0.7627813), (2138, 0.7397932), (2139, 0.74654156), (2140, 0.61359096), (2141, 0.7506211), (2142, 0.642002), (2143, 0.72596914), (2144, 0.7358745), (2145, 0.7340247), (2146, 0.7410934), (2147, 0.7158654), (2148, 0.7201002), (2149, 0.6889456), (2150, 0.6405107), (2151, 0.7262058), (2152, 0.76171887), (2153, 0.64071065), (2154, 0.6688157), (2155, 0.7246554), (2156, 0.7302875), (2157, 0.7260578), (2158, 0.725834), (2159, 0.67692465), (2160, 0.67062485), (2161, 0.7446956), (2162, 0.7422265), (2163, 0.7308552), (2164, 0.69583935), (2165, 0.72018296), (2166, 0.6894384), (2167, 0.6728244), (2168, 0.13116667), (2169, 0.7167222), (2170, 0.73393327), (2171, 0.71807194), (2172, 0.6900491), (2173, 0.7378994), (2174, 0.6665868), (2175, 0.7048339), (2176, 0.7394798), (2177, 0.71374583), (2178, 0.7329087), (2179, 0.6996272), (2180, 0.7511395), (2181, 0.7209684), (2182, 0.69468117), (2183, 0.7251302), (2184, 0.6887901), (2185, 0.67591405), (2186, 0.70989436), (2187, 0.7065211), (2188, 0.7449773), (2189, 0.6715363), (2190, 0.7404322), (2191, 0.69311583), (2192, 0.74520725), (2193, 0.70675194), (2194, 0.6957685), (2195, 0.6917051), (2196, 0.75503296), (2197, 0.7242629), (2198, 0.64562076), (2199, 0.6518551), (2200, 0.6511733), (2201, 0.693597), (2202, 0.7005835), (2203, 0.73084646), (2204, 0.6575558), (2205, 0.6533029), (2206, 0.6753554), (2207, 0.7768903), (2208, 0.6909418), (2209, 0.69162476), (2210, 0.6505143), (2211, 0.7136306), (2212, 0.6703659), (2213, 0.67222404), (2214, 0.748254), (2215, 0.71419793), (2216, 0.68103176), (2217, 0.7207746), (2218, 0.7236126), (2219, 0.68061215), (2220, 0.73565793), (2221, 0.7335691), (2222, 0.7182695), (2223, 0.72785896), (2224, 0.7662761), (2225, 0.75037247), (2226, 0.7484635), (2227, 0.7424086), (2228, 0.731553), (2229, 0.75414264), (2230, 0.72176445), (2231, 0.6752526), (2232, 0.6405107), (2233, 0.722428), (2234, 0.7228383), (2235, 0.6893539), (2236, 0.7606618), (2237, 0.59394646), (2238, 0.73749036), (2239, 0.6951607), (2240, 0.7344601), (2241, 0.6933956), (2242, 0.69376117), (2243, 0.7215405), (2244, 0.73521763), (2245, 0.7212819), (2246, 0.690103), (2247, 0.71517885), (2248, 0.76511675), (2249, 0.72164917), (2250, 0.6787133), (2251, 0.7717037), (2252, 0.70529026), (2253, 0.66689736), (2254, 0.7287619), (2255, 0.7775355), (2256, 0.71040237), (2257, 0.6361524), (2258, 0.75733787), (2259, 0.74176115), (2260, 0.70500576), (2261, 0.73082846), (2262, 0.7341342), (2263, 0.69881165), (2264, 0.73512256), (2265, 0.769836), (2266, 0.69189906), (2267, 0.68962914), (2268, 0.78179646), (2269, 0.66006976), (2270, 0.6869742), (2271, 0.73509824), (2272, 0.69293493), (2273, 0.7131296), (2274, 0.7100098), (2275, 0.6639937), (2276, 0.6838602), (2277, 0.7496837), (2278, 0.74677336), (2279, 0.7269549), (2280, 0.7730069), (2281, 0.78932256), (2282, 0.66837925), (2283, 0.57025), (2284, 0.6278597), (2285, 0.66942537), (2286, 0.68985367), (2287, 0.7405713), (2288, 0.68585217), (2289, 0.73755944), (2290, 0.6819434), (2291, 0.7611768), (2292, 0.69077265), (2293, 0.7231354), (2294, 0.66683406), (2295, 0.72240996), (2296, 0.74041003), (2297, 0.67379147), (2298, 0.6312199), (2299, 0.73563784), (2300, 0.6976786), (2301, 0.74223685), (2302, 0.6942105), (2303, 0.6605671), (2304, 0.7463344), (2305, 0.73884434), (2306, 0.7263235), (2307, 0.6962305), (2308, 0.7321112), (2309, 0.72641313), (2310, 0.7396153), (2311, 0.7053762), (2312, 0.7184465), (2313, 0.6336215), (2314, 0.6892653), (2315, 0.7079428), (2316, 0.6592676), (2317, 0.7055095), (2318, 0.79759675), (2319, 0.7418713), (2320, 0.69550115), (2321, 0.7417313), (2322, 0.703713), (2323, 0.7230947), (2324, 0.7459341), (2325, 0.7428851), (2326, 0.7454151), (2327, 0.6880331), (2328, 0.697339), (2329, 0.7252443), (2330, 0.7301243), (2331, 0.7608471), (2332, 0.7103211), (2333, 0.7222485), (2334, 0.7256415), (2335, 0.68755025), (2336, 0.75397855), (2337, 0.7326303), (2338, 0.723111), (2339, 0.7205846), (2340, 0.7401069), (2341, 0.6869314), (2342, 0.7438138), (2343, 0.6651128), (2344, 0.6845022), (2345, 0.6840759), (2346, 0.7010399), (2347, 0.6632214), (2348, 0.78230226), (2349, 0.6789295), (2350, 0.74699104), (2351, 0.7100977), (2352, 0.71160007), (2353, 0.70303553), (2354, 0.76351345), (2355, 0.6848806), (2356, 0.67248946), (2357, 0.7532063), (2358, 0.7277033), (2359, 0.53198355), (2360, 0.6967768), (2361, 0.6675692), (2362, 0.7067772), (2363, 0.6820485), (2364, 0.6948214), (2365, 0.74948), (2366, 0.7420133), (2367, 0.7005233), (2368, 0.6841786), (2369, 0.7252516), (2370, 0.6921985), (2371, 0.7285168), (2372, 0.71071357), (2373, 0.68976974), (2374, 0.7524979), (2375, 0.7263383), (2376, 0.14970525), (2377, 0.6651152), (2378, 0.7205809), (2379, 0.671141), (2380, 0.75326025)]\n"
          ],
          "name": "stdout"
        }
      ]
    },
    {
      "cell_type": "code",
      "metadata": {
        "id": "vx1bOiBhJogw"
      },
      "source": [
        "sim_scores_list = sorted(sim_scores, key=lambda x:x[1], reverse=True)"
      ],
      "execution_count": 83,
      "outputs": []
    },
    {
      "cell_type": "code",
      "metadata": {
        "colab": {
          "base_uri": "https://localhost:8080/"
        },
        "id": "d0UB1tA_Kf_g",
        "outputId": "ba702482-0a5f-46e9-d975-15abd3c62128"
      },
      "source": [
        "sim_scores_list[1:6]"
      ],
      "execution_count": 85,
      "outputs": [
        {
          "output_type": "execute_result",
          "data": {
            "text/plain": [
              "[(6, 0.8593161),\n",
              " (225, 0.8524448),\n",
              " (537, 0.84788775),\n",
              " (606, 0.84676266),\n",
              " (331, 0.8456889)]"
            ]
          },
          "metadata": {},
          "execution_count": 85
        }
      ]
    },
    {
      "cell_type": "code",
      "metadata": {
        "colab": {
          "base_uri": "https://localhost:8080/",
          "height": 904
        },
        "id": "9Pz1H9_rK_93",
        "outputId": "d2c297ab-9688-474f-88a1-9da28491c683"
      },
      "source": [
        "df_data.head(7)"
      ],
      "execution_count": 87,
      "outputs": [
        {
          "output_type": "execute_result",
          "data": {
            "text/html": [
              "<div>\n",
              "<style scoped>\n",
              "    .dataframe tbody tr th:only-of-type {\n",
              "        vertical-align: middle;\n",
              "    }\n",
              "\n",
              "    .dataframe tbody tr th {\n",
              "        vertical-align: top;\n",
              "    }\n",
              "\n",
              "    .dataframe thead th {\n",
              "        text-align: right;\n",
              "    }\n",
              "</style>\n",
              "<table border=\"1\" class=\"dataframe\">\n",
              "  <thead>\n",
              "    <tr style=\"text-align: right;\">\n",
              "      <th></th>\n",
              "      <th>Desc</th>\n",
              "      <th>Unnamed: 0.1</th>\n",
              "      <th>author</th>\n",
              "      <th>genre</th>\n",
              "      <th>image_link</th>\n",
              "      <th>rating</th>\n",
              "      <th>title</th>\n",
              "      <th>cleaned</th>\n",
              "    </tr>\n",
              "  </thead>\n",
              "  <tbody>\n",
              "    <tr>\n",
              "      <th>0</th>\n",
              "      <td>We know that power is shifting: From West to E...</td>\n",
              "      <td>0.0</td>\n",
              "      <td>Moisés Naím</td>\n",
              "      <td>Business</td>\n",
              "      <td>https://i.gr-assets.com/images/S/compressed.ph...</td>\n",
              "      <td>3.63</td>\n",
              "      <td>The End of Power: From Boardrooms to Battlefie...</td>\n",
              "      <td>We know that power is shifting From West to Ea...</td>\n",
              "    </tr>\n",
              "    <tr>\n",
              "      <th>1</th>\n",
              "      <td>Following the success of The Accidental Billio...</td>\n",
              "      <td>1.0</td>\n",
              "      <td>Blake J. Harris</td>\n",
              "      <td>Business</td>\n",
              "      <td>https://i.gr-assets.com/images/S/compressed.ph...</td>\n",
              "      <td>3.94</td>\n",
              "      <td>Console Wars: Sega, Nintendo, and the Battle t...</td>\n",
              "      <td>Following the success of The Accidental Billio...</td>\n",
              "    </tr>\n",
              "    <tr>\n",
              "      <th>2</th>\n",
              "      <td>How to tap the power of social software and ne...</td>\n",
              "      <td>2.0</td>\n",
              "      <td>Chris Brogan</td>\n",
              "      <td>Business</td>\n",
              "      <td>https://i.gr-assets.com/images/S/compressed.ph...</td>\n",
              "      <td>3.78</td>\n",
              "      <td>Trust Agents: Using the Web to Build Influence...</td>\n",
              "      <td>How to tap the power of social software and ne...</td>\n",
              "    </tr>\n",
              "    <tr>\n",
              "      <th>3</th>\n",
              "      <td>William J. Bernstein is an American financial ...</td>\n",
              "      <td>3.0</td>\n",
              "      <td>William J. Bernstein</td>\n",
              "      <td>Business</td>\n",
              "      <td>https://i.gr-assets.com/images/S/compressed.ph...</td>\n",
              "      <td>4.20</td>\n",
              "      <td>The Four Pillars of Investing</td>\n",
              "      <td>William J Bernstein is an American financial t...</td>\n",
              "    </tr>\n",
              "    <tr>\n",
              "      <th>4</th>\n",
              "      <td>Amazing book. And I joined Steve Jobs and many...</td>\n",
              "      <td>4.0</td>\n",
              "      <td>Akio Morita</td>\n",
              "      <td>Business</td>\n",
              "      <td>https://i.gr-assets.com/images/S/compressed.ph...</td>\n",
              "      <td>4.05</td>\n",
              "      <td>Made in Japan: Akio Morita and Sony</td>\n",
              "      <td>Amazing book And I joined Steve Jobs and many ...</td>\n",
              "    </tr>\n",
              "    <tr>\n",
              "      <th>5</th>\n",
              "      <td>In the tradition of Phil Knight's Shoe Dog com...</td>\n",
              "      <td>5.0</td>\n",
              "      <td>Marc Randolph</td>\n",
              "      <td>Business</td>\n",
              "      <td>https://i.gr-assets.com/images/S/compressed.ph...</td>\n",
              "      <td>4.28</td>\n",
              "      <td>That Will Never Work: The Birth of Netflix and...</td>\n",
              "      <td>In the tradition of Phil Knight s Shoe Dog com...</td>\n",
              "    </tr>\n",
              "    <tr>\n",
              "      <th>6</th>\n",
              "      <td>Gregory Zuckerman, the bestselling author of T...</td>\n",
              "      <td>6.0</td>\n",
              "      <td>Gregory Zuckerman</td>\n",
              "      <td>Business</td>\n",
              "      <td>https://i.gr-assets.com/images/S/compressed.ph...</td>\n",
              "      <td>4.12</td>\n",
              "      <td>The Man Who Solved the Market: How Jim Simons ...</td>\n",
              "      <td>Gregory Zuckerman the bestselling author of Th...</td>\n",
              "    </tr>\n",
              "  </tbody>\n",
              "</table>\n",
              "</div>"
            ],
            "text/plain": [
              "                                                Desc  ...                                            cleaned\n",
              "0  We know that power is shifting: From West to E...  ...  We know that power is shifting From West to Ea...\n",
              "1  Following the success of The Accidental Billio...  ...  Following the success of The Accidental Billio...\n",
              "2  How to tap the power of social software and ne...  ...  How to tap the power of social software and ne...\n",
              "3  William J. Bernstein is an American financial ...  ...  William J Bernstein is an American financial t...\n",
              "4  Amazing book. And I joined Steve Jobs and many...  ...  Amazing book And I joined Steve Jobs and many ...\n",
              "5  In the tradition of Phil Knight's Shoe Dog com...  ...  In the tradition of Phil Knight s Shoe Dog com...\n",
              "6  Gregory Zuckerman, the bestselling author of T...  ...  Gregory Zuckerman the bestselling author of Th...\n",
              "\n",
              "[7 rows x 8 columns]"
            ]
          },
          "metadata": {},
          "execution_count": 87
        }
      ]
    },
    {
      "cell_type": "code",
      "metadata": {
        "id": "8-BhYsb1LVFI"
      },
      "source": [
        ""
      ],
      "execution_count": null,
      "outputs": []
    }
  ]
}